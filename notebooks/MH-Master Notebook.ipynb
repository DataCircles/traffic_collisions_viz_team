{
 "cells": [
  {
   "cell_type": "code",
   "execution_count": 1,
   "metadata": {},
   "outputs": [
    {
     "name": "stderr",
     "output_type": "stream",
     "text": [
      "/opt/anaconda3/lib/python3.7/site-packages/statsmodels/tools/_testing.py:19: FutureWarning: pandas.util.testing is deprecated. Use the functions in the public API at pandas.testing instead.\n",
      "  import pandas.util.testing as tm\n"
     ]
    }
   ],
   "source": [
    "import math\n",
    "import numpy as np\n",
    "import pandas as pd\n",
    "import seaborn as sns\n",
    "import matplotlib.pyplot as plt"
   ]
  },
  {
   "cell_type": "code",
   "execution_count": 2,
   "metadata": {},
   "outputs": [
    {
     "data": {
      "text/plain": [
       "'/Users/Monika/Projects'"
      ]
     },
     "execution_count": 2,
     "metadata": {},
     "output_type": "execute_result"
    }
   ],
   "source": [
    "pwd"
   ]
  },
  {
   "cell_type": "code",
   "execution_count": 6,
   "metadata": {},
   "outputs": [],
   "source": [
    "df_collisions = pd.read_csv('data/collisions_orig.csv', parse_dates=[\"INCDTTM\"])\n",
    "df_locations_xy = pd.read_csv('data/location_xy.csv')"
   ]
  },
  {
   "cell_type": "code",
   "execution_count": 8,
   "metadata": {},
   "outputs": [
    {
     "data": {
      "text/plain": [
       "(220436, 40)"
      ]
     },
     "execution_count": 8,
     "metadata": {},
     "output_type": "execute_result"
    }
   ],
   "source": [
    "# Check the starting shape\n",
    "df_collisions.shape"
   ]
  },
  {
   "cell_type": "code",
   "execution_count": 9,
   "metadata": {},
   "outputs": [],
   "source": [
    "# Save column list to restore column order after merge\n",
    "column_list = df_collisions.columns\n",
    "column_list = column_list.append(pd.Index(['fe_exists']))"
   ]
  },
  {
   "cell_type": "code",
   "execution_count": 10,
   "metadata": {},
   "outputs": [
    {
     "data": {
      "text/plain": [
       "(220436, 38)"
      ]
     },
     "execution_count": 10,
     "metadata": {},
     "output_type": "execute_result"
    }
   ],
   "source": [
    "# Drop the old X,Y and replace with the ones in location_xy.csv if they exist, otherwise, will be nan\n",
    "df_collisions.drop(columns=['X','Y'],inplace=True,errors='ignore')   # get these from the location_xy.csv file\n",
    "df_collisions.shape"
   ]
  },
  {
   "cell_type": "code",
   "execution_count": 11,
   "metadata": {},
   "outputs": [],
   "source": [
    "df_new = pd.merge(df_collisions, df_locations_xy, on='LOCATION', how='left')"
   ]
  },
  {
   "cell_type": "code",
   "execution_count": 12,
   "metadata": {},
   "outputs": [
    {
     "data": {
      "text/plain": [
       "(220436, 41)"
      ]
     },
     "execution_count": 12,
     "metadata": {},
     "output_type": "execute_result"
    }
   ],
   "source": [
    "# Do some sanity checks\n",
    "df_new.shape"
   ]
  },
  {
   "cell_type": "code",
   "execution_count": 13,
   "metadata": {},
   "outputs": [],
   "source": [
    "# Restore the original order of columns\n",
    "df_new = df_new[column_list]"
   ]
  },
  {
   "cell_type": "code",
   "execution_count": 14,
   "metadata": {},
   "outputs": [],
   "source": [
    "df_new.drop_duplicates(inplace=True)"
   ]
  },
  {
   "cell_type": "code",
   "execution_count": 15,
   "metadata": {},
   "outputs": [
    {
     "data": {
      "text/plain": [
       "1    216059\n",
       "0      4377\n",
       "Name: fe_exists, dtype: int64"
      ]
     },
     "execution_count": 15,
     "metadata": {},
     "output_type": "execute_result"
    }
   ],
   "source": [
    "df_new['fe_exists'].value_counts()"
   ]
  },
  {
   "cell_type": "code",
   "execution_count": 16,
   "metadata": {},
   "outputs": [
    {
     "name": "stdout",
     "output_type": "stream",
     "text": [
      "220436   220436\n"
     ]
    }
   ],
   "source": [
    "new_keys = list(df_new['INCKEY'])\n",
    "col_keys = list(df_collisions['INCKEY'])\n",
    "print(f\"{len(new_keys)}   {len(col_keys)}\")"
   ]
  },
  {
   "cell_type": "code",
   "execution_count": 22,
   "metadata": {},
   "outputs": [],
   "source": [
    "#Niwako - dropping exceptrsncode and expectrsndesc, deemed unnecessary\n",
    "df_new.drop(['EXCEPTRSNCODE', 'EXCEPTRSNDESC'],axis=1, inplace=True)"
   ]
  },
  {
   "cell_type": "code",
   "execution_count": 27,
   "metadata": {},
   "outputs": [],
   "source": [
    "#to lowercase\n",
    "df_new.columns = df_new.columns.str.lower()"
   ]
  },
  {
   "cell_type": "code",
   "execution_count": 28,
   "metadata": {},
   "outputs": [
    {
     "data": {
      "text/plain": [
       "x                  0.032613\n",
       "y                  0.032613\n",
       "objectid           0.000000\n",
       "inckey             0.000000\n",
       "coldetkey          0.000000\n",
       "reportno           0.000000\n",
       "status             0.000000\n",
       "addrtype           0.016817\n",
       "intkey             0.675570\n",
       "location           0.020759\n",
       "severitycode       0.000005\n",
       "severitydesc       0.000000\n",
       "collisiontype      0.118638\n",
       "personcount        0.000000\n",
       "pedcount           0.000000\n",
       "pedcylcount        0.000000\n",
       "vehcount           0.000000\n",
       "injuries           0.000000\n",
       "seriousinjuries    0.000000\n",
       "fatalities         0.000000\n",
       "incdate            0.000000\n",
       "incdttm            0.000000\n",
       "junctiontype       0.054147\n",
       "sdot_colcode       0.000005\n",
       "sdot_coldesc       0.000005\n",
       "inattentionind     0.863058\n",
       "underinfl          0.118547\n",
       "weather            0.119490\n",
       "roadcond           0.119128\n",
       "lightcond          0.119894\n",
       "pedrownotgrnt      0.976501\n",
       "sdotcolnum         0.422939\n",
       "speeding           0.955198\n",
       "st_colcode         0.042702\n",
       "st_coldesc         0.118638\n",
       "seglanekey         0.000000\n",
       "crosswalkkey       0.000000\n",
       "hitparkedcar       0.000000\n",
       "fe_exists          0.000000\n",
       "dtype: float64"
      ]
     },
     "execution_count": 28,
     "metadata": {},
     "output_type": "execute_result"
    }
   ],
   "source": [
    "#these are % of how many nulls we have left after Jamie filling in X,Y coordinates\n",
    "#consider FE flags for remaining X,Y nulls\n",
    "df_new.isnull().sum()/len(df_new)"
   ]
  },
  {
   "cell_type": "code",
   "execution_count": 31,
   "metadata": {},
   "outputs": [
    {
     "name": "stdout",
     "output_type": "stream",
     "text": [
      "7189\n",
      "7189\n"
     ]
    }
   ],
   "source": [
    "print(df_new['x'].isnull().sum())\n",
    "print(df_new['y'].isnull().sum())"
   ]
  },
  {
   "cell_type": "code",
   "execution_count": 26,
   "metadata": {},
   "outputs": [],
   "source": [
    "#exporting to a csv, this will overwrite when more people fill in their nulls\n",
    "df_new.to_csv('collisions_clean.csv')"
   ]
  }
 ],
 "metadata": {
  "kernelspec": {
   "display_name": "Python 3",
   "language": "python",
   "name": "python3"
  },
  "language_info": {
   "codemirror_mode": {
    "name": "ipython",
    "version": 3
   },
   "file_extension": ".py",
   "mimetype": "text/x-python",
   "name": "python",
   "nbconvert_exporter": "python",
   "pygments_lexer": "ipython3",
   "version": "3.7.4"
  }
 },
 "nbformat": 4,
 "nbformat_minor": 2
}
