{
 "cells": [
  {
   "cell_type": "code",
   "execution_count": 172,
   "metadata": {},
   "outputs": [],
   "source": [
    "import math\n",
    "import numpy as np\n",
    "import pandas as pd\n",
    "import seaborn as sns\n",
    "import matplotlib.pyplot as plt\n",
    "from sklearn.cluster import KMeans\n",
    "\n",
    "# Keeps notebooks clean \n",
    "import warnings\n",
    "warnings.filterwarnings(\"ignore\") \n",
    "\n",
    "\n",
    "from datetime import datetime\n",
    "from collections import namedtuple"
   ]
  },
  {
   "cell_type": "code",
   "execution_count": 173,
   "metadata": {},
   "outputs": [
    {
     "name": "stdout",
     "output_type": "stream",
     "text": [
      "Requirement already satisfied: geopandas in /opt/anaconda3/lib/python3.7/site-packages (0.8.0+17.g1b0f006)\n",
      "Requirement already satisfied: pandas>=0.24.0 in /opt/anaconda3/lib/python3.7/site-packages (from geopandas) (1.0.4)\n",
      "Requirement already satisfied: pyproj>=2.2.0 in /opt/anaconda3/lib/python3.7/site-packages (from geopandas) (2.6.1.post1)\n",
      "Requirement already satisfied: shapely>=1.6 in /opt/anaconda3/lib/python3.7/site-packages (from geopandas) (1.7.0)\n",
      "Requirement already satisfied: fiona>=1.8 in /opt/anaconda3/lib/python3.7/site-packages (from geopandas) (1.8.13.post1)\n",
      "Requirement already satisfied: numpy>=1.13.3 in /opt/anaconda3/lib/python3.7/site-packages (from pandas>=0.24.0->geopandas) (1.17.2)\n",
      "Requirement already satisfied: python-dateutil>=2.6.1 in /opt/anaconda3/lib/python3.7/site-packages (from pandas>=0.24.0->geopandas) (2.8.0)\n",
      "Requirement already satisfied: pytz>=2017.2 in /opt/anaconda3/lib/python3.7/site-packages (from pandas>=0.24.0->geopandas) (2019.3)\n",
      "Requirement already satisfied: six>=1.7 in /opt/anaconda3/lib/python3.7/site-packages (from fiona>=1.8->geopandas) (1.12.0)\n",
      "Requirement already satisfied: click-plugins>=1.0 in /opt/anaconda3/lib/python3.7/site-packages (from fiona>=1.8->geopandas) (1.1.1)\n",
      "Requirement already satisfied: attrs>=17 in /opt/anaconda3/lib/python3.7/site-packages (from fiona>=1.8->geopandas) (19.3.0)\n",
      "Requirement already satisfied: munch in /opt/anaconda3/lib/python3.7/site-packages (from fiona>=1.8->geopandas) (2.5.0)\n",
      "Requirement already satisfied: cligj>=0.5 in /opt/anaconda3/lib/python3.7/site-packages (from fiona>=1.8->geopandas) (0.5.0)\n",
      "Requirement already satisfied: click<8,>=4.0 in /opt/anaconda3/lib/python3.7/site-packages (from fiona>=1.8->geopandas) (7.0)\n"
     ]
    }
   ],
   "source": [
    "!pip install geopandas"
   ]
  },
  {
   "cell_type": "code",
   "execution_count": 174,
   "metadata": {},
   "outputs": [],
   "source": [
    "import geopandas as gpd"
   ]
  },
  {
   "cell_type": "code",
   "execution_count": 175,
   "metadata": {},
   "outputs": [
    {
     "data": {
      "text/plain": [
       "'/Users/Monika/Projects'"
      ]
     },
     "execution_count": 175,
     "metadata": {},
     "output_type": "execute_result"
    }
   ],
   "source": [
    "pwd"
   ]
  },
  {
   "cell_type": "code",
   "execution_count": 176,
   "metadata": {},
   "outputs": [],
   "source": [
    "df_collisions = pd.read_csv('data/collisions_orig.csv', parse_dates=[\"INCDTTM\"])\n",
    "df_locations_xy = pd.read_csv('data/location_xy.csv')"
   ]
  },
  {
   "cell_type": "code",
   "execution_count": 177,
   "metadata": {},
   "outputs": [
    {
     "data": {
      "text/plain": [
       "(220436, 40)"
      ]
     },
     "execution_count": 177,
     "metadata": {},
     "output_type": "execute_result"
    }
   ],
   "source": [
    "# Check the starting shape\n",
    "df_collisions.shape"
   ]
  },
  {
   "cell_type": "code",
   "execution_count": 178,
   "metadata": {},
   "outputs": [],
   "source": [
    "# Save column list to restore column order after merge\n",
    "column_list = df_collisions.columns\n",
    "column_list = column_list.append(pd.Index(['fe_exists']))"
   ]
  },
  {
   "cell_type": "code",
   "execution_count": 179,
   "metadata": {},
   "outputs": [
    {
     "data": {
      "text/plain": [
       "(220436, 38)"
      ]
     },
     "execution_count": 179,
     "metadata": {},
     "output_type": "execute_result"
    }
   ],
   "source": [
    "# Drop the old X,Y and replace with the ones in location_xy.csv if they exist, otherwise, will be nan\n",
    "df_collisions.drop(columns=['X','Y'],inplace=True,errors='ignore')   # get these from the location_xy.csv file\n",
    "df_collisions.shape"
   ]
  },
  {
   "cell_type": "code",
   "execution_count": 180,
   "metadata": {},
   "outputs": [],
   "source": [
    "df_new = pd.merge(df_collisions, df_locations_xy, on='LOCATION', how='left')"
   ]
  },
  {
   "cell_type": "code",
   "execution_count": 181,
   "metadata": {},
   "outputs": [
    {
     "data": {
      "text/plain": [
       "(220436, 41)"
      ]
     },
     "execution_count": 181,
     "metadata": {},
     "output_type": "execute_result"
    }
   ],
   "source": [
    "# Do some sanity checks\n",
    "df_new.shape"
   ]
  },
  {
   "cell_type": "code",
   "execution_count": 182,
   "metadata": {},
   "outputs": [],
   "source": [
    "# Restore the original order of columns\n",
    "df_new = df_new[column_list]"
   ]
  },
  {
   "cell_type": "code",
   "execution_count": 183,
   "metadata": {},
   "outputs": [],
   "source": [
    "df_new.drop_duplicates(inplace=True)"
   ]
  },
  {
   "cell_type": "code",
   "execution_count": 184,
   "metadata": {},
   "outputs": [
    {
     "data": {
      "text/plain": [
       "1    216059\n",
       "0      4377\n",
       "Name: fe_exists, dtype: int64"
      ]
     },
     "execution_count": 184,
     "metadata": {},
     "output_type": "execute_result"
    }
   ],
   "source": [
    "df_new['fe_exists'].value_counts()"
   ]
  },
  {
   "cell_type": "code",
   "execution_count": 185,
   "metadata": {},
   "outputs": [
    {
     "name": "stdout",
     "output_type": "stream",
     "text": [
      "220436   220436\n"
     ]
    }
   ],
   "source": [
    "new_keys = list(df_new['INCKEY'])\n",
    "col_keys = list(df_collisions['INCKEY'])\n",
    "print(f\"{len(new_keys)}   {len(col_keys)}\")"
   ]
  },
  {
   "cell_type": "code",
   "execution_count": 186,
   "metadata": {},
   "outputs": [],
   "source": [
    "#Dropping columns deemed unnecessary\n",
    "df_new.drop(['EXCEPTRSNCODE', 'EXCEPTRSNDESC', 'STATUS', 'REPORTNO', 'SEGLANEKEY', 'CROSSWALKKEY', 'INCKEY','COLDETKEY'],axis=1, inplace=True)"
   ]
  },
  {
   "cell_type": "code",
   "execution_count": 187,
   "metadata": {},
   "outputs": [],
   "source": [
    "#to lowercase\n",
    "df_new.columns = df_new.columns.str.lower()"
   ]
  },
  {
   "cell_type": "code",
   "execution_count": 188,
   "metadata": {},
   "outputs": [
    {
     "data": {
      "text/plain": [
       "Index(['x', 'y', 'objectid', 'addrtype', 'intkey', 'location', 'severitycode',\n",
       "       'severitydesc', 'collisiontype', 'personcount', 'pedcount',\n",
       "       'pedcylcount', 'vehcount', 'injuries', 'seriousinjuries', 'fatalities',\n",
       "       'incdate', 'incdttm', 'junctiontype', 'sdot_colcode', 'sdot_coldesc',\n",
       "       'inattentionind', 'underinfl', 'weather', 'roadcond', 'lightcond',\n",
       "       'pedrownotgrnt', 'sdotcolnum', 'speeding', 'st_colcode', 'st_coldesc',\n",
       "       'hitparkedcar', 'fe_exists'],\n",
       "      dtype='object')"
      ]
     },
     "execution_count": 188,
     "metadata": {},
     "output_type": "execute_result"
    }
   ],
   "source": [
    "df_new.columns"
   ]
  },
  {
   "cell_type": "code",
   "execution_count": 189,
   "metadata": {},
   "outputs": [
    {
     "name": "stdout",
     "output_type": "stream",
     "text": [
      "7189\n",
      "7189\n"
     ]
    }
   ],
   "source": [
    "print(df_new['x'].isnull().sum())\n",
    "print(df_new['y'].isnull().sum())"
   ]
  },
  {
   "cell_type": "code",
   "execution_count": 190,
   "metadata": {},
   "outputs": [],
   "source": [
    "#FE time, total_injuries and total_person_count columns\n",
    "df_new[\"time\"]=df_new['incdttm'].dt.strftime('%H:%M')\n",
    "df_new[\"total_injuries\"]=df_new['injuries'] + df_new['seriousinjuries']  + df_new['fatalities']\n",
    "df_new[\"total_person_count\"]=df_new['personcount'] + df_new['pedcount']  + df_new['pedcylcount']"
   ]
  },
  {
   "cell_type": "code",
   "execution_count": 191,
   "metadata": {},
   "outputs": [],
   "source": [
    "#FE emd column for the missing 26,000\n",
    "fe_emd_crit = (df_new['weather'].isnull() &\n",
    "    df_new['lightcond'].isnull() &\n",
    "    df_new['roadcond'].isnull() &\n",
    "    df_new['collisiontype'].isnull() &\n",
    "    df_new['st_coldesc'].isnull() &\n",
    "    df_new['underinfl'].isnull() &\n",
    "    df_new['inattentionind'].isnull() &\n",
    "    df_new['speeding'].isnull() &\n",
    "    df_new['pedrownotgrnt'].isnull() &\n",
    "    (df_new['vehcount'] == 0))\n",
    "df_new['fe_emd'] = fe_emd_crit"
   ]
  },
  {
   "cell_type": "code",
   "execution_count": 192,
   "metadata": {},
   "outputs": [],
   "source": [
    "#converting incdate to datetime\n",
    "df_new[\"incdate\"] = df_new[\"incdate\"].astype(\"datetime64\")"
   ]
  },
  {
   "cell_type": "code",
   "execution_count": 193,
   "metadata": {},
   "outputs": [],
   "source": [
    "#Rebecca's contribution: filling in missing values\n",
    "categories = [\"addrtype\", \"collisiontype\", \"severitydesc\", \"lightcond\",\n",
    "             \"speeding\", \"junctiontype\", \"roadcond\", \"weather\"]\n",
    "\n",
    "for col in categories:\n",
    "    df_new[col] = df_new[col].replace({np.nan: \"Unknown\", \"Other\": \"Unknown\"})\n",
    "    \n",
    "df_new[\"pedrownotgrnt\"] = df_new[\"pedrownotgrnt\"].replace({np.nan: \"N\"})    \n",
    "\n",
    "# While we are at it, let's go ahead and clean up missing values for these two:\n",
    "df_new[\"st_coldesc\"] = df_new[\"st_coldesc\"].replace({np.nan: \"Unknown\"})  \n",
    "df_new[\"sdot_coldesc\"] = df_new[\"sdot_coldesc\"].replace({np.nan: \"Unknown\"})\n",
    "\n",
    "df_new[\"underinfl\"] = df_new[\"underinfl\"].replace({\"0\": \"N\", \"1\": \"Y\", np.nan: \"X\"})"
   ]
  },
  {
   "cell_type": "code",
   "execution_count": 194,
   "metadata": {},
   "outputs": [],
   "source": [
    "#df2 = df_new.set_index('incdate') #change index to incdate \n",
    "#df2['2004-01-02'] "
   ]
  },
  {
   "cell_type": "code",
   "execution_count": 195,
   "metadata": {},
   "outputs": [],
   "source": [
    "#df2.loc['2004-01-02']['weather'].value_counts()"
   ]
  },
  {
   "cell_type": "code",
   "execution_count": 196,
   "metadata": {},
   "outputs": [],
   "source": [
    "#Jeny - work in progress\n",
    "#for each column, get value counts in decreasing order and take the index (value) of most common class\n",
    "#weather_imputed = df2.apply(lambda x: x.fillna(x.value_counts().ind))\n",
    "#df_most_common_imputed = colors.apply(lambda x: x.fillna(x.value_counts().index[0]))\n",
    "#df_most_common_imputed\n",
    "\n",
    "#df2['weather'] = df2['weather'].apply(lambda x: x.fillna(x.value_counts().index[0]))"
   ]
  },
  {
   "cell_type": "code",
   "execution_count": 198,
   "metadata": {},
   "outputs": [
    {
     "data": {
      "text/plain": [
       "Index(['x', 'y', 'objectid', 'addrtype', 'intkey', 'location', 'severitycode',\n",
       "       'severitydesc', 'collisiontype', 'personcount', 'pedcount',\n",
       "       'pedcylcount', 'vehcount', 'injuries', 'seriousinjuries', 'fatalities',\n",
       "       'incdate', 'incdttm', 'junctiontype', 'sdot_colcode', 'sdot_coldesc',\n",
       "       'inattentionind', 'underinfl', 'weather', 'roadcond', 'lightcond',\n",
       "       'pedrownotgrnt', 'sdotcolnum', 'speeding', 'st_colcode', 'st_coldesc',\n",
       "       'hitparkedcar', 'fe_exists', 'time', 'total_injuries',\n",
       "       'total_person_count', 'fe_emd', 'hourandmin', 'hour', 'min'],\n",
       "      dtype='object')"
      ]
     },
     "execution_count": 198,
     "metadata": {},
     "output_type": "execute_result"
    }
   ],
   "source": [
    "df_new.columns"
   ]
  },
  {
   "cell_type": "code",
   "execution_count": 199,
   "metadata": {},
   "outputs": [],
   "source": [
    "#Monika's contribution datetime conversion\n",
    "df_new['hourandmin'] = pd.to_datetime(df_new['time'], format ='%H:%M')\n",
    "df_new['hour'] = df_new['hourandmin'].dt.hour\n",
    "df_new['min'] = df_new['hourandmin'].dt.minute\n",
    "#df_new.drop(df_new['hourandmin'],axis=1,inplace=True)"
   ]
  },
  {
   "cell_type": "code",
   "execution_count": 201,
   "metadata": {},
   "outputs": [
    {
     "data": {
      "text/plain": [
       "0.2368215717940808"
      ]
     },
     "execution_count": 201,
     "metadata": {},
     "output_type": "execute_result"
    }
   ],
   "source": [
    "#seeing what percentage have 00:00 as the hour and minute\n",
    "len(df_new[(df_new['hour']==0) & (df_new['min']==0)])/len(df_new)"
   ]
  },
  {
   "cell_type": "code",
   "execution_count": 202,
   "metadata": {},
   "outputs": [],
   "source": [
    "fe_emd_time = ((df_new['hour']==0) &\n",
    "    (df_new['min']==0))\n",
    "df_new['fe_tmd'] = fe_emd_time"
   ]
  },
  {
   "cell_type": "code",
   "execution_count": 203,
   "metadata": {},
   "outputs": [
    {
     "data": {
      "text/plain": [
       "<matplotlib.axes._subplots.AxesSubplot at 0x1510da610>"
      ]
     },
     "execution_count": 203,
     "metadata": {},
     "output_type": "execute_result"
    },
    {
     "data": {
      "image/png": "[encoded data removed]",
      "text/plain": [
       "<Figure size 432x288 with 1 Axes>"
      ]
     },
     "metadata": {
      "needs_background": "light"
     },
     "output_type": "display_data"
    }
   ],
   "source": [
    "df_new['hour'][df_new['fe_tmd']==False].hist()"
   ]
  },
  {
   "cell_type": "code",
   "execution_count": 204,
   "metadata": {},
   "outputs": [
    {
     "data": {
      "text/plain": [
       "<matplotlib.axes._subplots.AxesSubplot at 0x12f5ce4d0>"
      ]
     },
     "execution_count": 204,
     "metadata": {},
     "output_type": "execute_result"
    },
    {
     "data": {
      "image/png": "[encoded data removed]",
      "text/plain": [
       "<Figure size 432x288 with 1 Axes>"
      ]
     },
     "metadata": {
      "needs_background": "light"
     },
     "output_type": "display_data"
    }
   ],
   "source": [
    "df_new['min'][df_new['fe_tmd']==False].hist()"
   ]
  },
  {
   "cell_type": "code",
   "execution_count": 205,
   "metadata": {},
   "outputs": [],
   "source": [
    "#This is the Ride the Ducks fatal crash from 2015. Removing outlier.\n",
    "df_new = df_new[df_new['total_person_count']!=93]"
   ]
  },
  {
   "cell_type": "code",
   "execution_count": 206,
   "metadata": {},
   "outputs": [
    {
     "data": {
      "text/plain": [
       "['Vehicle backing hits pedestrian',\n",
       " 'Unknown',\n",
       " 'Entering at angle',\n",
       " 'From same direction - both going straight - both moving - sideswipe',\n",
       " 'From same direction - all others',\n",
       " 'One car entering driveway access',\n",
       " 'From opposite direction - one left turn - one straight',\n",
       " 'From same direction - both going straight - one stopped - rear-end',\n",
       " 'Fixed object',\n",
       " 'From same direction - both going straight - both moving - rear-end',\n",
       " 'One parked--one moving',\n",
       " 'Same direction -- both turning right -- both moving -- sideswipe',\n",
       " 'Pedalcyclist Strikes Moving Vehicle',\n",
       " 'Breakage of any part of the vehicle resulting in injury or in further property damage',\n",
       " 'One car leaving parked position',\n",
       " 'From opposite direction - both going straight - one stopped - sideswipe',\n",
       " 'From same direction - both going straight - one stopped - sideswipe',\n",
       " 'Same direction -- both turning right -- one stopped -- rear end',\n",
       " 'Same direction -- both turning left -- both moving -- sideswipe',\n",
       " 'From same direction - one right turn - one straight',\n",
       " 'Vehicle turning right hits pedestrian',\n",
       " 'Vehicle going straight hits pedestrian',\n",
       " 'From opposite direction - one stopped - head-on',\n",
       " 'Vehicle overturned',\n",
       " 'Vehicle Strikes Pedalcyclist',\n",
       " 'From opposite direction - all others',\n",
       " 'From same direction - one left turn - one straight',\n",
       " 'From opposite direction - both going straight - sideswipe',\n",
       " 'From opposite direction - both moving - head-on',\n",
       " 'Vehicle turning left hits pedestrian',\n",
       " 'Same direction -- both turning left -- both moving -- rear end',\n",
       " 'All other non-collision',\n",
       " 'Vehicle - Pedalcyclist',\n",
       " 'Pedalcyclist All Other Involvements ONE UNIT - PEDALCYCLIST ONLY or PEDALCYCLIST STR',\n",
       " 'One car entering parked position',\n",
       " 'Railway Vehicle Strikes Vehicle',\n",
       " 'One car leaving driveway access',\n",
       " 'Same direction -- both turning left -- one stopped -- rear end',\n",
       " 'Same direction -- both turning right -- both moving -- rear end',\n",
       " 'Other object',\n",
       " 'Same direction -- both turning right -- one stopped -- sideswipe',\n",
       " 'Vehicle hits Pedestrian - All Other Actions',\n",
       " 'Person fell, jumped or was pushed from vehicle',\n",
       " 'Vehicle Hits Other Road or Construction Machinery',\n",
       " 'From opposite direction - one left turn - one right turn',\n",
       " 'Vehicle Strikes Railway Vehicle',\n",
       " 'Strikes or Was Struck by Object from the Load of Another Vehicle',\n",
       " 'Vehicle Struck by City Road or Construction Machinery',\n",
       " 'Same direction -- both turning left -- one stopped -- sideswipe',\n",
       " 'Vehicle Struck by Other Road or Construction Machinery',\n",
       " 'Non-domestic animal (deer, bear, elk, etc)',\n",
       " 'Not stated',\n",
       " 'Railway Vehicle Strikes Pedalcyclist',\n",
       " 'Railway Vehicle Strikes Pedestrian',\n",
       " 'Domestic animal other (cat, dog, etc)',\n",
       " 'Vehicle Hits City Road or Construction Machinery',\n",
       " 'Fire started in vehicle',\n",
       " 'Vehicle Hits State Road or Construction Machinery',\n",
       " 'Vehicle Strikes All Other Non-Domestic Animal',\n",
       " 'Pedalcyclist Strikes Pedalcyclist or Pedestrian',\n",
       " 'Vehicle Strikes Deer',\n",
       " 'All Other Multi Vehicle',\n",
       " 'Strikes or Was Struck by a Part of Another Vehicle (Not from Load)']"
      ]
     },
     "execution_count": 206,
     "metadata": {},
     "output_type": "execute_result"
    }
   ],
   "source": [
    "#Niwako's contribution for collision codes\n",
    "labels = list(df_new['st_coldesc'].unique())\n",
    "labels"
   ]
  },
  {
   "cell_type": "code",
   "execution_count": 207,
   "metadata": {},
   "outputs": [
    {
     "data": {
      "text/plain": [
       "['From same direction - both going straight - both moving - sideswipe',\n",
       " 'From same direction - all others',\n",
       " 'One car entering driveway access',\n",
       " 'From opposite direction - one left turn - one straight',\n",
       " 'From same direction - both going straight - one stopped - rear-end',\n",
       " 'From same direction - both going straight - both moving - rear-end',\n",
       " 'One parked--one moving',\n",
       " 'One car leaving parked position',\n",
       " 'From opposite direction - both going straight - one stopped - sideswipe',\n",
       " 'From same direction - both going straight - one stopped - sideswipe',\n",
       " 'From same direction - one right turn - one straight',\n",
       " 'From opposite direction - one stopped - head-on',\n",
       " 'Vehicle overturned',\n",
       " 'From opposite direction - all others',\n",
       " 'From same direction - one left turn - one straight',\n",
       " 'From opposite direction - both going straight - sideswipe',\n",
       " 'From opposite direction - both moving - head-on',\n",
       " 'One car entering parked position',\n",
       " 'One car leaving driveway access',\n",
       " 'From opposite direction - one left turn - one right turn',\n",
       " 'All Other Multi Vehicle']"
      ]
     },
     "execution_count": 207,
     "metadata": {},
     "output_type": "execute_result"
    }
   ],
   "source": [
    "vehicle_only_labels = [\n",
    "    label \n",
    "    for label in df_new['st_coldesc'].dropna().unique() \n",
    "    if label.startswith('From same direction')\n",
    "    or label.startswith('From opposite direction')\n",
    "    or label.startswith('One car')\n",
    "    or label.startswith('One parked')\n",
    "    or label.startswith('Vehicle overturned')\n",
    "    or label.startswith('All Other Multi Vehicle')\n",
    "    \n",
    "]\n",
    "vehicle_only_labels"
   ]
  },
  {
   "cell_type": "code",
   "execution_count": 208,
   "metadata": {},
   "outputs": [
    {
     "data": {
      "text/plain": [
       "(127568, 41)"
      ]
     },
     "execution_count": 208,
     "metadata": {},
     "output_type": "execute_result"
    }
   ],
   "source": [
    "vehicle_only_df = df_new[df_new['st_coldesc'].isin(vehicle_only_labels)]\n",
    "vehicle_only_df.shape"
   ]
  },
  {
   "cell_type": "code",
   "execution_count": 209,
   "metadata": {},
   "outputs": [
    {
     "data": {
      "text/html": [
       "<div>\n",
       "<style scoped>\n",
       "    .dataframe tbody tr th:only-of-type {\n",
       "        vertical-align: middle;\n",
       "    }\n",
       "\n",
       "    .dataframe tbody tr th {\n",
       "        vertical-align: top;\n",
       "    }\n",
       "\n",
       "    .dataframe thead th {\n",
       "        text-align: right;\n",
       "    }\n",
       "</style>\n",
       "<table border=\"1\" class=\"dataframe\">\n",
       "  <thead>\n",
       "    <tr style=\"text-align: right;\">\n",
       "      <th></th>\n",
       "      <th>x</th>\n",
       "      <th>y</th>\n",
       "      <th>objectid</th>\n",
       "      <th>addrtype</th>\n",
       "      <th>intkey</th>\n",
       "      <th>location</th>\n",
       "      <th>severitycode</th>\n",
       "      <th>severitydesc</th>\n",
       "      <th>collisiontype</th>\n",
       "      <th>personcount</th>\n",
       "      <th>...</th>\n",
       "      <th>hitparkedcar</th>\n",
       "      <th>fe_exists</th>\n",
       "      <th>time</th>\n",
       "      <th>total_injuries</th>\n",
       "      <th>total_person_count</th>\n",
       "      <th>fe_emd</th>\n",
       "      <th>hourandmin</th>\n",
       "      <th>hour</th>\n",
       "      <th>min</th>\n",
       "      <th>fe_tmd</th>\n",
       "    </tr>\n",
       "  </thead>\n",
       "  <tbody>\n",
       "    <tr>\n",
       "      <th>3</th>\n",
       "      <td>-122.320383</td>\n",
       "      <td>47.539432</td>\n",
       "      <td>4</td>\n",
       "      <td>Intersection</td>\n",
       "      <td>34194.0</td>\n",
       "      <td>ELLIS AVE S AND S MYRTLE ST</td>\n",
       "      <td>1</td>\n",
       "      <td>Property Damage Only Collision</td>\n",
       "      <td>Sideswipe</td>\n",
       "      <td>2</td>\n",
       "      <td>...</td>\n",
       "      <td>N</td>\n",
       "      <td>1</td>\n",
       "      <td>08:12</td>\n",
       "      <td>0</td>\n",
       "      <td>2</td>\n",
       "      <td>False</td>\n",
       "      <td>1900-01-01 08:12:00</td>\n",
       "      <td>8</td>\n",
       "      <td>12</td>\n",
       "      <td>False</td>\n",
       "    </tr>\n",
       "    <tr>\n",
       "      <th>6</th>\n",
       "      <td>-122.346793</td>\n",
       "      <td>47.662069</td>\n",
       "      <td>7</td>\n",
       "      <td>Block</td>\n",
       "      <td>NaN</td>\n",
       "      <td>N 46TH ST BETWEEN PHINNEY TURN RD AND GREEN LA...</td>\n",
       "      <td>1</td>\n",
       "      <td>Property Damage Only Collision</td>\n",
       "      <td>Unknown</td>\n",
       "      <td>2</td>\n",
       "      <td>...</td>\n",
       "      <td>N</td>\n",
       "      <td>1</td>\n",
       "      <td>08:48</td>\n",
       "      <td>0</td>\n",
       "      <td>2</td>\n",
       "      <td>False</td>\n",
       "      <td>1900-01-01 08:48:00</td>\n",
       "      <td>8</td>\n",
       "      <td>48</td>\n",
       "      <td>False</td>\n",
       "    </tr>\n",
       "    <tr>\n",
       "      <th>8</th>\n",
       "      <td>-122.318085</td>\n",
       "      <td>47.550433</td>\n",
       "      <td>9</td>\n",
       "      <td>Block</td>\n",
       "      <td>NaN</td>\n",
       "      <td>AIRPORT WAY S BETWEEN S HOMER ST AND S DORIS ST</td>\n",
       "      <td>1</td>\n",
       "      <td>Property Damage Only Collision</td>\n",
       "      <td>Unknown</td>\n",
       "      <td>2</td>\n",
       "      <td>...</td>\n",
       "      <td>N</td>\n",
       "      <td>1</td>\n",
       "      <td>10:34</td>\n",
       "      <td>0</td>\n",
       "      <td>2</td>\n",
       "      <td>False</td>\n",
       "      <td>1900-01-01 10:34:00</td>\n",
       "      <td>10</td>\n",
       "      <td>34</td>\n",
       "      <td>False</td>\n",
       "    </tr>\n",
       "    <tr>\n",
       "      <th>9</th>\n",
       "      <td>-122.330444</td>\n",
       "      <td>47.624275</td>\n",
       "      <td>10</td>\n",
       "      <td>Intersection</td>\n",
       "      <td>29121.0</td>\n",
       "      <td>MERCER ST AND YALE AVE N</td>\n",
       "      <td>1</td>\n",
       "      <td>Property Damage Only Collision</td>\n",
       "      <td>Left Turn</td>\n",
       "      <td>4</td>\n",
       "      <td>...</td>\n",
       "      <td>N</td>\n",
       "      <td>1</td>\n",
       "      <td>00:00</td>\n",
       "      <td>0</td>\n",
       "      <td>4</td>\n",
       "      <td>False</td>\n",
       "      <td>1900-01-01 00:00:00</td>\n",
       "      <td>0</td>\n",
       "      <td>0</td>\n",
       "      <td>True</td>\n",
       "    </tr>\n",
       "    <tr>\n",
       "      <th>10</th>\n",
       "      <td>-122.351134</td>\n",
       "      <td>47.570942</td>\n",
       "      <td>11</td>\n",
       "      <td>Block</td>\n",
       "      <td>NaN</td>\n",
       "      <td>WEST SEATTLE BR EB BETWEEN ALASKAN WY VI NB ON...</td>\n",
       "      <td>1</td>\n",
       "      <td>Property Damage Only Collision</td>\n",
       "      <td>Rear Ended</td>\n",
       "      <td>2</td>\n",
       "      <td>...</td>\n",
       "      <td>N</td>\n",
       "      <td>0</td>\n",
       "      <td>08:28</td>\n",
       "      <td>0</td>\n",
       "      <td>2</td>\n",
       "      <td>False</td>\n",
       "      <td>1900-01-01 08:28:00</td>\n",
       "      <td>8</td>\n",
       "      <td>28</td>\n",
       "      <td>False</td>\n",
       "    </tr>\n",
       "  </tbody>\n",
       "</table>\n",
       "<p>5 rows × 41 columns</p>\n",
       "</div>"
      ],
      "text/plain": [
       "             x          y  objectid      addrtype   intkey  \\\n",
       "3  -122.320383  47.539432         4  Intersection  34194.0   \n",
       "6  -122.346793  47.662069         7         Block      NaN   \n",
       "8  -122.318085  47.550433         9         Block      NaN   \n",
       "9  -122.330444  47.624275        10  Intersection  29121.0   \n",
       "10 -122.351134  47.570942        11         Block      NaN   \n",
       "\n",
       "                                             location severitycode  \\\n",
       "3                         ELLIS AVE S AND S MYRTLE ST            1   \n",
       "6   N 46TH ST BETWEEN PHINNEY TURN RD AND GREEN LA...            1   \n",
       "8     AIRPORT WAY S BETWEEN S HOMER ST AND S DORIS ST            1   \n",
       "9                            MERCER ST AND YALE AVE N            1   \n",
       "10  WEST SEATTLE BR EB BETWEEN ALASKAN WY VI NB ON...            1   \n",
       "\n",
       "                      severitydesc collisiontype  personcount  ...  \\\n",
       "3   Property Damage Only Collision     Sideswipe            2  ...   \n",
       "6   Property Damage Only Collision       Unknown            2  ...   \n",
       "8   Property Damage Only Collision       Unknown            2  ...   \n",
       "9   Property Damage Only Collision     Left Turn            4  ...   \n",
       "10  Property Damage Only Collision    Rear Ended            2  ...   \n",
       "\n",
       "    hitparkedcar  fe_exists   time  total_injuries  total_person_count  \\\n",
       "3              N          1  08:12               0                   2   \n",
       "6              N          1  08:48               0                   2   \n",
       "8              N          1  10:34               0                   2   \n",
       "9              N          1  00:00               0                   4   \n",
       "10             N          0  08:28               0                   2   \n",
       "\n",
       "    fe_emd          hourandmin hour min  fe_tmd  \n",
       "3    False 1900-01-01 08:12:00    8  12   False  \n",
       "6    False 1900-01-01 08:48:00    8  48   False  \n",
       "8    False 1900-01-01 10:34:00   10  34   False  \n",
       "9    False 1900-01-01 00:00:00    0   0    True  \n",
       "10   False 1900-01-01 08:28:00    8  28   False  \n",
       "\n",
       "[5 rows x 41 columns]"
      ]
     },
     "execution_count": 209,
     "metadata": {},
     "output_type": "execute_result"
    }
   ],
   "source": [
    "vehicle_only_df.head()"
   ]
  },
  {
   "cell_type": "code",
   "execution_count": 210,
   "metadata": {},
   "outputs": [
    {
     "data": {
      "text/plain": [
       "<matplotlib.axes._subplots.AxesSubplot at 0x12b4a8ad0>"
      ]
     },
     "execution_count": 210,
     "metadata": {},
     "output_type": "execute_result"
    },
    {
     "data": {
      "image/png": "[encoded data removed]",
      "text/plain": [
       "<Figure size 1008x432 with 1 Axes>"
      ]
     },
     "metadata": {
      "needs_background": "light"
     },
     "output_type": "display_data"
    }
   ],
   "source": [
    "vehicle_only_df['st_coldesc'].value_counts().to_frame('count').plot.bar(figsize=(14, 6))"
   ]
  },
  {
   "cell_type": "markdown",
   "metadata": {},
   "source": [
    "## Merge with GEOJSON\n",
    "Using geopandas to join our collisions dataset to the Census file using our x/y coordinates.\n"
   ]
  },
  {
   "cell_type": "code",
   "execution_count": 211,
   "metadata": {},
   "outputs": [
    {
     "data": {
      "text/html": [
       "<div>\n",
       "<style scoped>\n",
       "    .dataframe tbody tr th:only-of-type {\n",
       "        vertical-align: middle;\n",
       "    }\n",
       "\n",
       "    .dataframe tbody tr th {\n",
       "        vertical-align: top;\n",
       "    }\n",
       "\n",
       "    .dataframe thead th {\n",
       "        text-align: right;\n",
       "    }\n",
       "</style>\n",
       "<table border=\"1\" class=\"dataframe\">\n",
       "  <thead>\n",
       "    <tr style=\"text-align: right;\">\n",
       "      <th></th>\n",
       "      <th>x</th>\n",
       "      <th>y</th>\n",
       "      <th>objectid</th>\n",
       "      <th>addrtype</th>\n",
       "      <th>intkey</th>\n",
       "      <th>location</th>\n",
       "      <th>severitycode</th>\n",
       "      <th>severitydesc</th>\n",
       "      <th>collisiontype</th>\n",
       "      <th>personcount</th>\n",
       "      <th>...</th>\n",
       "      <th>fe_exists</th>\n",
       "      <th>time</th>\n",
       "      <th>total_injuries</th>\n",
       "      <th>total_person_count</th>\n",
       "      <th>fe_emd</th>\n",
       "      <th>hourandmin</th>\n",
       "      <th>hour</th>\n",
       "      <th>min</th>\n",
       "      <th>fe_tmd</th>\n",
       "      <th>geometry</th>\n",
       "    </tr>\n",
       "  </thead>\n",
       "  <tbody>\n",
       "    <tr>\n",
       "      <th>0</th>\n",
       "      <td>-122.340472</td>\n",
       "      <td>47.608629</td>\n",
       "      <td>1</td>\n",
       "      <td>Intersection</td>\n",
       "      <td>29598.0</td>\n",
       "      <td>PIKE PL AND PIKE ST</td>\n",
       "      <td>2</td>\n",
       "      <td>Injury Collision</td>\n",
       "      <td>Pedestrian</td>\n",
       "      <td>2</td>\n",
       "      <td>...</td>\n",
       "      <td>1</td>\n",
       "      <td>18:36</td>\n",
       "      <td>1</td>\n",
       "      <td>3</td>\n",
       "      <td>False</td>\n",
       "      <td>1900-01-01 18:36:00</td>\n",
       "      <td>18</td>\n",
       "      <td>36</td>\n",
       "      <td>False</td>\n",
       "      <td>POINT (-122.34047 47.60863)</td>\n",
       "    </tr>\n",
       "  </tbody>\n",
       "</table>\n",
       "<p>1 rows × 42 columns</p>\n",
       "</div>"
      ],
      "text/plain": [
       "            x          y  objectid      addrtype   intkey  \\\n",
       "0 -122.340472  47.608629         1  Intersection  29598.0   \n",
       "\n",
       "              location severitycode      severitydesc collisiontype  \\\n",
       "0  PIKE PL AND PIKE ST            2  Injury Collision    Pedestrian   \n",
       "\n",
       "   personcount  ...  fe_exists   time  total_injuries  total_person_count  \\\n",
       "0            2  ...          1  18:36               1                   3   \n",
       "\n",
       "   fe_emd          hourandmin hour min fe_tmd                     geometry  \n",
       "0   False 1900-01-01 18:36:00   18  36  False  POINT (-122.34047 47.60863)  \n",
       "\n",
       "[1 rows x 42 columns]"
      ]
     },
     "execution_count": 211,
     "metadata": {},
     "output_type": "execute_result"
    }
   ],
   "source": [
    "# Create a dataframe that includes a new feature called geometry, which is basically a point made from x & y           \n",
    "gdf_collisions = gpd.GeoDataFrame(df_new, geometry=gpd.points_from_xy(df_new.x, df_new.y))\n",
    "# This will show the newly created geometry geo feature\n",
    "gdf_collisions.head(1)"
   ]
  },
  {
   "cell_type": "code",
   "execution_count": 212,
   "metadata": {},
   "outputs": [
    {
     "data": {
      "text/html": [
       "<div>\n",
       "<style scoped>\n",
       "    .dataframe tbody tr th:only-of-type {\n",
       "        vertical-align: middle;\n",
       "    }\n",
       "\n",
       "    .dataframe tbody tr th {\n",
       "        vertical-align: top;\n",
       "    }\n",
       "\n",
       "    .dataframe thead th {\n",
       "        text-align: right;\n",
       "    }\n",
       "</style>\n",
       "<table border=\"1\" class=\"dataframe\">\n",
       "  <thead>\n",
       "    <tr style=\"text-align: right;\">\n",
       "      <th></th>\n",
       "      <th>OBJECTID</th>\n",
       "      <th>TRACT</th>\n",
       "      <th>TRACTCE10</th>\n",
       "      <th>GEOID10</th>\n",
       "      <th>NAME10</th>\n",
       "      <th>NAMELSAD10</th>\n",
       "      <th>ACRES_TOTAL</th>\n",
       "      <th>WATER</th>\n",
       "      <th>SHAPE_Length</th>\n",
       "      <th>SHAPE_Area</th>\n",
       "      <th>geometry</th>\n",
       "    </tr>\n",
       "  </thead>\n",
       "  <tbody>\n",
       "    <tr>\n",
       "      <th>0</th>\n",
       "      <td>1</td>\n",
       "      <td>2500</td>\n",
       "      <td>002500</td>\n",
       "      <td>53033002500</td>\n",
       "      <td>25</td>\n",
       "      <td>Census Tract 25</td>\n",
       "      <td>243.219083</td>\n",
       "      <td>0</td>\n",
       "      <td>16442.968402</td>\n",
       "      <td>1.059462e+07</td>\n",
       "      <td>POLYGON ((-122.29602 47.69023, -122.29608 47.6...</td>\n",
       "    </tr>\n",
       "  </tbody>\n",
       "</table>\n",
       "</div>"
      ],
      "text/plain": [
       "   OBJECTID  TRACT TRACTCE10      GEOID10 NAME10       NAMELSAD10  \\\n",
       "0         1   2500    002500  53033002500     25  Census Tract 25   \n",
       "\n",
       "   ACRES_TOTAL  WATER  SHAPE_Length    SHAPE_Area  \\\n",
       "0   243.219083      0  16442.968402  1.059462e+07   \n",
       "\n",
       "                                            geometry  \n",
       "0  POLYGON ((-122.29602 47.69023, -122.29608 47.6...  "
      ]
     },
     "execution_count": 212,
     "metadata": {},
     "output_type": "execute_result"
    }
   ],
   "source": [
    "# Open the Census Tracts Geo file\n",
    "geojson_file = \"data/Census_Tracts_2010.geojson\"\n",
    "census_tracts = gpd.read_file(geojson_file)\n",
    "census_tracts.head(1)"
   ]
  },
  {
   "cell_type": "code",
   "execution_count": 213,
   "metadata": {},
   "outputs": [],
   "source": [
    "# conda install rtree"
   ]
  },
  {
   "cell_type": "code",
   "execution_count": 214,
   "metadata": {},
   "outputs": [],
   "source": [
    "# Join the two - a left join means we wont loose records from our collision dataset. within means the x/y pont must be contained within the census polygon\n",
    "df_with_geo = gpd.sjoin(gdf_collisions, census_tracts, how=\"left\", op=\"within\")"
   ]
  },
  {
   "cell_type": "code",
   "execution_count": 215,
   "metadata": {},
   "outputs": [
    {
     "name": "stdout",
     "output_type": "stream",
     "text": [
      "Original df shape: (220435, 42)\n",
      "New df shape: (220435, 53)\n"
     ]
    }
   ],
   "source": [
    "# Make sure it was a left join and we didn't loose any records\n",
    "print(\"Original df shape:\", df_new.shape)\n",
    "print(\"New df shape:\", df_with_geo.shape)"
   ]
  },
  {
   "cell_type": "code",
   "execution_count": 216,
   "metadata": {},
   "outputs": [
    {
     "data": {
      "text/html": [
       "<div>\n",
       "<style scoped>\n",
       "    .dataframe tbody tr th:only-of-type {\n",
       "        vertical-align: middle;\n",
       "    }\n",
       "\n",
       "    .dataframe tbody tr th {\n",
       "        vertical-align: top;\n",
       "    }\n",
       "\n",
       "    .dataframe thead th {\n",
       "        text-align: right;\n",
       "    }\n",
       "</style>\n",
       "<table border=\"1\" class=\"dataframe\">\n",
       "  <thead>\n",
       "    <tr style=\"text-align: right;\">\n",
       "      <th></th>\n",
       "      <th>x</th>\n",
       "      <th>y</th>\n",
       "      <th>objectid</th>\n",
       "      <th>addrtype</th>\n",
       "      <th>intkey</th>\n",
       "      <th>location</th>\n",
       "      <th>severitycode</th>\n",
       "      <th>severitydesc</th>\n",
       "      <th>collisiontype</th>\n",
       "      <th>personcount</th>\n",
       "      <th>...</th>\n",
       "      <th>fe_exists</th>\n",
       "      <th>time</th>\n",
       "      <th>total_injuries</th>\n",
       "      <th>total_person_count</th>\n",
       "      <th>fe_emd</th>\n",
       "      <th>hourandmin</th>\n",
       "      <th>hour</th>\n",
       "      <th>min</th>\n",
       "      <th>fe_tmd</th>\n",
       "      <th>NAMELSAD10</th>\n",
       "    </tr>\n",
       "  </thead>\n",
       "  <tbody>\n",
       "    <tr>\n",
       "      <th>0</th>\n",
       "      <td>-122.340472</td>\n",
       "      <td>47.608629</td>\n",
       "      <td>1</td>\n",
       "      <td>Intersection</td>\n",
       "      <td>29598.0</td>\n",
       "      <td>PIKE PL AND PIKE ST</td>\n",
       "      <td>2</td>\n",
       "      <td>Injury Collision</td>\n",
       "      <td>Pedestrian</td>\n",
       "      <td>2</td>\n",
       "      <td>...</td>\n",
       "      <td>1</td>\n",
       "      <td>18:36</td>\n",
       "      <td>1</td>\n",
       "      <td>3</td>\n",
       "      <td>False</td>\n",
       "      <td>1900-01-01 18:36:00</td>\n",
       "      <td>18</td>\n",
       "      <td>36</td>\n",
       "      <td>False</td>\n",
       "      <td>Census Tract 81</td>\n",
       "    </tr>\n",
       "  </tbody>\n",
       "</table>\n",
       "<p>1 rows × 42 columns</p>\n",
       "</div>"
      ],
      "text/plain": [
       "            x          y  objectid      addrtype   intkey  \\\n",
       "0 -122.340472  47.608629         1  Intersection  29598.0   \n",
       "\n",
       "              location severitycode      severitydesc collisiontype  \\\n",
       "0  PIKE PL AND PIKE ST            2  Injury Collision    Pedestrian   \n",
       "\n",
       "   personcount  ...  fe_exists   time  total_injuries  total_person_count  \\\n",
       "0            2  ...          1  18:36               1                   3   \n",
       "\n",
       "   fe_emd          hourandmin hour min fe_tmd       NAMELSAD10  \n",
       "0   False 1900-01-01 18:36:00   18  36  False  Census Tract 81  \n",
       "\n",
       "[1 rows x 42 columns]"
      ]
     },
     "execution_count": 216,
     "metadata": {},
     "output_type": "execute_result"
    }
   ],
   "source": [
    "# Drop un-needed columns\n",
    "df_with_geo.drop(['OBJECTID', 'TRACT', 'TRACTCE10', 'GEOID10', 'NAME10', 'WATER', 'geometry', 'SHAPE_Area', 'SHAPE_Length', 'ACRES_TOTAL', 'index_right', 'SHAPE_Length', 'SHAPE_Area'],axis=1, inplace=True)\n",
    "df_with_geo.head(1)"
   ]
  },
  {
   "cell_type": "code",
   "execution_count": 217,
   "metadata": {},
   "outputs": [],
   "source": [
    "df_with_geo.columns = df_with_geo.columns.str.lower()"
   ]
  },
  {
   "cell_type": "markdown",
   "metadata": {},
   "source": [
    "## Merge with Neighborhood Csv\n",
    "Mergin with this dataset (created using Tableau) which contains the neighborhood for each census group"
   ]
  },
  {
   "cell_type": "code",
   "execution_count": 218,
   "metadata": {},
   "outputs": [
    {
     "data": {
      "text/plain": [
       "(135, 2)"
      ]
     },
     "execution_count": 218,
     "metadata": {},
     "output_type": "execute_result"
    }
   ],
   "source": [
    "# Now we can pull neighborhood from the csv I created from tableau\n",
    "\n",
    "df_neighborhood = pd.read_csv('data/location_neighborhood_census_area.csv')\n",
    "df_neighborhood.shape"
   ]
  },
  {
   "cell_type": "code",
   "execution_count": 219,
   "metadata": {},
   "outputs": [],
   "source": [
    "df_with_geo_neighborhood = pd.merge(df_with_geo, df_neighborhood, on='namelsad10', how='left')"
   ]
  },
  {
   "cell_type": "code",
   "execution_count": 220,
   "metadata": {},
   "outputs": [
    {
     "data": {
      "text/html": [
       "<div>\n",
       "<style scoped>\n",
       "    .dataframe tbody tr th:only-of-type {\n",
       "        vertical-align: middle;\n",
       "    }\n",
       "\n",
       "    .dataframe tbody tr th {\n",
       "        vertical-align: top;\n",
       "    }\n",
       "\n",
       "    .dataframe thead th {\n",
       "        text-align: right;\n",
       "    }\n",
       "</style>\n",
       "<table border=\"1\" class=\"dataframe\">\n",
       "  <thead>\n",
       "    <tr style=\"text-align: right;\">\n",
       "      <th></th>\n",
       "      <th>x</th>\n",
       "      <th>y</th>\n",
       "      <th>objectid</th>\n",
       "      <th>addrtype</th>\n",
       "      <th>intkey</th>\n",
       "      <th>location</th>\n",
       "      <th>severitycode</th>\n",
       "      <th>severitydesc</th>\n",
       "      <th>collisiontype</th>\n",
       "      <th>personcount</th>\n",
       "      <th>...</th>\n",
       "      <th>time</th>\n",
       "      <th>total_injuries</th>\n",
       "      <th>total_person_count</th>\n",
       "      <th>fe_emd</th>\n",
       "      <th>hourandmin</th>\n",
       "      <th>hour</th>\n",
       "      <th>min</th>\n",
       "      <th>fe_tmd</th>\n",
       "      <th>namelsad10</th>\n",
       "      <th>neighborhood</th>\n",
       "    </tr>\n",
       "  </thead>\n",
       "  <tbody>\n",
       "    <tr>\n",
       "      <th>0</th>\n",
       "      <td>-122.340472</td>\n",
       "      <td>47.608629</td>\n",
       "      <td>1</td>\n",
       "      <td>Intersection</td>\n",
       "      <td>29598.0</td>\n",
       "      <td>PIKE PL AND PIKE ST</td>\n",
       "      <td>2</td>\n",
       "      <td>Injury Collision</td>\n",
       "      <td>Pedestrian</td>\n",
       "      <td>2</td>\n",
       "      <td>...</td>\n",
       "      <td>18:36</td>\n",
       "      <td>1</td>\n",
       "      <td>3</td>\n",
       "      <td>False</td>\n",
       "      <td>1900-01-01 18:36:00</td>\n",
       "      <td>18</td>\n",
       "      <td>36</td>\n",
       "      <td>False</td>\n",
       "      <td>Census Tract 81</td>\n",
       "      <td>Downtown / Waterfront</td>\n",
       "    </tr>\n",
       "  </tbody>\n",
       "</table>\n",
       "<p>1 rows × 43 columns</p>\n",
       "</div>"
      ],
      "text/plain": [
       "            x          y  objectid      addrtype   intkey  \\\n",
       "0 -122.340472  47.608629         1  Intersection  29598.0   \n",
       "\n",
       "              location severitycode      severitydesc collisiontype  \\\n",
       "0  PIKE PL AND PIKE ST            2  Injury Collision    Pedestrian   \n",
       "\n",
       "   personcount  ...   time  total_injuries  total_person_count  fe_emd  \\\n",
       "0            2  ...  18:36               1                   3   False   \n",
       "\n",
       "           hourandmin  hour min fe_tmd       namelsad10           neighborhood  \n",
       "0 1900-01-01 18:36:00    18  36  False  Census Tract 81  Downtown / Waterfront  \n",
       "\n",
       "[1 rows x 43 columns]"
      ]
     },
     "execution_count": 220,
     "metadata": {},
     "output_type": "execute_result"
    }
   ],
   "source": [
    "df_with_geo_neighborhood.head(1)"
   ]
  },
  {
   "cell_type": "code",
   "execution_count": 221,
   "metadata": {},
   "outputs": [],
   "source": [
    "# Rename census area column to something that makes more sense\n",
    "df_with_geo_neighborhood=df_with_geo_neighborhood.rename(columns = {'namelsad10':'census_area'})"
   ]
  },
  {
   "cell_type": "code",
   "execution_count": 222,
   "metadata": {},
   "outputs": [
    {
     "name": "stdout",
     "output_type": "stream",
     "text": [
      "Original df shape: (220435, 42)\n",
      "New df shape: (220435, 43)\n"
     ]
    }
   ],
   "source": [
    "# Make sure it was a left join and we didn't loose any records\n",
    "print(\"Original df shape:\", df_new.shape)\n",
    "print(\"New df shape:\", df_with_geo_neighborhood.shape)"
   ]
  },
  {
   "cell_type": "code",
   "execution_count": 223,
   "metadata": {},
   "outputs": [],
   "source": [
    "# rename dataframe back to what we were using before\n",
    "df_new=df_with_geo_neighborhood"
   ]
  },
  {
   "cell_type": "markdown",
   "metadata": {},
   "source": [
    "## Impute missing weather with date and census area\n",
    "If that doesn't work, then we will try neighborhood"
   ]
  },
  {
   "cell_type": "code",
   "execution_count": 224,
   "metadata": {},
   "outputs": [],
   "source": [
    "# Define a Named Tuple Here so that we can use it in the rest of the notebook\n",
    "\n",
    "DateArea = namedtuple(\"DateArea\", [\"date\", \"area\"])\n",
    "\n",
    "def make_date_area_env_dict(df, date, area, env_condition):\n",
    "    # Creating a dictionary that has a named tuple as the key, basically (date,area) and a dict of environmental (like weather) conditions conditions as the value\n",
    "    # My intent is to count the number of environmental (like weather) conditions for the date/area combination so that the one with the highst count wins\n",
    "\n",
    "    #Only use those records with values for all three features, date, area and environmental (like weather) conditions\n",
    "    df_with_values = df[df[\"incdate\"].notnull() & df[area].notnull() & df[env_condition].notnull()  ]\n",
    "    \n",
    "    # Overall Dictionary Object to track all this informaiton\n",
    "    loc_date_dict = dict()\n",
    "    for idx, row in df_with_values.iterrows():\n",
    "        # This is my date/area tuple\n",
    "        dl = DateArea(date=str(row[date]), area=row[area])\n",
    "        if dl in loc_date_dict.keys():\n",
    "            env_dict = loc_date_dict[dl]\n",
    "            if row[env_condition] in env_dict.keys():\n",
    "                env_dict[row[env_condition]] +=1\n",
    "            else:\n",
    "                env_dict[row[env_condition]]=1\n",
    "                loc_date_dict[dl]=env_dict\n",
    "        else:\n",
    "            env_dict = dict()\n",
    "            env_dict[row[env_condition]]  = 1\n",
    "            loc_date_dict[dl]= env_dict\n",
    "    return loc_date_dict"
   ]
  },
  {
   "cell_type": "code",
   "execution_count": 225,
   "metadata": {},
   "outputs": [],
   "source": [
    "# Create Dictionary using date, census area for the named tuple (key) and a dictionary of the most common weather conditions for the value\n",
    "dict_date_census_weather = make_date_area_env_dict(df_new, \"incdate\", \"census_area\", \"weather\")\n",
    "count_imputed=0"
   ]
  },
  {
   "cell_type": "code",
   "execution_count": 226,
   "metadata": {},
   "outputs": [
    {
     "data": {
      "text/plain": [
       "(38560, 43)"
      ]
     },
     "execution_count": 226,
     "metadata": {},
     "output_type": "execute_result"
    }
   ],
   "source": [
    "# How many records do we have where weather is null, but date and census area are not\n",
    "df_no_weather = df_new[df_new[\"incdate\"].notnull() & df_new[\"census_area\"].notnull() & ((df_new[ \"weather\"]==\"Unknown\") | (df_new[ \"weather\"].isnull())) ]\n",
    "df_no_weather.shape"
   ]
  },
  {
   "cell_type": "code",
   "execution_count": 227,
   "metadata": {},
   "outputs": [
    {
     "name": "stdout",
     "output_type": "stream",
     "text": [
      "DateArea(date='2004-10-14 00:00:00', area='Census Tract 81')\n",
      "{'Overcast': 1, 'Unknown': 2, 'Clear': 1}\n",
      "DateArea(date='2020-01-22 00:00:00', area='Census Tract 119')\n",
      "{'Unknown': 1}\n",
      "DateArea(date='2020-01-05 00:00:00', area='Census Tract 12')\n",
      "{'Raining': 1}\n",
      "DateArea(date='2020-02-13 00:00:00', area='Census Tract 109')\n",
      "{'Overcast': 1, 'Clear': 1}\n",
      "DateArea(date='2020-02-08 00:00:00', area='Census Tract 47')\n",
      "{'Unknown': 1}\n"
     ]
    }
   ],
   "source": [
    "# Take a look at the first 15 items of our imputing dictionary\n",
    "first_5=0\n",
    "for key, value in dict_date_census_weather.items() :\n",
    "    if first_5<5: print(key)\n",
    "    if first_5<5: print(value)    \n",
    "    first_5+=1"
   ]
  },
  {
   "cell_type": "code",
   "execution_count": 228,
   "metadata": {},
   "outputs": [],
   "source": [
    "#imputing missing data by neighborhood\n",
    "dict_date_neighborhood_weather = make_date_area_env_dict(df_new, \"incdate\", \"neighborhood\", \"weather\")"
   ]
  },
  {
   "cell_type": "code",
   "execution_count": 229,
   "metadata": {},
   "outputs": [
    {
     "name": "stdout",
     "output_type": "stream",
     "text": [
      "DateArea(date='2004-10-14 00:00:00', area='Downtown / Waterfront')\n",
      "{'Overcast': 1, 'Unknown': 4, 'Clear': 3}\n",
      "DateArea(date='2020-01-22 00:00:00', area='Rainier Beach / Dunlap')\n",
      "{'Unknown': 1}\n",
      "DateArea(date='2020-01-05 00:00:00', area='Northgate')\n",
      "{'Raining': 1}\n",
      "DateArea(date='2020-02-13 00:00:00', area='Georgetown')\n",
      "{'Overcast': 1, 'Clear': 1}\n",
      "DateArea(date='2020-02-08 00:00:00', area='Ballard')\n",
      "{'Unknown': 2}\n"
     ]
    }
   ],
   "source": [
    "# Take a look at the first 15 items of our imputing dictionary\n",
    "first_5=0\n",
    "for key, value in dict_date_neighborhood_weather.items() :\n",
    "    if first_5<5: print(key)\n",
    "    if first_5<5: print(value)    \n",
    "    first_5+=1"
   ]
  },
  {
   "cell_type": "code",
   "execution_count": 230,
   "metadata": {},
   "outputs": [],
   "source": [
    "# This function will be used in our lambda expression below. It will try to fill weather with the most common weather condition for the date/census area combo\n",
    "\n",
    "def find_env_val(dict_env,area_string, date_string, old_val, debug=False):\n",
    "    dl = DateArea(date=str(date_string), area=area_string)\n",
    "    if (str(old_val)==\"nan\" or str(old_val)==\"Unknown\") and dl in dict_env.keys():  \n",
    "        env_dict = dict_env[dl]\n",
    "        # Now we want to find the key of the item in env_dic that has the greatest value (count) and use it to replace our NaN value\n",
    "        # If they all have equal, then the value selected is kind of random (order that it was added to dictionary)\n",
    "        new_val = max(env_dict, key=env_dict.get)\n",
    "        if (debug) and  len(env_dict.keys()) >1: print(f\"Filling in env for {area_string}, and {date_string} with {new_val} using this info {env_dict}\")\n",
    "    else:\n",
    "        new_val = old_val\n",
    "    #print(f\"{area_string}  {newX},{newY}\")\n",
    "    return new_val"
   ]
  },
  {
   "cell_type": "code",
   "execution_count": 231,
   "metadata": {},
   "outputs": [],
   "source": [
    "df_new['weather'] = df_new.apply(lambda x: find_env_val(dict_date_neighborhood_weather,area_string=x['neighborhood'],date_string=str(x['incdate']), old_val=x['weather'],debug=False), axis=1)"
   ]
  },
  {
   "cell_type": "code",
   "execution_count": 232,
   "metadata": {},
   "outputs": [
    {
     "data": {
      "text/plain": [
       "(24455, 43)"
      ]
     },
     "execution_count": 232,
     "metadata": {},
     "output_type": "execute_result"
    }
   ],
   "source": [
    "df_no_weather = df_new[df_new[\"incdate\"].notnull() & df_new[\"census_area\"].notnull() & ((df_new[ \"weather\"]==\"Unknown\") | (df_new[ \"weather\"].isnull())) ]\n",
    "df_no_weather.shape"
   ]
  },
  {
   "cell_type": "code",
   "execution_count": 233,
   "metadata": {},
   "outputs": [],
   "source": [
    "#impute remaining using city\n",
    "df_new['city']=\"seattle\""
   ]
  },
  {
   "cell_type": "code",
   "execution_count": 234,
   "metadata": {},
   "outputs": [],
   "source": [
    "dict_date_city_weather = make_date_area_env_dict(df_new, \"incdate\", \"city\", \"weather\")"
   ]
  },
  {
   "cell_type": "code",
   "execution_count": 235,
   "metadata": {},
   "outputs": [],
   "source": [
    "df_new['weather'] = df_new.apply(lambda x: find_env_val(dict_date_city_weather,area_string=x['city'],date_string=str(x['incdate']), old_val=x['weather'],debug=False), axis=1)"
   ]
  },
  {
   "cell_type": "code",
   "execution_count": 236,
   "metadata": {},
   "outputs": [
    {
     "data": {
      "text/plain": [
       "(2250, 44)"
      ]
     },
     "execution_count": 236,
     "metadata": {},
     "output_type": "execute_result"
    }
   ],
   "source": [
    "df_no_weather = df_new[df_new[\"incdate\"].notnull() & df_new[\"census_area\"].notnull() & ((df_new[ \"weather\"]==\"Unknown\") | (df_new[ \"weather\"].isnull())) ]\n",
    "df_no_weather.shape"
   ]
  },
  {
   "cell_type": "code",
   "execution_count": 237,
   "metadata": {},
   "outputs": [
    {
     "name": "stdout",
     "output_type": "stream",
     "text": [
      "Clear\n"
     ]
    }
   ],
   "source": [
    "most_common_value=df_new['weather'].value_counts().index[0]\n",
    "print(most_common_value)"
   ]
  },
  {
   "cell_type": "code",
   "execution_count": 238,
   "metadata": {},
   "outputs": [],
   "source": [
    "df_new['weather'].fillna(most_common_value, inplace=True)\n",
    "df_new['weather'].replace(['Unknown'], most_common_value, inplace=True)"
   ]
  },
  {
   "cell_type": "code",
   "execution_count": 239,
   "metadata": {},
   "outputs": [
    {
     "data": {
      "text/plain": [
       "(0, 44)"
      ]
     },
     "execution_count": 239,
     "metadata": {},
     "output_type": "execute_result"
    }
   ],
   "source": [
    "df_no_weather = df_new[df_new[\"incdate\"].notnull() & df_new[\"census_area\"].notnull() & ((df_new[ \"weather\"]==\"Unknown\") | (df_new[ \"weather\"].isnull())) ]\n",
    "df_no_weather.shape"
   ]
  },
  {
   "cell_type": "code",
   "execution_count": 241,
   "metadata": {},
   "outputs": [],
   "source": [
    "#imputing for road conditions using neighborhoods\n",
    "dict_date_neighborhood_roadcond = make_date_area_env_dict(df_new, \"incdate\", \"neighborhood\", \"roadcond\")"
   ]
  },
  {
   "cell_type": "code",
   "execution_count": 242,
   "metadata": {},
   "outputs": [
    {
     "data": {
      "text/plain": [
       "(23476, 44)"
      ]
     },
     "execution_count": 242,
     "metadata": {},
     "output_type": "execute_result"
    }
   ],
   "source": [
    "df_new['roadcond'] = df_new.apply(lambda x: find_env_val(dict_date_neighborhood_weather,area_string=x['neighborhood'],date_string=str(x['incdate']), old_val=x['roadcond'],debug=False), axis=1)\n",
    "df_no_weather = df_new[df_new[\"incdate\"].notnull() & df_new[\"census_area\"].notnull() & ((df_new[ \"roadcond\"]==\"Unknown\") | (df_new[ \"roadcond\"].isnull())) ]\n",
    "df_no_weather.shape"
   ]
  },
  {
   "cell_type": "code",
   "execution_count": 243,
   "metadata": {},
   "outputs": [],
   "source": [
    "dict_date_city_roadcond = make_date_area_env_dict(df_new, \"incdate\", \"city\", \"roadcond\")"
   ]
  },
  {
   "cell_type": "code",
   "execution_count": 244,
   "metadata": {},
   "outputs": [
    {
     "data": {
      "text/plain": [
       "(2207, 44)"
      ]
     },
     "execution_count": 244,
     "metadata": {},
     "output_type": "execute_result"
    }
   ],
   "source": [
    "df_new['roadcond'] = df_new.apply(lambda x: find_env_val(dict_date_city_weather,area_string=x['city'],date_string=str(x['incdate']), old_val=x['roadcond'],debug=False), axis=1)\n",
    "df_no_weather = df_new[df_new[\"incdate\"].notnull() & df_new[\"census_area\"].notnull() & ((df_new[ \"roadcond\"]==\"Unknown\") | (df_new[ \"roadcond\"].isnull())) ]\n",
    "df_no_weather.shape"
   ]
  },
  {
   "cell_type": "code",
   "execution_count": 245,
   "metadata": {},
   "outputs": [],
   "source": [
    "most_common_value=df_new['roadcond'].value_counts().index[0]\n",
    "df_new['roadcond'].fillna(most_common_value, inplace=True)\n",
    "df_new['roadcond'].replace(['Unknown'], most_common_value, inplace=True)"
   ]
  },
  {
   "cell_type": "code",
   "execution_count": 246,
   "metadata": {},
   "outputs": [],
   "source": [
    "#exporting to a csv, this will overwrite when more people fill in their nulls\n",
    "df_new.to_csv('collisions_clean.csv')"
   ]
  },
  {
   "cell_type": "code",
   "execution_count": 247,
   "metadata": {},
   "outputs": [
    {
     "data": {
      "text/plain": [
       "(220435, 44)"
      ]
     },
     "execution_count": 247,
     "metadata": {},
     "output_type": "execute_result"
    }
   ],
   "source": [
    "df_new.shape"
   ]
  },
  {
   "cell_type": "markdown",
   "metadata": {},
   "source": [
    "# Traffic Flow dataset"
   ]
  },
  {
   "cell_type": "code",
   "execution_count": 252,
   "metadata": {},
   "outputs": [],
   "source": [
    "# Change this if you have already downloaded from the following URL to a local folder\n",
    "# https://data-seattlecitygis.opendata.arcgis.com/datasets/2018-traffic-flow-counts\n",
    "\n",
    "path_to_2018_Traffic_flow = \"https://opendata.arcgis.com/datasets/a35aa9249110472ba2c69cc574eff984_11.csv\"\n",
    "#path_to_2018_Traffic_flow = '../z_misc_NO_CHECKIN/2018_Traffic_Flow_Counts.csv'  # Jamie's path"
   ]
  },
  {
   "cell_type": "code",
   "execution_count": 254,
   "metadata": {},
   "outputs": [],
   "source": [
    "df_flow = pd.read_csv(path_to_2018_Traffic_flow)\n",
    "df_collisions = pd.read_csv('data/collisions_clean.csv')"
   ]
  },
  {
   "cell_type": "code",
   "execution_count": 255,
   "metadata": {},
   "outputs": [
    {
     "name": "stdout",
     "output_type": "stream",
     "text": [
      "df_flow shape:       (1906, 14)\n",
      "df_collisions shape: (220436, 42)\n"
     ]
    }
   ],
   "source": [
    "print(f\"df_flow shape:       {df_flow.shape}\")            # Expect 1906, 14\n",
    "print(f\"df_collisions shape: {df_collisions.shape}\")      # Expect 220436, 41"
   ]
  },
  {
   "cell_type": "markdown",
   "metadata": {},
   "source": [
    "### Review the columns"
   ]
  },
  {
   "cell_type": "code",
   "execution_count": 256,
   "metadata": {},
   "outputs": [
    {
     "data": {
      "text/plain": [
       "Index(['objectid', 'compkey', 'stname_ord', 'flowsegid', 'downtown',\n",
       "       'start_date', 'ampk', 'pmpk', 'awdt', 'adt', 'awdt_rounded',\n",
       "       'dataquality', 'flags', 'shape_length'],\n",
       "      dtype='object')"
      ]
     },
     "execution_count": 256,
     "metadata": {},
     "output_type": "execute_result"
    }
   ],
   "source": [
    "df_flow.columns = df_flow.columns.str.lower()\n",
    "df_flow.columns"
   ]
  },
  {
   "cell_type": "code",
   "execution_count": 257,
   "metadata": {},
   "outputs": [
    {
     "data": {
      "text/plain": [
       "objectid           0\n",
       "compkey           14\n",
       "stname_ord         0\n",
       "flowsegid          0\n",
       "downtown           0\n",
       "start_date         0\n",
       "ampk            1001\n",
       "pmpk            1001\n",
       "awdt               2\n",
       "adt              482\n",
       "awdt_rounded       0\n",
       "dataquality        0\n",
       "flags           1882\n",
       "shape_length       0\n",
       "dtype: int64"
      ]
     },
     "execution_count": 257,
     "metadata": {},
     "output_type": "execute_result"
    }
   ],
   "source": [
    "df_flow.isnull().sum()"
   ]
  },
  {
   "cell_type": "code",
   "execution_count": 259,
   "metadata": {},
   "outputs": [
    {
     "data": {
      "text/plain": [
       "<matplotlib.axes._subplots.AxesSubplot at 0x152557990>"
      ]
     },
     "execution_count": 259,
     "metadata": {},
     "output_type": "execute_result"
    },
    {
     "data": {
      "image/png": "[encoded data removed]",
      "text/plain": [
       "<Figure size 1800x720 with 2 Axes>"
      ]
     },
     "metadata": {
      "needs_background": "light"
     },
     "output_type": "display_data"
    }
   ],
   "source": [
    "import missingno as msno\n",
    "msno.matrix(df_flow)"
   ]
  },
  {
   "cell_type": "markdown",
   "metadata": {},
   "source": [
    "## Issue #1: null compkey values"
   ]
  },
  {
   "cell_type": "code",
   "execution_count": 261,
   "metadata": {},
   "outputs": [
    {
     "data": {
      "text/plain": [
       "14"
      ]
     },
     "execution_count": 261,
     "metadata": {},
     "output_type": "execute_result"
    }
   ],
   "source": [
    "# How many are there?\n",
    "df_flow['compkey'].isnull().sum()"
   ]
  },
  {
   "cell_type": "code",
   "execution_count": 262,
   "metadata": {},
   "outputs": [
    {
     "data": {
      "text/html": [
       "<div>\n",
       "<style scoped>\n",
       "    .dataframe tbody tr th:only-of-type {\n",
       "        vertical-align: middle;\n",
       "    }\n",
       "\n",
       "    .dataframe tbody tr th {\n",
       "        vertical-align: top;\n",
       "    }\n",
       "\n",
       "    .dataframe thead th {\n",
       "        text-align: right;\n",
       "    }\n",
       "</style>\n",
       "<table border=\"1\" class=\"dataframe\">\n",
       "  <thead>\n",
       "    <tr style=\"text-align: right;\">\n",
       "      <th></th>\n",
       "      <th>objectid</th>\n",
       "      <th>compkey</th>\n",
       "      <th>stname_ord</th>\n",
       "      <th>flowsegid</th>\n",
       "      <th>downtown</th>\n",
       "      <th>start_date</th>\n",
       "      <th>ampk</th>\n",
       "      <th>pmpk</th>\n",
       "      <th>awdt</th>\n",
       "      <th>adt</th>\n",
       "      <th>awdt_rounded</th>\n",
       "      <th>dataquality</th>\n",
       "      <th>flags</th>\n",
       "      <th>shape_length</th>\n",
       "    </tr>\n",
       "  </thead>\n",
       "  <tbody>\n",
       "    <tr>\n",
       "      <th>1904</th>\n",
       "      <td>1922</td>\n",
       "      <td>NaN</td>\n",
       "      <td>15TH AVE W</td>\n",
       "      <td>1987</td>\n",
       "      <td>N</td>\n",
       "      <td>2018/06/26 00:00:00+00</td>\n",
       "      <td>2356.0</td>\n",
       "      <td>3017.0</td>\n",
       "      <td>36897.0</td>\n",
       "      <td>35258.0</td>\n",
       "      <td>36000</td>\n",
       "      <td>Study(Normalized)</td>\n",
       "      <td>NaN</td>\n",
       "      <td>1380.021208</td>\n",
       "    </tr>\n",
       "    <tr>\n",
       "      <th>1905</th>\n",
       "      <td>1923</td>\n",
       "      <td>NaN</td>\n",
       "      <td>W SEA BR EB 4 AV OFF RP</td>\n",
       "      <td>2028</td>\n",
       "      <td>N</td>\n",
       "      <td>1970/01/01 00:00:00+00</td>\n",
       "      <td>NaN</td>\n",
       "      <td>NaN</td>\n",
       "      <td>24000.0</td>\n",
       "      <td>NaN</td>\n",
       "      <td>24000</td>\n",
       "      <td>Estimate</td>\n",
       "      <td>NaN</td>\n",
       "      <td>1458.971527</td>\n",
       "    </tr>\n",
       "  </tbody>\n",
       "</table>\n",
       "</div>"
      ],
      "text/plain": [
       "      objectid compkey               stname_ord  flowsegid downtown  \\\n",
       "1904      1922     NaN               15TH AVE W       1987        N   \n",
       "1905      1923     NaN  W SEA BR EB 4 AV OFF RP       2028        N   \n",
       "\n",
       "                  start_date    ampk    pmpk     awdt      adt  awdt_rounded  \\\n",
       "1904  2018/06/26 00:00:00+00  2356.0  3017.0  36897.0  35258.0         36000   \n",
       "1905  1970/01/01 00:00:00+00     NaN     NaN  24000.0      NaN         24000   \n",
       "\n",
       "            dataquality flags  shape_length  \n",
       "1904  Study(Normalized)   NaN   1380.021208  \n",
       "1905           Estimate   NaN   1458.971527  "
      ]
     },
     "execution_count": 262,
     "metadata": {},
     "output_type": "execute_result"
    }
   ],
   "source": [
    "# What are they?\n",
    "df_flow[df_flow['compkey'].isnull()].tail(2)\n",
    "# Ramps - 9\n",
    "# PL, AVE, ST - 5"
   ]
  },
  {
   "cell_type": "markdown",
   "metadata": {},
   "source": [
    "#### Would we have used this data to match to collisions, e.g. based on stname_ord?"
   ]
  },
  {
   "cell_type": "code",
   "execution_count": 263,
   "metadata": {},
   "outputs": [],
   "source": [
    "list_collision_locs = list(df_collisions['location'].unique())\n",
    "list_nokey_flow_locs = list(df_flow.loc[df_flow['compkey'].isnull(),'stname_ord'])"
   ]
  },
  {
   "cell_type": "code",
   "execution_count": 264,
   "metadata": {},
   "outputs": [
    {
     "name": "stdout",
     "output_type": "stream",
     "text": [
      "Collision locations: 25158\n",
      "No-key flow locations: 14\n"
     ]
    }
   ],
   "source": [
    "print(f\"Collision locations: {len(list_collision_locs)}\")\n",
    "print(f\"No-key flow locations: {len(list_nokey_flow_locs)}\")"
   ]
  },
  {
   "cell_type": "code",
   "execution_count": 265,
   "metadata": {},
   "outputs": [
    {
     "data": {
      "text/plain": [
       "[]"
      ]
     },
     "execution_count": 265,
     "metadata": {},
     "output_type": "execute_result"
    }
   ],
   "source": [
    "[x for x in list_nokey_flow_locs if x in list_collision_locs]"
   ]
  },
  {
   "cell_type": "markdown",
   "metadata": {},
   "source": [
    "#### Decision: the 14 flow records without a compkey could not be used with the collision data, so they will be dropped."
   ]
  },
  {
   "cell_type": "code",
   "execution_count": 266,
   "metadata": {},
   "outputs": [],
   "source": [
    "# Separate the null compkeys\n",
    "df_flow_nulls = df_flow[df_flow['compkey'].isnull()]\n",
    "df_flow_valid = df_flow[df_flow['compkey'].notnull()]"
   ]
  },
  {
   "cell_type": "markdown",
   "metadata": {},
   "source": [
    "# Issue #2: compkey values include multiple keys"
   ]
  },
  {
   "cell_type": "code",
   "execution_count": 267,
   "metadata": {},
   "outputs": [],
   "source": [
    "keep_cols = ['objectid','stname_ord', 'flowsegid', 'downtown',\n",
    "       'start_date', 'ampk', 'pmpk', 'awdt', 'adt', 'awdt_rounded',\n",
    "       'dataquality', 'flags', 'shape_length'] # just removed compkey"
   ]
  },
  {
   "cell_type": "code",
   "execution_count": 268,
   "metadata": {},
   "outputs": [
    {
     "name": "stdout",
     "output_type": "stream",
     "text": [
      "(1892, 14)\n"
     ]
    },
    {
     "data": {
      "text/html": [
       "<div>\n",
       "<style scoped>\n",
       "    .dataframe tbody tr th:only-of-type {\n",
       "        vertical-align: middle;\n",
       "    }\n",
       "\n",
       "    .dataframe tbody tr th {\n",
       "        vertical-align: top;\n",
       "    }\n",
       "\n",
       "    .dataframe thead th {\n",
       "        text-align: right;\n",
       "    }\n",
       "</style>\n",
       "<table border=\"1\" class=\"dataframe\">\n",
       "  <thead>\n",
       "    <tr style=\"text-align: right;\">\n",
       "      <th></th>\n",
       "      <th>objectid</th>\n",
       "      <th>compkey</th>\n",
       "      <th>stname_ord</th>\n",
       "      <th>flowsegid</th>\n",
       "      <th>downtown</th>\n",
       "      <th>start_date</th>\n",
       "      <th>ampk</th>\n",
       "      <th>pmpk</th>\n",
       "      <th>awdt</th>\n",
       "      <th>adt</th>\n",
       "      <th>awdt_rounded</th>\n",
       "      <th>dataquality</th>\n",
       "      <th>flags</th>\n",
       "      <th>shape_length</th>\n",
       "    </tr>\n",
       "  </thead>\n",
       "  <tbody>\n",
       "    <tr>\n",
       "      <th>0</th>\n",
       "      <td>1</td>\n",
       "      <td>12221</td>\n",
       "      <td>PINE ST</td>\n",
       "      <td>894</td>\n",
       "      <td>Y</td>\n",
       "      <td>1970/01/01 00:00:00+00</td>\n",
       "      <td>NaN</td>\n",
       "      <td>NaN</td>\n",
       "      <td>8000.0</td>\n",
       "      <td>NaN</td>\n",
       "      <td>8000</td>\n",
       "      <td>Estimate</td>\n",
       "      <td>NaN</td>\n",
       "      <td>322.037238</td>\n",
       "    </tr>\n",
       "    <tr>\n",
       "      <th>1</th>\n",
       "      <td>2</td>\n",
       "      <td>2203</td>\n",
       "      <td>15TH AVE W ON RP</td>\n",
       "      <td>1345</td>\n",
       "      <td>N</td>\n",
       "      <td>2015/03/13 00:00:00+00</td>\n",
       "      <td>NaN</td>\n",
       "      <td>NaN</td>\n",
       "      <td>11129.0</td>\n",
       "      <td>10139.0</td>\n",
       "      <td>11100</td>\n",
       "      <td>Study - 13-15</td>\n",
       "      <td>NaN</td>\n",
       "      <td>173.612269</td>\n",
       "    </tr>\n",
       "    <tr>\n",
       "      <th>2</th>\n",
       "      <td>3</td>\n",
       "      <td>17275,17277,17276,17272,17273,17274,17271</td>\n",
       "      <td>NE 65TH ST</td>\n",
       "      <td>1622</td>\n",
       "      <td>N</td>\n",
       "      <td>2015/02/27 00:00:00+00</td>\n",
       "      <td>NaN</td>\n",
       "      <td>NaN</td>\n",
       "      <td>20487.0</td>\n",
       "      <td>19740.0</td>\n",
       "      <td>20500</td>\n",
       "      <td>Study - 13-15</td>\n",
       "      <td>NaN</td>\n",
       "      <td>1445.416389</td>\n",
       "    </tr>\n",
       "    <tr>\n",
       "      <th>3</th>\n",
       "      <td>4</td>\n",
       "      <td>23302,23303,23304</td>\n",
       "      <td>W EMERSON ST</td>\n",
       "      <td>1371</td>\n",
       "      <td>N</td>\n",
       "      <td>2018/03/22 00:00:00+00</td>\n",
       "      <td>82.0</td>\n",
       "      <td>99.0</td>\n",
       "      <td>1007.0</td>\n",
       "      <td>1090.0</td>\n",
       "      <td>1000</td>\n",
       "      <td>Study(Normalized)</td>\n",
       "      <td>NaN</td>\n",
       "      <td>999.190937</td>\n",
       "    </tr>\n",
       "    <tr>\n",
       "      <th>4</th>\n",
       "      <td>5</td>\n",
       "      <td>19659,19656,19658,19655,19657,19654</td>\n",
       "      <td>S CLOVERDALE ST</td>\n",
       "      <td>126</td>\n",
       "      <td>N</td>\n",
       "      <td>2014/03/25 00:00:00+00</td>\n",
       "      <td>NaN</td>\n",
       "      <td>NaN</td>\n",
       "      <td>4868.0</td>\n",
       "      <td>4615.0</td>\n",
       "      <td>4900</td>\n",
       "      <td>Study - 13-15</td>\n",
       "      <td>NaN</td>\n",
       "      <td>2077.434844</td>\n",
       "    </tr>\n",
       "  </tbody>\n",
       "</table>\n",
       "</div>"
      ],
      "text/plain": [
       "   objectid                                    compkey        stname_ord  \\\n",
       "0         1                                      12221           PINE ST   \n",
       "1         2                                       2203  15TH AVE W ON RP   \n",
       "2         3  17275,17277,17276,17272,17273,17274,17271        NE 65TH ST   \n",
       "3         4                          23302,23303,23304      W EMERSON ST   \n",
       "4         5        19659,19656,19658,19655,19657,19654   S CLOVERDALE ST   \n",
       "\n",
       "   flowsegid downtown              start_date  ampk  pmpk     awdt      adt  \\\n",
       "0        894        Y  1970/01/01 00:00:00+00   NaN   NaN   8000.0      NaN   \n",
       "1       1345        N  2015/03/13 00:00:00+00   NaN   NaN  11129.0  10139.0   \n",
       "2       1622        N  2015/02/27 00:00:00+00   NaN   NaN  20487.0  19740.0   \n",
       "3       1371        N  2018/03/22 00:00:00+00  82.0  99.0   1007.0   1090.0   \n",
       "4        126        N  2014/03/25 00:00:00+00   NaN   NaN   4868.0   4615.0   \n",
       "\n",
       "   awdt_rounded        dataquality flags  shape_length  \n",
       "0          8000           Estimate   NaN    322.037238  \n",
       "1         11100      Study - 13-15   NaN    173.612269  \n",
       "2         20500      Study - 13-15   NaN   1445.416389  \n",
       "3          1000  Study(Normalized)   NaN    999.190937  \n",
       "4          4900      Study - 13-15   NaN   2077.434844  "
      ]
     },
     "execution_count": 268,
     "metadata": {},
     "output_type": "execute_result"
    }
   ],
   "source": [
    "print(df_flow_valid.shape)\n",
    "df_flow.head()"
   ]
  },
  {
   "cell_type": "code",
   "execution_count": 269,
   "metadata": {},
   "outputs": [],
   "source": [
    "# https://stackoverflow.com/questions/50731229/split-cell-into-multiple-rows-in-pandas-dataframe\n",
    "# (df.set_index(['order_id', 'order_date'])\n",
    "#    .apply(lambda x: x.str.split(',').explode())\n",
    "#    .reset_index())"
   ]
  },
  {
   "cell_type": "code",
   "execution_count": 270,
   "metadata": {},
   "outputs": [],
   "source": [
    "df_flow_singular = (df_flow_valid.set_index(keep_cols)\n",
    "   .apply(lambda x: x.str.split(',').explode())\n",
    "   .reset_index())\n",
    "\n",
    "df_flow_singular['compkey'] = df_flow_singular['compkey'].astype(int)"
   ]
  },
  {
   "cell_type": "code",
   "execution_count": 271,
   "metadata": {},
   "outputs": [
    {
     "data": {
      "text/plain": [
       "(6226, 14)"
      ]
     },
     "execution_count": 271,
     "metadata": {},
     "output_type": "execute_result"
    }
   ],
   "source": [
    "df_flow_singular.shape"
   ]
  },
  {
   "cell_type": "code",
   "execution_count": 272,
   "metadata": {},
   "outputs": [
    {
     "data": {
      "text/html": [
       "<div>\n",
       "<style scoped>\n",
       "    .dataframe tbody tr th:only-of-type {\n",
       "        vertical-align: middle;\n",
       "    }\n",
       "\n",
       "    .dataframe tbody tr th {\n",
       "        vertical-align: top;\n",
       "    }\n",
       "\n",
       "    .dataframe thead th {\n",
       "        text-align: right;\n",
       "    }\n",
       "</style>\n",
       "<table border=\"1\" class=\"dataframe\">\n",
       "  <thead>\n",
       "    <tr style=\"text-align: right;\">\n",
       "      <th></th>\n",
       "      <th>objectid</th>\n",
       "      <th>stname_ord</th>\n",
       "      <th>flowsegid</th>\n",
       "      <th>downtown</th>\n",
       "      <th>start_date</th>\n",
       "      <th>ampk</th>\n",
       "      <th>pmpk</th>\n",
       "      <th>awdt</th>\n",
       "      <th>adt</th>\n",
       "      <th>awdt_rounded</th>\n",
       "      <th>dataquality</th>\n",
       "      <th>flags</th>\n",
       "      <th>shape_length</th>\n",
       "      <th>compkey</th>\n",
       "    </tr>\n",
       "  </thead>\n",
       "  <tbody>\n",
       "    <tr>\n",
       "      <th>0</th>\n",
       "      <td>1</td>\n",
       "      <td>PINE ST</td>\n",
       "      <td>894</td>\n",
       "      <td>Y</td>\n",
       "      <td>1970/01/01 00:00:00+00</td>\n",
       "      <td>NaN</td>\n",
       "      <td>NaN</td>\n",
       "      <td>8000.0</td>\n",
       "      <td>NaN</td>\n",
       "      <td>8000</td>\n",
       "      <td>Estimate</td>\n",
       "      <td>NaN</td>\n",
       "      <td>322.037238</td>\n",
       "      <td>12221</td>\n",
       "    </tr>\n",
       "    <tr>\n",
       "      <th>1</th>\n",
       "      <td>2</td>\n",
       "      <td>15TH AVE W ON RP</td>\n",
       "      <td>1345</td>\n",
       "      <td>N</td>\n",
       "      <td>2015/03/13 00:00:00+00</td>\n",
       "      <td>NaN</td>\n",
       "      <td>NaN</td>\n",
       "      <td>11129.0</td>\n",
       "      <td>10139.0</td>\n",
       "      <td>11100</td>\n",
       "      <td>Study - 13-15</td>\n",
       "      <td>NaN</td>\n",
       "      <td>173.612269</td>\n",
       "      <td>2203</td>\n",
       "    </tr>\n",
       "    <tr>\n",
       "      <th>2</th>\n",
       "      <td>3</td>\n",
       "      <td>NE 65TH ST</td>\n",
       "      <td>1622</td>\n",
       "      <td>N</td>\n",
       "      <td>2015/02/27 00:00:00+00</td>\n",
       "      <td>NaN</td>\n",
       "      <td>NaN</td>\n",
       "      <td>20487.0</td>\n",
       "      <td>19740.0</td>\n",
       "      <td>20500</td>\n",
       "      <td>Study - 13-15</td>\n",
       "      <td>NaN</td>\n",
       "      <td>1445.416389</td>\n",
       "      <td>17275</td>\n",
       "    </tr>\n",
       "    <tr>\n",
       "      <th>3</th>\n",
       "      <td>3</td>\n",
       "      <td>NE 65TH ST</td>\n",
       "      <td>1622</td>\n",
       "      <td>N</td>\n",
       "      <td>2015/02/27 00:00:00+00</td>\n",
       "      <td>NaN</td>\n",
       "      <td>NaN</td>\n",
       "      <td>20487.0</td>\n",
       "      <td>19740.0</td>\n",
       "      <td>20500</td>\n",
       "      <td>Study - 13-15</td>\n",
       "      <td>NaN</td>\n",
       "      <td>1445.416389</td>\n",
       "      <td>17277</td>\n",
       "    </tr>\n",
       "    <tr>\n",
       "      <th>4</th>\n",
       "      <td>3</td>\n",
       "      <td>NE 65TH ST</td>\n",
       "      <td>1622</td>\n",
       "      <td>N</td>\n",
       "      <td>2015/02/27 00:00:00+00</td>\n",
       "      <td>NaN</td>\n",
       "      <td>NaN</td>\n",
       "      <td>20487.0</td>\n",
       "      <td>19740.0</td>\n",
       "      <td>20500</td>\n",
       "      <td>Study - 13-15</td>\n",
       "      <td>NaN</td>\n",
       "      <td>1445.416389</td>\n",
       "      <td>17276</td>\n",
       "    </tr>\n",
       "  </tbody>\n",
       "</table>\n",
       "</div>"
      ],
      "text/plain": [
       "   objectid        stname_ord  flowsegid downtown              start_date  \\\n",
       "0         1           PINE ST        894        Y  1970/01/01 00:00:00+00   \n",
       "1         2  15TH AVE W ON RP       1345        N  2015/03/13 00:00:00+00   \n",
       "2         3        NE 65TH ST       1622        N  2015/02/27 00:00:00+00   \n",
       "3         3        NE 65TH ST       1622        N  2015/02/27 00:00:00+00   \n",
       "4         3        NE 65TH ST       1622        N  2015/02/27 00:00:00+00   \n",
       "\n",
       "   ampk  pmpk     awdt      adt  awdt_rounded    dataquality flags  \\\n",
       "0   NaN   NaN   8000.0      NaN          8000       Estimate   NaN   \n",
       "1   NaN   NaN  11129.0  10139.0         11100  Study - 13-15   NaN   \n",
       "2   NaN   NaN  20487.0  19740.0         20500  Study - 13-15   NaN   \n",
       "3   NaN   NaN  20487.0  19740.0         20500  Study - 13-15   NaN   \n",
       "4   NaN   NaN  20487.0  19740.0         20500  Study - 13-15   NaN   \n",
       "\n",
       "   shape_length  compkey  \n",
       "0    322.037238    12221  \n",
       "1    173.612269     2203  \n",
       "2   1445.416389    17275  \n",
       "3   1445.416389    17277  \n",
       "4   1445.416389    17276  "
      ]
     },
     "execution_count": 272,
     "metadata": {},
     "output_type": "execute_result"
    }
   ],
   "source": [
    "df_flow_singular.head()"
   ]
  },
  {
   "cell_type": "code",
   "execution_count": 273,
   "metadata": {},
   "outputs": [],
   "source": [
    "df_flow_singular.to_csv('../data/2018_Traffic_Flow_Counts_singlekeys.csv',index=False)"
   ]
  },
  {
   "cell_type": "markdown",
   "metadata": {},
   "source": [
    "## Merge with Seattle streets and Traffic flow\n"
   ]
  },
  {
   "cell_type": "code",
   "execution_count": 274,
   "metadata": {},
   "outputs": [],
   "source": [
    "# Change these paths if you have downloaded the files locally\n",
    "\n",
    "# URL versions\n",
    "# http://data-seattlecitygis.opendata.arcgis.com/datasets/383027d103f042499693da22d72d10e3_0\n",
    "path_to_Seattle_Streets = 'https://opendata.arcgis.com/datasets/383027d103f042499693da22d72d10e3_0.csv'\n",
    "\n",
    "# http://data-seattlecitygis.opendata.arcgis.com/datasets/0ea49a3a3ff54ae6af2aaae47dd680fe_5\n",
    "# https://www.seattle.gov/Documents/Departments/SDOT/GIS/Intersections_OD.pdf\n",
    "path_to_Seattle_intersections = 'https://opendata.arcgis.com/datasets/0ea49a3a3ff54ae6af2aaae47dd680fe_5.csv'\n",
    "\n",
    "# http://data-seattlecitygis.opendata.arcgis.com/datasets/0dd0ad79dc3845f3a296215d7c448a0d_2\n",
    "path_to_Street_Network_Database = 'https://opendata.arcgis.com/datasets/0dd0ad79dc3845f3a296215d7c448a0d_2.csv'\n",
    "\n",
    "# Example: Jamie's local versions\n",
    "#path_to_Seattle_Streets = '../z_misc_NO_CHECKIN/Seattle_Streets.csv'\n",
    "#path_to_Seattle_intersections = '../data/intersections.csv'\n",
    "#path_to_Street_Network_Database = '../z_misc_NO_CHECKIN/Street_Network_Database__SND_.csv'"
   ]
  },
  {
   "cell_type": "markdown",
   "metadata": {},
   "source": [
    "### Import and Notebook Setup"
   ]
  },
  {
   "cell_type": "code",
   "execution_count": 275,
   "metadata": {},
   "outputs": [],
   "source": [
    "pd.options.display.max_rows = 500\n",
    "pd.options.display.max_columns = 100"
   ]
  },
  {
   "cell_type": "code",
   "execution_count": 281,
   "metadata": {},
   "outputs": [],
   "source": [
    "# Read in primary files\n",
    "df_flow = pd.read_csv('data/2018_Traffic_Flow_Counts_singlekeys.csv')\n",
    "df_streets = pd.read_csv(path_to_Seattle_Streets)\n",
    "df_collisions = pd.read_csv('data/collisions_clean.csv')"
   ]
  },
  {
   "cell_type": "code",
   "execution_count": 283,
   "metadata": {},
   "outputs": [],
   "source": [
    "# Explore intersections and maybe SND for possible join\n",
    "df_snd = pd.read_csv(path_to_Street_Network_Database)\n",
    "df_intersections = pd.read_csv('data/intersections.csv')"
   ]
  },
  {
   "cell_type": "code",
   "execution_count": 284,
   "metadata": {},
   "outputs": [
    {
     "name": "stdout",
     "output_type": "stream",
     "text": [
      "df_flow shape:         (6226, 14)\n",
      "df_streets shape:      (23806, 38)\n",
      "df_collisions shape:   (220435, 45)\n",
      "df_snd shape:          (34179, 38)\n",
      "df_intersectins shape: (15441, 16)\n"
     ]
    }
   ],
   "source": [
    "print(f\"df_flow shape:         {df_flow.shape}\")           # Expect 6226, 14\n",
    "print(f\"df_streets shape:      {df_streets.shape}\")        # Expect 23806, 38\n",
    "print(f\"df_collisions shape:   {df_collisions.shape}\")     # Expect 220436, 41\n",
    "print(f\"df_snd shape:          {df_snd.shape}\")            # Expect 34179, 38\n",
    "print(f\"df_intersectins shape: {df_intersections.shape}\")  # Expect 15441, 16"
   ]
  },
  {
   "cell_type": "markdown",
   "metadata": {},
   "source": [
    "#### Review the columns"
   ]
  },
  {
   "cell_type": "code",
   "execution_count": 285,
   "metadata": {},
   "outputs": [],
   "source": [
    "# Convert all columns names to lower case\n",
    "\n",
    "df_flow.columns = df_flow.columns.str.lower()\n",
    "df_streets.columns = df_streets.columns.str.lower()\n",
    "df_intersections.columns = df_intersections.columns.str.lower()\n",
    "\n",
    "df_snd.columns = df_snd.columns.str.lower()"
   ]
  },
  {
   "cell_type": "code",
   "execution_count": 286,
   "metadata": {},
   "outputs": [
    {
     "data": {
      "text/plain": [
       "Index(['objectid', 'stname_ord', 'flowsegid', 'downtown', 'start_date', 'ampk',\n",
       "       'pmpk', 'awdt', 'adt', 'awdt_rounded', 'dataquality', 'flags',\n",
       "       'shape_length', 'compkey'],\n",
       "      dtype='object')"
      ]
     },
     "execution_count": 286,
     "metadata": {},
     "output_type": "execute_result"
    }
   ],
   "source": [
    "df_flow.columns"
   ]
  },
  {
   "cell_type": "code",
   "execution_count": 287,
   "metadata": {},
   "outputs": [
    {
     "data": {
      "text/plain": [
       "Index(['objectid', 'artclass', 'compkey', 'unitid', 'unitid2', 'unitidsort',\n",
       "       'unitdesc', 'stname_ord', 'xstrlo', 'xstrhi', 'artdescript', 'owner',\n",
       "       'status', 'blocknbr', 'speedlimit', 'segdir', 'oneway', 'onewaydir',\n",
       "       'flow', 'seglength', 'surfacewidth', 'surfacetype_1', 'surfacetype_2',\n",
       "       'intrlo', 'dirlo', 'intkeylo', 'intrhi', 'dirhi', 'nationhwysys',\n",
       "       'streettype', 'pvmtcondindx1', 'pvmtcondindx2', 'tranclass',\n",
       "       'trandescript', 'slope_pct', 'pvmtcategory', 'parkboulevard',\n",
       "       'shape_length'],\n",
       "      dtype='object')"
      ]
     },
     "execution_count": 287,
     "metadata": {},
     "output_type": "execute_result"
    }
   ],
   "source": [
    "df_streets.columns"
   ]
  },
  {
   "cell_type": "code",
   "execution_count": 288,
   "metadata": {},
   "outputs": [
    {
     "data": {
      "text/plain": [
       "Index(['x', 'y', 'objectid', 'intr_id', 'gis_xcoord', 'gis_ycoord', 'compkey',\n",
       "       'comptype', 'unitid', 'subarea', 'unitdesc', 'arterialclasscd',\n",
       "       'signal_maint_dist', 'signal_type', 'shape_lng', 'shape_lat'],\n",
       "      dtype='object')"
      ]
     },
     "execution_count": 288,
     "metadata": {},
     "output_type": "execute_result"
    }
   ],
   "source": [
    "df_intersections.columns"
   ]
  },
  {
   "cell_type": "code",
   "execution_count": 289,
   "metadata": {},
   "outputs": [
    {
     "data": {
      "text/plain": [
       "Index(['objectid', 'f_intr_id', 't_intr_id', 'snd_id', 'snd_feacode',\n",
       "       'citycode', 'stname_id', 'st_code', 'arterial_code', 'segment_type',\n",
       "       'agency_code', 'access_code', 'divided_code', 'structure_type',\n",
       "       'legalloc_code', 'vehicle_use_code', 'gis_seg_length', 'l_adrs_from',\n",
       "       'l_adrs_to', 'r_adrs_from', 'r_adrs_to', 'ord_pre_dir',\n",
       "       'ord_street_name', 'ord_street_type', 'ord_suf_dir',\n",
       "       'ord_stname_concat', 'l_city', 'l_state', 'l_zip', 'r_city', 'r_state',\n",
       "       'r_zip', 'sndseg_update', 'compkey', 'comptype', 'unitid', 'unitid2',\n",
       "       'shape_length'],\n",
       "      dtype='object')"
      ]
     },
     "execution_count": 289,
     "metadata": {},
     "output_type": "execute_result"
    }
   ],
   "source": [
    "df_snd.columns"
   ]
  },
  {
   "cell_type": "code",
   "execution_count": 290,
   "metadata": {},
   "outputs": [
    {
     "data": {
      "text/plain": [
       "Index(['Unnamed: 0', 'x', 'y', 'objectid', 'addrtype', 'intkey', 'location',\n",
       "       'severitycode', 'severitydesc', 'collisiontype', 'personcount',\n",
       "       'pedcount', 'pedcylcount', 'vehcount', 'injuries', 'seriousinjuries',\n",
       "       'fatalities', 'incdate', 'incdttm', 'junctiontype', 'sdot_colcode',\n",
       "       'sdot_coldesc', 'inattentionind', 'underinfl', 'weather', 'roadcond',\n",
       "       'lightcond', 'pedrownotgrnt', 'sdotcolnum', 'speeding', 'st_colcode',\n",
       "       'st_coldesc', 'hitparkedcar', 'fe_exists', 'time', 'total_injuries',\n",
       "       'total_person_count', 'fe_emd', 'hourandmin', 'hour', 'min', 'fe_tmd',\n",
       "       'census_area', 'neighborhood', 'city'],\n",
       "      dtype='object')"
      ]
     },
     "execution_count": 290,
     "metadata": {},
     "output_type": "execute_result"
    }
   ],
   "source": [
    "df_collisions.columns"
   ]
  },
  {
   "cell_type": "markdown",
   "metadata": {},
   "source": [
    "### Explore nulls"
   ]
  },
  {
   "cell_type": "code",
   "execution_count": 291,
   "metadata": {},
   "outputs": [
    {
     "name": "stdout",
     "output_type": "stream",
     "text": [
      "<class 'pandas.core.frame.DataFrame'>\n",
      "RangeIndex: 23806 entries, 0 to 23805\n",
      "Data columns (total 38 columns):\n",
      " #   Column         Non-Null Count  Dtype  \n",
      "---  ------         --------------  -----  \n",
      " 0   objectid       23806 non-null  int64  \n",
      " 1   artclass       23800 non-null  float64\n",
      " 2   compkey        23806 non-null  int64  \n",
      " 3   unitid         23800 non-null  float64\n",
      " 4   unitid2        23800 non-null  float64\n",
      " 5   unitidsort     23800 non-null  float64\n",
      " 6   unitdesc       23800 non-null  object \n",
      " 7   stname_ord     23806 non-null  object \n",
      " 8   xstrlo         23800 non-null  object \n",
      " 9   xstrhi         23800 non-null  object \n",
      " 10  artdescript    23800 non-null  object \n",
      " 11  owner          23800 non-null  object \n",
      " 12  status         23800 non-null  object \n",
      " 13  blocknbr       23800 non-null  float64\n",
      " 14  speedlimit     23799 non-null  float64\n",
      " 15  segdir         23800 non-null  object \n",
      " 16  oneway         23795 non-null  object \n",
      " 17  onewaydir      23800 non-null  object \n",
      " 18  flow           23800 non-null  object \n",
      " 19  seglength      23800 non-null  float64\n",
      " 20  surfacewidth   23797 non-null  float64\n",
      " 21  surfacetype_1  22608 non-null  object \n",
      " 22  surfacetype_2  683 non-null    object \n",
      " 23  intrlo         23797 non-null  object \n",
      " 24  dirlo          23800 non-null  object \n",
      " 25  intkeylo       23797 non-null  float64\n",
      " 26  intrhi         23795 non-null  object \n",
      " 27  dirhi          23799 non-null  object \n",
      " 28  nationhwysys   23800 non-null  object \n",
      " 29  streettype     23013 non-null  object \n",
      " 30  pvmtcondindx1  23800 non-null  float64\n",
      " 31  pvmtcondindx2  23800 non-null  float64\n",
      " 32  tranclass      23806 non-null  int64  \n",
      " 33  trandescript   23619 non-null  object \n",
      " 34  slope_pct      23788 non-null  float64\n",
      " 35  pvmtcategory   23800 non-null  object \n",
      " 36  parkboulevard  23800 non-null  object \n",
      " 37  shape_length   23806 non-null  float64\n",
      "dtypes: float64(13), int64(3), object(22)\n",
      "memory usage: 6.9+ MB\n"
     ]
    }
   ],
   "source": [
    "df_streets.info()"
   ]
  },
  {
   "cell_type": "markdown",
   "metadata": {},
   "source": [
    "#### Explore how to join STREETS and FLOW data\n",
    "    Determine if df_snd should be used\n",
    "    Determine if df_intersections should also be joined\n",
    "    Determine how to join STREETS and FLOW Check that the 'compkey' field makes sense for the join."
   ]
  },
  {
   "cell_type": "code",
   "execution_count": 292,
   "metadata": {},
   "outputs": [
    {
     "name": "stdout",
     "output_type": "stream",
     "text": [
      "Shape of df_snd: (34179, 38)\n",
      "Shape of df_streets: (23806, 38)\n",
      "Shape of df_intersections: (15441, 16)\n",
      "Shape of df_flow: (6226, 14)\n",
      "Shape of df_collisions: (220435, 45)\n"
     ]
    }
   ],
   "source": [
    "# Overview of relative sizes\n",
    "print(f\"Shape of df_snd: {df_snd.shape}\")\n",
    "print(f\"Shape of df_streets: {df_streets.shape}\")\n",
    "print(f\"Shape of df_intersections: {df_intersections.shape}\")\n",
    "print(f\"Shape of df_flow: {df_flow.shape}\")\n",
    "print(f\"Shape of df_collisions: {df_collisions.shape}\")"
   ]
  },
  {
   "cell_type": "code",
   "execution_count": 293,
   "metadata": {},
   "outputs": [
    {
     "name": "stdout",
     "output_type": "stream",
     "text": [
      "df_streets \t count 23806\trange is 1000, 765446\n",
      "df_flow \t count 6226\trange is 1000, 729817\n",
      "df_intersections \t count 15441\trange is 23806, 765443\n",
      "df_snd \t count 23807\trange is 0, 765446\n"
     ]
    }
   ],
   "source": [
    "# Prepare to explore compkey overlaps\n",
    "compkey_df_streets = list(df_streets['compkey'].unique())\n",
    "compkey_df_flow    = list(df_flow['compkey'].unique())\n",
    "compkey_df_intersections     = list(df_intersections['compkey'].unique())\n",
    "compkey_df_snd     = list(df_snd['compkey'].unique())\n",
    "\n",
    "dict_compkeys = {\n",
    "    'df_streets':compkey_df_streets,\n",
    "    'df_flow':compkey_df_flow,\n",
    "    'df_intersections':compkey_df_intersections,\n",
    "    'df_snd'    :compkey_df_snd\n",
    "}\n",
    "\n",
    "\n",
    "for k,v in dict_compkeys.items():\n",
    "    print(f\"{k} \\t count {len(v)}\\trange is {min(v)}, {max(v)}\")"
   ]
  },
  {
   "cell_type": "code",
   "execution_count": 294,
   "metadata": {},
   "outputs": [
    {
     "data": {
      "text/plain": [
       "0"
      ]
     },
     "execution_count": 294,
     "metadata": {},
     "output_type": "execute_result"
    }
   ],
   "source": [
    "# Any overlap between streets and intersections? (No)\n",
    "streets_and_intersections = [x for x in compkey_df_streets if x in compkey_df_intersections]\n",
    "len(streets_and_intersections)"
   ]
  },
  {
   "cell_type": "code",
   "execution_count": 295,
   "metadata": {},
   "outputs": [
    {
     "data": {
      "text/plain": [
       "23806"
      ]
     },
     "execution_count": 295,
     "metadata": {},
     "output_type": "execute_result"
    }
   ],
   "source": [
    "# Overlap between streets and snd?\n",
    "len([x for x in compkey_df_streets if x in compkey_df_snd])\n",
    "# this is exactly the count of unique streets, so it looks like all of the streets are in the df_snd data"
   ]
  },
  {
   "cell_type": "code",
   "execution_count": 296,
   "metadata": {},
   "outputs": [
    {
     "data": {
      "text/plain": [
       "0"
      ]
     },
     "execution_count": 296,
     "metadata": {},
     "output_type": "execute_result"
    }
   ],
   "source": [
    "# Overlap between intersections and snd?\n",
    "len([x for x in compkey_df_intersections if x in compkey_df_snd])\n",
    "# it looks like NONE of the intersections are included in the df_snd data"
   ]
  },
  {
   "cell_type": "code",
   "execution_count": 297,
   "metadata": {},
   "outputs": [
    {
     "data": {
      "text/plain": [
       "(9698, 38)"
      ]
     },
     "execution_count": 297,
     "metadata": {},
     "output_type": "execute_result"
    }
   ],
   "source": [
    "# One compkey is in df_snd and not in df_streets\n",
    "one_key = [x for x in compkey_df_snd if x not in compkey_df_streets][0]   # it's actually a 0 ...basically a NULL\n",
    "df_snd[df_snd['compkey']==one_key].shape                                  # there are 9698 of them!"
   ]
  },
  {
   "cell_type": "code",
   "execution_count": 298,
   "metadata": {},
   "outputs": [
    {
     "name": "stdout",
     "output_type": "stream",
     "text": [
      "2026\n",
      "FIRST HILL STREETCAR    86\n",
      "NP RR                   75\n",
      "8TH AVE SW              58\n",
      "4TH AVE SW              55\n",
      "Name: ord_stname_concat, dtype: int64\n",
      "6TH AVE N                 1\n",
      "ELLIOTT AVE W             1\n",
      "SW 123RD PL               1\n",
      "S 112TH SR509 NB ON RP    1\n",
      "Name: ord_stname_concat, dtype: int64\n"
     ]
    }
   ],
   "source": [
    "# Which locations are in the SND dataset where there are no compkeys?\n",
    "print(df_snd.loc[df_snd['compkey']==one_key,'ord_stname_concat'].nunique())\n",
    "print(df_snd.loc[df_snd['compkey']==one_key,'ord_stname_concat'].value_counts().head(4))\n",
    "print(df_snd.loc[df_snd['compkey']==one_key,'ord_stname_concat'].value_counts().tail(4))\n",
    "\n",
    "# This exploration is inconclusive; it's difficult to tell if using the SND dataset instead of streets would\n",
    "# provide value."
   ]
  },
  {
   "cell_type": "code",
   "execution_count": 299,
   "metadata": {},
   "outputs": [],
   "source": [
    "# Would including INTERSECTIONS provide data for the collisions?\n",
    "list_intersection_loc = list(df_intersections['unitdesc'].unique().astype(str))\n",
    "list_collision_loc    = list(df_collisions['location'].unique().astype(str))"
   ]
  },
  {
   "cell_type": "code",
   "execution_count": 300,
   "metadata": {},
   "outputs": [
    {
     "name": "stdout",
     "output_type": "stream",
     "text": [
      "7837\n"
     ]
    },
    {
     "data": {
      "text/plain": [
       "['WILSON AVE S AND S UPLAND RD',\n",
       " '3RD AVE NW AND NW 77TH ST',\n",
       " 'RAVENNA AVE NE AND NE 92ND ST',\n",
       " '42ND AVE S AND S OTHELLO ST']"
      ]
     },
     "execution_count": 300,
     "metadata": {},
     "output_type": "execute_result"
    }
   ],
   "source": [
    "intersect_collisions = [x for x in list_intersection_loc if x in list_collision_loc]   \n",
    "print(len(intersect_collisions)) # answer is yes, for 7837 intersections\n",
    "intersect_collisions[:4]"
   ]
  },
  {
   "cell_type": "code",
   "execution_count": 301,
   "metadata": {},
   "outputs": [
    {
     "data": {
      "text/html": [
       "<div>\n",
       "<style scoped>\n",
       "    .dataframe tbody tr th:only-of-type {\n",
       "        vertical-align: middle;\n",
       "    }\n",
       "\n",
       "    .dataframe tbody tr th {\n",
       "        vertical-align: top;\n",
       "    }\n",
       "\n",
       "    .dataframe thead th {\n",
       "        text-align: right;\n",
       "    }\n",
       "</style>\n",
       "<table border=\"1\" class=\"dataframe\">\n",
       "  <thead>\n",
       "    <tr style=\"text-align: right;\">\n",
       "      <th></th>\n",
       "      <th>x</th>\n",
       "      <th>y</th>\n",
       "      <th>objectid</th>\n",
       "      <th>intr_id</th>\n",
       "      <th>gis_xcoord</th>\n",
       "      <th>gis_ycoord</th>\n",
       "      <th>compkey</th>\n",
       "      <th>comptype</th>\n",
       "      <th>unitid</th>\n",
       "      <th>subarea</th>\n",
       "      <th>unitdesc</th>\n",
       "      <th>arterialclasscd</th>\n",
       "      <th>signal_maint_dist</th>\n",
       "      <th>signal_type</th>\n",
       "      <th>shape_lng</th>\n",
       "      <th>shape_lat</th>\n",
       "    </tr>\n",
       "  </thead>\n",
       "  <tbody>\n",
       "    <tr>\n",
       "      <th>0</th>\n",
       "      <td>1.270709e+06</td>\n",
       "      <td>194387.955195</td>\n",
       "      <td>1</td>\n",
       "      <td>18213</td>\n",
       "      <td>1.270709e+06</td>\n",
       "      <td>194387.95532</td>\n",
       "      <td>340313</td>\n",
       "      <td>13</td>\n",
       "      <td>78852</td>\n",
       "      <td>GRDWM</td>\n",
       "      <td>4TH AVE S AND S HENDERSON N ST</td>\n",
       "      <td>0.0</td>\n",
       "      <td></td>\n",
       "      <td>NONE</td>\n",
       "      <td>-122.329732</td>\n",
       "      <td>47.523051</td>\n",
       "    </tr>\n",
       "    <tr>\n",
       "      <th>1</th>\n",
       "      <td>1.282582e+06</td>\n",
       "      <td>234414.695012</td>\n",
       "      <td>2</td>\n",
       "      <td>10302</td>\n",
       "      <td>1.282582e+06</td>\n",
       "      <td>234414.69508</td>\n",
       "      <td>157936</td>\n",
       "      <td>13</td>\n",
       "      <td>32854</td>\n",
       "      <td>E</td>\n",
       "      <td>WOODROW PL E AND E GARFIELD ST</td>\n",
       "      <td>0.0</td>\n",
       "      <td></td>\n",
       "      <td>NONE</td>\n",
       "      <td>-122.284745</td>\n",
       "      <td>47.633387</td>\n",
       "    </tr>\n",
       "    <tr>\n",
       "      <th>2</th>\n",
       "      <td>1.261648e+06</td>\n",
       "      <td>256226.497210</td>\n",
       "      <td>3</td>\n",
       "      <td>4716</td>\n",
       "      <td>1.261648e+06</td>\n",
       "      <td>256226.49721</td>\n",
       "      <td>37264</td>\n",
       "      <td>13</td>\n",
       "      <td>231740</td>\n",
       "      <td>BLRD</td>\n",
       "      <td>12TH AVE NW AND NW 87TH ST</td>\n",
       "      <td>0.0</td>\n",
       "      <td></td>\n",
       "      <td>NONE</td>\n",
       "      <td>-122.371401</td>\n",
       "      <td>47.692058</td>\n",
       "    </tr>\n",
       "  </tbody>\n",
       "</table>\n",
       "</div>"
      ],
      "text/plain": [
       "              x              y  objectid  intr_id    gis_xcoord    gis_ycoord  \\\n",
       "0  1.270709e+06  194387.955195         1    18213  1.270709e+06  194387.95532   \n",
       "1  1.282582e+06  234414.695012         2    10302  1.282582e+06  234414.69508   \n",
       "2  1.261648e+06  256226.497210         3     4716  1.261648e+06  256226.49721   \n",
       "\n",
       "   compkey  comptype  unitid subarea                        unitdesc  \\\n",
       "0   340313        13   78852   GRDWM  4TH AVE S AND S HENDERSON N ST   \n",
       "1   157936        13   32854       E  WOODROW PL E AND E GARFIELD ST   \n",
       "2    37264        13  231740    BLRD      12TH AVE NW AND NW 87TH ST   \n",
       "\n",
       "   arterialclasscd signal_maint_dist signal_type   shape_lng  shape_lat  \n",
       "0              0.0                          NONE -122.329732  47.523051  \n",
       "1              0.0                          NONE -122.284745  47.633387  \n",
       "2              0.0                          NONE -122.371401  47.692058  "
      ]
     },
     "execution_count": 301,
     "metadata": {},
     "output_type": "execute_result"
    }
   ],
   "source": [
    "# INTERSECTIONS has used the X,Y data already. What else could be valuable?\n",
    "df_intersections.head(3)\n",
    "# It doesn't look like there are not other valuable pieces of information in this dataset"
   ]
  },
  {
   "cell_type": "markdown",
   "metadata": {},
   "source": [
    "Decision: Ignore the df_intersections data (no join).\n",
    "\n",
    "Plan for Join of STREETS and FLOW only\n",
    "Try using streets key to access data from flow; check that STNAME_ORD matches\n",
    "Try using STNAME_ORD if first plan fails\n",
    "Quick view of key info"
   ]
  },
  {
   "cell_type": "code",
   "execution_count": 302,
   "metadata": {},
   "outputs": [
    {
     "data": {
      "text/html": [
       "<div>\n",
       "<style scoped>\n",
       "    .dataframe tbody tr th:only-of-type {\n",
       "        vertical-align: middle;\n",
       "    }\n",
       "\n",
       "    .dataframe tbody tr th {\n",
       "        vertical-align: top;\n",
       "    }\n",
       "\n",
       "    .dataframe thead th {\n",
       "        text-align: right;\n",
       "    }\n",
       "</style>\n",
       "<table border=\"1\" class=\"dataframe\">\n",
       "  <thead>\n",
       "    <tr style=\"text-align: right;\">\n",
       "      <th></th>\n",
       "      <th>objectid</th>\n",
       "      <th>stname_ord</th>\n",
       "      <th>flowsegid</th>\n",
       "      <th>downtown</th>\n",
       "      <th>start_date</th>\n",
       "      <th>ampk</th>\n",
       "      <th>pmpk</th>\n",
       "      <th>awdt</th>\n",
       "      <th>adt</th>\n",
       "      <th>awdt_rounded</th>\n",
       "      <th>dataquality</th>\n",
       "      <th>flags</th>\n",
       "      <th>shape_length</th>\n",
       "      <th>compkey</th>\n",
       "    </tr>\n",
       "  </thead>\n",
       "  <tbody>\n",
       "    <tr>\n",
       "      <th>0</th>\n",
       "      <td>1</td>\n",
       "      <td>PINE ST</td>\n",
       "      <td>894</td>\n",
       "      <td>Y</td>\n",
       "      <td>1970/01/01 00:00:00+00</td>\n",
       "      <td>NaN</td>\n",
       "      <td>NaN</td>\n",
       "      <td>8000.0</td>\n",
       "      <td>NaN</td>\n",
       "      <td>8000</td>\n",
       "      <td>Estimate</td>\n",
       "      <td>NaN</td>\n",
       "      <td>322.037238</td>\n",
       "      <td>12221</td>\n",
       "    </tr>\n",
       "    <tr>\n",
       "      <th>1</th>\n",
       "      <td>2</td>\n",
       "      <td>15TH AVE W ON RP</td>\n",
       "      <td>1345</td>\n",
       "      <td>N</td>\n",
       "      <td>2015/03/13 00:00:00+00</td>\n",
       "      <td>NaN</td>\n",
       "      <td>NaN</td>\n",
       "      <td>11129.0</td>\n",
       "      <td>10139.0</td>\n",
       "      <td>11100</td>\n",
       "      <td>Study - 13-15</td>\n",
       "      <td>NaN</td>\n",
       "      <td>173.612269</td>\n",
       "      <td>2203</td>\n",
       "    </tr>\n",
       "    <tr>\n",
       "      <th>2</th>\n",
       "      <td>3</td>\n",
       "      <td>NE 65TH ST</td>\n",
       "      <td>1622</td>\n",
       "      <td>N</td>\n",
       "      <td>2015/02/27 00:00:00+00</td>\n",
       "      <td>NaN</td>\n",
       "      <td>NaN</td>\n",
       "      <td>20487.0</td>\n",
       "      <td>19740.0</td>\n",
       "      <td>20500</td>\n",
       "      <td>Study - 13-15</td>\n",
       "      <td>NaN</td>\n",
       "      <td>1445.416389</td>\n",
       "      <td>17275</td>\n",
       "    </tr>\n",
       "  </tbody>\n",
       "</table>\n",
       "</div>"
      ],
      "text/plain": [
       "   objectid        stname_ord  flowsegid downtown              start_date  \\\n",
       "0         1           PINE ST        894        Y  1970/01/01 00:00:00+00   \n",
       "1         2  15TH AVE W ON RP       1345        N  2015/03/13 00:00:00+00   \n",
       "2         3        NE 65TH ST       1622        N  2015/02/27 00:00:00+00   \n",
       "\n",
       "   ampk  pmpk     awdt      adt  awdt_rounded    dataquality flags  \\\n",
       "0   NaN   NaN   8000.0      NaN          8000       Estimate   NaN   \n",
       "1   NaN   NaN  11129.0  10139.0         11100  Study - 13-15   NaN   \n",
       "2   NaN   NaN  20487.0  19740.0         20500  Study - 13-15   NaN   \n",
       "\n",
       "   shape_length  compkey  \n",
       "0    322.037238    12221  \n",
       "1    173.612269     2203  \n",
       "2   1445.416389    17275  "
      ]
     },
     "execution_count": 302,
     "metadata": {},
     "output_type": "execute_result"
    }
   ],
   "source": [
    "df_flow.head(3)"
   ]
  },
  {
   "cell_type": "code",
   "execution_count": 303,
   "metadata": {},
   "outputs": [
    {
     "data": {
      "text/html": [
       "<div>\n",
       "<style scoped>\n",
       "    .dataframe tbody tr th:only-of-type {\n",
       "        vertical-align: middle;\n",
       "    }\n",
       "\n",
       "    .dataframe tbody tr th {\n",
       "        vertical-align: top;\n",
       "    }\n",
       "\n",
       "    .dataframe thead th {\n",
       "        text-align: right;\n",
       "    }\n",
       "</style>\n",
       "<table border=\"1\" class=\"dataframe\">\n",
       "  <thead>\n",
       "    <tr style=\"text-align: right;\">\n",
       "      <th></th>\n",
       "      <th>compkey</th>\n",
       "      <th>unitdesc</th>\n",
       "      <th>stname_ord</th>\n",
       "      <th>slope_pct</th>\n",
       "      <th>trandescript</th>\n",
       "    </tr>\n",
       "  </thead>\n",
       "  <tbody>\n",
       "    <tr>\n",
       "      <th>0</th>\n",
       "      <td>1006</td>\n",
       "      <td>1ST AVE BETWEEN SENECA ST AND UNIVERSITY ST</td>\n",
       "      <td>1ST AVE</td>\n",
       "      <td>4.0</td>\n",
       "      <td>PRINCIPAL TRANSIT ROUTE</td>\n",
       "    </tr>\n",
       "    <tr>\n",
       "      <th>1</th>\n",
       "      <td>1009</td>\n",
       "      <td>1ST AVE BETWEEN PIKE ST AND PINE ST</td>\n",
       "      <td>1ST AVE</td>\n",
       "      <td>5.0</td>\n",
       "      <td>PRINCIPAL TRANSIT ROUTE</td>\n",
       "    </tr>\n",
       "    <tr>\n",
       "      <th>2</th>\n",
       "      <td>1032</td>\n",
       "      <td>1ST AVE N BETWEEN VALLEY UPPER ST AND ALOHA ST</td>\n",
       "      <td>1ST AVE N</td>\n",
       "      <td>17.0</td>\n",
       "      <td>NOT DESIGNATED</td>\n",
       "    </tr>\n",
       "    <tr>\n",
       "      <th>3</th>\n",
       "      <td>1051</td>\n",
       "      <td>1ST AVE N BETWEEN LYNN ST AND MCGRAW S ST</td>\n",
       "      <td>1ST AVE N</td>\n",
       "      <td>3.0</td>\n",
       "      <td>NOT DESIGNATED</td>\n",
       "    </tr>\n",
       "    <tr>\n",
       "      <th>4</th>\n",
       "      <td>1060</td>\n",
       "      <td>1ST AVE N BETWEEN FULTON S ST AND FULTON N ST</td>\n",
       "      <td>1ST AVE N</td>\n",
       "      <td>5.0</td>\n",
       "      <td>NOT DESIGNATED</td>\n",
       "    </tr>\n",
       "  </tbody>\n",
       "</table>\n",
       "</div>"
      ],
      "text/plain": [
       "   compkey                                        unitdesc stname_ord  \\\n",
       "0     1006     1ST AVE BETWEEN SENECA ST AND UNIVERSITY ST    1ST AVE   \n",
       "1     1009             1ST AVE BETWEEN PIKE ST AND PINE ST    1ST AVE   \n",
       "2     1032  1ST AVE N BETWEEN VALLEY UPPER ST AND ALOHA ST  1ST AVE N   \n",
       "3     1051       1ST AVE N BETWEEN LYNN ST AND MCGRAW S ST  1ST AVE N   \n",
       "4     1060   1ST AVE N BETWEEN FULTON S ST AND FULTON N ST  1ST AVE N   \n",
       "\n",
       "   slope_pct             trandescript  \n",
       "0        4.0  PRINCIPAL TRANSIT ROUTE  \n",
       "1        5.0  PRINCIPAL TRANSIT ROUTE  \n",
       "2       17.0           NOT DESIGNATED  \n",
       "3        3.0           NOT DESIGNATED  \n",
       "4        5.0           NOT DESIGNATED  "
      ]
     },
     "execution_count": 303,
     "metadata": {},
     "output_type": "execute_result"
    }
   ],
   "source": [
    "df_streets[['compkey','unitdesc','stname_ord','slope_pct','trandescript']].head()"
   ]
  },
  {
   "cell_type": "code",
   "execution_count": 304,
   "metadata": {},
   "outputs": [
    {
     "data": {
      "text/plain": [
       "0         1006\n",
       "1         1009\n",
       "2         1032\n",
       "3         1051\n",
       "4         1060\n",
       "         ...  \n",
       "23801    20361\n",
       "23802    18211\n",
       "23803    10946\n",
       "23804    17470\n",
       "23805    18073\n",
       "Name: compkey, Length: 23806, dtype: int64"
      ]
     },
     "execution_count": 304,
     "metadata": {},
     "output_type": "execute_result"
    }
   ],
   "source": [
    "df_streets['compkey']"
   ]
  },
  {
   "cell_type": "code",
   "execution_count": 305,
   "metadata": {},
   "outputs": [
    {
     "data": {
      "text/html": [
       "<div>\n",
       "<style scoped>\n",
       "    .dataframe tbody tr th:only-of-type {\n",
       "        vertical-align: middle;\n",
       "    }\n",
       "\n",
       "    .dataframe tbody tr th {\n",
       "        vertical-align: top;\n",
       "    }\n",
       "\n",
       "    .dataframe thead th {\n",
       "        text-align: right;\n",
       "    }\n",
       "</style>\n",
       "<table border=\"1\" class=\"dataframe\">\n",
       "  <thead>\n",
       "    <tr style=\"text-align: right;\">\n",
       "      <th></th>\n",
       "      <th>objectid</th>\n",
       "      <th>stname_ord</th>\n",
       "      <th>flowsegid</th>\n",
       "      <th>downtown</th>\n",
       "      <th>start_date</th>\n",
       "      <th>ampk</th>\n",
       "      <th>pmpk</th>\n",
       "      <th>awdt</th>\n",
       "      <th>adt</th>\n",
       "      <th>awdt_rounded</th>\n",
       "      <th>dataquality</th>\n",
       "      <th>flags</th>\n",
       "      <th>shape_length</th>\n",
       "      <th>compkey</th>\n",
       "    </tr>\n",
       "  </thead>\n",
       "  <tbody>\n",
       "    <tr>\n",
       "      <th>5203</th>\n",
       "      <td>1583</td>\n",
       "      <td>1ST AVE</td>\n",
       "      <td>796</td>\n",
       "      <td>Y</td>\n",
       "      <td>2017/08/30 09:15:00+00</td>\n",
       "      <td>1238.0</td>\n",
       "      <td>1431.0</td>\n",
       "      <td>17839.0</td>\n",
       "      <td>17413.0</td>\n",
       "      <td>17800</td>\n",
       "      <td>Study</td>\n",
       "      <td>NaN</td>\n",
       "      <td>426.031498</td>\n",
       "      <td>1009</td>\n",
       "    </tr>\n",
       "  </tbody>\n",
       "</table>\n",
       "</div>"
      ],
      "text/plain": [
       "      objectid stname_ord  flowsegid downtown              start_date    ampk  \\\n",
       "5203      1583    1ST AVE        796        Y  2017/08/30 09:15:00+00  1238.0   \n",
       "\n",
       "        pmpk     awdt      adt  awdt_rounded dataquality flags  shape_length  \\\n",
       "5203  1431.0  17839.0  17413.0         17800       Study   NaN    426.031498   \n",
       "\n",
       "      compkey  \n",
       "5203     1009  "
      ]
     },
     "execution_count": 305,
     "metadata": {},
     "output_type": "execute_result"
    }
   ],
   "source": [
    "# Manually find streets compkeys to figure out the pattern\n",
    "df_flow.loc[df_flow['compkey']==1009,:]\n",
    "\n",
    "# Issues to handle:\n",
    "#   null compkey\n",
    "#   string matches on longer numbers"
   ]
  },
  {
   "cell_type": "markdown",
   "metadata": {},
   "source": [
    "### Make the JOIN"
   ]
  },
  {
   "cell_type": "code",
   "execution_count": 306,
   "metadata": {},
   "outputs": [],
   "source": [
    "df_street_flow = pd.merge(df_streets, df_flow, how='left', on='compkey',# left_on=None, right_on=None,\n",
    "         left_index=False, right_index=False, sort=True,\n",
    "         suffixes=('_str', '_flo'), copy=True, indicator=False,\n",
    "         validate=None)"
   ]
  },
  {
   "cell_type": "code",
   "execution_count": 307,
   "metadata": {},
   "outputs": [
    {
     "data": {
      "text/plain": [
       "(23806, 51)"
      ]
     },
     "execution_count": 307,
     "metadata": {},
     "output_type": "execute_result"
    }
   ],
   "source": [
    "df_street_flow.shape\n",
    "# how = 'inner' --> (6225, 51)\n",
    "# how = 'left'  --> (23806, 51)"
   ]
  },
  {
   "cell_type": "code",
   "execution_count": 308,
   "metadata": {},
   "outputs": [
    {
     "data": {
      "text/html": [
       "<div>\n",
       "<style scoped>\n",
       "    .dataframe tbody tr th:only-of-type {\n",
       "        vertical-align: middle;\n",
       "    }\n",
       "\n",
       "    .dataframe tbody tr th {\n",
       "        vertical-align: top;\n",
       "    }\n",
       "\n",
       "    .dataframe thead th {\n",
       "        text-align: right;\n",
       "    }\n",
       "</style>\n",
       "<table border=\"1\" class=\"dataframe\">\n",
       "  <thead>\n",
       "    <tr style=\"text-align: right;\">\n",
       "      <th></th>\n",
       "      <th>compkey</th>\n",
       "      <th>unitdesc</th>\n",
       "      <th>stname_ord_str</th>\n",
       "      <th>stname_ord_flo</th>\n",
       "      <th>slope_pct</th>\n",
       "    </tr>\n",
       "  </thead>\n",
       "  <tbody>\n",
       "    <tr>\n",
       "      <th>0</th>\n",
       "      <td>1000</td>\n",
       "      <td>1ST AVE BETWEEN YESLER WAY AND CHERRY ST</td>\n",
       "      <td>1ST AVE</td>\n",
       "      <td>1ST AVE</td>\n",
       "      <td>2.0</td>\n",
       "    </tr>\n",
       "    <tr>\n",
       "      <th>1</th>\n",
       "      <td>1001</td>\n",
       "      <td>1ST AVE BETWEEN CHERRY ST AND COLUMBIA ST</td>\n",
       "      <td>1ST AVE</td>\n",
       "      <td>1ST AVE</td>\n",
       "      <td>0.0</td>\n",
       "    </tr>\n",
       "    <tr>\n",
       "      <th>2</th>\n",
       "      <td>1002</td>\n",
       "      <td>1ST AVE BETWEEN COLUMBIA ST AND MARION ST</td>\n",
       "      <td>1ST AVE</td>\n",
       "      <td>1ST AVE</td>\n",
       "      <td>1.0</td>\n",
       "    </tr>\n",
       "    <tr>\n",
       "      <th>3</th>\n",
       "      <td>1003</td>\n",
       "      <td>1ST AVE BETWEEN MARION ST AND MADISON ST</td>\n",
       "      <td>1ST AVE</td>\n",
       "      <td>1ST AVE</td>\n",
       "      <td>1.0</td>\n",
       "    </tr>\n",
       "  </tbody>\n",
       "</table>\n",
       "</div>"
      ],
      "text/plain": [
       "   compkey                                   unitdesc stname_ord_str  \\\n",
       "0     1000   1ST AVE BETWEEN YESLER WAY AND CHERRY ST        1ST AVE   \n",
       "1     1001  1ST AVE BETWEEN CHERRY ST AND COLUMBIA ST        1ST AVE   \n",
       "2     1002  1ST AVE BETWEEN COLUMBIA ST AND MARION ST        1ST AVE   \n",
       "3     1003   1ST AVE BETWEEN MARION ST AND MADISON ST        1ST AVE   \n",
       "\n",
       "  stname_ord_flo  slope_pct  \n",
       "0        1ST AVE        2.0  \n",
       "1        1ST AVE        0.0  \n",
       "2        1ST AVE        1.0  \n",
       "3        1ST AVE        1.0  "
      ]
     },
     "execution_count": 308,
     "metadata": {},
     "output_type": "execute_result"
    }
   ],
   "source": [
    "df_street_flow[['compkey','unitdesc','stname_ord_str','stname_ord_flo','slope_pct']].head(4)"
   ]
  },
  {
   "cell_type": "code",
   "execution_count": 309,
   "metadata": {},
   "outputs": [
    {
     "data": {
      "text/html": [
       "<div>\n",
       "<style scoped>\n",
       "    .dataframe tbody tr th:only-of-type {\n",
       "        vertical-align: middle;\n",
       "    }\n",
       "\n",
       "    .dataframe tbody tr th {\n",
       "        vertical-align: top;\n",
       "    }\n",
       "\n",
       "    .dataframe thead th {\n",
       "        text-align: right;\n",
       "    }\n",
       "</style>\n",
       "<table border=\"1\" class=\"dataframe\">\n",
       "  <thead>\n",
       "    <tr style=\"text-align: right;\">\n",
       "      <th></th>\n",
       "      <th>compkey</th>\n",
       "      <th>unitdesc</th>\n",
       "      <th>stname_ord_str</th>\n",
       "      <th>stname_ord_flo</th>\n",
       "      <th>slope_pct</th>\n",
       "    </tr>\n",
       "  </thead>\n",
       "  <tbody>\n",
       "    <tr>\n",
       "      <th>31</th>\n",
       "      <td>1031</td>\n",
       "      <td>1ST AVE N BETWEEN ROY ST AND VALLEY ST</td>\n",
       "      <td>1ST AVE N</td>\n",
       "      <td>NaN</td>\n",
       "      <td>10.0</td>\n",
       "    </tr>\n",
       "    <tr>\n",
       "      <th>32</th>\n",
       "      <td>1032</td>\n",
       "      <td>1ST AVE N BETWEEN VALLEY UPPER ST AND ALOHA ST</td>\n",
       "      <td>1ST AVE N</td>\n",
       "      <td>NaN</td>\n",
       "      <td>17.0</td>\n",
       "    </tr>\n",
       "    <tr>\n",
       "      <th>33</th>\n",
       "      <td>1033</td>\n",
       "      <td>1ST AVE N BETWEEN ALOHA ST AND WARD ST</td>\n",
       "      <td>1ST AVE N</td>\n",
       "      <td>NaN</td>\n",
       "      <td>10.0</td>\n",
       "    </tr>\n",
       "    <tr>\n",
       "      <th>34</th>\n",
       "      <td>1034</td>\n",
       "      <td>1ST AVE N BETWEEN WARD ST AND PROSPECT S ST</td>\n",
       "      <td>1ST AVE N</td>\n",
       "      <td>NaN</td>\n",
       "      <td>18.0</td>\n",
       "    </tr>\n",
       "    <tr>\n",
       "      <th>35</th>\n",
       "      <td>1035</td>\n",
       "      <td>1ST AVE N BETWEEN PROSPECT S ST AND PROSPECT N ST</td>\n",
       "      <td>1ST AVE N</td>\n",
       "      <td>NaN</td>\n",
       "      <td>12.0</td>\n",
       "    </tr>\n",
       "    <tr>\n",
       "      <th>...</th>\n",
       "      <td>...</td>\n",
       "      <td>...</td>\n",
       "      <td>...</td>\n",
       "      <td>...</td>\n",
       "      <td>...</td>\n",
       "    </tr>\n",
       "    <tr>\n",
       "      <th>23801</th>\n",
       "      <td>761790</td>\n",
       "      <td>23RD AVE SW BETWEEN 22ND N AVE SW AND 22ND S A...</td>\n",
       "      <td>23RD AVE SW</td>\n",
       "      <td>NaN</td>\n",
       "      <td>NaN</td>\n",
       "    </tr>\n",
       "    <tr>\n",
       "      <th>23802</th>\n",
       "      <td>764415</td>\n",
       "      <td>WESTLAKE AVE N BETWEEN 9TH AVE N AND ALOHA ST</td>\n",
       "      <td>WESTLAKE AVE N</td>\n",
       "      <td>NaN</td>\n",
       "      <td>NaN</td>\n",
       "    </tr>\n",
       "    <tr>\n",
       "      <th>23803</th>\n",
       "      <td>765444</td>\n",
       "      <td>25TH AVE S BETWEEN DEAD END 2 AND S LANDER ST</td>\n",
       "      <td>25TH AVE S</td>\n",
       "      <td>NaN</td>\n",
       "      <td>NaN</td>\n",
       "    </tr>\n",
       "    <tr>\n",
       "      <th>23804</th>\n",
       "      <td>765445</td>\n",
       "      <td>S LANDER ST BETWEEN DEAD END 2 AND 25TH AVE S</td>\n",
       "      <td>S LANDER ST</td>\n",
       "      <td>NaN</td>\n",
       "      <td>NaN</td>\n",
       "    </tr>\n",
       "    <tr>\n",
       "      <th>23805</th>\n",
       "      <td>765446</td>\n",
       "      <td>W EWING N ST BETWEEN 3RD AVE W AND 6TH AVE W</td>\n",
       "      <td>W EWING ST</td>\n",
       "      <td>NaN</td>\n",
       "      <td>NaN</td>\n",
       "    </tr>\n",
       "  </tbody>\n",
       "</table>\n",
       "<p>18924 rows × 5 columns</p>\n",
       "</div>"
      ],
      "text/plain": [
       "       compkey                                           unitdesc  \\\n",
       "31        1031             1ST AVE N BETWEEN ROY ST AND VALLEY ST   \n",
       "32        1032     1ST AVE N BETWEEN VALLEY UPPER ST AND ALOHA ST   \n",
       "33        1033             1ST AVE N BETWEEN ALOHA ST AND WARD ST   \n",
       "34        1034        1ST AVE N BETWEEN WARD ST AND PROSPECT S ST   \n",
       "35        1035  1ST AVE N BETWEEN PROSPECT S ST AND PROSPECT N ST   \n",
       "...        ...                                                ...   \n",
       "23801   761790  23RD AVE SW BETWEEN 22ND N AVE SW AND 22ND S A...   \n",
       "23802   764415      WESTLAKE AVE N BETWEEN 9TH AVE N AND ALOHA ST   \n",
       "23803   765444      25TH AVE S BETWEEN DEAD END 2 AND S LANDER ST   \n",
       "23804   765445      S LANDER ST BETWEEN DEAD END 2 AND 25TH AVE S   \n",
       "23805   765446       W EWING N ST BETWEEN 3RD AVE W AND 6TH AVE W   \n",
       "\n",
       "       stname_ord_str stname_ord_flo  slope_pct  \n",
       "31          1ST AVE N            NaN       10.0  \n",
       "32          1ST AVE N            NaN       17.0  \n",
       "33          1ST AVE N            NaN       10.0  \n",
       "34          1ST AVE N            NaN       18.0  \n",
       "35          1ST AVE N            NaN       12.0  \n",
       "...               ...            ...        ...  \n",
       "23801     23RD AVE SW            NaN        NaN  \n",
       "23802  WESTLAKE AVE N            NaN        NaN  \n",
       "23803      25TH AVE S            NaN        NaN  \n",
       "23804     S LANDER ST            NaN        NaN  \n",
       "23805      W EWING ST            NaN        NaN  \n",
       "\n",
       "[18924 rows x 5 columns]"
      ]
     },
     "execution_count": 309,
     "metadata": {},
     "output_type": "execute_result"
    }
   ],
   "source": [
    "# check for mismatched stname_ord\n",
    "df_street_flow.loc[(df_street_flow['stname_ord_str'] != df_street_flow['stname_ord_flo']),\n",
    "                   ['compkey','unitdesc','stname_ord_str','stname_ord_flo','slope_pct']]\n",
    "\n",
    "# slope_pct is from STREETS; there are some null values"
   ]
  },
  {
   "cell_type": "markdown",
   "metadata": {},
   "source": [
    "## Export the STREET + FLOW file"
   ]
  },
  {
   "cell_type": "code",
   "execution_count": 310,
   "metadata": {},
   "outputs": [],
   "source": [
    "df_street_flow.to_csv('../data/combined_streets_2018_flow.csv', index=False)"
   ]
  },
  {
   "cell_type": "markdown",
   "metadata": {},
   "source": [
    "## How to Use Exported File"
   ]
  },
  {
   "cell_type": "code",
   "execution_count": 311,
   "metadata": {},
   "outputs": [
    {
     "ename": "FileNotFoundError",
     "evalue": "[Errno 2] File ../data/collisions_clean.csv does not exist: '../data/collisions_clean.csv'",
     "output_type": "error",
     "traceback": [
      "\u001b[0;31m---------------------------------------------------------------------------\u001b[0m",
      "\u001b[0;31mFileNotFoundError\u001b[0m                         Traceback (most recent call last)",
      "\u001b[0;32m<ipython-input-311-08fef6ad2c83>\u001b[0m in \u001b[0;36m<module>\u001b[0;34m\u001b[0m\n\u001b[1;32m      1\u001b[0m \u001b[0;31m# Read in both files\u001b[0m\u001b[0;34m\u001b[0m\u001b[0;34m\u001b[0m\u001b[0;34m\u001b[0m\u001b[0m\n\u001b[1;32m      2\u001b[0m \u001b[0mdf_streetflow\u001b[0m \u001b[0;34m=\u001b[0m \u001b[0mpd\u001b[0m\u001b[0;34m.\u001b[0m\u001b[0mread_csv\u001b[0m\u001b[0;34m(\u001b[0m\u001b[0;34m'../data/combined_streets_2018_flow.csv'\u001b[0m\u001b[0;34m)\u001b[0m\u001b[0;34m\u001b[0m\u001b[0;34m\u001b[0m\u001b[0m\n\u001b[0;32m----> 3\u001b[0;31m \u001b[0mdf_collisions\u001b[0m \u001b[0;34m=\u001b[0m \u001b[0mpd\u001b[0m\u001b[0;34m.\u001b[0m\u001b[0mread_csv\u001b[0m\u001b[0;34m(\u001b[0m\u001b[0;34m'../data/collisions_clean.csv'\u001b[0m\u001b[0;34m)\u001b[0m\u001b[0;34m\u001b[0m\u001b[0;34m\u001b[0m\u001b[0m\n\u001b[0m",
      "\u001b[0;32m/opt/anaconda3/lib/python3.7/site-packages/pandas/io/parsers.py\u001b[0m in \u001b[0;36mparser_f\u001b[0;34m(filepath_or_buffer, sep, delimiter, header, names, index_col, usecols, squeeze, prefix, mangle_dupe_cols, dtype, engine, converters, true_values, false_values, skipinitialspace, skiprows, skipfooter, nrows, na_values, keep_default_na, na_filter, verbose, skip_blank_lines, parse_dates, infer_datetime_format, keep_date_col, date_parser, dayfirst, cache_dates, iterator, chunksize, compression, thousands, decimal, lineterminator, quotechar, quoting, doublequote, escapechar, comment, encoding, dialect, error_bad_lines, warn_bad_lines, delim_whitespace, low_memory, memory_map, float_precision)\u001b[0m\n\u001b[1;32m    674\u001b[0m         )\n\u001b[1;32m    675\u001b[0m \u001b[0;34m\u001b[0m\u001b[0m\n\u001b[0;32m--> 676\u001b[0;31m         \u001b[0;32mreturn\u001b[0m \u001b[0m_read\u001b[0m\u001b[0;34m(\u001b[0m\u001b[0mfilepath_or_buffer\u001b[0m\u001b[0;34m,\u001b[0m \u001b[0mkwds\u001b[0m\u001b[0;34m)\u001b[0m\u001b[0;34m\u001b[0m\u001b[0;34m\u001b[0m\u001b[0m\n\u001b[0m\u001b[1;32m    677\u001b[0m \u001b[0;34m\u001b[0m\u001b[0m\n\u001b[1;32m    678\u001b[0m     \u001b[0mparser_f\u001b[0m\u001b[0;34m.\u001b[0m\u001b[0m__name__\u001b[0m \u001b[0;34m=\u001b[0m \u001b[0mname\u001b[0m\u001b[0;34m\u001b[0m\u001b[0;34m\u001b[0m\u001b[0m\n",
      "\u001b[0;32m/opt/anaconda3/lib/python3.7/site-packages/pandas/io/parsers.py\u001b[0m in \u001b[0;36m_read\u001b[0;34m(filepath_or_buffer, kwds)\u001b[0m\n\u001b[1;32m    446\u001b[0m \u001b[0;34m\u001b[0m\u001b[0m\n\u001b[1;32m    447\u001b[0m     \u001b[0;31m# Create the parser.\u001b[0m\u001b[0;34m\u001b[0m\u001b[0;34m\u001b[0m\u001b[0;34m\u001b[0m\u001b[0m\n\u001b[0;32m--> 448\u001b[0;31m     \u001b[0mparser\u001b[0m \u001b[0;34m=\u001b[0m \u001b[0mTextFileReader\u001b[0m\u001b[0;34m(\u001b[0m\u001b[0mfp_or_buf\u001b[0m\u001b[0;34m,\u001b[0m \u001b[0;34m**\u001b[0m\u001b[0mkwds\u001b[0m\u001b[0;34m)\u001b[0m\u001b[0;34m\u001b[0m\u001b[0;34m\u001b[0m\u001b[0m\n\u001b[0m\u001b[1;32m    449\u001b[0m \u001b[0;34m\u001b[0m\u001b[0m\n\u001b[1;32m    450\u001b[0m     \u001b[0;32mif\u001b[0m \u001b[0mchunksize\u001b[0m \u001b[0;32mor\u001b[0m \u001b[0miterator\u001b[0m\u001b[0;34m:\u001b[0m\u001b[0;34m\u001b[0m\u001b[0;34m\u001b[0m\u001b[0m\n",
      "\u001b[0;32m/opt/anaconda3/lib/python3.7/site-packages/pandas/io/parsers.py\u001b[0m in \u001b[0;36m__init__\u001b[0;34m(self, f, engine, **kwds)\u001b[0m\n\u001b[1;32m    878\u001b[0m             \u001b[0mself\u001b[0m\u001b[0;34m.\u001b[0m\u001b[0moptions\u001b[0m\u001b[0;34m[\u001b[0m\u001b[0;34m\"has_index_names\"\u001b[0m\u001b[0;34m]\u001b[0m \u001b[0;34m=\u001b[0m \u001b[0mkwds\u001b[0m\u001b[0;34m[\u001b[0m\u001b[0;34m\"has_index_names\"\u001b[0m\u001b[0;34m]\u001b[0m\u001b[0;34m\u001b[0m\u001b[0;34m\u001b[0m\u001b[0m\n\u001b[1;32m    879\u001b[0m \u001b[0;34m\u001b[0m\u001b[0m\n\u001b[0;32m--> 880\u001b[0;31m         \u001b[0mself\u001b[0m\u001b[0;34m.\u001b[0m\u001b[0m_make_engine\u001b[0m\u001b[0;34m(\u001b[0m\u001b[0mself\u001b[0m\u001b[0;34m.\u001b[0m\u001b[0mengine\u001b[0m\u001b[0;34m)\u001b[0m\u001b[0;34m\u001b[0m\u001b[0;34m\u001b[0m\u001b[0m\n\u001b[0m\u001b[1;32m    881\u001b[0m \u001b[0;34m\u001b[0m\u001b[0m\n\u001b[1;32m    882\u001b[0m     \u001b[0;32mdef\u001b[0m \u001b[0mclose\u001b[0m\u001b[0;34m(\u001b[0m\u001b[0mself\u001b[0m\u001b[0;34m)\u001b[0m\u001b[0;34m:\u001b[0m\u001b[0;34m\u001b[0m\u001b[0;34m\u001b[0m\u001b[0m\n",
      "\u001b[0;32m/opt/anaconda3/lib/python3.7/site-packages/pandas/io/parsers.py\u001b[0m in \u001b[0;36m_make_engine\u001b[0;34m(self, engine)\u001b[0m\n\u001b[1;32m   1112\u001b[0m     \u001b[0;32mdef\u001b[0m \u001b[0m_make_engine\u001b[0m\u001b[0;34m(\u001b[0m\u001b[0mself\u001b[0m\u001b[0;34m,\u001b[0m \u001b[0mengine\u001b[0m\u001b[0;34m=\u001b[0m\u001b[0;34m\"c\"\u001b[0m\u001b[0;34m)\u001b[0m\u001b[0;34m:\u001b[0m\u001b[0;34m\u001b[0m\u001b[0;34m\u001b[0m\u001b[0m\n\u001b[1;32m   1113\u001b[0m         \u001b[0;32mif\u001b[0m \u001b[0mengine\u001b[0m \u001b[0;34m==\u001b[0m \u001b[0;34m\"c\"\u001b[0m\u001b[0;34m:\u001b[0m\u001b[0;34m\u001b[0m\u001b[0;34m\u001b[0m\u001b[0m\n\u001b[0;32m-> 1114\u001b[0;31m             \u001b[0mself\u001b[0m\u001b[0;34m.\u001b[0m\u001b[0m_engine\u001b[0m \u001b[0;34m=\u001b[0m \u001b[0mCParserWrapper\u001b[0m\u001b[0;34m(\u001b[0m\u001b[0mself\u001b[0m\u001b[0;34m.\u001b[0m\u001b[0mf\u001b[0m\u001b[0;34m,\u001b[0m \u001b[0;34m**\u001b[0m\u001b[0mself\u001b[0m\u001b[0;34m.\u001b[0m\u001b[0moptions\u001b[0m\u001b[0;34m)\u001b[0m\u001b[0;34m\u001b[0m\u001b[0;34m\u001b[0m\u001b[0m\n\u001b[0m\u001b[1;32m   1115\u001b[0m         \u001b[0;32melse\u001b[0m\u001b[0;34m:\u001b[0m\u001b[0;34m\u001b[0m\u001b[0;34m\u001b[0m\u001b[0m\n\u001b[1;32m   1116\u001b[0m             \u001b[0;32mif\u001b[0m \u001b[0mengine\u001b[0m \u001b[0;34m==\u001b[0m \u001b[0;34m\"python\"\u001b[0m\u001b[0;34m:\u001b[0m\u001b[0;34m\u001b[0m\u001b[0;34m\u001b[0m\u001b[0m\n",
      "\u001b[0;32m/opt/anaconda3/lib/python3.7/site-packages/pandas/io/parsers.py\u001b[0m in \u001b[0;36m__init__\u001b[0;34m(self, src, **kwds)\u001b[0m\n\u001b[1;32m   1889\u001b[0m         \u001b[0mkwds\u001b[0m\u001b[0;34m[\u001b[0m\u001b[0;34m\"usecols\"\u001b[0m\u001b[0;34m]\u001b[0m \u001b[0;34m=\u001b[0m \u001b[0mself\u001b[0m\u001b[0;34m.\u001b[0m\u001b[0musecols\u001b[0m\u001b[0;34m\u001b[0m\u001b[0;34m\u001b[0m\u001b[0m\n\u001b[1;32m   1890\u001b[0m \u001b[0;34m\u001b[0m\u001b[0m\n\u001b[0;32m-> 1891\u001b[0;31m         \u001b[0mself\u001b[0m\u001b[0;34m.\u001b[0m\u001b[0m_reader\u001b[0m \u001b[0;34m=\u001b[0m \u001b[0mparsers\u001b[0m\u001b[0;34m.\u001b[0m\u001b[0mTextReader\u001b[0m\u001b[0;34m(\u001b[0m\u001b[0msrc\u001b[0m\u001b[0;34m,\u001b[0m \u001b[0;34m**\u001b[0m\u001b[0mkwds\u001b[0m\u001b[0;34m)\u001b[0m\u001b[0;34m\u001b[0m\u001b[0;34m\u001b[0m\u001b[0m\n\u001b[0m\u001b[1;32m   1892\u001b[0m         \u001b[0mself\u001b[0m\u001b[0;34m.\u001b[0m\u001b[0munnamed_cols\u001b[0m \u001b[0;34m=\u001b[0m \u001b[0mself\u001b[0m\u001b[0;34m.\u001b[0m\u001b[0m_reader\u001b[0m\u001b[0;34m.\u001b[0m\u001b[0munnamed_cols\u001b[0m\u001b[0;34m\u001b[0m\u001b[0;34m\u001b[0m\u001b[0m\n\u001b[1;32m   1893\u001b[0m \u001b[0;34m\u001b[0m\u001b[0m\n",
      "\u001b[0;32mpandas/_libs/parsers.pyx\u001b[0m in \u001b[0;36mpandas._libs.parsers.TextReader.__cinit__\u001b[0;34m()\u001b[0m\n",
      "\u001b[0;32mpandas/_libs/parsers.pyx\u001b[0m in \u001b[0;36mpandas._libs.parsers.TextReader._setup_parser_source\u001b[0;34m()\u001b[0m\n",
      "\u001b[0;31mFileNotFoundError\u001b[0m: [Errno 2] File ../data/collisions_clean.csv does not exist: '../data/collisions_clean.csv'"
     ]
    }
   ],
   "source": [
    "# Read in both files\n",
    "df_streetflow = pd.read_csv('../data/combined_streets_2018_flow.csv')\n",
    "df_collisions = pd.read_csv('../data/collisions_clean.csv')"
   ]
  },
  {
   "cell_type": "code",
   "execution_count": 312,
   "metadata": {},
   "outputs": [
    {
     "data": {
      "text/html": [
       "<div>\n",
       "<style scoped>\n",
       "    .dataframe tbody tr th:only-of-type {\n",
       "        vertical-align: middle;\n",
       "    }\n",
       "\n",
       "    .dataframe tbody tr th {\n",
       "        vertical-align: top;\n",
       "    }\n",
       "\n",
       "    .dataframe thead th {\n",
       "        text-align: right;\n",
       "    }\n",
       "</style>\n",
       "<table border=\"1\" class=\"dataframe\">\n",
       "  <thead>\n",
       "    <tr style=\"text-align: right;\">\n",
       "      <th></th>\n",
       "      <th>objectid_str</th>\n",
       "      <th>artclass</th>\n",
       "      <th>compkey</th>\n",
       "      <th>unitid</th>\n",
       "      <th>unitid2</th>\n",
       "      <th>unitidsort</th>\n",
       "      <th>unitdesc</th>\n",
       "      <th>stname_ord_str</th>\n",
       "      <th>xstrlo</th>\n",
       "      <th>xstrhi</th>\n",
       "      <th>artdescript</th>\n",
       "      <th>owner</th>\n",
       "      <th>status</th>\n",
       "      <th>blocknbr</th>\n",
       "      <th>speedlimit</th>\n",
       "      <th>segdir</th>\n",
       "      <th>oneway</th>\n",
       "      <th>onewaydir</th>\n",
       "      <th>flow</th>\n",
       "      <th>seglength</th>\n",
       "      <th>surfacewidth</th>\n",
       "      <th>surfacetype_1</th>\n",
       "      <th>surfacetype_2</th>\n",
       "      <th>intrlo</th>\n",
       "      <th>dirlo</th>\n",
       "      <th>intkeylo</th>\n",
       "      <th>intrhi</th>\n",
       "      <th>dirhi</th>\n",
       "      <th>nationhwysys</th>\n",
       "      <th>streettype</th>\n",
       "      <th>pvmtcondindx1</th>\n",
       "      <th>pvmtcondindx2</th>\n",
       "      <th>tranclass</th>\n",
       "      <th>trandescript</th>\n",
       "      <th>slope_pct</th>\n",
       "      <th>pvmtcategory</th>\n",
       "      <th>parkboulevard</th>\n",
       "      <th>shape_length_str</th>\n",
       "      <th>objectid_flo</th>\n",
       "      <th>stname_ord_flo</th>\n",
       "      <th>flowsegid</th>\n",
       "      <th>downtown</th>\n",
       "      <th>start_date</th>\n",
       "      <th>ampk</th>\n",
       "      <th>pmpk</th>\n",
       "      <th>awdt</th>\n",
       "      <th>adt</th>\n",
       "      <th>awdt_rounded</th>\n",
       "      <th>dataquality</th>\n",
       "      <th>flags</th>\n",
       "      <th>shape_length_flo</th>\n",
       "    </tr>\n",
       "  </thead>\n",
       "  <tbody>\n",
       "    <tr>\n",
       "      <th>0</th>\n",
       "      <td>5010</td>\n",
       "      <td>2.0</td>\n",
       "      <td>1000</td>\n",
       "      <td>10.0</td>\n",
       "      <td>60.0</td>\n",
       "      <td>100060.0</td>\n",
       "      <td>1ST AVE BETWEEN YESLER WAY AND CHERRY ST</td>\n",
       "      <td>1ST AVE</td>\n",
       "      <td>YESLER WAY</td>\n",
       "      <td>CHERRY ST</td>\n",
       "      <td>Minor Arterial</td>\n",
       "      <td></td>\n",
       "      <td>INSVC</td>\n",
       "      <td>600.0</td>\n",
       "      <td>25.0</td>\n",
       "      <td>N</td>\n",
       "      <td>N</td>\n",
       "      <td></td>\n",
       "      <td></td>\n",
       "      <td>311.0</td>\n",
       "      <td>44.0</td>\n",
       "      <td>AC/PCC</td>\n",
       "      <td>PCC</td>\n",
       "      <td>1ST AVE AND YESLER WAY</td>\n",
       "      <td>N</td>\n",
       "      <td>30357.0</td>\n",
       "      <td>1ST AVE AND CHERRY ST</td>\n",
       "      <td>S</td>\n",
       "      <td>N</td>\n",
       "      <td>Downtown Neighborhood</td>\n",
       "      <td>26.0</td>\n",
       "      <td>49.0</td>\n",
       "      <td>1</td>\n",
       "      <td>PRINCIPAL TRANSIT ROUTE</td>\n",
       "      <td>2.0</td>\n",
       "      <td>ART</td>\n",
       "      <td>N</td>\n",
       "      <td>311.239073</td>\n",
       "      <td>1627.0</td>\n",
       "      <td>1ST AVE</td>\n",
       "      <td>623.0</td>\n",
       "      <td>Y</td>\n",
       "      <td>2017/10/02 11:45:00+00</td>\n",
       "      <td>1165.0</td>\n",
       "      <td>927.0</td>\n",
       "      <td>12475.0</td>\n",
       "      <td>11333.0</td>\n",
       "      <td>12500.0</td>\n",
       "      <td>Study</td>\n",
       "      <td>NaN</td>\n",
       "      <td>311.238965</td>\n",
       "    </tr>\n",
       "    <tr>\n",
       "      <th>1</th>\n",
       "      <td>15317</td>\n",
       "      <td>2.0</td>\n",
       "      <td>1001</td>\n",
       "      <td>10.0</td>\n",
       "      <td>70.0</td>\n",
       "      <td>100070.0</td>\n",
       "      <td>1ST AVE BETWEEN CHERRY ST AND COLUMBIA ST</td>\n",
       "      <td>1ST AVE</td>\n",
       "      <td>CHERRY ST</td>\n",
       "      <td>COLUMBIA ST</td>\n",
       "      <td>Minor Arterial</td>\n",
       "      <td></td>\n",
       "      <td>INSVC</td>\n",
       "      <td>700.0</td>\n",
       "      <td>25.0</td>\n",
       "      <td>NW</td>\n",
       "      <td>N</td>\n",
       "      <td></td>\n",
       "      <td></td>\n",
       "      <td>306.0</td>\n",
       "      <td>52.0</td>\n",
       "      <td>AC/PCC</td>\n",
       "      <td>NaN</td>\n",
       "      <td>1ST AVE AND CHERRY ST</td>\n",
       "      <td>NW</td>\n",
       "      <td>30354.0</td>\n",
       "      <td>1ST AVE AND COLUMBIA ST</td>\n",
       "      <td>SE</td>\n",
       "      <td>N</td>\n",
       "      <td>Downtown Neighborhood</td>\n",
       "      <td>16.0</td>\n",
       "      <td>0.0</td>\n",
       "      <td>1</td>\n",
       "      <td>PRINCIPAL TRANSIT ROUTE</td>\n",
       "      <td>0.0</td>\n",
       "      <td>ART</td>\n",
       "      <td>N</td>\n",
       "      <td>306.062269</td>\n",
       "      <td>1335.0</td>\n",
       "      <td>1ST AVE</td>\n",
       "      <td>637.0</td>\n",
       "      <td>Y</td>\n",
       "      <td>2017/10/02 11:30:00+00</td>\n",
       "      <td>1313.0</td>\n",
       "      <td>886.0</td>\n",
       "      <td>13054.0</td>\n",
       "      <td>13050.0</td>\n",
       "      <td>13100.0</td>\n",
       "      <td>Study</td>\n",
       "      <td>NaN</td>\n",
       "      <td>306.062164</td>\n",
       "    </tr>\n",
       "    <tr>\n",
       "      <th>2</th>\n",
       "      <td>5011</td>\n",
       "      <td>2.0</td>\n",
       "      <td>1002</td>\n",
       "      <td>10.0</td>\n",
       "      <td>80.0</td>\n",
       "      <td>100080.0</td>\n",
       "      <td>1ST AVE BETWEEN COLUMBIA ST AND MARION ST</td>\n",
       "      <td>1ST AVE</td>\n",
       "      <td>COLUMBIA ST</td>\n",
       "      <td>MARION ST</td>\n",
       "      <td>Minor Arterial</td>\n",
       "      <td></td>\n",
       "      <td>INSVC</td>\n",
       "      <td>800.0</td>\n",
       "      <td>25.0</td>\n",
       "      <td>NW</td>\n",
       "      <td>N</td>\n",
       "      <td></td>\n",
       "      <td></td>\n",
       "      <td>306.0</td>\n",
       "      <td>52.0</td>\n",
       "      <td>AC/PCC</td>\n",
       "      <td>NaN</td>\n",
       "      <td>1ST AVE AND COLUMBIA ST</td>\n",
       "      <td>NW</td>\n",
       "      <td>30348.0</td>\n",
       "      <td>1ST AVE AND MARION ST</td>\n",
       "      <td>SE</td>\n",
       "      <td>N</td>\n",
       "      <td>Downtown Neighborhood</td>\n",
       "      <td>19.0</td>\n",
       "      <td>0.0</td>\n",
       "      <td>1</td>\n",
       "      <td>PRINCIPAL TRANSIT ROUTE</td>\n",
       "      <td>1.0</td>\n",
       "      <td>ART</td>\n",
       "      <td>N</td>\n",
       "      <td>305.996038</td>\n",
       "      <td>1514.0</td>\n",
       "      <td>1ST AVE</td>\n",
       "      <td>651.0</td>\n",
       "      <td>Y</td>\n",
       "      <td>2017/08/30 09:30:00+00</td>\n",
       "      <td>1065.0</td>\n",
       "      <td>849.0</td>\n",
       "      <td>12409.0</td>\n",
       "      <td>11444.0</td>\n",
       "      <td>12400.0</td>\n",
       "      <td>Study</td>\n",
       "      <td>NaN</td>\n",
       "      <td>305.996222</td>\n",
       "    </tr>\n",
       "  </tbody>\n",
       "</table>\n",
       "</div>"
      ],
      "text/plain": [
       "   objectid_str  artclass  compkey  unitid  unitid2  unitidsort  \\\n",
       "0          5010       2.0     1000    10.0     60.0    100060.0   \n",
       "1         15317       2.0     1001    10.0     70.0    100070.0   \n",
       "2          5011       2.0     1002    10.0     80.0    100080.0   \n",
       "\n",
       "                                    unitdesc stname_ord_str       xstrlo  \\\n",
       "0   1ST AVE BETWEEN YESLER WAY AND CHERRY ST        1ST AVE   YESLER WAY   \n",
       "1  1ST AVE BETWEEN CHERRY ST AND COLUMBIA ST        1ST AVE    CHERRY ST   \n",
       "2  1ST AVE BETWEEN COLUMBIA ST AND MARION ST        1ST AVE  COLUMBIA ST   \n",
       "\n",
       "        xstrhi     artdescript owner status  blocknbr  speedlimit segdir  \\\n",
       "0    CHERRY ST  Minor Arterial        INSVC     600.0        25.0      N   \n",
       "1  COLUMBIA ST  Minor Arterial        INSVC     700.0        25.0     NW   \n",
       "2    MARION ST  Minor Arterial        INSVC     800.0        25.0     NW   \n",
       "\n",
       "  oneway onewaydir flow  seglength  surfacewidth surfacetype_1 surfacetype_2  \\\n",
       "0      N                     311.0          44.0        AC/PCC           PCC   \n",
       "1      N                     306.0          52.0        AC/PCC           NaN   \n",
       "2      N                     306.0          52.0        AC/PCC           NaN   \n",
       "\n",
       "                    intrlo dirlo  intkeylo                   intrhi dirhi  \\\n",
       "0   1ST AVE AND YESLER WAY     N   30357.0    1ST AVE AND CHERRY ST     S   \n",
       "1    1ST AVE AND CHERRY ST    NW   30354.0  1ST AVE AND COLUMBIA ST    SE   \n",
       "2  1ST AVE AND COLUMBIA ST    NW   30348.0    1ST AVE AND MARION ST    SE   \n",
       "\n",
       "  nationhwysys             streettype  pvmtcondindx1  pvmtcondindx2  \\\n",
       "0            N  Downtown Neighborhood           26.0           49.0   \n",
       "1            N  Downtown Neighborhood           16.0            0.0   \n",
       "2            N  Downtown Neighborhood           19.0            0.0   \n",
       "\n",
       "   tranclass             trandescript  slope_pct pvmtcategory parkboulevard  \\\n",
       "0          1  PRINCIPAL TRANSIT ROUTE        2.0          ART             N   \n",
       "1          1  PRINCIPAL TRANSIT ROUTE        0.0          ART             N   \n",
       "2          1  PRINCIPAL TRANSIT ROUTE        1.0          ART             N   \n",
       "\n",
       "   shape_length_str  objectid_flo stname_ord_flo  flowsegid downtown  \\\n",
       "0        311.239073        1627.0        1ST AVE      623.0        Y   \n",
       "1        306.062269        1335.0        1ST AVE      637.0        Y   \n",
       "2        305.996038        1514.0        1ST AVE      651.0        Y   \n",
       "\n",
       "               start_date    ampk   pmpk     awdt      adt  awdt_rounded  \\\n",
       "0  2017/10/02 11:45:00+00  1165.0  927.0  12475.0  11333.0       12500.0   \n",
       "1  2017/10/02 11:30:00+00  1313.0  886.0  13054.0  13050.0       13100.0   \n",
       "2  2017/08/30 09:30:00+00  1065.0  849.0  12409.0  11444.0       12400.0   \n",
       "\n",
       "  dataquality flags  shape_length_flo  \n",
       "0       Study   NaN        311.238965  \n",
       "1       Study   NaN        306.062164  \n",
       "2       Study   NaN        305.996222  "
      ]
     },
     "execution_count": 312,
     "metadata": {},
     "output_type": "execute_result"
    }
   ],
   "source": [
    "df_streetflow.head(3)"
   ]
  },
  {
   "cell_type": "markdown",
   "metadata": {},
   "source": [
    "#### JOIN the collisions data with the streetflow data based on the location string"
   ]
  },
  {
   "cell_type": "code",
   "execution_count": 313,
   "metadata": {},
   "outputs": [],
   "source": [
    "# Do a left merge so that no collisions are dropped\n",
    "df_collisions_extended = pd.merge(df_collisions, df_streetflow, how='left', #on='compkey',\n",
    "         left_on='location',     # collisions data uses 'location'\n",
    "         right_on='unitdesc',    # streets+flow data uses 'unitdesc'\n",
    "         left_index=False, right_index=False, sort=True,\n",
    "         suffixes=('_col', '_flo'), copy=True, indicator=False,\n",
    "         validate=None)"
   ]
  },
  {
   "cell_type": "code",
   "execution_count": 314,
   "metadata": {},
   "outputs": [
    {
     "data": {
      "text/html": [
       "<div>\n",
       "<style scoped>\n",
       "    .dataframe tbody tr th:only-of-type {\n",
       "        vertical-align: middle;\n",
       "    }\n",
       "\n",
       "    .dataframe tbody tr th {\n",
       "        vertical-align: top;\n",
       "    }\n",
       "\n",
       "    .dataframe thead th {\n",
       "        text-align: right;\n",
       "    }\n",
       "</style>\n",
       "<table border=\"1\" class=\"dataframe\">\n",
       "  <thead>\n",
       "    <tr style=\"text-align: right;\">\n",
       "      <th></th>\n",
       "      <th>Unnamed: 0</th>\n",
       "      <th>x</th>\n",
       "      <th>y</th>\n",
       "      <th>objectid</th>\n",
       "      <th>addrtype</th>\n",
       "      <th>intkey</th>\n",
       "      <th>location</th>\n",
       "      <th>severitycode</th>\n",
       "      <th>severitydesc</th>\n",
       "      <th>collisiontype</th>\n",
       "      <th>personcount</th>\n",
       "      <th>pedcount</th>\n",
       "      <th>pedcylcount</th>\n",
       "      <th>vehcount</th>\n",
       "      <th>injuries</th>\n",
       "      <th>seriousinjuries</th>\n",
       "      <th>fatalities</th>\n",
       "      <th>incdate</th>\n",
       "      <th>incdttm</th>\n",
       "      <th>junctiontype</th>\n",
       "      <th>sdot_colcode</th>\n",
       "      <th>sdot_coldesc</th>\n",
       "      <th>inattentionind</th>\n",
       "      <th>underinfl</th>\n",
       "      <th>weather</th>\n",
       "      <th>roadcond</th>\n",
       "      <th>lightcond</th>\n",
       "      <th>pedrownotgrnt</th>\n",
       "      <th>sdotcolnum</th>\n",
       "      <th>speeding</th>\n",
       "      <th>st_colcode</th>\n",
       "      <th>st_coldesc</th>\n",
       "      <th>hitparkedcar</th>\n",
       "      <th>fe_exists</th>\n",
       "      <th>time</th>\n",
       "      <th>total_injuries</th>\n",
       "      <th>total_person_count</th>\n",
       "      <th>fe_emd</th>\n",
       "      <th>hourandmin</th>\n",
       "      <th>hour</th>\n",
       "      <th>min</th>\n",
       "      <th>fe_tmd</th>\n",
       "      <th>census_area</th>\n",
       "      <th>neighborhood</th>\n",
       "      <th>city</th>\n",
       "      <th>objectid_str</th>\n",
       "      <th>artclass</th>\n",
       "      <th>compkey</th>\n",
       "      <th>unitid</th>\n",
       "      <th>unitid2</th>\n",
       "      <th>unitidsort</th>\n",
       "      <th>unitdesc</th>\n",
       "      <th>stname_ord_str</th>\n",
       "      <th>xstrlo</th>\n",
       "      <th>xstrhi</th>\n",
       "      <th>artdescript</th>\n",
       "      <th>owner</th>\n",
       "      <th>status</th>\n",
       "      <th>blocknbr</th>\n",
       "      <th>speedlimit</th>\n",
       "      <th>segdir</th>\n",
       "      <th>oneway</th>\n",
       "      <th>onewaydir</th>\n",
       "      <th>flow</th>\n",
       "      <th>seglength</th>\n",
       "      <th>surfacewidth</th>\n",
       "      <th>surfacetype_1</th>\n",
       "      <th>surfacetype_2</th>\n",
       "      <th>intrlo</th>\n",
       "      <th>dirlo</th>\n",
       "      <th>intkeylo</th>\n",
       "      <th>intrhi</th>\n",
       "      <th>dirhi</th>\n",
       "      <th>nationhwysys</th>\n",
       "      <th>streettype</th>\n",
       "      <th>pvmtcondindx1</th>\n",
       "      <th>pvmtcondindx2</th>\n",
       "      <th>tranclass</th>\n",
       "      <th>trandescript</th>\n",
       "      <th>slope_pct</th>\n",
       "      <th>pvmtcategory</th>\n",
       "      <th>parkboulevard</th>\n",
       "      <th>shape_length_str</th>\n",
       "      <th>objectid_flo</th>\n",
       "      <th>stname_ord_flo</th>\n",
       "      <th>flowsegid</th>\n",
       "      <th>downtown</th>\n",
       "      <th>start_date</th>\n",
       "      <th>ampk</th>\n",
       "      <th>pmpk</th>\n",
       "      <th>awdt</th>\n",
       "      <th>adt</th>\n",
       "      <th>awdt_rounded</th>\n",
       "      <th>dataquality</th>\n",
       "      <th>flags</th>\n",
       "      <th>shape_length_flo</th>\n",
       "    </tr>\n",
       "  </thead>\n",
       "  <tbody>\n",
       "    <tr>\n",
       "      <th>0</th>\n",
       "      <td>153046</td>\n",
       "      <td>-122.319411</td>\n",
       "      <td>47.604360</td>\n",
       "      <td>153047</td>\n",
       "      <td>Intersection</td>\n",
       "      <td>29828.0</td>\n",
       "      <td>10TH AVE AND E ALDER ST</td>\n",
       "      <td>1</td>\n",
       "      <td>Property Damage Only Collision</td>\n",
       "      <td>Parked Car</td>\n",
       "      <td>2</td>\n",
       "      <td>0</td>\n",
       "      <td>0</td>\n",
       "      <td>2</td>\n",
       "      <td>0</td>\n",
       "      <td>0</td>\n",
       "      <td>0</td>\n",
       "      <td>2014-11-02 00:00:00</td>\n",
       "      <td>2014-11-02 17:00:00</td>\n",
       "      <td>At Intersection (intersection related)</td>\n",
       "      <td>0.0</td>\n",
       "      <td>NOT ENOUGH INFORMATION / NOT APPLICABLE</td>\n",
       "      <td>NaN</td>\n",
       "      <td>N</td>\n",
       "      <td>Clear</td>\n",
       "      <td>Clear</td>\n",
       "      <td>Unknown</td>\n",
       "      <td>N</td>\n",
       "      <td>NaN</td>\n",
       "      <td>Unknown</td>\n",
       "      <td>32</td>\n",
       "      <td>One parked--one moving</td>\n",
       "      <td>N</td>\n",
       "      <td>1</td>\n",
       "      <td>17:00</td>\n",
       "      <td>0</td>\n",
       "      <td>2</td>\n",
       "      <td>False</td>\n",
       "      <td>1900-01-01 17:00:00</td>\n",
       "      <td>17</td>\n",
       "      <td>0</td>\n",
       "      <td>False</td>\n",
       "      <td>Census Tract 86</td>\n",
       "      <td>Central District</td>\n",
       "      <td>seattle</td>\n",
       "      <td>NaN</td>\n",
       "      <td>NaN</td>\n",
       "      <td>NaN</td>\n",
       "      <td>NaN</td>\n",
       "      <td>NaN</td>\n",
       "      <td>NaN</td>\n",
       "      <td>NaN</td>\n",
       "      <td>NaN</td>\n",
       "      <td>NaN</td>\n",
       "      <td>NaN</td>\n",
       "      <td>NaN</td>\n",
       "      <td>NaN</td>\n",
       "      <td>NaN</td>\n",
       "      <td>NaN</td>\n",
       "      <td>NaN</td>\n",
       "      <td>NaN</td>\n",
       "      <td>NaN</td>\n",
       "      <td>NaN</td>\n",
       "      <td>NaN</td>\n",
       "      <td>NaN</td>\n",
       "      <td>NaN</td>\n",
       "      <td>NaN</td>\n",
       "      <td>NaN</td>\n",
       "      <td>NaN</td>\n",
       "      <td>NaN</td>\n",
       "      <td>NaN</td>\n",
       "      <td>NaN</td>\n",
       "      <td>NaN</td>\n",
       "      <td>NaN</td>\n",
       "      <td>NaN</td>\n",
       "      <td>NaN</td>\n",
       "      <td>NaN</td>\n",
       "      <td>NaN</td>\n",
       "      <td>NaN</td>\n",
       "      <td>NaN</td>\n",
       "      <td>NaN</td>\n",
       "      <td>NaN</td>\n",
       "      <td>NaN</td>\n",
       "      <td>NaN</td>\n",
       "      <td>NaN</td>\n",
       "      <td>NaN</td>\n",
       "      <td>NaN</td>\n",
       "      <td>NaN</td>\n",
       "      <td>NaN</td>\n",
       "      <td>NaN</td>\n",
       "      <td>NaN</td>\n",
       "      <td>NaN</td>\n",
       "      <td>NaN</td>\n",
       "      <td>NaN</td>\n",
       "      <td>NaN</td>\n",
       "      <td>NaN</td>\n",
       "    </tr>\n",
       "    <tr>\n",
       "      <th>1</th>\n",
       "      <td>36839</td>\n",
       "      <td>-122.319416</td>\n",
       "      <td>47.606209</td>\n",
       "      <td>36840</td>\n",
       "      <td>Intersection</td>\n",
       "      <td>29811.0</td>\n",
       "      <td>10TH AVE AND E JEFFERSON ST</td>\n",
       "      <td>1</td>\n",
       "      <td>Property Damage Only Collision</td>\n",
       "      <td>Unknown</td>\n",
       "      <td>1</td>\n",
       "      <td>0</td>\n",
       "      <td>0</td>\n",
       "      <td>1</td>\n",
       "      <td>0</td>\n",
       "      <td>0</td>\n",
       "      <td>0</td>\n",
       "      <td>2006-02-14 00:00:00</td>\n",
       "      <td>2006-02-14 02:13:00</td>\n",
       "      <td>At Intersection (but not related to intersection)</td>\n",
       "      <td>28.0</td>\n",
       "      <td>MOTOR VEHICLE RAN OFF ROAD - HIT FIXED OBJECT</td>\n",
       "      <td>NaN</td>\n",
       "      <td>Y</td>\n",
       "      <td>Clear</td>\n",
       "      <td>Dry</td>\n",
       "      <td>Dark - Street Lights On</td>\n",
       "      <td>N</td>\n",
       "      <td>6045010.0</td>\n",
       "      <td>Unknown</td>\n",
       "      <td>50</td>\n",
       "      <td>Fixed object</td>\n",
       "      <td>N</td>\n",
       "      <td>1</td>\n",
       "      <td>02:13</td>\n",
       "      <td>0</td>\n",
       "      <td>1</td>\n",
       "      <td>False</td>\n",
       "      <td>1900-01-01 02:13:00</td>\n",
       "      <td>2</td>\n",
       "      <td>13</td>\n",
       "      <td>False</td>\n",
       "      <td>Census Tract 86</td>\n",
       "      <td>Central District</td>\n",
       "      <td>seattle</td>\n",
       "      <td>NaN</td>\n",
       "      <td>NaN</td>\n",
       "      <td>NaN</td>\n",
       "      <td>NaN</td>\n",
       "      <td>NaN</td>\n",
       "      <td>NaN</td>\n",
       "      <td>NaN</td>\n",
       "      <td>NaN</td>\n",
       "      <td>NaN</td>\n",
       "      <td>NaN</td>\n",
       "      <td>NaN</td>\n",
       "      <td>NaN</td>\n",
       "      <td>NaN</td>\n",
       "      <td>NaN</td>\n",
       "      <td>NaN</td>\n",
       "      <td>NaN</td>\n",
       "      <td>NaN</td>\n",
       "      <td>NaN</td>\n",
       "      <td>NaN</td>\n",
       "      <td>NaN</td>\n",
       "      <td>NaN</td>\n",
       "      <td>NaN</td>\n",
       "      <td>NaN</td>\n",
       "      <td>NaN</td>\n",
       "      <td>NaN</td>\n",
       "      <td>NaN</td>\n",
       "      <td>NaN</td>\n",
       "      <td>NaN</td>\n",
       "      <td>NaN</td>\n",
       "      <td>NaN</td>\n",
       "      <td>NaN</td>\n",
       "      <td>NaN</td>\n",
       "      <td>NaN</td>\n",
       "      <td>NaN</td>\n",
       "      <td>NaN</td>\n",
       "      <td>NaN</td>\n",
       "      <td>NaN</td>\n",
       "      <td>NaN</td>\n",
       "      <td>NaN</td>\n",
       "      <td>NaN</td>\n",
       "      <td>NaN</td>\n",
       "      <td>NaN</td>\n",
       "      <td>NaN</td>\n",
       "      <td>NaN</td>\n",
       "      <td>NaN</td>\n",
       "      <td>NaN</td>\n",
       "      <td>NaN</td>\n",
       "      <td>NaN</td>\n",
       "      <td>NaN</td>\n",
       "      <td>NaN</td>\n",
       "      <td>NaN</td>\n",
       "    </tr>\n",
       "  </tbody>\n",
       "</table>\n",
       "</div>"
      ],
      "text/plain": [
       "   Unnamed: 0           x          y  objectid      addrtype   intkey  \\\n",
       "0      153046 -122.319411  47.604360    153047  Intersection  29828.0   \n",
       "1       36839 -122.319416  47.606209     36840  Intersection  29811.0   \n",
       "\n",
       "                      location severitycode                    severitydesc  \\\n",
       "0      10TH AVE AND E ALDER ST            1  Property Damage Only Collision   \n",
       "1  10TH AVE AND E JEFFERSON ST            1  Property Damage Only Collision   \n",
       "\n",
       "  collisiontype  personcount  pedcount  pedcylcount  vehcount  injuries  \\\n",
       "0    Parked Car            2         0            0         2         0   \n",
       "1       Unknown            1         0            0         1         0   \n",
       "\n",
       "   seriousinjuries  fatalities              incdate              incdttm  \\\n",
       "0                0           0  2014-11-02 00:00:00  2014-11-02 17:00:00   \n",
       "1                0           0  2006-02-14 00:00:00  2006-02-14 02:13:00   \n",
       "\n",
       "                                        junctiontype  sdot_colcode  \\\n",
       "0             At Intersection (intersection related)           0.0   \n",
       "1  At Intersection (but not related to intersection)          28.0   \n",
       "\n",
       "                                    sdot_coldesc inattentionind underinfl  \\\n",
       "0        NOT ENOUGH INFORMATION / NOT APPLICABLE            NaN         N   \n",
       "1  MOTOR VEHICLE RAN OFF ROAD - HIT FIXED OBJECT            NaN         Y   \n",
       "\n",
       "  weather roadcond                lightcond pedrownotgrnt  sdotcolnum  \\\n",
       "0   Clear    Clear                  Unknown             N         NaN   \n",
       "1   Clear      Dry  Dark - Street Lights On             N   6045010.0   \n",
       "\n",
       "  speeding st_colcode              st_coldesc hitparkedcar  fe_exists   time  \\\n",
       "0  Unknown         32  One parked--one moving            N          1  17:00   \n",
       "1  Unknown         50            Fixed object            N          1  02:13   \n",
       "\n",
       "   total_injuries  total_person_count  fe_emd           hourandmin  hour  min  \\\n",
       "0               0                   2   False  1900-01-01 17:00:00    17    0   \n",
       "1               0                   1   False  1900-01-01 02:13:00     2   13   \n",
       "\n",
       "   fe_tmd      census_area      neighborhood     city  objectid_str  artclass  \\\n",
       "0   False  Census Tract 86  Central District  seattle           NaN       NaN   \n",
       "1   False  Census Tract 86  Central District  seattle           NaN       NaN   \n",
       "\n",
       "   compkey  unitid  unitid2  unitidsort unitdesc stname_ord_str xstrlo xstrhi  \\\n",
       "0      NaN     NaN      NaN         NaN      NaN            NaN    NaN    NaN   \n",
       "1      NaN     NaN      NaN         NaN      NaN            NaN    NaN    NaN   \n",
       "\n",
       "  artdescript owner status  blocknbr  speedlimit segdir oneway onewaydir flow  \\\n",
       "0         NaN   NaN    NaN       NaN         NaN    NaN    NaN       NaN  NaN   \n",
       "1         NaN   NaN    NaN       NaN         NaN    NaN    NaN       NaN  NaN   \n",
       "\n",
       "   seglength  surfacewidth surfacetype_1 surfacetype_2 intrlo dirlo  intkeylo  \\\n",
       "0        NaN           NaN           NaN           NaN    NaN   NaN       NaN   \n",
       "1        NaN           NaN           NaN           NaN    NaN   NaN       NaN   \n",
       "\n",
       "  intrhi dirhi nationhwysys streettype  pvmtcondindx1  pvmtcondindx2  \\\n",
       "0    NaN   NaN          NaN        NaN            NaN            NaN   \n",
       "1    NaN   NaN          NaN        NaN            NaN            NaN   \n",
       "\n",
       "   tranclass trandescript  slope_pct pvmtcategory parkboulevard  \\\n",
       "0        NaN          NaN        NaN          NaN           NaN   \n",
       "1        NaN          NaN        NaN          NaN           NaN   \n",
       "\n",
       "   shape_length_str  objectid_flo stname_ord_flo  flowsegid downtown  \\\n",
       "0               NaN           NaN            NaN        NaN      NaN   \n",
       "1               NaN           NaN            NaN        NaN      NaN   \n",
       "\n",
       "  start_date  ampk  pmpk  awdt  adt  awdt_rounded dataquality flags  \\\n",
       "0        NaN   NaN   NaN   NaN  NaN           NaN         NaN   NaN   \n",
       "1        NaN   NaN   NaN   NaN  NaN           NaN         NaN   NaN   \n",
       "\n",
       "   shape_length_flo  \n",
       "0               NaN  \n",
       "1               NaN  "
      ]
     },
     "execution_count": 314,
     "metadata": {},
     "output_type": "execute_result"
    }
   ],
   "source": [
    "df_collisions_extended.head(2)"
   ]
  },
  {
   "cell_type": "code",
   "execution_count": 315,
   "metadata": {},
   "outputs": [],
   "source": [
    "# END OF EXAMPLE"
   ]
  },
  {
   "cell_type": "code",
   "execution_count": 316,
   "metadata": {},
   "outputs": [
    {
     "data": {
      "text/plain": [
       "Index(['x', 'y', 'objectid', 'addrtype', 'intkey', 'location', 'severitycode',\n",
       "       'severitydesc', 'collisiontype', 'personcount', 'pedcount',\n",
       "       'pedcylcount', 'vehcount', 'injuries', 'seriousinjuries', 'fatalities',\n",
       "       'incdate', 'incdttm', 'junctiontype', 'sdot_colcode', 'sdot_coldesc',\n",
       "       'inattentionind', 'underinfl', 'weather', 'roadcond', 'lightcond',\n",
       "       'pedrownotgrnt', 'sdotcolnum', 'speeding', 'st_colcode', 'st_coldesc',\n",
       "       'hitparkedcar', 'fe_exists', 'time', 'total_injuries',\n",
       "       'total_person_count', 'fe_emd', 'hourandmin', 'hour', 'min', 'fe_tmd',\n",
       "       'census_area', 'neighborhood', 'city'],\n",
       "      dtype='object')"
      ]
     },
     "execution_count": 316,
     "metadata": {},
     "output_type": "execute_result"
    }
   ],
   "source": [
    "df_new.columns"
   ]
  },
  {
   "cell_type": "code",
   "execution_count": 318,
   "metadata": {},
   "outputs": [
    {
     "ename": "KeyError",
     "evalue": "\"[Timestamp('1900-01-01 18:36:00') Timestamp('1900-01-01 00:00:00')\\n Timestamp('1900-01-01 13:28:00') ... Timestamp('1900-01-01 11:17:00')\\n Timestamp('1900-01-01 20:27:00') Timestamp('1900-01-01 17:18:00')] not found in axis\"",
     "output_type": "error",
     "traceback": [
      "\u001b[0;31m---------------------------------------------------------------------------\u001b[0m",
      "\u001b[0;31mKeyError\u001b[0m                                  Traceback (most recent call last)",
      "\u001b[0;32m<ipython-input-318-9d4dffb84377>\u001b[0m in \u001b[0;36m<module>\u001b[0;34m\u001b[0m\n\u001b[0;32m----> 1\u001b[0;31m \u001b[0mdf_new\u001b[0m\u001b[0;34m.\u001b[0m\u001b[0mdrop\u001b[0m\u001b[0;34m(\u001b[0m\u001b[0mdf_new\u001b[0m\u001b[0;34m[\u001b[0m\u001b[0;34m'hourandmin'\u001b[0m\u001b[0;34m]\u001b[0m\u001b[0;34m,\u001b[0m \u001b[0maxis\u001b[0m\u001b[0;34m=\u001b[0m\u001b[0;36m1\u001b[0m\u001b[0;34m,\u001b[0m \u001b[0minplace\u001b[0m\u001b[0;34m=\u001b[0m\u001b[0;32mTrue\u001b[0m\u001b[0;34m)\u001b[0m\u001b[0;34m\u001b[0m\u001b[0;34m\u001b[0m\u001b[0m\n\u001b[0m",
      "\u001b[0;32m/opt/anaconda3/lib/python3.7/site-packages/pandas/core/frame.py\u001b[0m in \u001b[0;36mdrop\u001b[0;34m(self, labels, axis, index, columns, level, inplace, errors)\u001b[0m\n\u001b[1;32m   3995\u001b[0m             \u001b[0mlevel\u001b[0m\u001b[0;34m=\u001b[0m\u001b[0mlevel\u001b[0m\u001b[0;34m,\u001b[0m\u001b[0;34m\u001b[0m\u001b[0;34m\u001b[0m\u001b[0m\n\u001b[1;32m   3996\u001b[0m             \u001b[0minplace\u001b[0m\u001b[0;34m=\u001b[0m\u001b[0minplace\u001b[0m\u001b[0;34m,\u001b[0m\u001b[0;34m\u001b[0m\u001b[0;34m\u001b[0m\u001b[0m\n\u001b[0;32m-> 3997\u001b[0;31m             \u001b[0merrors\u001b[0m\u001b[0;34m=\u001b[0m\u001b[0merrors\u001b[0m\u001b[0;34m,\u001b[0m\u001b[0;34m\u001b[0m\u001b[0;34m\u001b[0m\u001b[0m\n\u001b[0m\u001b[1;32m   3998\u001b[0m         )\n\u001b[1;32m   3999\u001b[0m \u001b[0;34m\u001b[0m\u001b[0m\n",
      "\u001b[0;32m/opt/anaconda3/lib/python3.7/site-packages/pandas/core/generic.py\u001b[0m in \u001b[0;36mdrop\u001b[0;34m(self, labels, axis, index, columns, level, inplace, errors)\u001b[0m\n\u001b[1;32m   3934\u001b[0m         \u001b[0;32mfor\u001b[0m \u001b[0maxis\u001b[0m\u001b[0;34m,\u001b[0m \u001b[0mlabels\u001b[0m \u001b[0;32min\u001b[0m \u001b[0maxes\u001b[0m\u001b[0;34m.\u001b[0m\u001b[0mitems\u001b[0m\u001b[0;34m(\u001b[0m\u001b[0;34m)\u001b[0m\u001b[0;34m:\u001b[0m\u001b[0;34m\u001b[0m\u001b[0;34m\u001b[0m\u001b[0m\n\u001b[1;32m   3935\u001b[0m             \u001b[0;32mif\u001b[0m \u001b[0mlabels\u001b[0m \u001b[0;32mis\u001b[0m \u001b[0;32mnot\u001b[0m \u001b[0;32mNone\u001b[0m\u001b[0;34m:\u001b[0m\u001b[0;34m\u001b[0m\u001b[0;34m\u001b[0m\u001b[0m\n\u001b[0;32m-> 3936\u001b[0;31m                 \u001b[0mobj\u001b[0m \u001b[0;34m=\u001b[0m \u001b[0mobj\u001b[0m\u001b[0;34m.\u001b[0m\u001b[0m_drop_axis\u001b[0m\u001b[0;34m(\u001b[0m\u001b[0mlabels\u001b[0m\u001b[0;34m,\u001b[0m \u001b[0maxis\u001b[0m\u001b[0;34m,\u001b[0m \u001b[0mlevel\u001b[0m\u001b[0;34m=\u001b[0m\u001b[0mlevel\u001b[0m\u001b[0;34m,\u001b[0m \u001b[0merrors\u001b[0m\u001b[0;34m=\u001b[0m\u001b[0merrors\u001b[0m\u001b[0;34m)\u001b[0m\u001b[0;34m\u001b[0m\u001b[0;34m\u001b[0m\u001b[0m\n\u001b[0m\u001b[1;32m   3937\u001b[0m \u001b[0;34m\u001b[0m\u001b[0m\n\u001b[1;32m   3938\u001b[0m         \u001b[0;32mif\u001b[0m \u001b[0minplace\u001b[0m\u001b[0;34m:\u001b[0m\u001b[0;34m\u001b[0m\u001b[0;34m\u001b[0m\u001b[0m\n",
      "\u001b[0;32m/opt/anaconda3/lib/python3.7/site-packages/pandas/core/generic.py\u001b[0m in \u001b[0;36m_drop_axis\u001b[0;34m(self, labels, axis, level, errors)\u001b[0m\n\u001b[1;32m   3968\u001b[0m                 \u001b[0mnew_axis\u001b[0m \u001b[0;34m=\u001b[0m \u001b[0maxis\u001b[0m\u001b[0;34m.\u001b[0m\u001b[0mdrop\u001b[0m\u001b[0;34m(\u001b[0m\u001b[0mlabels\u001b[0m\u001b[0;34m,\u001b[0m \u001b[0mlevel\u001b[0m\u001b[0;34m=\u001b[0m\u001b[0mlevel\u001b[0m\u001b[0;34m,\u001b[0m \u001b[0merrors\u001b[0m\u001b[0;34m=\u001b[0m\u001b[0merrors\u001b[0m\u001b[0;34m)\u001b[0m\u001b[0;34m\u001b[0m\u001b[0;34m\u001b[0m\u001b[0m\n\u001b[1;32m   3969\u001b[0m             \u001b[0;32melse\u001b[0m\u001b[0;34m:\u001b[0m\u001b[0;34m\u001b[0m\u001b[0;34m\u001b[0m\u001b[0m\n\u001b[0;32m-> 3970\u001b[0;31m                 \u001b[0mnew_axis\u001b[0m \u001b[0;34m=\u001b[0m \u001b[0maxis\u001b[0m\u001b[0;34m.\u001b[0m\u001b[0mdrop\u001b[0m\u001b[0;34m(\u001b[0m\u001b[0mlabels\u001b[0m\u001b[0;34m,\u001b[0m \u001b[0merrors\u001b[0m\u001b[0;34m=\u001b[0m\u001b[0merrors\u001b[0m\u001b[0;34m)\u001b[0m\u001b[0;34m\u001b[0m\u001b[0;34m\u001b[0m\u001b[0m\n\u001b[0m\u001b[1;32m   3971\u001b[0m             \u001b[0mresult\u001b[0m \u001b[0;34m=\u001b[0m \u001b[0mself\u001b[0m\u001b[0;34m.\u001b[0m\u001b[0mreindex\u001b[0m\u001b[0;34m(\u001b[0m\u001b[0;34m**\u001b[0m\u001b[0;34m{\u001b[0m\u001b[0maxis_name\u001b[0m\u001b[0;34m:\u001b[0m \u001b[0mnew_axis\u001b[0m\u001b[0;34m}\u001b[0m\u001b[0;34m)\u001b[0m\u001b[0;34m\u001b[0m\u001b[0;34m\u001b[0m\u001b[0m\n\u001b[1;32m   3972\u001b[0m \u001b[0;34m\u001b[0m\u001b[0m\n",
      "\u001b[0;32m/opt/anaconda3/lib/python3.7/site-packages/pandas/core/indexes/base.py\u001b[0m in \u001b[0;36mdrop\u001b[0;34m(self, labels, errors)\u001b[0m\n\u001b[1;32m   5016\u001b[0m         \u001b[0;32mif\u001b[0m \u001b[0mmask\u001b[0m\u001b[0;34m.\u001b[0m\u001b[0many\u001b[0m\u001b[0;34m(\u001b[0m\u001b[0;34m)\u001b[0m\u001b[0;34m:\u001b[0m\u001b[0;34m\u001b[0m\u001b[0;34m\u001b[0m\u001b[0m\n\u001b[1;32m   5017\u001b[0m             \u001b[0;32mif\u001b[0m \u001b[0merrors\u001b[0m \u001b[0;34m!=\u001b[0m \u001b[0;34m\"ignore\"\u001b[0m\u001b[0;34m:\u001b[0m\u001b[0;34m\u001b[0m\u001b[0;34m\u001b[0m\u001b[0m\n\u001b[0;32m-> 5018\u001b[0;31m                 \u001b[0;32mraise\u001b[0m \u001b[0mKeyError\u001b[0m\u001b[0;34m(\u001b[0m\u001b[0;34mf\"{labels[mask]} not found in axis\"\u001b[0m\u001b[0;34m)\u001b[0m\u001b[0;34m\u001b[0m\u001b[0;34m\u001b[0m\u001b[0m\n\u001b[0m\u001b[1;32m   5019\u001b[0m             \u001b[0mindexer\u001b[0m \u001b[0;34m=\u001b[0m \u001b[0mindexer\u001b[0m\u001b[0;34m[\u001b[0m\u001b[0;34m~\u001b[0m\u001b[0mmask\u001b[0m\u001b[0;34m]\u001b[0m\u001b[0;34m\u001b[0m\u001b[0;34m\u001b[0m\u001b[0m\n\u001b[1;32m   5020\u001b[0m         \u001b[0;32mreturn\u001b[0m \u001b[0mself\u001b[0m\u001b[0;34m.\u001b[0m\u001b[0mdelete\u001b[0m\u001b[0;34m(\u001b[0m\u001b[0mindexer\u001b[0m\u001b[0;34m)\u001b[0m\u001b[0;34m\u001b[0m\u001b[0;34m\u001b[0m\u001b[0m\n",
      "\u001b[0;31mKeyError\u001b[0m: \"[Timestamp('1900-01-01 18:36:00') Timestamp('1900-01-01 00:00:00')\\n Timestamp('1900-01-01 13:28:00') ... Timestamp('1900-01-01 11:17:00')\\n Timestamp('1900-01-01 20:27:00') Timestamp('1900-01-01 17:18:00')] not found in axis\""
     ]
    }
   ],
   "source": [
    "df_new.drop(df_new['hourandmin'], axis=1, inplace=True)"
   ]
  },
  {
   "cell_type": "code",
   "execution_count": 317,
   "metadata": {},
   "outputs": [
    {
     "data": {
      "text/plain": [
       "x                     0.032613\n",
       "y                     0.032613\n",
       "objectid              0.000000\n",
       "addrtype              0.000000\n",
       "intkey                0.675569\n",
       "location              0.020759\n",
       "severitycode          0.000005\n",
       "severitydesc          0.000000\n",
       "collisiontype         0.000000\n",
       "personcount           0.000000\n",
       "pedcount              0.000000\n",
       "pedcylcount           0.000000\n",
       "vehcount              0.000000\n",
       "injuries              0.000000\n",
       "seriousinjuries       0.000000\n",
       "fatalities            0.000000\n",
       "incdate               0.000000\n",
       "incdttm               0.000000\n",
       "junctiontype          0.000000\n",
       "sdot_colcode          0.000005\n",
       "sdot_coldesc          0.000000\n",
       "inattentionind        0.863057\n",
       "underinfl             0.000000\n",
       "weather               0.000000\n",
       "roadcond              0.000000\n",
       "lightcond             0.000000\n",
       "pedrownotgrnt         0.000000\n",
       "sdotcolnum            0.422936\n",
       "speeding              0.000000\n",
       "st_colcode            0.042702\n",
       "st_coldesc            0.000000\n",
       "hitparkedcar          0.000000\n",
       "fe_exists             0.000000\n",
       "time                  0.000000\n",
       "total_injuries        0.000000\n",
       "total_person_count    0.000000\n",
       "fe_emd                0.000000\n",
       "hourandmin            0.000000\n",
       "hour                  0.000000\n",
       "min                   0.000000\n",
       "fe_tmd                0.000000\n",
       "census_area           0.042716\n",
       "neighborhood          0.042716\n",
       "city                  0.000000\n",
       "dtype: float64"
      ]
     },
     "execution_count": 317,
     "metadata": {},
     "output_type": "execute_result"
    }
   ],
   "source": [
    "# % nulls that we have left \n",
    "df_new.isnull().sum()/len(df_new)"
   ]
  }
 ],
 "metadata": {
  "kernelspec": {
   "display_name": "Python 3",
   "language": "python",
   "name": "python3"
  },
  "language_info": {
   "codemirror_mode": {
    "name": "ipython",
    "version": 3
   },
   "file_extension": ".py",
   "mimetype": "text/x-python",
   "name": "python",
   "nbconvert_exporter": "python",
   "pygments_lexer": "ipython3",
   "version": "3.7.4"
  }
 },
 "nbformat": 4,
 "nbformat_minor": 2
}
