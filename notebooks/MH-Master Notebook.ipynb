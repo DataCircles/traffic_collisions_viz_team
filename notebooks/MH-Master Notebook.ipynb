{
 "cells": [
  {
   "cell_type": "code",
   "execution_count": 74,
   "metadata": {},
   "outputs": [],
   "source": [
    "import math\n",
    "import numpy as np\n",
    "import pandas as pd\n",
    "import seaborn as sns\n",
    "import matplotlib.pyplot as plt\n",
    "from sklearn.cluster import KMeans\n",
    "\n",
    "# Keeps notebooks clean \n",
    "import warnings\n",
    "warnings.filterwarnings(\"ignore\") \n",
    "\n",
    "\n",
    "from datetime import datetime\n",
    "from collections import namedtuple"
   ]
  },
  {
   "cell_type": "code",
   "execution_count": 2,
   "metadata": {},
   "outputs": [
    {
     "name": "stdout",
     "output_type": "stream",
     "text": [
      "Requirement already satisfied: geopandas in /opt/anaconda3/lib/python3.7/site-packages (0.8.0+17.g1b0f006)\n",
      "Requirement already satisfied: shapely>=1.6 in /opt/anaconda3/lib/python3.7/site-packages (from geopandas) (1.7.0)\n",
      "Requirement already satisfied: pandas>=0.24.0 in /opt/anaconda3/lib/python3.7/site-packages (from geopandas) (1.0.4)\n",
      "Requirement already satisfied: pyproj>=2.2.0 in /opt/anaconda3/lib/python3.7/site-packages (from geopandas) (2.6.1.post1)\n",
      "Requirement already satisfied: fiona>=1.8 in /opt/anaconda3/lib/python3.7/site-packages (from geopandas) (1.8.13.post1)\n",
      "Requirement already satisfied: pytz>=2017.2 in /opt/anaconda3/lib/python3.7/site-packages (from pandas>=0.24.0->geopandas) (2019.3)\n",
      "Requirement already satisfied: numpy>=1.13.3 in /opt/anaconda3/lib/python3.7/site-packages (from pandas>=0.24.0->geopandas) (1.17.2)\n",
      "Requirement already satisfied: python-dateutil>=2.6.1 in /opt/anaconda3/lib/python3.7/site-packages (from pandas>=0.24.0->geopandas) (2.8.0)\n",
      "Requirement already satisfied: click-plugins>=1.0 in /opt/anaconda3/lib/python3.7/site-packages (from fiona>=1.8->geopandas) (1.1.1)\n",
      "Requirement already satisfied: six>=1.7 in /opt/anaconda3/lib/python3.7/site-packages (from fiona>=1.8->geopandas) (1.12.0)\n",
      "Requirement already satisfied: click<8,>=4.0 in /opt/anaconda3/lib/python3.7/site-packages (from fiona>=1.8->geopandas) (7.0)\n",
      "Requirement already satisfied: munch in /opt/anaconda3/lib/python3.7/site-packages (from fiona>=1.8->geopandas) (2.5.0)\n",
      "Requirement already satisfied: cligj>=0.5 in /opt/anaconda3/lib/python3.7/site-packages (from fiona>=1.8->geopandas) (0.5.0)\n",
      "Requirement already satisfied: attrs>=17 in /opt/anaconda3/lib/python3.7/site-packages (from fiona>=1.8->geopandas) (19.3.0)\n"
     ]
    }
   ],
   "source": [
    "!pip install geopandas"
   ]
  },
  {
   "cell_type": "code",
   "execution_count": 3,
   "metadata": {},
   "outputs": [],
   "source": [
    "import geopandas as gpd"
   ]
  },
  {
   "cell_type": "code",
   "execution_count": 4,
   "metadata": {},
   "outputs": [
    {
     "data": {
      "text/plain": [
       "'/Users/Monika/Projects'"
      ]
     },
     "execution_count": 4,
     "metadata": {},
     "output_type": "execute_result"
    }
   ],
   "source": [
    "pwd"
   ]
  },
  {
   "cell_type": "code",
   "execution_count": 5,
   "metadata": {},
   "outputs": [],
   "source": [
    "df_collisions = pd.read_csv('data/collisions_orig.csv', parse_dates=[\"INCDTTM\"])\n",
    "df_locations_xy = pd.read_csv('data/location_xy.csv')"
   ]
  },
  {
   "cell_type": "code",
   "execution_count": 6,
   "metadata": {},
   "outputs": [
    {
     "data": {
      "text/plain": [
       "(220436, 40)"
      ]
     },
     "execution_count": 6,
     "metadata": {},
     "output_type": "execute_result"
    }
   ],
   "source": [
    "# Check the starting shape\n",
    "df_collisions.shape"
   ]
  },
  {
   "cell_type": "code",
   "execution_count": 7,
   "metadata": {},
   "outputs": [],
   "source": [
    "# Save column list to restore column order after merge\n",
    "column_list = df_collisions.columns\n",
    "column_list = column_list.append(pd.Index(['fe_exists']))"
   ]
  },
  {
   "cell_type": "code",
   "execution_count": 8,
   "metadata": {},
   "outputs": [
    {
     "data": {
      "text/plain": [
       "(220436, 38)"
      ]
     },
     "execution_count": 8,
     "metadata": {},
     "output_type": "execute_result"
    }
   ],
   "source": [
    "# Drop the old X,Y and replace with the ones in location_xy.csv if they exist, otherwise, will be nan\n",
    "df_collisions.drop(columns=['X','Y'],inplace=True,errors='ignore')   # get these from the location_xy.csv file\n",
    "df_collisions.shape"
   ]
  },
  {
   "cell_type": "code",
   "execution_count": 9,
   "metadata": {},
   "outputs": [],
   "source": [
    "df_new = pd.merge(df_collisions, df_locations_xy, on='LOCATION', how='left')"
   ]
  },
  {
   "cell_type": "code",
   "execution_count": 10,
   "metadata": {},
   "outputs": [
    {
     "data": {
      "text/plain": [
       "(220436, 41)"
      ]
     },
     "execution_count": 10,
     "metadata": {},
     "output_type": "execute_result"
    }
   ],
   "source": [
    "# Do some sanity checks\n",
    "df_new.shape"
   ]
  },
  {
   "cell_type": "code",
   "execution_count": 11,
   "metadata": {},
   "outputs": [],
   "source": [
    "# Restore the original order of columns\n",
    "df_new = df_new[column_list]"
   ]
  },
  {
   "cell_type": "code",
   "execution_count": 12,
   "metadata": {},
   "outputs": [],
   "source": [
    "df_new.drop_duplicates(inplace=True)"
   ]
  },
  {
   "cell_type": "code",
   "execution_count": 13,
   "metadata": {},
   "outputs": [
    {
     "data": {
      "text/plain": [
       "1    216059\n",
       "0      4377\n",
       "Name: fe_exists, dtype: int64"
      ]
     },
     "execution_count": 13,
     "metadata": {},
     "output_type": "execute_result"
    }
   ],
   "source": [
    "df_new['fe_exists'].value_counts()"
   ]
  },
  {
   "cell_type": "code",
   "execution_count": 14,
   "metadata": {},
   "outputs": [
    {
     "name": "stdout",
     "output_type": "stream",
     "text": [
      "220436   220436\n"
     ]
    }
   ],
   "source": [
    "new_keys = list(df_new['INCKEY'])\n",
    "col_keys = list(df_collisions['INCKEY'])\n",
    "print(f\"{len(new_keys)}   {len(col_keys)}\")"
   ]
  },
  {
   "cell_type": "code",
   "execution_count": 15,
   "metadata": {},
   "outputs": [],
   "source": [
    "#Dropping columns deemed unnecessary\n",
    "df_new.drop(['EXCEPTRSNCODE', 'EXCEPTRSNDESC', 'STATUS', 'REPORTNO', 'SEGLANEKEY', 'CROSSWALKKEY', 'INCKEY','COLDETKEY'],axis=1, inplace=True)"
   ]
  },
  {
   "cell_type": "code",
   "execution_count": 16,
   "metadata": {},
   "outputs": [],
   "source": [
    "#to lowercase\n",
    "df_new.columns = df_new.columns.str.lower()"
   ]
  },
  {
   "cell_type": "code",
   "execution_count": 17,
   "metadata": {},
   "outputs": [
    {
     "data": {
      "text/plain": [
       "Index(['x', 'y', 'objectid', 'addrtype', 'intkey', 'location', 'severitycode',\n",
       "       'severitydesc', 'collisiontype', 'personcount', 'pedcount',\n",
       "       'pedcylcount', 'vehcount', 'injuries', 'seriousinjuries', 'fatalities',\n",
       "       'incdate', 'incdttm', 'junctiontype', 'sdot_colcode', 'sdot_coldesc',\n",
       "       'inattentionind', 'underinfl', 'weather', 'roadcond', 'lightcond',\n",
       "       'pedrownotgrnt', 'sdotcolnum', 'speeding', 'st_colcode', 'st_coldesc',\n",
       "       'hitparkedcar', 'fe_exists'],\n",
       "      dtype='object')"
      ]
     },
     "execution_count": 17,
     "metadata": {},
     "output_type": "execute_result"
    }
   ],
   "source": [
    "df_new.columns"
   ]
  },
  {
   "cell_type": "code",
   "execution_count": 18,
   "metadata": {},
   "outputs": [
    {
     "name": "stdout",
     "output_type": "stream",
     "text": [
      "7189\n",
      "7189\n"
     ]
    }
   ],
   "source": [
    "print(df_new['x'].isnull().sum())\n",
    "print(df_new['y'].isnull().sum())"
   ]
  },
  {
   "cell_type": "code",
   "execution_count": 19,
   "metadata": {},
   "outputs": [],
   "source": [
    "#FE time, total_injuries and total_person_count columns\n",
    "df_new[\"time\"]=df_new['incdttm'].dt.strftime('%H:%M')\n",
    "df_new[\"total_injuries\"]=df_new['injuries'] + df_new['seriousinjuries']  + df_new['fatalities']\n",
    "df_new[\"total_person_count\"]=df_new['personcount'] + df_new['pedcount']  + df_new['pedcylcount']"
   ]
  },
  {
   "cell_type": "code",
   "execution_count": 20,
   "metadata": {},
   "outputs": [],
   "source": [
    "#FE emd column for the missing 26,000\n",
    "fe_emd_crit = (df_new['weather'].isnull() &\n",
    "    df_new['lightcond'].isnull() &\n",
    "    df_new['roadcond'].isnull() &\n",
    "    df_new['collisiontype'].isnull() &\n",
    "    df_new['st_coldesc'].isnull() &\n",
    "    df_new['underinfl'].isnull() &\n",
    "    df_new['inattentionind'].isnull() &\n",
    "    df_new['speeding'].isnull() &\n",
    "    df_new['pedrownotgrnt'].isnull() &\n",
    "    (df_new['vehcount'] == 0))\n",
    "df_new['fe_emd'] = fe_emd_crit"
   ]
  },
  {
   "cell_type": "code",
   "execution_count": 21,
   "metadata": {},
   "outputs": [],
   "source": [
    "#converting incdate to datetime\n",
    "df_new[\"incdate\"] = df_new[\"incdate\"].astype(\"datetime64\")"
   ]
  },
  {
   "cell_type": "code",
   "execution_count": 22,
   "metadata": {},
   "outputs": [],
   "source": [
    "#Rebecca's contribution: filling in missing values\n",
    "categories = [\"addrtype\", \"collisiontype\", \"severitydesc\", \"lightcond\",\n",
    "             \"speeding\", \"junctiontype\", \"roadcond\", \"weather\"]\n",
    "\n",
    "for col in categories:\n",
    "    df_new[col] = df_new[col].replace({np.nan: \"Unknown\", \"Other\": \"Unknown\"})\n",
    "    \n",
    "df_new[\"pedrownotgrnt\"] = df_new[\"pedrownotgrnt\"].replace({np.nan: \"N\"})    \n",
    "\n",
    "# While we are at it, let's go ahead and clean up missing values for these two:\n",
    "df_new[\"st_coldesc\"] = df_new[\"st_coldesc\"].replace({np.nan: \"Unknown\"})  \n",
    "df_new[\"sdot_coldesc\"] = df_new[\"sdot_coldesc\"].replace({np.nan: \"Unknown\"})\n",
    "\n",
    "df_new[\"underinfl\"] = df_new[\"underinfl\"].replace({\"0\": \"N\", \"1\": \"Y\", np.nan: \"X\"})"
   ]
  },
  {
   "cell_type": "code",
   "execution_count": 23,
   "metadata": {},
   "outputs": [],
   "source": [
    "#df2 = df_new.set_index('incdate') #change index to incdate \n",
    "#df2['2004-01-02'] "
   ]
  },
  {
   "cell_type": "code",
   "execution_count": 24,
   "metadata": {},
   "outputs": [],
   "source": [
    "#df2.loc['2004-01-02']['weather'].value_counts()"
   ]
  },
  {
   "cell_type": "code",
   "execution_count": 25,
   "metadata": {},
   "outputs": [],
   "source": [
    "#Jeny - work in progress\n",
    "#for each column, get value counts in decreasing order and take the index (value) of most common class\n",
    "#weather_imputed = df2.apply(lambda x: x.fillna(x.value_counts().ind))\n",
    "#df_most_common_imputed = colors.apply(lambda x: x.fillna(x.value_counts().index[0]))\n",
    "#df_most_common_imputed\n",
    "\n",
    "#df2['weather'] = df2['weather'].apply(lambda x: x.fillna(x.value_counts().index[0]))"
   ]
  },
  {
   "cell_type": "code",
   "execution_count": 26,
   "metadata": {},
   "outputs": [
    {
     "data": {
      "text/plain": [
       "['Vehicle backing hits pedestrian',\n",
       " 'Unknown',\n",
       " 'Entering at angle',\n",
       " 'From same direction - both going straight - both moving - sideswipe',\n",
       " 'From same direction - all others',\n",
       " 'One car entering driveway access',\n",
       " 'From opposite direction - one left turn - one straight',\n",
       " 'From same direction - both going straight - one stopped - rear-end',\n",
       " 'Fixed object',\n",
       " 'From same direction - both going straight - both moving - rear-end',\n",
       " 'One parked--one moving',\n",
       " 'Same direction -- both turning right -- both moving -- sideswipe',\n",
       " 'Pedalcyclist Strikes Moving Vehicle',\n",
       " 'Breakage of any part of the vehicle resulting in injury or in further property damage',\n",
       " 'One car leaving parked position',\n",
       " 'From opposite direction - both going straight - one stopped - sideswipe',\n",
       " 'From same direction - both going straight - one stopped - sideswipe',\n",
       " 'Same direction -- both turning right -- one stopped -- rear end',\n",
       " 'Same direction -- both turning left -- both moving -- sideswipe',\n",
       " 'From same direction - one right turn - one straight',\n",
       " 'Vehicle turning right hits pedestrian',\n",
       " 'Vehicle going straight hits pedestrian',\n",
       " 'From opposite direction - one stopped - head-on',\n",
       " 'Vehicle overturned',\n",
       " 'Vehicle Strikes Pedalcyclist',\n",
       " 'From opposite direction - all others',\n",
       " 'From same direction - one left turn - one straight',\n",
       " 'From opposite direction - both going straight - sideswipe',\n",
       " 'From opposite direction - both moving - head-on',\n",
       " 'Vehicle turning left hits pedestrian',\n",
       " 'Same direction -- both turning left -- both moving -- rear end',\n",
       " 'All other non-collision',\n",
       " 'Vehicle - Pedalcyclist',\n",
       " 'Pedalcyclist All Other Involvements ONE UNIT - PEDALCYCLIST ONLY or PEDALCYCLIST STR',\n",
       " 'One car entering parked position',\n",
       " 'Railway Vehicle Strikes Vehicle',\n",
       " 'One car leaving driveway access',\n",
       " 'Same direction -- both turning left -- one stopped -- rear end',\n",
       " 'Same direction -- both turning right -- both moving -- rear end',\n",
       " 'Other object',\n",
       " 'Same direction -- both turning right -- one stopped -- sideswipe',\n",
       " 'Vehicle hits Pedestrian - All Other Actions',\n",
       " 'Person fell, jumped or was pushed from vehicle',\n",
       " 'Vehicle Hits Other Road or Construction Machinery',\n",
       " 'From opposite direction - one left turn - one right turn',\n",
       " 'Vehicle Strikes Railway Vehicle',\n",
       " 'Strikes or Was Struck by Object from the Load of Another Vehicle',\n",
       " 'Vehicle Struck by City Road or Construction Machinery',\n",
       " 'Same direction -- both turning left -- one stopped -- sideswipe',\n",
       " 'Vehicle Struck by Other Road or Construction Machinery',\n",
       " 'Non-domestic animal (deer, bear, elk, etc)',\n",
       " 'Not stated',\n",
       " 'Railway Vehicle Strikes Pedalcyclist',\n",
       " 'Railway Vehicle Strikes Pedestrian',\n",
       " 'Domestic animal other (cat, dog, etc)',\n",
       " 'Vehicle Hits City Road or Construction Machinery',\n",
       " 'Fire started in vehicle',\n",
       " 'Vehicle Hits State Road or Construction Machinery',\n",
       " 'Vehicle Strikes All Other Non-Domestic Animal',\n",
       " 'Pedalcyclist Strikes Pedalcyclist or Pedestrian',\n",
       " 'Vehicle Strikes Deer',\n",
       " 'All Other Multi Vehicle',\n",
       " 'Strikes or Was Struck by a Part of Another Vehicle (Not from Load)']"
      ]
     },
     "execution_count": 26,
     "metadata": {},
     "output_type": "execute_result"
    }
   ],
   "source": [
    "#Niwako's contribution for collision codes\n",
    "labels = list(df_new['st_coldesc'].unique())\n",
    "labels"
   ]
  },
  {
   "cell_type": "code",
   "execution_count": 27,
   "metadata": {},
   "outputs": [
    {
     "data": {
      "text/plain": [
       "['From same direction - both going straight - both moving - sideswipe',\n",
       " 'From same direction - all others',\n",
       " 'One car entering driveway access',\n",
       " 'From opposite direction - one left turn - one straight',\n",
       " 'From same direction - both going straight - one stopped - rear-end',\n",
       " 'From same direction - both going straight - both moving - rear-end',\n",
       " 'One parked--one moving',\n",
       " 'One car leaving parked position',\n",
       " 'From opposite direction - both going straight - one stopped - sideswipe',\n",
       " 'From same direction - both going straight - one stopped - sideswipe',\n",
       " 'From same direction - one right turn - one straight',\n",
       " 'From opposite direction - one stopped - head-on',\n",
       " 'Vehicle overturned',\n",
       " 'From opposite direction - all others',\n",
       " 'From same direction - one left turn - one straight',\n",
       " 'From opposite direction - both going straight - sideswipe',\n",
       " 'From opposite direction - both moving - head-on',\n",
       " 'One car entering parked position',\n",
       " 'One car leaving driveway access',\n",
       " 'From opposite direction - one left turn - one right turn',\n",
       " 'All Other Multi Vehicle']"
      ]
     },
     "execution_count": 27,
     "metadata": {},
     "output_type": "execute_result"
    }
   ],
   "source": [
    "vehicle_only_labels = [\n",
    "    label \n",
    "    for label in df_new['st_coldesc'].dropna().unique() \n",
    "    if label.startswith('From same direction')\n",
    "    or label.startswith('From opposite direction')\n",
    "    or label.startswith('One car')\n",
    "    or label.startswith('One parked')\n",
    "    or label.startswith('Vehicle overturned')\n",
    "    or label.startswith('All Other Multi Vehicle')\n",
    "    \n",
    "]\n",
    "vehicle_only_labels"
   ]
  },
  {
   "cell_type": "code",
   "execution_count": 28,
   "metadata": {},
   "outputs": [
    {
     "data": {
      "text/plain": [
       "(127569, 37)"
      ]
     },
     "execution_count": 28,
     "metadata": {},
     "output_type": "execute_result"
    }
   ],
   "source": [
    "vehicle_only_df = df_new[df_new['st_coldesc'].isin(vehicle_only_labels)]\n",
    "vehicle_only_df.shape"
   ]
  },
  {
   "cell_type": "code",
   "execution_count": 29,
   "metadata": {},
   "outputs": [
    {
     "data": {
      "text/html": [
       "<div>\n",
       "<style scoped>\n",
       "    .dataframe tbody tr th:only-of-type {\n",
       "        vertical-align: middle;\n",
       "    }\n",
       "\n",
       "    .dataframe tbody tr th {\n",
       "        vertical-align: top;\n",
       "    }\n",
       "\n",
       "    .dataframe thead th {\n",
       "        text-align: right;\n",
       "    }\n",
       "</style>\n",
       "<table border=\"1\" class=\"dataframe\">\n",
       "  <thead>\n",
       "    <tr style=\"text-align: right;\">\n",
       "      <th></th>\n",
       "      <th>x</th>\n",
       "      <th>y</th>\n",
       "      <th>objectid</th>\n",
       "      <th>addrtype</th>\n",
       "      <th>intkey</th>\n",
       "      <th>location</th>\n",
       "      <th>severitycode</th>\n",
       "      <th>severitydesc</th>\n",
       "      <th>collisiontype</th>\n",
       "      <th>personcount</th>\n",
       "      <th>...</th>\n",
       "      <th>sdotcolnum</th>\n",
       "      <th>speeding</th>\n",
       "      <th>st_colcode</th>\n",
       "      <th>st_coldesc</th>\n",
       "      <th>hitparkedcar</th>\n",
       "      <th>fe_exists</th>\n",
       "      <th>time</th>\n",
       "      <th>total_injuries</th>\n",
       "      <th>total_person_count</th>\n",
       "      <th>fe_emd</th>\n",
       "    </tr>\n",
       "  </thead>\n",
       "  <tbody>\n",
       "    <tr>\n",
       "      <th>3</th>\n",
       "      <td>-122.320383</td>\n",
       "      <td>47.539432</td>\n",
       "      <td>4</td>\n",
       "      <td>Intersection</td>\n",
       "      <td>34194.0</td>\n",
       "      <td>ELLIS AVE S AND S MYRTLE ST</td>\n",
       "      <td>1</td>\n",
       "      <td>Property Damage Only Collision</td>\n",
       "      <td>Sideswipe</td>\n",
       "      <td>2</td>\n",
       "      <td>...</td>\n",
       "      <td>NaN</td>\n",
       "      <td>Unknown</td>\n",
       "      <td>11</td>\n",
       "      <td>From same direction - both going straight - bo...</td>\n",
       "      <td>N</td>\n",
       "      <td>1</td>\n",
       "      <td>08:12</td>\n",
       "      <td>0</td>\n",
       "      <td>2</td>\n",
       "      <td>False</td>\n",
       "    </tr>\n",
       "    <tr>\n",
       "      <th>6</th>\n",
       "      <td>-122.346793</td>\n",
       "      <td>47.662069</td>\n",
       "      <td>7</td>\n",
       "      <td>Block</td>\n",
       "      <td>NaN</td>\n",
       "      <td>N 46TH ST BETWEEN PHINNEY TURN RD AND GREEN LA...</td>\n",
       "      <td>1</td>\n",
       "      <td>Property Damage Only Collision</td>\n",
       "      <td>Unknown</td>\n",
       "      <td>2</td>\n",
       "      <td>...</td>\n",
       "      <td>NaN</td>\n",
       "      <td>Unknown</td>\n",
       "      <td>23</td>\n",
       "      <td>From same direction - all others</td>\n",
       "      <td>N</td>\n",
       "      <td>1</td>\n",
       "      <td>08:48</td>\n",
       "      <td>0</td>\n",
       "      <td>2</td>\n",
       "      <td>False</td>\n",
       "    </tr>\n",
       "    <tr>\n",
       "      <th>8</th>\n",
       "      <td>-122.318085</td>\n",
       "      <td>47.550433</td>\n",
       "      <td>9</td>\n",
       "      <td>Block</td>\n",
       "      <td>NaN</td>\n",
       "      <td>AIRPORT WAY S BETWEEN S HOMER ST AND S DORIS ST</td>\n",
       "      <td>1</td>\n",
       "      <td>Property Damage Only Collision</td>\n",
       "      <td>Unknown</td>\n",
       "      <td>2</td>\n",
       "      <td>...</td>\n",
       "      <td>4265024.0</td>\n",
       "      <td>Unknown</td>\n",
       "      <td>21</td>\n",
       "      <td>One car entering driveway access</td>\n",
       "      <td>N</td>\n",
       "      <td>1</td>\n",
       "      <td>10:34</td>\n",
       "      <td>0</td>\n",
       "      <td>2</td>\n",
       "      <td>False</td>\n",
       "    </tr>\n",
       "    <tr>\n",
       "      <th>9</th>\n",
       "      <td>-122.330444</td>\n",
       "      <td>47.624275</td>\n",
       "      <td>10</td>\n",
       "      <td>Intersection</td>\n",
       "      <td>29121.0</td>\n",
       "      <td>MERCER ST AND YALE AVE N</td>\n",
       "      <td>1</td>\n",
       "      <td>Property Damage Only Collision</td>\n",
       "      <td>Left Turn</td>\n",
       "      <td>4</td>\n",
       "      <td>...</td>\n",
       "      <td>4339001.0</td>\n",
       "      <td>Unknown</td>\n",
       "      <td>28</td>\n",
       "      <td>From opposite direction - one left turn - one ...</td>\n",
       "      <td>N</td>\n",
       "      <td>1</td>\n",
       "      <td>00:00</td>\n",
       "      <td>0</td>\n",
       "      <td>4</td>\n",
       "      <td>False</td>\n",
       "    </tr>\n",
       "    <tr>\n",
       "      <th>10</th>\n",
       "      <td>-122.351134</td>\n",
       "      <td>47.570942</td>\n",
       "      <td>11</td>\n",
       "      <td>Block</td>\n",
       "      <td>NaN</td>\n",
       "      <td>WEST SEATTLE BR EB BETWEEN ALASKAN WY VI NB ON...</td>\n",
       "      <td>1</td>\n",
       "      <td>Property Damage Only Collision</td>\n",
       "      <td>Rear Ended</td>\n",
       "      <td>2</td>\n",
       "      <td>...</td>\n",
       "      <td>NaN</td>\n",
       "      <td>Y</td>\n",
       "      <td>14</td>\n",
       "      <td>From same direction - both going straight - on...</td>\n",
       "      <td>N</td>\n",
       "      <td>0</td>\n",
       "      <td>08:28</td>\n",
       "      <td>0</td>\n",
       "      <td>2</td>\n",
       "      <td>False</td>\n",
       "    </tr>\n",
       "  </tbody>\n",
       "</table>\n",
       "<p>5 rows × 37 columns</p>\n",
       "</div>"
      ],
      "text/plain": [
       "             x          y  objectid      addrtype   intkey  \\\n",
       "3  -122.320383  47.539432         4  Intersection  34194.0   \n",
       "6  -122.346793  47.662069         7         Block      NaN   \n",
       "8  -122.318085  47.550433         9         Block      NaN   \n",
       "9  -122.330444  47.624275        10  Intersection  29121.0   \n",
       "10 -122.351134  47.570942        11         Block      NaN   \n",
       "\n",
       "                                             location severitycode  \\\n",
       "3                         ELLIS AVE S AND S MYRTLE ST            1   \n",
       "6   N 46TH ST BETWEEN PHINNEY TURN RD AND GREEN LA...            1   \n",
       "8     AIRPORT WAY S BETWEEN S HOMER ST AND S DORIS ST            1   \n",
       "9                            MERCER ST AND YALE AVE N            1   \n",
       "10  WEST SEATTLE BR EB BETWEEN ALASKAN WY VI NB ON...            1   \n",
       "\n",
       "                      severitydesc collisiontype  personcount  ...  \\\n",
       "3   Property Damage Only Collision     Sideswipe            2  ...   \n",
       "6   Property Damage Only Collision       Unknown            2  ...   \n",
       "8   Property Damage Only Collision       Unknown            2  ...   \n",
       "9   Property Damage Only Collision     Left Turn            4  ...   \n",
       "10  Property Damage Only Collision    Rear Ended            2  ...   \n",
       "\n",
       "    sdotcolnum  speeding  st_colcode  \\\n",
       "3          NaN   Unknown          11   \n",
       "6          NaN   Unknown          23   \n",
       "8    4265024.0   Unknown          21   \n",
       "9    4339001.0   Unknown          28   \n",
       "10         NaN         Y          14   \n",
       "\n",
       "                                           st_coldesc  hitparkedcar  \\\n",
       "3   From same direction - both going straight - bo...             N   \n",
       "6                    From same direction - all others             N   \n",
       "8                    One car entering driveway access             N   \n",
       "9   From opposite direction - one left turn - one ...             N   \n",
       "10  From same direction - both going straight - on...             N   \n",
       "\n",
       "    fe_exists   time total_injuries total_person_count  fe_emd  \n",
       "3           1  08:12              0                  2   False  \n",
       "6           1  08:48              0                  2   False  \n",
       "8           1  10:34              0                  2   False  \n",
       "9           1  00:00              0                  4   False  \n",
       "10          0  08:28              0                  2   False  \n",
       "\n",
       "[5 rows x 37 columns]"
      ]
     },
     "execution_count": 29,
     "metadata": {},
     "output_type": "execute_result"
    }
   ],
   "source": [
    "vehicle_only_df.head()"
   ]
  },
  {
   "cell_type": "code",
   "execution_count": 30,
   "metadata": {},
   "outputs": [
    {
     "data": {
      "text/plain": [
       "<matplotlib.axes._subplots.AxesSubplot at 0x12ecad150>"
      ]
     },
     "execution_count": 30,
     "metadata": {},
     "output_type": "execute_result"
    },
    {
     "data": {
      "image/png": "[encoded data removed]",
      "text/plain": [
       "<Figure size 1008x432 with 1 Axes>"
      ]
     },
     "metadata": {
      "needs_background": "light"
     },
     "output_type": "display_data"
    }
   ],
   "source": [
    "vehicle_only_df['st_coldesc'].value_counts().to_frame('count').plot.bar(figsize=(14, 6))"
   ]
  },
  {
   "cell_type": "markdown",
   "metadata": {},
   "source": [
    "## Merge with GEOJSON\n",
    "Using geopandas to join our collisions dataset to the Census file using our x/y coordinates.\n"
   ]
  },
  {
   "cell_type": "code",
   "execution_count": 36,
   "metadata": {},
   "outputs": [
    {
     "data": {
      "text/html": [
       "<div>\n",
       "<style scoped>\n",
       "    .dataframe tbody tr th:only-of-type {\n",
       "        vertical-align: middle;\n",
       "    }\n",
       "\n",
       "    .dataframe tbody tr th {\n",
       "        vertical-align: top;\n",
       "    }\n",
       "\n",
       "    .dataframe thead th {\n",
       "        text-align: right;\n",
       "    }\n",
       "</style>\n",
       "<table border=\"1\" class=\"dataframe\">\n",
       "  <thead>\n",
       "    <tr style=\"text-align: right;\">\n",
       "      <th></th>\n",
       "      <th>x</th>\n",
       "      <th>y</th>\n",
       "      <th>objectid</th>\n",
       "      <th>addrtype</th>\n",
       "      <th>intkey</th>\n",
       "      <th>location</th>\n",
       "      <th>severitycode</th>\n",
       "      <th>severitydesc</th>\n",
       "      <th>collisiontype</th>\n",
       "      <th>personcount</th>\n",
       "      <th>...</th>\n",
       "      <th>st_colcode</th>\n",
       "      <th>st_coldesc</th>\n",
       "      <th>hitparkedcar</th>\n",
       "      <th>fe_exists</th>\n",
       "      <th>time</th>\n",
       "      <th>total_injuries</th>\n",
       "      <th>total_person_count</th>\n",
       "      <th>fe_emd</th>\n",
       "      <th>cluster</th>\n",
       "      <th>geometry</th>\n",
       "    </tr>\n",
       "  </thead>\n",
       "  <tbody>\n",
       "    <tr>\n",
       "      <th>0</th>\n",
       "      <td>-122.340472</td>\n",
       "      <td>47.608629</td>\n",
       "      <td>1</td>\n",
       "      <td>Intersection</td>\n",
       "      <td>29598.0</td>\n",
       "      <td>PIKE PL AND PIKE ST</td>\n",
       "      <td>2</td>\n",
       "      <td>Injury Collision</td>\n",
       "      <td>Pedestrian</td>\n",
       "      <td>2</td>\n",
       "      <td>...</td>\n",
       "      <td>3</td>\n",
       "      <td>Vehicle backing hits pedestrian</td>\n",
       "      <td>N</td>\n",
       "      <td>1</td>\n",
       "      <td>18:36</td>\n",
       "      <td>1</td>\n",
       "      <td>3</td>\n",
       "      <td>False</td>\n",
       "      <td>0</td>\n",
       "      <td>POINT (-122.34047 47.60863)</td>\n",
       "    </tr>\n",
       "  </tbody>\n",
       "</table>\n",
       "<p>1 rows × 39 columns</p>\n",
       "</div>"
      ],
      "text/plain": [
       "            x          y  objectid      addrtype   intkey  \\\n",
       "0 -122.340472  47.608629         1  Intersection  29598.0   \n",
       "\n",
       "              location severitycode      severitydesc collisiontype  \\\n",
       "0  PIKE PL AND PIKE ST            2  Injury Collision    Pedestrian   \n",
       "\n",
       "   personcount  ...  st_colcode                       st_coldesc  \\\n",
       "0            2  ...           3  Vehicle backing hits pedestrian   \n",
       "\n",
       "   hitparkedcar  fe_exists   time  total_injuries total_person_count fe_emd  \\\n",
       "0             N          1  18:36               1                  3  False   \n",
       "\n",
       "  cluster                     geometry  \n",
       "0       0  POINT (-122.34047 47.60863)  \n",
       "\n",
       "[1 rows x 39 columns]"
      ]
     },
     "execution_count": 36,
     "metadata": {},
     "output_type": "execute_result"
    }
   ],
   "source": [
    "# Create a dataframe that includes a new feature called geometry, which is basically a point made from x & y           \n",
    "gdf_collisions = gpd.GeoDataFrame(df_new, geometry=gpd.points_from_xy(df_new.x, df_new.y))\n",
    "# This will show the newly created geometry geo feature\n",
    "gdf_collisions.head(1)"
   ]
  },
  {
   "cell_type": "code",
   "execution_count": 37,
   "metadata": {},
   "outputs": [
    {
     "data": {
      "text/html": [
       "<div>\n",
       "<style scoped>\n",
       "    .dataframe tbody tr th:only-of-type {\n",
       "        vertical-align: middle;\n",
       "    }\n",
       "\n",
       "    .dataframe tbody tr th {\n",
       "        vertical-align: top;\n",
       "    }\n",
       "\n",
       "    .dataframe thead th {\n",
       "        text-align: right;\n",
       "    }\n",
       "</style>\n",
       "<table border=\"1\" class=\"dataframe\">\n",
       "  <thead>\n",
       "    <tr style=\"text-align: right;\">\n",
       "      <th></th>\n",
       "      <th>OBJECTID</th>\n",
       "      <th>TRACT</th>\n",
       "      <th>TRACTCE10</th>\n",
       "      <th>GEOID10</th>\n",
       "      <th>NAME10</th>\n",
       "      <th>NAMELSAD10</th>\n",
       "      <th>ACRES_TOTAL</th>\n",
       "      <th>WATER</th>\n",
       "      <th>SHAPE_Length</th>\n",
       "      <th>SHAPE_Area</th>\n",
       "      <th>geometry</th>\n",
       "    </tr>\n",
       "  </thead>\n",
       "  <tbody>\n",
       "    <tr>\n",
       "      <th>0</th>\n",
       "      <td>1</td>\n",
       "      <td>2500</td>\n",
       "      <td>002500</td>\n",
       "      <td>53033002500</td>\n",
       "      <td>25</td>\n",
       "      <td>Census Tract 25</td>\n",
       "      <td>243.219083</td>\n",
       "      <td>0</td>\n",
       "      <td>16442.968402</td>\n",
       "      <td>1.059462e+07</td>\n",
       "      <td>POLYGON ((-122.29602 47.69023, -122.29608 47.6...</td>\n",
       "    </tr>\n",
       "  </tbody>\n",
       "</table>\n",
       "</div>"
      ],
      "text/plain": [
       "   OBJECTID  TRACT TRACTCE10      GEOID10 NAME10       NAMELSAD10  \\\n",
       "0         1   2500    002500  53033002500     25  Census Tract 25   \n",
       "\n",
       "   ACRES_TOTAL  WATER  SHAPE_Length    SHAPE_Area  \\\n",
       "0   243.219083      0  16442.968402  1.059462e+07   \n",
       "\n",
       "                                            geometry  \n",
       "0  POLYGON ((-122.29602 47.69023, -122.29608 47.6...  "
      ]
     },
     "execution_count": 37,
     "metadata": {},
     "output_type": "execute_result"
    }
   ],
   "source": [
    "# Open the Census Tracts Geo file\n",
    "geojson_file = \"data/Census_Tracts_2010.geojson\"\n",
    "census_tracts = gpd.read_file(geojson_file)\n",
    "census_tracts.head(1)"
   ]
  },
  {
   "cell_type": "code",
   "execution_count": 38,
   "metadata": {},
   "outputs": [],
   "source": [
    "# conda install rtree"
   ]
  },
  {
   "cell_type": "code",
   "execution_count": 39,
   "metadata": {},
   "outputs": [],
   "source": [
    "# Join the two - a left join means we wont loose records from our collision dataset. within means the x/y pont must be contained within the census polygon\n",
    "df_with_geo = gpd.sjoin(gdf_collisions, census_tracts, how=\"left\", op=\"within\")"
   ]
  },
  {
   "cell_type": "code",
   "execution_count": 40,
   "metadata": {},
   "outputs": [
    {
     "name": "stdout",
     "output_type": "stream",
     "text": [
      "Original df shape: (220436, 39)\n",
      "New df shape: (220436, 50)\n"
     ]
    }
   ],
   "source": [
    "# Make sure it was a left join and we didn't loose any records\n",
    "print(\"Original df shape:\", df_new.shape)\n",
    "print(\"New df shape:\", df_with_geo.shape)"
   ]
  },
  {
   "cell_type": "code",
   "execution_count": 41,
   "metadata": {},
   "outputs": [
    {
     "data": {
      "text/html": [
       "<div>\n",
       "<style scoped>\n",
       "    .dataframe tbody tr th:only-of-type {\n",
       "        vertical-align: middle;\n",
       "    }\n",
       "\n",
       "    .dataframe tbody tr th {\n",
       "        vertical-align: top;\n",
       "    }\n",
       "\n",
       "    .dataframe thead th {\n",
       "        text-align: right;\n",
       "    }\n",
       "</style>\n",
       "<table border=\"1\" class=\"dataframe\">\n",
       "  <thead>\n",
       "    <tr style=\"text-align: right;\">\n",
       "      <th></th>\n",
       "      <th>x</th>\n",
       "      <th>y</th>\n",
       "      <th>objectid</th>\n",
       "      <th>addrtype</th>\n",
       "      <th>intkey</th>\n",
       "      <th>location</th>\n",
       "      <th>severitycode</th>\n",
       "      <th>severitydesc</th>\n",
       "      <th>collisiontype</th>\n",
       "      <th>personcount</th>\n",
       "      <th>...</th>\n",
       "      <th>st_colcode</th>\n",
       "      <th>st_coldesc</th>\n",
       "      <th>hitparkedcar</th>\n",
       "      <th>fe_exists</th>\n",
       "      <th>time</th>\n",
       "      <th>total_injuries</th>\n",
       "      <th>total_person_count</th>\n",
       "      <th>fe_emd</th>\n",
       "      <th>cluster</th>\n",
       "      <th>NAMELSAD10</th>\n",
       "    </tr>\n",
       "  </thead>\n",
       "  <tbody>\n",
       "    <tr>\n",
       "      <th>0</th>\n",
       "      <td>-122.340472</td>\n",
       "      <td>47.608629</td>\n",
       "      <td>1</td>\n",
       "      <td>Intersection</td>\n",
       "      <td>29598.0</td>\n",
       "      <td>PIKE PL AND PIKE ST</td>\n",
       "      <td>2</td>\n",
       "      <td>Injury Collision</td>\n",
       "      <td>Pedestrian</td>\n",
       "      <td>2</td>\n",
       "      <td>...</td>\n",
       "      <td>3</td>\n",
       "      <td>Vehicle backing hits pedestrian</td>\n",
       "      <td>N</td>\n",
       "      <td>1</td>\n",
       "      <td>18:36</td>\n",
       "      <td>1</td>\n",
       "      <td>3</td>\n",
       "      <td>False</td>\n",
       "      <td>0</td>\n",
       "      <td>Census Tract 81</td>\n",
       "    </tr>\n",
       "  </tbody>\n",
       "</table>\n",
       "<p>1 rows × 39 columns</p>\n",
       "</div>"
      ],
      "text/plain": [
       "            x          y  objectid      addrtype   intkey  \\\n",
       "0 -122.340472  47.608629         1  Intersection  29598.0   \n",
       "\n",
       "              location severitycode      severitydesc collisiontype  \\\n",
       "0  PIKE PL AND PIKE ST            2  Injury Collision    Pedestrian   \n",
       "\n",
       "   personcount  ...  st_colcode                       st_coldesc  \\\n",
       "0            2  ...           3  Vehicle backing hits pedestrian   \n",
       "\n",
       "   hitparkedcar  fe_exists   time  total_injuries total_person_count fe_emd  \\\n",
       "0             N          1  18:36               1                  3  False   \n",
       "\n",
       "  cluster       NAMELSAD10  \n",
       "0       0  Census Tract 81  \n",
       "\n",
       "[1 rows x 39 columns]"
      ]
     },
     "execution_count": 41,
     "metadata": {},
     "output_type": "execute_result"
    }
   ],
   "source": [
    "# Drop un-needed columns\n",
    "df_with_geo.drop(['OBJECTID', 'TRACT', 'TRACTCE10', 'GEOID10', 'NAME10', 'WATER', 'geometry', 'SHAPE_Area', 'SHAPE_Length', 'ACRES_TOTAL', 'index_right', 'SHAPE_Length', 'SHAPE_Area'],axis=1, inplace=True)\n",
    "df_with_geo.head(1)"
   ]
  },
  {
   "cell_type": "code",
   "execution_count": 42,
   "metadata": {},
   "outputs": [],
   "source": [
    "df_with_geo.columns = df_with_geo.columns.str.lower()"
   ]
  },
  {
   "cell_type": "markdown",
   "metadata": {},
   "source": [
    "## Merge with Neighborhood Csv\n",
    "Mergin with this dataset (created using Tableau) which contains the neighborhood for each census group"
   ]
  },
  {
   "cell_type": "code",
   "execution_count": 43,
   "metadata": {},
   "outputs": [
    {
     "data": {
      "text/plain": [
       "(135, 2)"
      ]
     },
     "execution_count": 43,
     "metadata": {},
     "output_type": "execute_result"
    }
   ],
   "source": [
    "# Now we can pull neighborhood from the csv I created from tableau\n",
    "\n",
    "df_neighborhood = pd.read_csv('data/location_neighborhood_census_area.csv')\n",
    "df_neighborhood.shape"
   ]
  },
  {
   "cell_type": "code",
   "execution_count": 44,
   "metadata": {},
   "outputs": [],
   "source": [
    "df_with_geo_neighborhood = pd.merge(df_with_geo, df_neighborhood, on='namelsad10', how='left')"
   ]
  },
  {
   "cell_type": "code",
   "execution_count": 45,
   "metadata": {},
   "outputs": [
    {
     "data": {
      "text/html": [
       "<div>\n",
       "<style scoped>\n",
       "    .dataframe tbody tr th:only-of-type {\n",
       "        vertical-align: middle;\n",
       "    }\n",
       "\n",
       "    .dataframe tbody tr th {\n",
       "        vertical-align: top;\n",
       "    }\n",
       "\n",
       "    .dataframe thead th {\n",
       "        text-align: right;\n",
       "    }\n",
       "</style>\n",
       "<table border=\"1\" class=\"dataframe\">\n",
       "  <thead>\n",
       "    <tr style=\"text-align: right;\">\n",
       "      <th></th>\n",
       "      <th>x</th>\n",
       "      <th>y</th>\n",
       "      <th>objectid</th>\n",
       "      <th>addrtype</th>\n",
       "      <th>intkey</th>\n",
       "      <th>location</th>\n",
       "      <th>severitycode</th>\n",
       "      <th>severitydesc</th>\n",
       "      <th>collisiontype</th>\n",
       "      <th>personcount</th>\n",
       "      <th>...</th>\n",
       "      <th>st_coldesc</th>\n",
       "      <th>hitparkedcar</th>\n",
       "      <th>fe_exists</th>\n",
       "      <th>time</th>\n",
       "      <th>total_injuries</th>\n",
       "      <th>total_person_count</th>\n",
       "      <th>fe_emd</th>\n",
       "      <th>cluster</th>\n",
       "      <th>namelsad10</th>\n",
       "      <th>neighborhood</th>\n",
       "    </tr>\n",
       "  </thead>\n",
       "  <tbody>\n",
       "    <tr>\n",
       "      <th>0</th>\n",
       "      <td>-122.340472</td>\n",
       "      <td>47.608629</td>\n",
       "      <td>1</td>\n",
       "      <td>Intersection</td>\n",
       "      <td>29598.0</td>\n",
       "      <td>PIKE PL AND PIKE ST</td>\n",
       "      <td>2</td>\n",
       "      <td>Injury Collision</td>\n",
       "      <td>Pedestrian</td>\n",
       "      <td>2</td>\n",
       "      <td>...</td>\n",
       "      <td>Vehicle backing hits pedestrian</td>\n",
       "      <td>N</td>\n",
       "      <td>1</td>\n",
       "      <td>18:36</td>\n",
       "      <td>1</td>\n",
       "      <td>3</td>\n",
       "      <td>False</td>\n",
       "      <td>0</td>\n",
       "      <td>Census Tract 81</td>\n",
       "      <td>Downtown / Waterfront</td>\n",
       "    </tr>\n",
       "  </tbody>\n",
       "</table>\n",
       "<p>1 rows × 40 columns</p>\n",
       "</div>"
      ],
      "text/plain": [
       "            x          y  objectid      addrtype   intkey  \\\n",
       "0 -122.340472  47.608629         1  Intersection  29598.0   \n",
       "\n",
       "              location severitycode      severitydesc collisiontype  \\\n",
       "0  PIKE PL AND PIKE ST            2  Injury Collision    Pedestrian   \n",
       "\n",
       "   personcount  ...                       st_coldesc  hitparkedcar  fe_exists  \\\n",
       "0            2  ...  Vehicle backing hits pedestrian             N          1   \n",
       "\n",
       "    time  total_injuries  total_person_count fe_emd cluster       namelsad10  \\\n",
       "0  18:36               1                   3  False       0  Census Tract 81   \n",
       "\n",
       "            neighborhood  \n",
       "0  Downtown / Waterfront  \n",
       "\n",
       "[1 rows x 40 columns]"
      ]
     },
     "execution_count": 45,
     "metadata": {},
     "output_type": "execute_result"
    }
   ],
   "source": [
    "df_with_geo_neighborhood.head(1)"
   ]
  },
  {
   "cell_type": "code",
   "execution_count": 46,
   "metadata": {},
   "outputs": [],
   "source": [
    "# Rename census area column to something that makes more sense\n",
    "df_with_geo_neighborhood=df_with_geo_neighborhood.rename(columns = {'namelsad10':'census_area'})"
   ]
  },
  {
   "cell_type": "code",
   "execution_count": 47,
   "metadata": {},
   "outputs": [
    {
     "name": "stdout",
     "output_type": "stream",
     "text": [
      "Original df shape: (220436, 39)\n",
      "New df shape: (220436, 40)\n"
     ]
    }
   ],
   "source": [
    "# Make sure it was a left join and we didn't loose any records\n",
    "print(\"Original df shape:\", df_new.shape)\n",
    "print(\"New df shape:\", df_with_geo_neighborhood.shape)"
   ]
  },
  {
   "cell_type": "code",
   "execution_count": 48,
   "metadata": {},
   "outputs": [],
   "source": [
    "# rename dataframe back to what we were using before\n",
    "df_new=df_with_geo_neighborhood"
   ]
  },
  {
   "cell_type": "markdown",
   "metadata": {},
   "source": [
    "## Impute missing weather with date and census area\n",
    "If that doesn't work, then we will try neighborhood"
   ]
  },
  {
   "cell_type": "code",
   "execution_count": 49,
   "metadata": {},
   "outputs": [],
   "source": [
    "# Define a Named Tuple Here so that we can use it in the rest of the notebook\n",
    "\n",
    "DateArea = namedtuple(\"DateArea\", [\"date\", \"area\"])\n",
    "\n",
    "def make_date_area_env_dict(df, date, area, env_condition):\n",
    "    # Creating a dictionary that has a named tuple as the key, basically (date,area) and a dict of environmental (like weather) conditions conditions as the value\n",
    "    # My intent is to count the number of environmental (like weather) conditions for the date/area combination so that the one with the highst count wins\n",
    "\n",
    "    #Only use those records with values for all three features, date, area and environmental (like weather) conditions\n",
    "    df_with_values = df[df[\"incdate\"].notnull() & df[area].notnull() & df[env_condition].notnull()  ]\n",
    "    \n",
    "    # Overall Dictionary Object to track all this informaiton\n",
    "    loc_date_dict = dict()\n",
    "    for idx, row in df_with_values.iterrows():\n",
    "        # This is my date/area tuple\n",
    "        dl = DateArea(date=str(row[date]), area=row[area])\n",
    "        if dl in loc_date_dict.keys():\n",
    "            env_dict = loc_date_dict[dl]\n",
    "            if row[env_condition] in env_dict.keys():\n",
    "                env_dict[row[env_condition]] +=1\n",
    "            else:\n",
    "                env_dict[row[env_condition]]=1\n",
    "                loc_date_dict[dl]=env_dict\n",
    "        else:\n",
    "            env_dict = dict()\n",
    "            env_dict[row[env_condition]]  = 1\n",
    "            loc_date_dict[dl]= env_dict\n",
    "    return loc_date_dict"
   ]
  },
  {
   "cell_type": "code",
   "execution_count": 50,
   "metadata": {},
   "outputs": [],
   "source": [
    "# Create Dictionary using date, census area for the named tuple (key) and a dictionary of the most common weather conditions for the value\n",
    "dict_date_census_weather = make_date_area_env_dict(df_new, \"incdate\", \"census_area\", \"weather\")\n",
    "count_imputed=0"
   ]
  },
  {
   "cell_type": "code",
   "execution_count": 51,
   "metadata": {},
   "outputs": [
    {
     "data": {
      "text/plain": [
       "(38560, 40)"
      ]
     },
     "execution_count": 51,
     "metadata": {},
     "output_type": "execute_result"
    }
   ],
   "source": [
    "# How many records do we have where weather is null, but date and census area are not\n",
    "df_no_weather = df_new[df_new[\"incdate\"].notnull() & df_new[\"census_area\"].notnull() & ((df_new[ \"weather\"]==\"Unknown\") | (df_new[ \"weather\"].isnull())) ]\n",
    "df_no_weather.shape"
   ]
  },
  {
   "cell_type": "code",
   "execution_count": 52,
   "metadata": {},
   "outputs": [
    {
     "name": "stdout",
     "output_type": "stream",
     "text": [
      "DateArea(date='2004-10-14 00:00:00', area='Census Tract 81')\n",
      "{'Overcast': 1, 'Unknown': 2, 'Clear': 1}\n",
      "DateArea(date='2020-01-22 00:00:00', area='Census Tract 119')\n",
      "{'Unknown': 1}\n",
      "DateArea(date='2020-01-05 00:00:00', area='Census Tract 12')\n",
      "{'Raining': 1}\n",
      "DateArea(date='2020-02-13 00:00:00', area='Census Tract 109')\n",
      "{'Overcast': 1, 'Clear': 1}\n",
      "DateArea(date='2020-02-08 00:00:00', area='Census Tract 47')\n",
      "{'Unknown': 1}\n"
     ]
    }
   ],
   "source": [
    "# Take a look at the first 15 items of our imputing dictionary\n",
    "first_5=0\n",
    "for key, value in dict_date_census_weather.items() :\n",
    "    if first_5<5: print(key)\n",
    "    if first_5<5: print(value)    \n",
    "    first_5+=1"
   ]
  },
  {
   "cell_type": "code",
   "execution_count": 53,
   "metadata": {},
   "outputs": [],
   "source": [
    "#imputing missing data by neighborhood\n",
    "dict_date_neighborhood_weather = make_date_area_env_dict(df_new, \"incdate\", \"neighborhood\", \"weather\")"
   ]
  },
  {
   "cell_type": "code",
   "execution_count": 54,
   "metadata": {},
   "outputs": [
    {
     "name": "stdout",
     "output_type": "stream",
     "text": [
      "DateArea(date='2004-10-14 00:00:00', area='Downtown / Waterfront')\n",
      "{'Overcast': 1, 'Unknown': 4, 'Clear': 3}\n",
      "DateArea(date='2020-01-22 00:00:00', area='Rainier Beach / Dunlap')\n",
      "{'Unknown': 1}\n",
      "DateArea(date='2020-01-05 00:00:00', area='Northgate')\n",
      "{'Raining': 1}\n",
      "DateArea(date='2020-02-13 00:00:00', area='Georgetown')\n",
      "{'Overcast': 1, 'Clear': 1}\n",
      "DateArea(date='2020-02-08 00:00:00', area='Ballard')\n",
      "{'Unknown': 2}\n"
     ]
    }
   ],
   "source": [
    "# Take a look at the first 15 items of our imputing dictionary\n",
    "first_5=0\n",
    "for key, value in dict_date_neighborhood_weather.items() :\n",
    "    if first_5<5: print(key)\n",
    "    if first_5<5: print(value)    \n",
    "    first_5+=1"
   ]
  },
  {
   "cell_type": "code",
   "execution_count": 55,
   "metadata": {},
   "outputs": [],
   "source": [
    "# This function will be used in our lambda expression below. It will try to fill weather with the most common weather condition for the date/census area combo\n",
    "\n",
    "def find_env_val(dict_env,area_string, date_string, old_val, debug=False):\n",
    "    dl = DateArea(date=str(date_string), area=area_string)\n",
    "    if (str(old_val)==\"nan\" or str(old_val)==\"Unknown\") and dl in dict_env.keys():  \n",
    "        env_dict = dict_env[dl]\n",
    "        # Now we want to find the key of the item in env_dic that has the greatest value (count) and use it to replace our NaN value\n",
    "        # If they all have equal, then the value selected is kind of random (order that it was added to dictionary)\n",
    "        new_val = max(env_dict, key=env_dict.get)\n",
    "        if (debug) and  len(env_dict.keys()) >1: print(f\"Filling in env for {area_string}, and {date_string} with {new_val} using this info {env_dict}\")\n",
    "    else:\n",
    "        new_val = old_val\n",
    "    #print(f\"{area_string}  {newX},{newY}\")\n",
    "    return new_val"
   ]
  },
  {
   "cell_type": "code",
   "execution_count": 56,
   "metadata": {},
   "outputs": [],
   "source": [
    "df_new['weather'] = df_new.apply(lambda x: find_env_val(dict_date_neighborhood_weather,area_string=x['neighborhood'],date_string=str(x['incdate']), old_val=x['weather'],debug=False), axis=1)"
   ]
  },
  {
   "cell_type": "code",
   "execution_count": 57,
   "metadata": {},
   "outputs": [
    {
     "data": {
      "text/plain": [
       "(24455, 40)"
      ]
     },
     "execution_count": 57,
     "metadata": {},
     "output_type": "execute_result"
    }
   ],
   "source": [
    "df_no_weather = df_new[df_new[\"incdate\"].notnull() & df_new[\"census_area\"].notnull() & ((df_new[ \"weather\"]==\"Unknown\") | (df_new[ \"weather\"].isnull())) ]\n",
    "df_no_weather.shape"
   ]
  },
  {
   "cell_type": "code",
   "execution_count": 58,
   "metadata": {},
   "outputs": [],
   "source": [
    "#impute remaining using city\n",
    "df_new['city']=\"seattle\""
   ]
  },
  {
   "cell_type": "code",
   "execution_count": 59,
   "metadata": {},
   "outputs": [],
   "source": [
    "dict_date_city_weather = make_date_area_env_dict(df_new, \"incdate\", \"city\", \"weather\")"
   ]
  },
  {
   "cell_type": "code",
   "execution_count": 60,
   "metadata": {},
   "outputs": [],
   "source": [
    "df_new['weather'] = df_new.apply(lambda x: find_env_val(dict_date_city_weather,area_string=x['city'],date_string=str(x['incdate']), old_val=x['weather'],debug=False), axis=1)"
   ]
  },
  {
   "cell_type": "code",
   "execution_count": 61,
   "metadata": {},
   "outputs": [
    {
     "data": {
      "text/plain": [
       "(2250, 41)"
      ]
     },
     "execution_count": 61,
     "metadata": {},
     "output_type": "execute_result"
    }
   ],
   "source": [
    "df_no_weather = df_new[df_new[\"incdate\"].notnull() & df_new[\"census_area\"].notnull() & ((df_new[ \"weather\"]==\"Unknown\") | (df_new[ \"weather\"].isnull())) ]\n",
    "df_no_weather.shape"
   ]
  },
  {
   "cell_type": "code",
   "execution_count": 62,
   "metadata": {},
   "outputs": [
    {
     "name": "stdout",
     "output_type": "stream",
     "text": [
      "Clear\n"
     ]
    }
   ],
   "source": [
    "most_common_value=df_new['weather'].value_counts().index[0]\n",
    "print(most_common_value)"
   ]
  },
  {
   "cell_type": "code",
   "execution_count": 63,
   "metadata": {},
   "outputs": [],
   "source": [
    "df_new['weather'].fillna(most_common_value, inplace=True)\n",
    "df_new['weather'].replace(['Unknown'], most_common_value, inplace=True)"
   ]
  },
  {
   "cell_type": "code",
   "execution_count": 64,
   "metadata": {},
   "outputs": [
    {
     "data": {
      "text/plain": [
       "(0, 41)"
      ]
     },
     "execution_count": 64,
     "metadata": {},
     "output_type": "execute_result"
    }
   ],
   "source": [
    "df_no_weather = df_new[df_new[\"incdate\"].notnull() & df_new[\"census_area\"].notnull() & ((df_new[ \"weather\"]==\"Unknown\") | (df_new[ \"weather\"].isnull())) ]\n",
    "df_no_weather.shape"
   ]
  },
  {
   "cell_type": "code",
   "execution_count": 65,
   "metadata": {},
   "outputs": [],
   "source": [
    "#imputing for road conditions using neighborhoods\n",
    "dict_date_neighborhood_roadcond = make_date_area_env_dict(df_new, \"incdate\", \"neighborhood\", \"roadcond\")"
   ]
  },
  {
   "cell_type": "code",
   "execution_count": 66,
   "metadata": {},
   "outputs": [
    {
     "data": {
      "text/plain": [
       "(23476, 41)"
      ]
     },
     "execution_count": 66,
     "metadata": {},
     "output_type": "execute_result"
    }
   ],
   "source": [
    "df_new['roadcond'] = df_new.apply(lambda x: find_env_val(dict_date_neighborhood_weather,area_string=x['neighborhood'],date_string=str(x['incdate']), old_val=x['roadcond'],debug=False), axis=1)\n",
    "df_no_weather = df_new[df_new[\"incdate\"].notnull() & df_new[\"census_area\"].notnull() & ((df_new[ \"roadcond\"]==\"Unknown\") | (df_new[ \"roadcond\"].isnull())) ]\n",
    "df_no_weather.shape"
   ]
  },
  {
   "cell_type": "code",
   "execution_count": 67,
   "metadata": {},
   "outputs": [],
   "source": [
    "dict_date_city_roadcond = make_date_area_env_dict(df_new, \"incdate\", \"city\", \"roadcond\")"
   ]
  },
  {
   "cell_type": "code",
   "execution_count": 68,
   "metadata": {},
   "outputs": [
    {
     "data": {
      "text/plain": [
       "(2207, 41)"
      ]
     },
     "execution_count": 68,
     "metadata": {},
     "output_type": "execute_result"
    }
   ],
   "source": [
    "df_new['roadcond'] = df_new.apply(lambda x: find_env_val(dict_date_city_weather,area_string=x['city'],date_string=str(x['incdate']), old_val=x['roadcond'],debug=False), axis=1)\n",
    "df_no_weather = df_new[df_new[\"incdate\"].notnull() & df_new[\"census_area\"].notnull() & ((df_new[ \"roadcond\"]==\"Unknown\") | (df_new[ \"roadcond\"].isnull())) ]\n",
    "df_no_weather.shape"
   ]
  },
  {
   "cell_type": "code",
   "execution_count": 69,
   "metadata": {},
   "outputs": [],
   "source": [
    "most_common_value=df_new['roadcond'].value_counts().index[0]\n",
    "df_new['roadcond'].fillna(most_common_value, inplace=True)\n",
    "df_new['roadcond'].replace(['Unknown'], most_common_value, inplace=True)"
   ]
  },
  {
   "cell_type": "code",
   "execution_count": 70,
   "metadata": {},
   "outputs": [],
   "source": [
    "#exporting to a csv, this will overwrite when more people fill in their nulls\n",
    "df_new.to_csv('collisions_clean.csv')"
   ]
  },
  {
   "cell_type": "code",
   "execution_count": 71,
   "metadata": {},
   "outputs": [
    {
     "data": {
      "text/plain": [
       "(220436, 41)"
      ]
     },
     "execution_count": 71,
     "metadata": {},
     "output_type": "execute_result"
    }
   ],
   "source": [
    "df_new.shape"
   ]
  },
  {
   "cell_type": "code",
   "execution_count": 72,
   "metadata": {},
   "outputs": [
    {
     "data": {
      "text/plain": [
       "Index(['x', 'y', 'objectid', 'addrtype', 'intkey', 'location', 'severitycode',\n",
       "       'severitydesc', 'collisiontype', 'personcount', 'pedcount',\n",
       "       'pedcylcount', 'vehcount', 'injuries', 'seriousinjuries', 'fatalities',\n",
       "       'incdate', 'incdttm', 'junctiontype', 'sdot_colcode', 'sdot_coldesc',\n",
       "       'inattentionind', 'underinfl', 'weather', 'roadcond', 'lightcond',\n",
       "       'pedrownotgrnt', 'sdotcolnum', 'speeding', 'st_colcode', 'st_coldesc',\n",
       "       'hitparkedcar', 'fe_exists', 'time', 'total_injuries',\n",
       "       'total_person_count', 'fe_emd', 'cluster', 'census_area',\n",
       "       'neighborhood', 'city'],\n",
       "      dtype='object')"
      ]
     },
     "execution_count": 72,
     "metadata": {},
     "output_type": "execute_result"
    }
   ],
   "source": [
    "df_new.columns"
   ]
  },
  {
   "cell_type": "code",
   "execution_count": 73,
   "metadata": {},
   "outputs": [
    {
     "data": {
      "text/plain": [
       "x                     0.032613\n",
       "y                     0.032613\n",
       "objectid              0.000000\n",
       "addrtype              0.000000\n",
       "intkey                0.675570\n",
       "location              0.020759\n",
       "severitycode          0.000005\n",
       "severitydesc          0.000000\n",
       "collisiontype         0.000000\n",
       "personcount           0.000000\n",
       "pedcount              0.000000\n",
       "pedcylcount           0.000000\n",
       "vehcount              0.000000\n",
       "injuries              0.000000\n",
       "seriousinjuries       0.000000\n",
       "fatalities            0.000000\n",
       "incdate               0.000000\n",
       "incdttm               0.000000\n",
       "junctiontype          0.000000\n",
       "sdot_colcode          0.000005\n",
       "sdot_coldesc          0.000000\n",
       "inattentionind        0.863058\n",
       "underinfl             0.000000\n",
       "weather               0.000000\n",
       "roadcond              0.000000\n",
       "lightcond             0.000000\n",
       "pedrownotgrnt         0.000000\n",
       "sdotcolnum            0.422939\n",
       "speeding              0.000000\n",
       "st_colcode            0.042702\n",
       "st_coldesc            0.000000\n",
       "hitparkedcar          0.000000\n",
       "fe_exists             0.000000\n",
       "time                  0.000000\n",
       "total_injuries        0.000000\n",
       "total_person_count    0.000000\n",
       "fe_emd                0.000000\n",
       "cluster               0.000000\n",
       "census_area           0.042720\n",
       "neighborhood          0.042720\n",
       "city                  0.000000\n",
       "dtype: float64"
      ]
     },
     "execution_count": 73,
     "metadata": {},
     "output_type": "execute_result"
    }
   ],
   "source": [
    "# % nulls that we have left \n",
    "df_new.isnull().sum()/len(df_new)"
   ]
  }
 ],
 "metadata": {
  "kernelspec": {
   "display_name": "Python 3",
   "language": "python",
   "name": "python3"
  },
  "language_info": {
   "codemirror_mode": {
    "name": "ipython",
    "version": 3
   },
   "file_extension": ".py",
   "mimetype": "text/x-python",
   "name": "python",
   "nbconvert_exporter": "python",
   "pygments_lexer": "ipython3",
   "version": "3.7.4"
  }
 },
 "nbformat": 4,
 "nbformat_minor": 2
}
