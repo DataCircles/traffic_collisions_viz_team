{
 "cells": [
  {
   "cell_type": "code",
   "execution_count": 1,
   "metadata": {},
   "outputs": [
    {
     "name": "stderr",
     "output_type": "stream",
     "text": [
      "/opt/anaconda3/lib/python3.7/site-packages/statsmodels/tools/_testing.py:19: FutureWarning: pandas.util.testing is deprecated. Use the functions in the public API at pandas.testing instead.\n",
      "  import pandas.util.testing as tm\n"
     ]
    }
   ],
   "source": [
    "import math\n",
    "import numpy as np\n",
    "import pandas as pd\n",
    "import seaborn as sns\n",
    "import matplotlib.pyplot as plt"
   ]
  },
  {
   "cell_type": "code",
   "execution_count": 2,
   "metadata": {},
   "outputs": [
    {
     "data": {
      "text/plain": [
       "'/Users/Monika/Projects'"
      ]
     },
     "execution_count": 2,
     "metadata": {},
     "output_type": "execute_result"
    }
   ],
   "source": [
    "pwd"
   ]
  },
  {
   "cell_type": "code",
   "execution_count": 3,
   "metadata": {},
   "outputs": [],
   "source": [
    "df_collisions = pd.read_csv('data/collisions_orig.csv', parse_dates=[\"INCDTTM\"])\n",
    "df_locations_xy = pd.read_csv('data/location_xy.csv')"
   ]
  },
  {
   "cell_type": "code",
   "execution_count": 4,
   "metadata": {},
   "outputs": [
    {
     "data": {
      "text/plain": [
       "(220436, 40)"
      ]
     },
     "execution_count": 4,
     "metadata": {},
     "output_type": "execute_result"
    }
   ],
   "source": [
    "# Check the starting shape\n",
    "df_collisions.shape"
   ]
  },
  {
   "cell_type": "code",
   "execution_count": 5,
   "metadata": {},
   "outputs": [],
   "source": [
    "# Save column list to restore column order after merge\n",
    "column_list = df_collisions.columns\n",
    "column_list = column_list.append(pd.Index(['fe_exists']))"
   ]
  },
  {
   "cell_type": "code",
   "execution_count": 6,
   "metadata": {},
   "outputs": [
    {
     "data": {
      "text/plain": [
       "(220436, 38)"
      ]
     },
     "execution_count": 6,
     "metadata": {},
     "output_type": "execute_result"
    }
   ],
   "source": [
    "# Drop the old X,Y and replace with the ones in location_xy.csv if they exist, otherwise, will be nan\n",
    "df_collisions.drop(columns=['X','Y'],inplace=True,errors='ignore')   # get these from the location_xy.csv file\n",
    "df_collisions.shape"
   ]
  },
  {
   "cell_type": "code",
   "execution_count": 7,
   "metadata": {},
   "outputs": [],
   "source": [
    "df_new = pd.merge(df_collisions, df_locations_xy, on='LOCATION', how='left')"
   ]
  },
  {
   "cell_type": "code",
   "execution_count": 8,
   "metadata": {},
   "outputs": [
    {
     "data": {
      "text/plain": [
       "(220436, 41)"
      ]
     },
     "execution_count": 8,
     "metadata": {},
     "output_type": "execute_result"
    }
   ],
   "source": [
    "# Do some sanity checks\n",
    "df_new.shape"
   ]
  },
  {
   "cell_type": "code",
   "execution_count": 9,
   "metadata": {},
   "outputs": [],
   "source": [
    "# Restore the original order of columns\n",
    "df_new = df_new[column_list]"
   ]
  },
  {
   "cell_type": "code",
   "execution_count": 10,
   "metadata": {},
   "outputs": [],
   "source": [
    "df_new.drop_duplicates(inplace=True)"
   ]
  },
  {
   "cell_type": "code",
   "execution_count": 12,
   "metadata": {},
   "outputs": [
    {
     "data": {
      "text/plain": [
       "1    216059\n",
       "0      4377\n",
       "Name: fe_exists, dtype: int64"
      ]
     },
     "execution_count": 12,
     "metadata": {},
     "output_type": "execute_result"
    }
   ],
   "source": [
    "df_new['fe_exists'].value_counts()"
   ]
  },
  {
   "cell_type": "code",
   "execution_count": 13,
   "metadata": {},
   "outputs": [
    {
     "name": "stdout",
     "output_type": "stream",
     "text": [
      "220436   220436\n"
     ]
    }
   ],
   "source": [
    "new_keys = list(df_new['INCKEY'])\n",
    "col_keys = list(df_collisions['INCKEY'])\n",
    "print(f\"{len(new_keys)}   {len(col_keys)}\")"
   ]
  },
  {
   "cell_type": "code",
   "execution_count": 15,
   "metadata": {},
   "outputs": [],
   "source": [
    "#Dropping columns deemed unnecessary\n",
    "df_new.drop(['EXCEPTRSNCODE', 'EXCEPTRSNDESC', 'STATUS', 'REPORTNO', 'SEGLANEKEY', 'CROSSWALKKEY', 'INCKEY','COLDETKEY'],axis=1, inplace=True)"
   ]
  },
  {
   "cell_type": "code",
   "execution_count": 16,
   "metadata": {},
   "outputs": [],
   "source": [
    "#to lowercase\n",
    "df_new.columns = df_new.columns.str.lower()"
   ]
  },
  {
   "cell_type": "code",
   "execution_count": 17,
   "metadata": {},
   "outputs": [
    {
     "data": {
      "text/plain": [
       "Index(['x', 'y', 'objectid', 'addrtype', 'intkey', 'location', 'severitycode',\n",
       "       'severitydesc', 'collisiontype', 'personcount', 'pedcount',\n",
       "       'pedcylcount', 'vehcount', 'injuries', 'seriousinjuries', 'fatalities',\n",
       "       'incdate', 'incdttm', 'junctiontype', 'sdot_colcode', 'sdot_coldesc',\n",
       "       'inattentionind', 'underinfl', 'weather', 'roadcond', 'lightcond',\n",
       "       'pedrownotgrnt', 'sdotcolnum', 'speeding', 'st_colcode', 'st_coldesc',\n",
       "       'hitparkedcar', 'fe_exists'],\n",
       "      dtype='object')"
      ]
     },
     "execution_count": 17,
     "metadata": {},
     "output_type": "execute_result"
    }
   ],
   "source": [
    "df_new.columns"
   ]
  },
  {
   "cell_type": "code",
   "execution_count": 31,
   "metadata": {},
   "outputs": [
    {
     "name": "stdout",
     "output_type": "stream",
     "text": [
      "7189\n",
      "7189\n"
     ]
    }
   ],
   "source": [
    "print(df_new['x'].isnull().sum())\n",
    "print(df_new['y'].isnull().sum())"
   ]
  },
  {
   "cell_type": "code",
   "execution_count": 19,
   "metadata": {},
   "outputs": [],
   "source": [
    "#FE time, total_injuries and total_person_count columns\n",
    "df_new[\"time\"]=df_new['incdttm'].dt.strftime('%H:%M')\n",
    "df_new[\"total_injuries\"]=df_new['injuries'] + df_new['seriousinjuries']  + df_new['fatalities']\n",
    "df_new[\"total_person_count\"]=df_new['personcount'] + df_new['pedcount']  + df_new['pedcylcount']"
   ]
  },
  {
   "cell_type": "code",
   "execution_count": 20,
   "metadata": {},
   "outputs": [],
   "source": [
    "#FE emd column for the missing 26,000\n",
    "fe_emd_crit = (df_new['weather'].isnull() &\n",
    "    df_new['lightcond'].isnull() &\n",
    "    df_new['roadcond'].isnull() &\n",
    "    df_new['collisiontype'].isnull() &\n",
    "    df_new['st_coldesc'].isnull() &\n",
    "    df_new['underinfl'].isnull() &\n",
    "    df_new['inattentionind'].isnull() &\n",
    "    df_new['speeding'].isnull() &\n",
    "    df_new['pedrownotgrnt'].isnull() &\n",
    "    (df_new['vehcount'] == 0))\n",
    "df_new['fe_emd'] = fe_emd_crit"
   ]
  },
  {
   "cell_type": "code",
   "execution_count": 27,
   "metadata": {},
   "outputs": [],
   "source": [
    "#converting incdate to datetime\n",
    "df_new[\"incdate\"] = df_new[\"incdate\"].astype(\"datetime64\")"
   ]
  },
  {
   "cell_type": "markdown",
   "metadata": {},
   "source": [
    "### Imputing weather data by date"
   ]
  },
  {
   "cell_type": "code",
   "execution_count": 28,
   "metadata": {},
   "outputs": [
    {
     "data": {
      "text/html": [
       "<div>\n",
       "<style scoped>\n",
       "    .dataframe tbody tr th:only-of-type {\n",
       "        vertical-align: middle;\n",
       "    }\n",
       "\n",
       "    .dataframe tbody tr th {\n",
       "        vertical-align: top;\n",
       "    }\n",
       "\n",
       "    .dataframe thead th {\n",
       "        text-align: right;\n",
       "    }\n",
       "</style>\n",
       "<table border=\"1\" class=\"dataframe\">\n",
       "  <thead>\n",
       "    <tr style=\"text-align: right;\">\n",
       "      <th></th>\n",
       "      <th>x</th>\n",
       "      <th>y</th>\n",
       "      <th>objectid</th>\n",
       "      <th>addrtype</th>\n",
       "      <th>intkey</th>\n",
       "      <th>location</th>\n",
       "      <th>severitycode</th>\n",
       "      <th>severitydesc</th>\n",
       "      <th>collisiontype</th>\n",
       "      <th>personcount</th>\n",
       "      <th>...</th>\n",
       "      <th>sdotcolnum</th>\n",
       "      <th>speeding</th>\n",
       "      <th>st_colcode</th>\n",
       "      <th>st_coldesc</th>\n",
       "      <th>hitparkedcar</th>\n",
       "      <th>fe_exists</th>\n",
       "      <th>time</th>\n",
       "      <th>total_injuries</th>\n",
       "      <th>total_person_count</th>\n",
       "      <th>fe_emd</th>\n",
       "    </tr>\n",
       "    <tr>\n",
       "      <th>incdate</th>\n",
       "      <th></th>\n",
       "      <th></th>\n",
       "      <th></th>\n",
       "      <th></th>\n",
       "      <th></th>\n",
       "      <th></th>\n",
       "      <th></th>\n",
       "      <th></th>\n",
       "      <th></th>\n",
       "      <th></th>\n",
       "      <th></th>\n",
       "      <th></th>\n",
       "      <th></th>\n",
       "      <th></th>\n",
       "      <th></th>\n",
       "      <th></th>\n",
       "      <th></th>\n",
       "      <th></th>\n",
       "      <th></th>\n",
       "      <th></th>\n",
       "      <th></th>\n",
       "    </tr>\n",
       "  </thead>\n",
       "  <tbody>\n",
       "    <tr>\n",
       "      <th>2004-01-02</th>\n",
       "      <td>-122.286489</td>\n",
       "      <td>47.560108</td>\n",
       "      <td>2712</td>\n",
       "      <td>Block</td>\n",
       "      <td>NaN</td>\n",
       "      <td>RAINIER AVE S BETWEEN S ALASKA ST AND S ANGELI...</td>\n",
       "      <td>0</td>\n",
       "      <td>Unknown</td>\n",
       "      <td>NaN</td>\n",
       "      <td>0</td>\n",
       "      <td>...</td>\n",
       "      <td>4002069.0</td>\n",
       "      <td>NaN</td>\n",
       "      <td>NaN</td>\n",
       "      <td>NaN</td>\n",
       "      <td>N</td>\n",
       "      <td>1</td>\n",
       "      <td>00:00</td>\n",
       "      <td>0</td>\n",
       "      <td>0</td>\n",
       "      <td>True</td>\n",
       "    </tr>\n",
       "    <tr>\n",
       "      <th>2004-01-02</th>\n",
       "      <td>-122.344539</td>\n",
       "      <td>47.692012</td>\n",
       "      <td>4417</td>\n",
       "      <td>Intersection</td>\n",
       "      <td>37365.0</td>\n",
       "      <td>AURORA AVE N AND N 87TH ST</td>\n",
       "      <td>2</td>\n",
       "      <td>Injury Collision</td>\n",
       "      <td>Rear Ended</td>\n",
       "      <td>4</td>\n",
       "      <td>...</td>\n",
       "      <td>4002004.0</td>\n",
       "      <td>NaN</td>\n",
       "      <td>14</td>\n",
       "      <td>From same direction - both going straight - on...</td>\n",
       "      <td>N</td>\n",
       "      <td>1</td>\n",
       "      <td>00:00</td>\n",
       "      <td>1</td>\n",
       "      <td>4</td>\n",
       "      <td>False</td>\n",
       "    </tr>\n",
       "    <tr>\n",
       "      <th>2004-01-02</th>\n",
       "      <td>-122.317396</td>\n",
       "      <td>47.665687</td>\n",
       "      <td>4585</td>\n",
       "      <td>Block</td>\n",
       "      <td>NaN</td>\n",
       "      <td>ROOSEVELT WAY NE BETWEEN NE 50TH ST AND NE 52N...</td>\n",
       "      <td>0</td>\n",
       "      <td>Unknown</td>\n",
       "      <td>NaN</td>\n",
       "      <td>0</td>\n",
       "      <td>...</td>\n",
       "      <td>4002076.0</td>\n",
       "      <td>NaN</td>\n",
       "      <td>NaN</td>\n",
       "      <td>NaN</td>\n",
       "      <td>N</td>\n",
       "      <td>1</td>\n",
       "      <td>00:00</td>\n",
       "      <td>0</td>\n",
       "      <td>0</td>\n",
       "      <td>True</td>\n",
       "    </tr>\n",
       "    <tr>\n",
       "      <th>2004-01-02</th>\n",
       "      <td>-122.374250</td>\n",
       "      <td>47.631723</td>\n",
       "      <td>5034</td>\n",
       "      <td>Block</td>\n",
       "      <td>NaN</td>\n",
       "      <td>W GALER ST FLYOVER BETWEEN ELLIOTT AVE W AND M...</td>\n",
       "      <td>0</td>\n",
       "      <td>Unknown</td>\n",
       "      <td>NaN</td>\n",
       "      <td>0</td>\n",
       "      <td>...</td>\n",
       "      <td>4002019.0</td>\n",
       "      <td>NaN</td>\n",
       "      <td>NaN</td>\n",
       "      <td>NaN</td>\n",
       "      <td>N</td>\n",
       "      <td>1</td>\n",
       "      <td>00:00</td>\n",
       "      <td>0</td>\n",
       "      <td>0</td>\n",
       "      <td>True</td>\n",
       "    </tr>\n",
       "    <tr>\n",
       "      <th>2004-01-02</th>\n",
       "      <td>-122.322775</td>\n",
       "      <td>47.615229</td>\n",
       "      <td>5342</td>\n",
       "      <td>Block</td>\n",
       "      <td>NaN</td>\n",
       "      <td>E PINE ST BETWEEN BOYLSTON AVE AND HARVARD AVE</td>\n",
       "      <td>1</td>\n",
       "      <td>Property Damage Only Collision</td>\n",
       "      <td>Parked Car</td>\n",
       "      <td>2</td>\n",
       "      <td>...</td>\n",
       "      <td>4002008.0</td>\n",
       "      <td>NaN</td>\n",
       "      <td>32</td>\n",
       "      <td>One parked--one moving</td>\n",
       "      <td>N</td>\n",
       "      <td>1</td>\n",
       "      <td>00:00</td>\n",
       "      <td>0</td>\n",
       "      <td>2</td>\n",
       "      <td>False</td>\n",
       "    </tr>\n",
       "    <tr>\n",
       "      <th>...</th>\n",
       "      <td>...</td>\n",
       "      <td>...</td>\n",
       "      <td>...</td>\n",
       "      <td>...</td>\n",
       "      <td>...</td>\n",
       "      <td>...</td>\n",
       "      <td>...</td>\n",
       "      <td>...</td>\n",
       "      <td>...</td>\n",
       "      <td>...</td>\n",
       "      <td>...</td>\n",
       "      <td>...</td>\n",
       "      <td>...</td>\n",
       "      <td>...</td>\n",
       "      <td>...</td>\n",
       "      <td>...</td>\n",
       "      <td>...</td>\n",
       "      <td>...</td>\n",
       "      <td>...</td>\n",
       "      <td>...</td>\n",
       "      <td>...</td>\n",
       "    </tr>\n",
       "    <tr>\n",
       "      <th>2004-01-02</th>\n",
       "      <td>-122.374250</td>\n",
       "      <td>47.631723</td>\n",
       "      <td>18540</td>\n",
       "      <td>Block</td>\n",
       "      <td>NaN</td>\n",
       "      <td>W GALER ST FLYOVER BETWEEN ELLIOTT AVE W AND M...</td>\n",
       "      <td>0</td>\n",
       "      <td>Unknown</td>\n",
       "      <td>NaN</td>\n",
       "      <td>0</td>\n",
       "      <td>...</td>\n",
       "      <td>4002017.0</td>\n",
       "      <td>NaN</td>\n",
       "      <td>NaN</td>\n",
       "      <td>NaN</td>\n",
       "      <td>N</td>\n",
       "      <td>1</td>\n",
       "      <td>00:00</td>\n",
       "      <td>0</td>\n",
       "      <td>0</td>\n",
       "      <td>True</td>\n",
       "    </tr>\n",
       "    <tr>\n",
       "      <th>2004-01-02</th>\n",
       "      <td>-122.298592</td>\n",
       "      <td>47.713600</td>\n",
       "      <td>18547</td>\n",
       "      <td>Block</td>\n",
       "      <td>NaN</td>\n",
       "      <td>LAKE CITY WAY NE BETWEEN 27TH AVE NE AND NE 11...</td>\n",
       "      <td>1</td>\n",
       "      <td>Property Damage Only Collision</td>\n",
       "      <td>Parked Car</td>\n",
       "      <td>6</td>\n",
       "      <td>...</td>\n",
       "      <td>4002050.0</td>\n",
       "      <td>NaN</td>\n",
       "      <td>32</td>\n",
       "      <td>One parked--one moving</td>\n",
       "      <td>N</td>\n",
       "      <td>1</td>\n",
       "      <td>00:00</td>\n",
       "      <td>0</td>\n",
       "      <td>6</td>\n",
       "      <td>False</td>\n",
       "    </tr>\n",
       "    <tr>\n",
       "      <th>2004-01-02</th>\n",
       "      <td>-122.320223</td>\n",
       "      <td>47.626145</td>\n",
       "      <td>18651</td>\n",
       "      <td>Block</td>\n",
       "      <td>NaN</td>\n",
       "      <td>10TH AVE E BETWEEN E ROY W ST AND E ALOHA ST</td>\n",
       "      <td>1</td>\n",
       "      <td>Property Damage Only Collision</td>\n",
       "      <td>Rear Ended</td>\n",
       "      <td>4</td>\n",
       "      <td>...</td>\n",
       "      <td>4002063.0</td>\n",
       "      <td>NaN</td>\n",
       "      <td>13</td>\n",
       "      <td>From same direction - both going straight - bo...</td>\n",
       "      <td>N</td>\n",
       "      <td>1</td>\n",
       "      <td>00:00</td>\n",
       "      <td>0</td>\n",
       "      <td>4</td>\n",
       "      <td>False</td>\n",
       "    </tr>\n",
       "    <tr>\n",
       "      <th>2004-01-02</th>\n",
       "      <td>-122.346235</td>\n",
       "      <td>47.628468</td>\n",
       "      <td>18830</td>\n",
       "      <td>Block</td>\n",
       "      <td>NaN</td>\n",
       "      <td>TAYLOR AVE N BETWEEN WARD ST AND PROSPECT ST</td>\n",
       "      <td>2</td>\n",
       "      <td>Injury Collision</td>\n",
       "      <td>Other</td>\n",
       "      <td>6</td>\n",
       "      <td>...</td>\n",
       "      <td>4002044.0</td>\n",
       "      <td>NaN</td>\n",
       "      <td>22</td>\n",
       "      <td>One car leaving driveway access</td>\n",
       "      <td>N</td>\n",
       "      <td>1</td>\n",
       "      <td>00:00</td>\n",
       "      <td>2</td>\n",
       "      <td>6</td>\n",
       "      <td>False</td>\n",
       "    </tr>\n",
       "    <tr>\n",
       "      <th>2004-01-02</th>\n",
       "      <td>-122.319820</td>\n",
       "      <td>47.676367</td>\n",
       "      <td>19642</td>\n",
       "      <td>Block</td>\n",
       "      <td>NaN</td>\n",
       "      <td>WEEDIN E PL NE BETWEEN WEEDIN PL NE AND 8TH AV...</td>\n",
       "      <td>1</td>\n",
       "      <td>Property Damage Only Collision</td>\n",
       "      <td>Rear Ended</td>\n",
       "      <td>2</td>\n",
       "      <td>...</td>\n",
       "      <td>4002060.0</td>\n",
       "      <td>NaN</td>\n",
       "      <td>14</td>\n",
       "      <td>From same direction - both going straight - on...</td>\n",
       "      <td>N</td>\n",
       "      <td>1</td>\n",
       "      <td>00:00</td>\n",
       "      <td>0</td>\n",
       "      <td>2</td>\n",
       "      <td>False</td>\n",
       "    </tr>\n",
       "  </tbody>\n",
       "</table>\n",
       "<p>80 rows × 36 columns</p>\n",
       "</div>"
      ],
      "text/plain": [
       "                     x          y  objectid      addrtype   intkey  \\\n",
       "incdate                                                              \n",
       "2004-01-02 -122.286489  47.560108      2712         Block      NaN   \n",
       "2004-01-02 -122.344539  47.692012      4417  Intersection  37365.0   \n",
       "2004-01-02 -122.317396  47.665687      4585         Block      NaN   \n",
       "2004-01-02 -122.374250  47.631723      5034         Block      NaN   \n",
       "2004-01-02 -122.322775  47.615229      5342         Block      NaN   \n",
       "...                ...        ...       ...           ...      ...   \n",
       "2004-01-02 -122.374250  47.631723     18540         Block      NaN   \n",
       "2004-01-02 -122.298592  47.713600     18547         Block      NaN   \n",
       "2004-01-02 -122.320223  47.626145     18651         Block      NaN   \n",
       "2004-01-02 -122.346235  47.628468     18830         Block      NaN   \n",
       "2004-01-02 -122.319820  47.676367     19642         Block      NaN   \n",
       "\n",
       "                                                     location severitycode  \\\n",
       "incdate                                                                      \n",
       "2004-01-02  RAINIER AVE S BETWEEN S ALASKA ST AND S ANGELI...            0   \n",
       "2004-01-02                         AURORA AVE N AND N 87TH ST            2   \n",
       "2004-01-02  ROOSEVELT WAY NE BETWEEN NE 50TH ST AND NE 52N...            0   \n",
       "2004-01-02  W GALER ST FLYOVER BETWEEN ELLIOTT AVE W AND M...            0   \n",
       "2004-01-02     E PINE ST BETWEEN BOYLSTON AVE AND HARVARD AVE            1   \n",
       "...                                                       ...          ...   \n",
       "2004-01-02  W GALER ST FLYOVER BETWEEN ELLIOTT AVE W AND M...            0   \n",
       "2004-01-02  LAKE CITY WAY NE BETWEEN 27TH AVE NE AND NE 11...            1   \n",
       "2004-01-02       10TH AVE E BETWEEN E ROY W ST AND E ALOHA ST            1   \n",
       "2004-01-02       TAYLOR AVE N BETWEEN WARD ST AND PROSPECT ST            2   \n",
       "2004-01-02  WEEDIN E PL NE BETWEEN WEEDIN PL NE AND 8TH AV...            1   \n",
       "\n",
       "                              severitydesc collisiontype  personcount  ...  \\\n",
       "incdate                                                                ...   \n",
       "2004-01-02                         Unknown           NaN            0  ...   \n",
       "2004-01-02                Injury Collision    Rear Ended            4  ...   \n",
       "2004-01-02                         Unknown           NaN            0  ...   \n",
       "2004-01-02                         Unknown           NaN            0  ...   \n",
       "2004-01-02  Property Damage Only Collision    Parked Car            2  ...   \n",
       "...                                    ...           ...          ...  ...   \n",
       "2004-01-02                         Unknown           NaN            0  ...   \n",
       "2004-01-02  Property Damage Only Collision    Parked Car            6  ...   \n",
       "2004-01-02  Property Damage Only Collision    Rear Ended            4  ...   \n",
       "2004-01-02                Injury Collision         Other            6  ...   \n",
       "2004-01-02  Property Damage Only Collision    Rear Ended            2  ...   \n",
       "\n",
       "            sdotcolnum  speeding  st_colcode  \\\n",
       "incdate                                        \n",
       "2004-01-02   4002069.0       NaN         NaN   \n",
       "2004-01-02   4002004.0       NaN          14   \n",
       "2004-01-02   4002076.0       NaN         NaN   \n",
       "2004-01-02   4002019.0       NaN         NaN   \n",
       "2004-01-02   4002008.0       NaN          32   \n",
       "...                ...       ...         ...   \n",
       "2004-01-02   4002017.0       NaN         NaN   \n",
       "2004-01-02   4002050.0       NaN          32   \n",
       "2004-01-02   4002063.0       NaN          13   \n",
       "2004-01-02   4002044.0       NaN          22   \n",
       "2004-01-02   4002060.0       NaN          14   \n",
       "\n",
       "                                                   st_coldesc  hitparkedcar  \\\n",
       "incdate                                                                       \n",
       "2004-01-02                                                NaN             N   \n",
       "2004-01-02  From same direction - both going straight - on...             N   \n",
       "2004-01-02                                                NaN             N   \n",
       "2004-01-02                                                NaN             N   \n",
       "2004-01-02                             One parked--one moving             N   \n",
       "...                                                       ...           ...   \n",
       "2004-01-02                                                NaN             N   \n",
       "2004-01-02                             One parked--one moving             N   \n",
       "2004-01-02  From same direction - both going straight - bo...             N   \n",
       "2004-01-02                    One car leaving driveway access             N   \n",
       "2004-01-02  From same direction - both going straight - on...             N   \n",
       "\n",
       "            fe_exists   time total_injuries  total_person_count fe_emd  \n",
       "incdate                                                                 \n",
       "2004-01-02          1  00:00              0                   0   True  \n",
       "2004-01-02          1  00:00              1                   4  False  \n",
       "2004-01-02          1  00:00              0                   0   True  \n",
       "2004-01-02          1  00:00              0                   0   True  \n",
       "2004-01-02          1  00:00              0                   2  False  \n",
       "...               ...    ...            ...                 ...    ...  \n",
       "2004-01-02          1  00:00              0                   0   True  \n",
       "2004-01-02          1  00:00              0                   6  False  \n",
       "2004-01-02          1  00:00              0                   4  False  \n",
       "2004-01-02          1  00:00              2                   6  False  \n",
       "2004-01-02          1  00:00              0                   2  False  \n",
       "\n",
       "[80 rows x 36 columns]"
      ]
     },
     "execution_count": 28,
     "metadata": {},
     "output_type": "execute_result"
    }
   ],
   "source": [
    "df2 = df_new.set_index('incdate') #change index to incdate \n",
    "df2['2004-01-02'] "
   ]
  },
  {
   "cell_type": "code",
   "execution_count": 29,
   "metadata": {},
   "outputs": [
    {
     "data": {
      "text/plain": [
       "Overcast                    30\n",
       "Clear                       18\n",
       "Raining                      9\n",
       "Snowing                      3\n",
       "Unknown                      3\n",
       "Sleet/Hail/Freezing Rain     3\n",
       "Name: weather, dtype: int64"
      ]
     },
     "execution_count": 29,
     "metadata": {},
     "output_type": "execute_result"
    }
   ],
   "source": [
    "df2.loc['2004-01-02']['weather'].value_counts()"
   ]
  },
  {
   "cell_type": "code",
   "execution_count": 32,
   "metadata": {},
   "outputs": [],
   "source": [
    "#Jeny - work in progress\n",
    "#for each column, get value counts in decreasing order and take the index (value) of most common class\n",
    "#weather_imputed = df2.apply(lambda x: x.fillna(x.value_counts().ind))\n",
    "#df_most_common_imputed = colors.apply(lambda x: x.fillna(x.value_counts().index[0]))\n",
    "#df_most_common_imputed\n",
    "\n",
    "#df2['weather'] = df2['weather'].apply(lambda x: x.fillna(x.value_counts().index[0]))"
   ]
  },
  {
   "cell_type": "code",
   "execution_count": 21,
   "metadata": {},
   "outputs": [
    {
     "data": {
      "text/plain": [
       "Index(['x', 'y', 'objectid', 'addrtype', 'intkey', 'location', 'severitycode',\n",
       "       'severitydesc', 'collisiontype', 'personcount', 'pedcount',\n",
       "       'pedcylcount', 'vehcount', 'injuries', 'seriousinjuries', 'fatalities',\n",
       "       'incdate', 'incdttm', 'junctiontype', 'sdot_colcode', 'sdot_coldesc',\n",
       "       'inattentionind', 'underinfl', 'weather', 'roadcond', 'lightcond',\n",
       "       'pedrownotgrnt', 'sdotcolnum', 'speeding', 'st_colcode', 'st_coldesc',\n",
       "       'hitparkedcar', 'fe_exists', 'time', 'total_injuries',\n",
       "       'total_person_count', 'fe_emd'],\n",
       "      dtype='object')"
      ]
     },
     "execution_count": 21,
     "metadata": {},
     "output_type": "execute_result"
    }
   ],
   "source": [
    "df_new.columns"
   ]
  },
  {
   "cell_type": "code",
   "execution_count": 23,
   "metadata": {},
   "outputs": [
    {
     "data": {
      "text/plain": [
       "x                     0.032613\n",
       "y                     0.032613\n",
       "objectid              0.000000\n",
       "addrtype              0.016817\n",
       "intkey                0.675570\n",
       "location              0.020759\n",
       "severitycode          0.000005\n",
       "severitydesc          0.000000\n",
       "collisiontype         0.118638\n",
       "personcount           0.000000\n",
       "pedcount              0.000000\n",
       "pedcylcount           0.000000\n",
       "vehcount              0.000000\n",
       "injuries              0.000000\n",
       "seriousinjuries       0.000000\n",
       "fatalities            0.000000\n",
       "incdate               0.000000\n",
       "incdttm               0.000000\n",
       "junctiontype          0.054147\n",
       "sdot_colcode          0.000005\n",
       "sdot_coldesc          0.000005\n",
       "inattentionind        0.863058\n",
       "underinfl             0.118547\n",
       "weather               0.119490\n",
       "roadcond              0.119128\n",
       "lightcond             0.119894\n",
       "pedrownotgrnt         0.976501\n",
       "sdotcolnum            0.422939\n",
       "speeding              0.955198\n",
       "st_colcode            0.042702\n",
       "st_coldesc            0.118638\n",
       "hitparkedcar          0.000000\n",
       "fe_exists             0.000000\n",
       "time                  0.000000\n",
       "total_injuries        0.000000\n",
       "total_person_count    0.000000\n",
       "fe_emd                0.000000\n",
       "dtype: float64"
      ]
     },
     "execution_count": 23,
     "metadata": {},
     "output_type": "execute_result"
    }
   ],
   "source": [
    "# % nulls that we have left \n",
    "df_new.isnull().sum()/len(df_new)"
   ]
  },
  {
   "cell_type": "code",
   "execution_count": 24,
   "metadata": {},
   "outputs": [
    {
     "data": {
      "text/plain": [
       "x                            float64\n",
       "y                            float64\n",
       "objectid                       int64\n",
       "addrtype                      object\n",
       "intkey                       float64\n",
       "location                      object\n",
       "severitycode                  object\n",
       "severitydesc                  object\n",
       "collisiontype                 object\n",
       "personcount                    int64\n",
       "pedcount                       int64\n",
       "pedcylcount                    int64\n",
       "vehcount                       int64\n",
       "injuries                       int64\n",
       "seriousinjuries                int64\n",
       "fatalities                     int64\n",
       "incdate                       object\n",
       "incdttm               datetime64[ns]\n",
       "junctiontype                  object\n",
       "sdot_colcode                 float64\n",
       "sdot_coldesc                  object\n",
       "inattentionind                object\n",
       "underinfl                     object\n",
       "weather                       object\n",
       "roadcond                      object\n",
       "lightcond                     object\n",
       "pedrownotgrnt                 object\n",
       "sdotcolnum                   float64\n",
       "speeding                      object\n",
       "st_colcode                    object\n",
       "st_coldesc                    object\n",
       "hitparkedcar                  object\n",
       "fe_exists                      int64\n",
       "time                          object\n",
       "total_injuries                 int64\n",
       "total_person_count             int64\n",
       "fe_emd                          bool\n",
       "dtype: object"
      ]
     },
     "execution_count": 24,
     "metadata": {},
     "output_type": "execute_result"
    }
   ],
   "source": [
    "df_new.dtypes"
   ]
  },
  {
   "cell_type": "code",
   "execution_count": 26,
   "metadata": {},
   "outputs": [],
   "source": [
    "#exporting to a csv, this will overwrite when more people fill in their nulls\n",
    "df_new.to_csv('collisions_clean.csv')"
   ]
  }
 ],
 "metadata": {
  "kernelspec": {
   "display_name": "Python 3",
   "language": "python",
   "name": "python3"
  },
  "language_info": {
   "codemirror_mode": {
    "name": "ipython",
    "version": 3
   },
   "file_extension": ".py",
   "mimetype": "text/x-python",
   "name": "python",
   "nbconvert_exporter": "python",
   "pygments_lexer": "ipython3",
   "version": "3.7.4"
  }
 },
 "nbformat": 4,
 "nbformat_minor": 2
}
