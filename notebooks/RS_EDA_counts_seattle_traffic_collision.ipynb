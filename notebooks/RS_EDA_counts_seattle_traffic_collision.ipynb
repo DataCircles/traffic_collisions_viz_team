{
 "cells": [
  {
   "cell_type": "markdown",
   "metadata": {},
   "source": [
    "# Seattle Traffic Collision Data\n",
    "### Rebecca Stewart\n",
    "\n",
    "## Analysis of numeric features that represent counts:\n",
    "\n",
    "#### Features that represent number of people involved in the collision\n",
    "- personcount - the total number of people involved\n",
    "- pedcount- the total number of pedestrians involved\n",
    "- pedcylcount - the total number of cyclists involved\n",
    "\n",
    "#### Features that represent number of vehicles involved in the collision\n",
    "- vehcount - the total number of vehicles involved\n",
    "\n",
    "#### Features that represent number of injuries resulting from collision\n",
    "- injuries - the total number of injuries other than fatal or disabling at the scene, including broken fingers or toes, abrasions, etc.\n",
    "- seriousinjuries - total number of injuries that result in at least a temporary impairment, e.g. a broken limb. It does not mean that the collision resulted in a permanent disability\n",
    "- fatalities - includes the total number of persons who died at the scene of the collisions, were dead on arrival at the hospital, or died within 30 days of the collision from collision-related injuries\n",
    "\n",
    "#### Other interesting features that might relate to or give insight on these counts\n",
    "- severitydesc - a description of the collision, e.g. Property Damage Only Collision, Injury Collision\n",
    "- collisiontype - a description of the collision type, e.g. Parked Car, Rear Ended, Sideswipe\n",
    "- sdot_coldesc - a description of the collision corresponding to the collision code (Motor Vehicle Struck Motor Vehicle, Rear End)\n",
    "- st_colddesc -  - a description that corresponds to the state’s coding designation (Vehicle Going Straight Hits Pedestrian)\n",
    "- hitparkedcar - hit parked car - Y/N\n",
    "- crosswalkkey - a key for the crosswalk at which the collision occurred\n",
    "- pedrownotgrnt - whether or not the pedestrian right of way was not granted. (Y/N)\n",
    "\n",
    "#### Initial questions I am going to try and answer below;\n",
    "1. Does personcount include pedcount?\n",
    "2. Does personcount include pedcylcount?\n",
    "3. Does injuries include seriousinjuries?\n",
    "4. Does injuries include fatalities?\n",
    "5. If the collision is marked as hitparkedcar = Y, does the 'number of vehicles involved' include the pared car?\n",
    "6. Is there a consistent pattern involving severitydesc and injuries/seriousinjuries/fatalities\n",
    "7. Is there a consistent pattern involving collisiontype and injuries/seriousinjuries/fatalities\n",
    "8. Are there only values for pedrownotgrnt if pedcount > 0 or pedcylcount>0"
   ]
  },
  {
   "cell_type": "code",
   "execution_count": 26,
   "metadata": {},
   "outputs": [],
   "source": [
    "import pandas as pd\n",
    "import numpy as np\n",
    "import matplotlib.pyplot as plt\n",
    "%matplotlib inline\n",
    "import matplotlib\n",
    "matplotlib.style.use('ggplot')\n",
    "pd.options.display.max_rows = 500\n",
    "pd.options.display.max_columns = 100\n",
    "import warnings\n",
    "warnings.filterwarnings(\"ignore\") \n",
    "from datetime import datetime\n",
    "\n",
    "from IPython.display import display, Markdown\n",
    "# Display all output within each cell\n",
    "from IPython.core.interactiveshell import InteractiveShell\n",
    "InteractiveShell.ast_node_interactivity = 'all'"
   ]
  },
  {
   "cell_type": "markdown",
   "metadata": {},
   "source": [
    "### Load data"
   ]
  },
  {
   "cell_type": "code",
   "execution_count": 27,
   "metadata": {},
   "outputs": [],
   "source": [
    "# READ IN THE DATA FROM THE LOCAL CSV FILE\n",
    "local_file_name  = \"../data/collisions_orig.csv\"\n",
    "df = pd.read_csv(local_file_name , parse_dates=[\"INCDTTM\"])"
   ]
  },
  {
   "cell_type": "code",
   "execution_count": 28,
   "metadata": {},
   "outputs": [
    {
     "name": "stdout",
     "output_type": "stream",
     "text": [
      "original df shape: (220436, 40)\n"
     ]
    }
   ],
   "source": [
    "print(\"original df shape:\", df.shape)"
   ]
  },
  {
   "cell_type": "code",
   "execution_count": 29,
   "metadata": {},
   "outputs": [
    {
     "data": {
      "text/html": [
       "<div>\n",
       "<style scoped>\n",
       "    .dataframe tbody tr th:only-of-type {\n",
       "        vertical-align: middle;\n",
       "    }\n",
       "\n",
       "    .dataframe tbody tr th {\n",
       "        vertical-align: top;\n",
       "    }\n",
       "\n",
       "    .dataframe thead th {\n",
       "        text-align: right;\n",
       "    }\n",
       "</style>\n",
       "<table border=\"1\" class=\"dataframe\">\n",
       "  <thead>\n",
       "    <tr style=\"text-align: right;\">\n",
       "      <th></th>\n",
       "      <th>x</th>\n",
       "      <th>y</th>\n",
       "      <th>objectid</th>\n",
       "      <th>addrtype</th>\n",
       "      <th>intkey</th>\n",
       "      <th>location</th>\n",
       "      <th>severitycode</th>\n",
       "      <th>severitydesc</th>\n",
       "      <th>collisiontype</th>\n",
       "      <th>personcount</th>\n",
       "      <th>pedcount</th>\n",
       "      <th>pedcylcount</th>\n",
       "      <th>vehcount</th>\n",
       "      <th>injuries</th>\n",
       "      <th>seriousinjuries</th>\n",
       "      <th>fatalities</th>\n",
       "      <th>incdate</th>\n",
       "      <th>incdttm</th>\n",
       "      <th>junctiontype</th>\n",
       "      <th>sdot_colcode</th>\n",
       "      <th>sdot_coldesc</th>\n",
       "      <th>inattentionind</th>\n",
       "      <th>underinfl</th>\n",
       "      <th>weather</th>\n",
       "      <th>roadcond</th>\n",
       "      <th>lightcond</th>\n",
       "      <th>pedrownotgrnt</th>\n",
       "      <th>sdotcolnum</th>\n",
       "      <th>speeding</th>\n",
       "      <th>st_colcode</th>\n",
       "      <th>st_coldesc</th>\n",
       "      <th>hitparkedcar</th>\n",
       "    </tr>\n",
       "  </thead>\n",
       "  <tbody>\n",
       "    <tr>\n",
       "      <th>0</th>\n",
       "      <td>-122.340472</td>\n",
       "      <td>47.608629</td>\n",
       "      <td>1</td>\n",
       "      <td>Intersection</td>\n",
       "      <td>29598.0</td>\n",
       "      <td>PIKE PL AND PIKE ST</td>\n",
       "      <td>2</td>\n",
       "      <td>Injury Collision</td>\n",
       "      <td>Pedestrian</td>\n",
       "      <td>2</td>\n",
       "      <td>1</td>\n",
       "      <td>0</td>\n",
       "      <td>1</td>\n",
       "      <td>1</td>\n",
       "      <td>0</td>\n",
       "      <td>0</td>\n",
       "      <td>2004/10/14 00:00:00+00</td>\n",
       "      <td>2004-10-14 18:36:00</td>\n",
       "      <td>At Intersection (intersection related)</td>\n",
       "      <td>24.0</td>\n",
       "      <td>MOTOR VEHCILE STRUCK PEDESTRIAN</td>\n",
       "      <td>NaN</td>\n",
       "      <td>0</td>\n",
       "      <td>Overcast</td>\n",
       "      <td>Dry</td>\n",
       "      <td>Dark - Street Lights On</td>\n",
       "      <td>NaN</td>\n",
       "      <td>4288030.0</td>\n",
       "      <td>NaN</td>\n",
       "      <td>3</td>\n",
       "      <td>Vehicle backing hits pedestrian</td>\n",
       "      <td>N</td>\n",
       "    </tr>\n",
       "    <tr>\n",
       "      <th>1</th>\n",
       "      <td>-122.251788</td>\n",
       "      <td>47.508176</td>\n",
       "      <td>2</td>\n",
       "      <td>Block</td>\n",
       "      <td>NaN</td>\n",
       "      <td>S PRENTICE ST BETWEEN 65TH AVE S AND 66TH AVE S</td>\n",
       "      <td>1</td>\n",
       "      <td>Property Damage Only Collision</td>\n",
       "      <td>NaN</td>\n",
       "      <td>2</td>\n",
       "      <td>0</td>\n",
       "      <td>0</td>\n",
       "      <td>0</td>\n",
       "      <td>0</td>\n",
       "      <td>0</td>\n",
       "      <td>0</td>\n",
       "      <td>2020/01/22 00:00:00+00</td>\n",
       "      <td>2020-01-22 00:00:00</td>\n",
       "      <td>Mid-Block (not related to intersection)</td>\n",
       "      <td>12.0</td>\n",
       "      <td>MOTOR VEHICLE STRUCK MOTOR VEHICLE, RIGHT SIDE...</td>\n",
       "      <td>NaN</td>\n",
       "      <td>NaN</td>\n",
       "      <td>NaN</td>\n",
       "      <td>NaN</td>\n",
       "      <td>NaN</td>\n",
       "      <td>NaN</td>\n",
       "      <td>NaN</td>\n",
       "      <td>NaN</td>\n",
       "      <td></td>\n",
       "      <td>NaN</td>\n",
       "      <td>Y</td>\n",
       "    </tr>\n",
       "    <tr>\n",
       "      <th>2</th>\n",
       "      <td>-122.328526</td>\n",
       "      <td>47.703180</td>\n",
       "      <td>3</td>\n",
       "      <td>Intersection</td>\n",
       "      <td>37555.0</td>\n",
       "      <td>1ST AVE NE AND NE 103RD ST</td>\n",
       "      <td>1</td>\n",
       "      <td>Property Damage Only Collision</td>\n",
       "      <td>Angles</td>\n",
       "      <td>4</td>\n",
       "      <td>0</td>\n",
       "      <td>0</td>\n",
       "      <td>2</td>\n",
       "      <td>0</td>\n",
       "      <td>0</td>\n",
       "      <td>0</td>\n",
       "      <td>2020/01/05 00:00:00+00</td>\n",
       "      <td>2020-01-05 13:28:00</td>\n",
       "      <td>At Intersection (intersection related)</td>\n",
       "      <td>11.0</td>\n",
       "      <td>MOTOR VEHICLE STRUCK MOTOR VEHICLE, FRONT END ...</td>\n",
       "      <td>NaN</td>\n",
       "      <td>N</td>\n",
       "      <td>Raining</td>\n",
       "      <td>Wet</td>\n",
       "      <td>Daylight</td>\n",
       "      <td>NaN</td>\n",
       "      <td>NaN</td>\n",
       "      <td>NaN</td>\n",
       "      <td>10</td>\n",
       "      <td>Entering at angle</td>\n",
       "      <td>N</td>\n",
       "    </tr>\n",
       "  </tbody>\n",
       "</table>\n",
       "</div>"
      ],
      "text/plain": [
       "            x          y  objectid      addrtype   intkey  \\\n",
       "0 -122.340472  47.608629         1  Intersection  29598.0   \n",
       "1 -122.251788  47.508176         2         Block      NaN   \n",
       "2 -122.328526  47.703180         3  Intersection  37555.0   \n",
       "\n",
       "                                          location severitycode  \\\n",
       "0                              PIKE PL AND PIKE ST            2   \n",
       "1  S PRENTICE ST BETWEEN 65TH AVE S AND 66TH AVE S            1   \n",
       "2                       1ST AVE NE AND NE 103RD ST            1   \n",
       "\n",
       "                     severitydesc collisiontype  personcount  pedcount  \\\n",
       "0                Injury Collision    Pedestrian            2         1   \n",
       "1  Property Damage Only Collision           NaN            2         0   \n",
       "2  Property Damage Only Collision        Angles            4         0   \n",
       "\n",
       "   pedcylcount  vehcount  injuries  seriousinjuries  fatalities  \\\n",
       "0            0         1         1                0           0   \n",
       "1            0         0         0                0           0   \n",
       "2            0         2         0                0           0   \n",
       "\n",
       "                  incdate             incdttm  \\\n",
       "0  2004/10/14 00:00:00+00 2004-10-14 18:36:00   \n",
       "1  2020/01/22 00:00:00+00 2020-01-22 00:00:00   \n",
       "2  2020/01/05 00:00:00+00 2020-01-05 13:28:00   \n",
       "\n",
       "                              junctiontype  sdot_colcode  \\\n",
       "0   At Intersection (intersection related)          24.0   \n",
       "1  Mid-Block (not related to intersection)          12.0   \n",
       "2   At Intersection (intersection related)          11.0   \n",
       "\n",
       "                                        sdot_coldesc inattentionind underinfl  \\\n",
       "0                    MOTOR VEHCILE STRUCK PEDESTRIAN            NaN         0   \n",
       "1  MOTOR VEHICLE STRUCK MOTOR VEHICLE, RIGHT SIDE...            NaN       NaN   \n",
       "2  MOTOR VEHICLE STRUCK MOTOR VEHICLE, FRONT END ...            NaN         N   \n",
       "\n",
       "    weather roadcond                lightcond pedrownotgrnt  sdotcolnum  \\\n",
       "0  Overcast      Dry  Dark - Street Lights On           NaN   4288030.0   \n",
       "1       NaN      NaN                      NaN           NaN         NaN   \n",
       "2   Raining      Wet                 Daylight           NaN         NaN   \n",
       "\n",
       "  speeding st_colcode                       st_coldesc hitparkedcar  \n",
       "0      NaN          3  Vehicle backing hits pedestrian            N  \n",
       "1      NaN                                         NaN            Y  \n",
       "2      NaN         10                Entering at angle            N  "
      ]
     },
     "execution_count": 29,
     "metadata": {},
     "output_type": "execute_result"
    }
   ],
   "source": [
    "# CHANGE CASE OF FEATURE NAMES  \n",
    "\n",
    "df.drop(['EXCEPTRSNCODE', 'EXCEPTRSNDESC', 'STATUS', 'REPORTNO', 'SEGLANEKEY', 'CROSSWALKKEY', 'INCKEY','COLDETKEY'],axis=1, inplace=True)\n",
    "df.columns = map(str.lower, df.columns)\n",
    "df.head(3)"
   ]
  },
  {
   "cell_type": "markdown",
   "metadata": {},
   "source": [
    "### Feature Engineering"
   ]
  },
  {
   "cell_type": "code",
   "execution_count": 32,
   "metadata": {},
   "outputs": [],
   "source": [
    "df[\"incdate\"] = df[\"incdate\"].astype(\"datetime64\")\n",
    "df[\"year\"] = pd.DatetimeIndex(df.incdate).year  # alternate method\n",
    "df[\"month\"] = df[\"incdate\"].map(lambda x: x.strftime('%m'))\n",
    "df[\"time\"]=df['incdttm'].dt.strftime('%H:%M')\n",
    "df[\"total_injuries\"]=df['injuries'] + df['seriousinjuries']  + df['fatalities'] \n",
    "df[\"total_person_count\"]=df['personcount'] + df['pedcount']  + df['pedcylcount'] \n",
    "\n",
    "fe_emd_crit = (df['weather'].isnull() &\n",
    "    df['lightcond'].isnull() &\n",
    "    df['roadcond'].isnull() &\n",
    "    df['collisiontype'].isnull() &\n",
    "    df['st_coldesc'].isnull() &\n",
    "    df['underinfl'].isnull() &\n",
    "    df['inattentionind'].isnull() &\n",
    "    df['speeding'].isnull() &\n",
    "    df['pedrownotgrnt'].isnull() &\n",
    "    (df['vehcount'] == 0))\n",
    "df['fe_emd'] = fe_emd_crit"
   ]
  },
  {
   "cell_type": "markdown",
   "metadata": {},
   "source": [
    "#### Initial Analysis of missing data \n",
    "Look at NaN for certain features\n",
    "\n",
    "### LIGHTCOND, ROADCOND, WEATHER AND ST_COLDDESC = Nan, VEHCOUNT AND PERSONCOUNT=0\n",
    "### Look at Nulls, Zeros and Unknowns for Full Dataset"
   ]
  },
  {
   "cell_type": "code",
   "execution_count": 33,
   "metadata": {},
   "outputs": [
    {
     "name": "stdout",
     "output_type": "stream",
     "text": [
      "lightcond NaN   26429\n",
      "roadcond NaN   26260\n",
      "weather NaN   26340\n",
      "sdot_coldesc NEI   19103\n",
      "st_coldesc NaN   26152\n",
      "severitydesc unknown   21510\n",
      "vehcount zero   26375\n",
      "total_person_count zero   24510\n",
      "time is  00:00  52204\n",
      "underinfl NaN   26132\n"
     ]
    }
   ],
   "source": [
    "# FOR THE ENTIRE DATASET\n",
    "print(\"lightcond NaN   \" + str(df[\"lightcond\"].isna().sum()))\n",
    "print(\"roadcond NaN   \" + str(df[\"roadcond\"].isna().sum()))\n",
    "print(\"weather NaN   \" + str(df[\"weather\"].isna().sum()))\n",
    "print(\"sdot_coldesc NEI   \" + str(len(df[df[\"sdot_coldesc\"]==\"NOT ENOUGH INFORMATION / NOT APPLICABLE\"])))\n",
    "print(\"st_coldesc NaN   \" + str(df[\"st_coldesc\"].isna().sum()))\n",
    "print(\"severitydesc unknown   \" + str(len(df[df[\"severitydesc\"]==\"Unknown\"])))\n",
    "print(\"vehcount zero   \" + str(len(df[df[\"vehcount\"]==0])))\n",
    "print(\"total_person_count zero   \" + str(len(df[df[\"total_person_count\"]==0])))\n",
    "print(\"time is  00:00  \" + str(len(df[df[\"time\"]==\"00:00\"])))\n",
    "print(\"underinfl NaN   \" + str(df[\"underinfl\"].isna().sum()))"
   ]
  },
  {
   "cell_type": "markdown",
   "metadata": {},
   "source": [
    "### LIGHTCOND, ROADCOND, WEATHER AND ST_COLDDESC = Nan, VEHCOUNT AND PERSONCOUNT=0\n",
    "### Look at Nulls, Zeros and Unknowns when lightcond is Null"
   ]
  },
  {
   "cell_type": "code",
   "execution_count": 34,
   "metadata": {},
   "outputs": [
    {
     "name": "stdout",
     "output_type": "stream",
     "text": [
      "lightcond NaN   26429\n",
      "roadcond NaN   26200\n",
      "weather NaN   26207\n",
      "sdot_coldesc NEI   10102\n",
      "st_coldesc NaN   26130\n",
      "severitydesc unknown   21508\n",
      "vehcount zero   26133\n",
      "total_person_count zero   19355\n",
      "time is  00:00  26133\n",
      "underinfl NaN   26131\n"
     ]
    }
   ],
   "source": [
    "# FOR JUST THOSE THAT HAVE LIGHTCOND MISSING\n",
    "df_no_light = df[df[\"lightcond\"].isna()]\n",
    "print(\"lightcond NaN   \" + str(df_no_light[\"lightcond\"].isna().sum()))\n",
    "print(\"roadcond NaN   \" + str(df_no_light[\"roadcond\"].isna().sum()))\n",
    "print(\"weather NaN   \" + str(df_no_light[\"weather\"].isna().sum()))\n",
    "print(\"sdot_coldesc NEI   \" + str(len(df_no_light[df_no_light[\"sdot_coldesc\"]==\"NOT ENOUGH INFORMATION / NOT APPLICABLE\"])))\n",
    "print(\"st_coldesc NaN   \" + str(df_no_light[\"st_coldesc\"].isna().sum()))\n",
    "print(\"severitydesc unknown   \" + str(len(df_no_light[df_no_light[\"severitydesc\"]==\"Unknown\"])))\n",
    "print(\"vehcount zero   \" + str(len(df_no_light[df_no_light[\"vehcount\"]==0])))\n",
    "print(\"total_person_count zero   \" + str(len(df_no_light[df_no_light[\"total_person_count\"]==0])))\n",
    "print(\"time is  00:00  \" + str(len(df_no_light[df_no_light[\"time\"]==\"00:00\"])))\n",
    "print(\"underinfl NaN   \" + str(df_no_light[\"underinfl\"].isna().sum()))\n"
   ]
  },
  {
   "cell_type": "markdown",
   "metadata": {},
   "source": [
    "The null counts for this subset are almost the same as the entire dataset. These should clearly be grouped togeather w/ fe_emd_null = True \n",
    "\n",
    "### LIGHTCOND, ROADCOND, WEATHER = \"UNKNOWN\" AND ST_COLDDESC = \"NEI\"\n",
    "### For Full Dataset"
   ]
  },
  {
   "cell_type": "code",
   "execution_count": 35,
   "metadata": {},
   "outputs": [
    {
     "name": "stdout",
     "output_type": "stream",
     "text": [
      "lightcond unknown   13518\n",
      "roadcond unknown   15129\n",
      "weather unknown   15131\n",
      "sdot_coldesc NEI   19103\n",
      "severitydesc unknown   21510\n",
      "time is  00:00  52204\n",
      "underinfl NaN   26132\n"
     ]
    }
   ],
   "source": [
    "print(\"lightcond unknown   \" + str(len(df[df[\"lightcond\"]==\"Unknown\"])))\n",
    "print(\"roadcond unknown   \" + str(len(df[df[\"roadcond\"]==\"Unknown\"])))\n",
    "print(\"weather unknown   \" + str(len(df[df[\"weather\"]==\"Unknown\"])))\n",
    "print(\"sdot_coldesc NEI   \" + str(len(df[df[\"sdot_coldesc\"]==\"NOT ENOUGH INFORMATION / NOT APPLICABLE\"])))\n",
    "print(\"severitydesc unknown   \" + str(len(df[df[\"severitydesc\"]==\"Unknown\"])))\n",
    "print(\"time is  00:00  \" + str(len(df[df[\"time\"]==\"00:00\"])))\n",
    "print(\"underinfl NaN   \" + str(df[\"underinfl\"].isna().sum()))"
   ]
  },
  {
   "cell_type": "markdown",
   "metadata": {},
   "source": [
    "### LIGHTCOND, ROADCOND, WEATHER = \"UNKNOWN\" AND ST_COLDDESC = \"NEI\"\n",
    "### For data where lightcond is UNKNOWN"
   ]
  },
  {
   "cell_type": "code",
   "execution_count": 36,
   "metadata": {},
   "outputs": [
    {
     "name": "stdout",
     "output_type": "stream",
     "text": [
      "lightcond unknown   13518\n",
      "roadcond unknown   10650\n",
      "weather unknown   10723\n",
      "sdot_coldesc NEI   4140\n",
      "st_coldesc NaN   2\n",
      "vehcount zero   1\n",
      "total_person_count zero   151\n",
      "severitydesc unknown   0\n",
      "time is  00:00  2006\n",
      "underinfl NaN   0\n"
     ]
    }
   ],
   "source": [
    "df_light_unknown = df[df[\"lightcond\"]==\"Unknown\"]\n",
    "print(\"lightcond unknown   \" + str(len(df_light_unknown[df_light_unknown[\"lightcond\"]==\"Unknown\"])))\n",
    "print(\"roadcond unknown   \" + str(len(df_light_unknown[df_light_unknown[\"roadcond\"]==\"Unknown\"])))\n",
    "print(\"weather unknown   \" + str(len(df_light_unknown[df_light_unknown[\"weather\"]==\"Unknown\"])))\n",
    "print(\"sdot_coldesc NEI   \" + str(len(df_light_unknown[df_light_unknown[\"sdot_coldesc\"]==\"NOT ENOUGH INFORMATION / NOT APPLICABLE\"])))\n",
    "print(\"st_coldesc NaN   \" + str(df_light_unknown[\"st_coldesc\"].isna().sum()))\n",
    "print(\"vehcount zero   \" + str(len(df_light_unknown[df_light_unknown[\"vehcount\"]==0])))\n",
    "print(\"total_person_count zero   \" + str(len(df_light_unknown[df_light_unknown[\"total_person_count\"]==0])))\n",
    "print(\"severitydesc unknown   \" + str(len(df_light_unknown[df_light_unknown[\"severitydesc\"]==\"Unknown\"])))\n",
    "print(\"time is  00:00  \" + str(len(df_light_unknown[df_light_unknown[\"time\"]==\"00:00\"])))\n",
    "print(\"underinfl NaN   \" + str(df_light_unknown[\"underinfl\"].isna().sum()))"
   ]
  },
  {
   "cell_type": "code",
   "execution_count": 37,
   "metadata": {},
   "outputs": [
    {
     "name": "stdout",
     "output_type": "stream",
     "text": [
      "0.0534168647589323\n",
      "0.17893223353134813\n",
      "0.11014943038911082\n"
     ]
    }
   ],
   "source": [
    "print(len(df[df['hitparkedcar'] == 'Y'])/len(df))\n",
    "print(len(df_no_light[df_no_light['hitparkedcar'] == 'Y'])/len(df_no_light))\n",
    "print(len(df_light_unknown[df_light_unknown['hitparkedcar'] == 'Y'])/len(df_light_unknown))"
   ]
  },
  {
   "cell_type": "markdown",
   "metadata": {},
   "source": [
    "### Look at Null and Unique Values for Various Features"
   ]
  },
  {
   "cell_type": "code",
   "execution_count": 40,
   "metadata": {},
   "outputs": [
    {
     "name": "stdout",
     "output_type": "stream",
     "text": [
      "--------------------\n",
      "roadcond\n",
      "NaN   26260\n",
      "Dry               127753\n",
      "Wet                48653\n",
      "Unknown            15129\n",
      "Ice                 1231\n",
      "Snow/Slush          1014\n",
      "Other                136\n",
      "Standing Water       119\n",
      "Sand/Mud/Dirt         77\n",
      "Oil                   64\n",
      "Name: roadcond, dtype: int64\n",
      "--------------------\n",
      "weather\n",
      "NaN   26340\n",
      "Clear                       114006\n",
      "Raining                      33973\n",
      "Overcast                     28435\n",
      "Unknown                      15131\n",
      "Snowing                        919\n",
      "Other                          850\n",
      "Fog/Smog/Smoke                 576\n",
      "Sleet/Hail/Freezing Rain       116\n",
      "Blowing Sand/Dirt               56\n",
      "Severe Crosswind                26\n",
      "Partly Cloudy                    8\n",
      "Name: weather, dtype: int64\n",
      "--------------------\n",
      "collisiontype\n",
      "NaN   26152\n",
      "Parked Car    48364\n",
      "Angles        35366\n",
      "Rear Ended    34545\n",
      "Other         24450\n",
      "Sideswipe     18812\n",
      "Left Turn     14047\n",
      "Pedestrian     7637\n",
      "Cycles         5893\n",
      "Right Turn     2998\n",
      "Head On        2172\n",
      "Name: collisiontype, dtype: int64\n",
      "--------------------\n",
      "severitycode\n",
      "NaN   1\n",
      "1     137026\n",
      "2      58472\n",
      "0      21509\n",
      "2b      3082\n",
      "3        346\n",
      "Name: severitycode, dtype: int64\n",
      "--------------------\n",
      "severitydesc\n",
      "NaN   0\n",
      "Property Damage Only Collision    137026\n",
      "Injury Collision                   58472\n",
      "Unknown                            21510\n",
      "Serious Injury Collision            3082\n",
      "Fatality Collision                   346\n",
      "Name: severitydesc, dtype: int64\n",
      "--------------------\n",
      "addrtype\n",
      "NaN   3707\n",
      "Block           144344\n",
      "Intersection     71516\n",
      "Alley              869\n",
      "Name: addrtype, dtype: int64\n",
      "--------------------\n",
      "junctiontype\n",
      "NaN   11936\n",
      "Mid-Block (not related to intersection)              101124\n",
      "At Intersection (intersection related)                68811\n",
      "Mid-Block (but intersection related)                  24369\n",
      "Driveway Junction                                     11491\n",
      "At Intersection (but not related to intersection)      2494\n",
      "Ramp Junction                                           190\n",
      "Unknown                                                  21\n",
      "Name: junctiontype, dtype: int64\n",
      "--------------------\n",
      "inattentionind\n",
      "NaN   190249\n",
      "Y    30187\n",
      "Name: inattentionind, dtype: int64\n",
      "--------------------\n",
      "underinfl\n",
      "NaN   26132\n",
      "N    103000\n",
      "0     81676\n",
      "Y      5398\n",
      "1      4230\n",
      "Name: underinfl, dtype: int64\n",
      "--------------------\n",
      "pedrownotgrnt\n",
      "NaN   215256\n",
      "Y    5180\n",
      "Name: pedrownotgrnt, dtype: int64\n",
      "--------------------\n",
      "speeding\n",
      "NaN   210560\n",
      "Y    9876\n",
      "Name: speeding, dtype: int64\n",
      "--------------------\n",
      "hitparkedcar\n",
      "NaN   0\n",
      "N    208661\n",
      "Y     11775\n",
      "Name: hitparkedcar, dtype: int64\n"
     ]
    }
   ],
   "source": [
    "other_cols = [\"roadcond\", \"weather\",  \"collisiontype\", \"severitycode\", \"severitydesc\",  'addrtype', 'junctiontype', 'inattentionind', 'underinfl', 'pedrownotgrnt', 'speeding', 'hitparkedcar']\n",
    "for col in other_cols:\n",
    "    print(\"-\"*20)\n",
    "    print(col)\n",
    "    print(\"NaN   \" + str(df[col].isna().sum()))\n",
    "    print(df[col].value_counts())"
   ]
  },
  {
   "cell_type": "markdown",
   "metadata": {},
   "source": [
    "#### Time - Total and percent missing values "
   ]
  },
  {
   "cell_type": "code",
   "execution_count": 41,
   "metadata": {},
   "outputs": [
    {
     "name": "stdout",
     "output_type": "stream",
     "text": [
      "Total Missing   52204\n",
      "Portion of values that are missing\n",
      "0.2368215717940808\n"
     ]
    }
   ],
   "source": [
    "\n",
    "df_no_time = df[df[\"time\"]==\"00:00\"]\n",
    "print(\"Total Missing   \" + str(len(df_no_time)))\n",
    "print(\"Portion of values that are missing\")\n",
    "print(len(df_no_time)/len(df))"
   ]
  },
  {
   "cell_type": "markdown",
   "metadata": {},
   "source": [
    "####  st_coldesc and  sdot_col - Null values "
   ]
  },
  {
   "cell_type": "code",
   "execution_count": 42,
   "metadata": {},
   "outputs": [
    {
     "name": "stdout",
     "output_type": "stream",
     "text": [
      "Null values for st_coldesc 1\n",
      "Null values for sdot_col 26152\n"
     ]
    }
   ],
   "source": [
    "\n",
    "#print(df[\"sdot_col\"].value_counts().sort_index())\n",
    "#print(df[\"sdot_coldesc\"].value_counts().sort_index())\n",
    "print(\"Null values for st_coldesc \" + str(df[\"sdot_coldesc\"].isna().sum()))\n",
    "print(\"Null values for sdot_col \" + str(df[\"st_coldesc\"].isna().sum()))"
   ]
  },
  {
   "cell_type": "code",
   "execution_count": 73,
   "metadata": {},
   "outputs": [
    {
     "data": {
      "text/html": [
       "<div>\n",
       "<style scoped>\n",
       "    .dataframe tbody tr th:only-of-type {\n",
       "        vertical-align: middle;\n",
       "    }\n",
       "\n",
       "    .dataframe tbody tr th {\n",
       "        vertical-align: top;\n",
       "    }\n",
       "\n",
       "    .dataframe thead th {\n",
       "        text-align: right;\n",
       "    }\n",
       "</style>\n",
       "<table border=\"1\" class=\"dataframe\">\n",
       "  <thead>\n",
       "    <tr style=\"text-align: right;\">\n",
       "      <th></th>\n",
       "      <th>personcount</th>\n",
       "      <th>pedcount</th>\n",
       "      <th>pedcylcount</th>\n",
       "      <th>vehcount</th>\n",
       "      <th>injuries</th>\n",
       "      <th>seriousinjuries</th>\n",
       "      <th>fatalities</th>\n",
       "      <th>total_injuries</th>\n",
       "    </tr>\n",
       "  </thead>\n",
       "  <tbody>\n",
       "    <tr>\n",
       "      <th>0</th>\n",
       "      <td>2</td>\n",
       "      <td>1</td>\n",
       "      <td>0</td>\n",
       "      <td>1</td>\n",
       "      <td>1</td>\n",
       "      <td>0</td>\n",
       "      <td>0</td>\n",
       "      <td>1</td>\n",
       "    </tr>\n",
       "    <tr>\n",
       "      <th>1</th>\n",
       "      <td>2</td>\n",
       "      <td>0</td>\n",
       "      <td>0</td>\n",
       "      <td>0</td>\n",
       "      <td>0</td>\n",
       "      <td>0</td>\n",
       "      <td>0</td>\n",
       "      <td>0</td>\n",
       "    </tr>\n",
       "    <tr>\n",
       "      <th>2</th>\n",
       "      <td>4</td>\n",
       "      <td>0</td>\n",
       "      <td>0</td>\n",
       "      <td>2</td>\n",
       "      <td>0</td>\n",
       "      <td>0</td>\n",
       "      <td>0</td>\n",
       "      <td>0</td>\n",
       "    </tr>\n",
       "    <tr>\n",
       "      <th>3</th>\n",
       "      <td>2</td>\n",
       "      <td>0</td>\n",
       "      <td>0</td>\n",
       "      <td>2</td>\n",
       "      <td>0</td>\n",
       "      <td>0</td>\n",
       "      <td>0</td>\n",
       "      <td>0</td>\n",
       "    </tr>\n",
       "    <tr>\n",
       "      <th>4</th>\n",
       "      <td>0</td>\n",
       "      <td>0</td>\n",
       "      <td>0</td>\n",
       "      <td>0</td>\n",
       "      <td>0</td>\n",
       "      <td>0</td>\n",
       "      <td>0</td>\n",
       "      <td>0</td>\n",
       "    </tr>\n",
       "    <tr>\n",
       "      <th>5</th>\n",
       "      <td>2</td>\n",
       "      <td>0</td>\n",
       "      <td>0</td>\n",
       "      <td>0</td>\n",
       "      <td>1</td>\n",
       "      <td>0</td>\n",
       "      <td>0</td>\n",
       "      <td>1</td>\n",
       "    </tr>\n",
       "    <tr>\n",
       "      <th>6</th>\n",
       "      <td>2</td>\n",
       "      <td>0</td>\n",
       "      <td>0</td>\n",
       "      <td>2</td>\n",
       "      <td>0</td>\n",
       "      <td>0</td>\n",
       "      <td>0</td>\n",
       "      <td>0</td>\n",
       "    </tr>\n",
       "    <tr>\n",
       "      <th>7</th>\n",
       "      <td>2</td>\n",
       "      <td>0</td>\n",
       "      <td>0</td>\n",
       "      <td>0</td>\n",
       "      <td>0</td>\n",
       "      <td>0</td>\n",
       "      <td>0</td>\n",
       "      <td>0</td>\n",
       "    </tr>\n",
       "    <tr>\n",
       "      <th>8</th>\n",
       "      <td>2</td>\n",
       "      <td>0</td>\n",
       "      <td>0</td>\n",
       "      <td>2</td>\n",
       "      <td>0</td>\n",
       "      <td>0</td>\n",
       "      <td>0</td>\n",
       "      <td>0</td>\n",
       "    </tr>\n",
       "    <tr>\n",
       "      <th>9</th>\n",
       "      <td>4</td>\n",
       "      <td>0</td>\n",
       "      <td>0</td>\n",
       "      <td>2</td>\n",
       "      <td>0</td>\n",
       "      <td>0</td>\n",
       "      <td>0</td>\n",
       "      <td>0</td>\n",
       "    </tr>\n",
       "  </tbody>\n",
       "</table>\n",
       "</div>"
      ],
      "text/plain": [
       "   personcount  pedcount  pedcylcount  vehcount  injuries  seriousinjuries  \\\n",
       "0            2         1            0         1         1                0   \n",
       "1            2         0            0         0         0                0   \n",
       "2            4         0            0         2         0                0   \n",
       "3            2         0            0         2         0                0   \n",
       "4            0         0            0         0         0                0   \n",
       "5            2         0            0         0         1                0   \n",
       "6            2         0            0         2         0                0   \n",
       "7            2         0            0         0         0                0   \n",
       "8            2         0            0         2         0                0   \n",
       "9            4         0            0         2         0                0   \n",
       "\n",
       "   fatalities  total_injuries  \n",
       "0           0               1  \n",
       "1           0               0  \n",
       "2           0               0  \n",
       "3           0               0  \n",
       "4           0               0  \n",
       "5           0               1  \n",
       "6           0               0  \n",
       "7           0               0  \n",
       "8           0               0  \n",
       "9           0               0  "
      ]
     },
     "metadata": {},
     "output_type": "display_data"
    }
   ],
   "source": [
    "#LOOK AT THE FIRST FEW ROWS OR THE COLUMNS WE ARE INTERESTED IN\n",
    "num_count_cols=['personcount','pedcount','pedcylcount','vehcount','injuries','seriousinjuries','fatalities', 'total_injuries']\n",
    "interest_cols=['severitydesc','collisiontype','sdot_coldesc','st_coldesc','hitparkedcar','pedrownotgrnt']\n",
    "\n",
    "display(df[num_count_cols].head(10))"
   ]
  },
  {
   "cell_type": "markdown",
   "metadata": {},
   "source": [
    "### 1. Person Counts - Includes  personcount, pedcount (pedestrians) and pedcyclcount (cyclists) \n",
    "\n",
    "The following table shows record count for each combination counts for persons, pedestrians and cyclists."
   ]
  },
  {
   "cell_type": "code",
   "execution_count": 74,
   "metadata": {},
   "outputs": [
    {
     "data": {
      "text/html": [
       "<div>\n",
       "<style scoped>\n",
       "    .dataframe tbody tr th:only-of-type {\n",
       "        vertical-align: middle;\n",
       "    }\n",
       "\n",
       "    .dataframe tbody tr th {\n",
       "        vertical-align: top;\n",
       "    }\n",
       "\n",
       "    .dataframe thead th {\n",
       "        text-align: right;\n",
       "    }\n",
       "</style>\n",
       "<table border=\"1\" class=\"dataframe\">\n",
       "  <thead>\n",
       "    <tr style=\"text-align: right;\">\n",
       "      <th></th>\n",
       "      <th>personcount</th>\n",
       "      <th>pedcount</th>\n",
       "      <th>pedcylcount</th>\n",
       "      <th>record count</th>\n",
       "    </tr>\n",
       "  </thead>\n",
       "  <tbody>\n",
       "    <tr>\n",
       "      <th>0</th>\n",
       "      <td>0</td>\n",
       "      <td>0</td>\n",
       "      <td>0</td>\n",
       "      <td>24510</td>\n",
       "    </tr>\n",
       "    <tr>\n",
       "      <th>1</th>\n",
       "      <td>0</td>\n",
       "      <td>0</td>\n",
       "      <td>1</td>\n",
       "      <td>187</td>\n",
       "    </tr>\n",
       "    <tr>\n",
       "      <th>2</th>\n",
       "      <td>0</td>\n",
       "      <td>0</td>\n",
       "      <td>2</td>\n",
       "      <td>2</td>\n",
       "    </tr>\n",
       "    <tr>\n",
       "      <th>3</th>\n",
       "      <td>0</td>\n",
       "      <td>1</td>\n",
       "      <td>0</td>\n",
       "      <td>216</td>\n",
       "    </tr>\n",
       "    <tr>\n",
       "      <th>4</th>\n",
       "      <td>0</td>\n",
       "      <td>1</td>\n",
       "      <td>1</td>\n",
       "      <td>1</td>\n",
       "    </tr>\n",
       "    <tr>\n",
       "      <th>5</th>\n",
       "      <td>0</td>\n",
       "      <td>2</td>\n",
       "      <td>0</td>\n",
       "      <td>11</td>\n",
       "    </tr>\n",
       "    <tr>\n",
       "      <th>6</th>\n",
       "      <td>0</td>\n",
       "      <td>2</td>\n",
       "      <td>1</td>\n",
       "      <td>1</td>\n",
       "    </tr>\n",
       "    <tr>\n",
       "      <th>7</th>\n",
       "      <td>1</td>\n",
       "      <td>0</td>\n",
       "      <td>0</td>\n",
       "      <td>13513</td>\n",
       "    </tr>\n",
       "    <tr>\n",
       "      <th>8</th>\n",
       "      <td>1</td>\n",
       "      <td>0</td>\n",
       "      <td>1</td>\n",
       "      <td>241</td>\n",
       "    </tr>\n",
       "    <tr>\n",
       "      <th>9</th>\n",
       "      <td>1</td>\n",
       "      <td>0</td>\n",
       "      <td>2</td>\n",
       "      <td>1</td>\n",
       "    </tr>\n",
       "    <tr>\n",
       "      <th>10</th>\n",
       "      <td>1</td>\n",
       "      <td>1</td>\n",
       "      <td>0</td>\n",
       "      <td>68</td>\n",
       "    </tr>\n",
       "    <tr>\n",
       "      <th>11</th>\n",
       "      <td>1</td>\n",
       "      <td>1</td>\n",
       "      <td>1</td>\n",
       "      <td>2</td>\n",
       "    </tr>\n",
       "    <tr>\n",
       "      <th>12</th>\n",
       "      <td>1</td>\n",
       "      <td>2</td>\n",
       "      <td>0</td>\n",
       "      <td>2</td>\n",
       "    </tr>\n",
       "    <tr>\n",
       "      <th>13</th>\n",
       "      <td>2</td>\n",
       "      <td>0</td>\n",
       "      <td>0</td>\n",
       "      <td>107879</td>\n",
       "    </tr>\n",
       "    <tr>\n",
       "      <th>14</th>\n",
       "      <td>2</td>\n",
       "      <td>0</td>\n",
       "      <td>1</td>\n",
       "      <td>4383</td>\n",
       "    </tr>\n",
       "    <tr>\n",
       "      <th>15</th>\n",
       "      <td>2</td>\n",
       "      <td>0</td>\n",
       "      <td>2</td>\n",
       "      <td>15</td>\n",
       "    </tr>\n",
       "    <tr>\n",
       "      <th>16</th>\n",
       "      <td>2</td>\n",
       "      <td>1</td>\n",
       "      <td>0</td>\n",
       "      <td>6095</td>\n",
       "    </tr>\n",
       "    <tr>\n",
       "      <th>17</th>\n",
       "      <td>2</td>\n",
       "      <td>1</td>\n",
       "      <td>1</td>\n",
       "      <td>93</td>\n",
       "    </tr>\n",
       "    <tr>\n",
       "      <th>18</th>\n",
       "      <td>2</td>\n",
       "      <td>2</td>\n",
       "      <td>0</td>\n",
       "      <td>1</td>\n",
       "    </tr>\n",
       "    <tr>\n",
       "      <th>19</th>\n",
       "      <td>3</td>\n",
       "      <td>0</td>\n",
       "      <td>0</td>\n",
       "      <td>34560</td>\n",
       "    </tr>\n",
       "    <tr>\n",
       "      <th>20</th>\n",
       "      <td>3</td>\n",
       "      <td>0</td>\n",
       "      <td>1</td>\n",
       "      <td>747</td>\n",
       "    </tr>\n",
       "    <tr>\n",
       "      <th>21</th>\n",
       "      <td>3</td>\n",
       "      <td>0</td>\n",
       "      <td>2</td>\n",
       "      <td>23</td>\n",
       "    </tr>\n",
       "    <tr>\n",
       "      <th>22</th>\n",
       "      <td>3</td>\n",
       "      <td>1</td>\n",
       "      <td>0</td>\n",
       "      <td>844</td>\n",
       "    </tr>\n",
       "    <tr>\n",
       "      <th>23</th>\n",
       "      <td>3</td>\n",
       "      <td>1</td>\n",
       "      <td>1</td>\n",
       "      <td>7</td>\n",
       "    </tr>\n",
       "    <tr>\n",
       "      <th>24</th>\n",
       "      <td>3</td>\n",
       "      <td>1</td>\n",
       "      <td>2</td>\n",
       "      <td>1</td>\n",
       "    </tr>\n",
       "  </tbody>\n",
       "</table>\n",
       "</div>"
      ],
      "text/plain": [
       "    personcount  pedcount  pedcylcount  record count\n",
       "0             0         0            0         24510\n",
       "1             0         0            1           187\n",
       "2             0         0            2             2\n",
       "3             0         1            0           216\n",
       "4             0         1            1             1\n",
       "5             0         2            0            11\n",
       "6             0         2            1             1\n",
       "7             1         0            0         13513\n",
       "8             1         0            1           241\n",
       "9             1         0            2             1\n",
       "10            1         1            0            68\n",
       "11            1         1            1             2\n",
       "12            1         2            0             2\n",
       "13            2         0            0        107879\n",
       "14            2         0            1          4383\n",
       "15            2         0            2            15\n",
       "16            2         1            0          6095\n",
       "17            2         1            1            93\n",
       "18            2         2            0             1\n",
       "19            3         0            0         34560\n",
       "20            3         0            1           747\n",
       "21            3         0            2            23\n",
       "22            3         1            0           844\n",
       "23            3         1            1             7\n",
       "24            3         1            2             1"
      ]
     },
     "execution_count": 74,
     "metadata": {},
     "output_type": "execute_result"
    }
   ],
   "source": [
    "df.groupby(['personcount','pedcount','pedcylcount']).size().reset_index().rename(columns={0:'record count'}).head(25)"
   ]
  },
  {
   "cell_type": "markdown",
   "metadata": {},
   "source": [
    "At a glance, it's concerning to see how many records have zero for each of these person counts. We will revisit this below (1.2)."
   ]
  },
  {
   "cell_type": "markdown",
   "metadata": {},
   "source": [
    "#### 1.1 Questions 1 & 2 combined \"Does personcount include pedcount or pedcylcount?\" answer to both is no, they are not included.\n",
    "Since there are many records that have pedcount (pedestrian count) and/or pedcylcount (cyclist) greater than zero, while personcount is zero, it is clear that personcount does not automatically include pedcount (pedestrian count) or pedcylcount (cyclist).\n",
    "\n",
    "####  Interesting Follow-up Question\n",
    "There are 24,540 collisions where no people at all were involved. What kind of accidents would account for this?"
   ]
  },
  {
   "cell_type": "markdown",
   "metadata": {},
   "source": [
    "#### 1.2 Analyze records where all person counts are zero\n",
    "\n",
    "We will create two subsets of data, those were all person counts are zero, and another, where at least one person count is greater than zero. We can use these to compare counts in different related features to see if there is a pattern."
   ]
  },
  {
   "cell_type": "code",
   "execution_count": 75,
   "metadata": {},
   "outputs": [
    {
     "data": {
      "text/html": [
       "<div>\n",
       "<style scoped>\n",
       "    .dataframe tbody tr th:only-of-type {\n",
       "        vertical-align: middle;\n",
       "    }\n",
       "\n",
       "    .dataframe tbody tr th {\n",
       "        vertical-align: top;\n",
       "    }\n",
       "\n",
       "    .dataframe thead th {\n",
       "        text-align: right;\n",
       "    }\n",
       "</style>\n",
       "<table border=\"1\" class=\"dataframe\">\n",
       "  <thead>\n",
       "    <tr style=\"text-align: right;\">\n",
       "      <th></th>\n",
       "      <th>vehcount</th>\n",
       "      <th>injuries</th>\n",
       "      <th>seriousinjuries</th>\n",
       "      <th>fatalities</th>\n",
       "      <th>severitydesc</th>\n",
       "      <th>collisiontype</th>\n",
       "      <th>sdot_coldesc</th>\n",
       "      <th>st_coldesc</th>\n",
       "      <th>hitparkedcar</th>\n",
       "      <th>pedrownotgrnt</th>\n",
       "    </tr>\n",
       "  </thead>\n",
       "  <tbody>\n",
       "    <tr>\n",
       "      <th>4</th>\n",
       "      <td>0</td>\n",
       "      <td>0</td>\n",
       "      <td>0</td>\n",
       "      <td>0</td>\n",
       "      <td>Unknown</td>\n",
       "      <td>NaN</td>\n",
       "      <td>MOTOR VEHICLE STRUCK MOTOR VEHICLE, FRONT END ...</td>\n",
       "      <td>NaN</td>\n",
       "      <td>Y</td>\n",
       "      <td>NaN</td>\n",
       "    </tr>\n",
       "    <tr>\n",
       "      <th>12</th>\n",
       "      <td>0</td>\n",
       "      <td>0</td>\n",
       "      <td>0</td>\n",
       "      <td>0</td>\n",
       "      <td>Unknown</td>\n",
       "      <td>NaN</td>\n",
       "      <td>NOT ENOUGH INFORMATION / NOT APPLICABLE</td>\n",
       "      <td>NaN</td>\n",
       "      <td>N</td>\n",
       "      <td>NaN</td>\n",
       "    </tr>\n",
       "    <tr>\n",
       "      <th>15</th>\n",
       "      <td>0</td>\n",
       "      <td>0</td>\n",
       "      <td>0</td>\n",
       "      <td>0</td>\n",
       "      <td>Unknown</td>\n",
       "      <td>NaN</td>\n",
       "      <td>MOTOR VEHICLE STRUCK MOTOR VEHICLE, FRONT END ...</td>\n",
       "      <td>NaN</td>\n",
       "      <td>Y</td>\n",
       "      <td>NaN</td>\n",
       "    </tr>\n",
       "    <tr>\n",
       "      <th>25</th>\n",
       "      <td>0</td>\n",
       "      <td>0</td>\n",
       "      <td>0</td>\n",
       "      <td>0</td>\n",
       "      <td>Unknown</td>\n",
       "      <td>NaN</td>\n",
       "      <td>NOT ENOUGH INFORMATION / NOT APPLICABLE</td>\n",
       "      <td>NaN</td>\n",
       "      <td>Y</td>\n",
       "      <td>NaN</td>\n",
       "    </tr>\n",
       "    <tr>\n",
       "      <th>31</th>\n",
       "      <td>0</td>\n",
       "      <td>0</td>\n",
       "      <td>0</td>\n",
       "      <td>0</td>\n",
       "      <td>Unknown</td>\n",
       "      <td>NaN</td>\n",
       "      <td>NOT ENOUGH INFORMATION / NOT APPLICABLE</td>\n",
       "      <td>NaN</td>\n",
       "      <td>Y</td>\n",
       "      <td>NaN</td>\n",
       "    </tr>\n",
       "  </tbody>\n",
       "</table>\n",
       "</div>"
      ],
      "text/plain": [
       "    vehcount  injuries  seriousinjuries  fatalities severitydesc  \\\n",
       "4          0         0                0           0      Unknown   \n",
       "12         0         0                0           0      Unknown   \n",
       "15         0         0                0           0      Unknown   \n",
       "25         0         0                0           0      Unknown   \n",
       "31         0         0                0           0      Unknown   \n",
       "\n",
       "   collisiontype                                       sdot_coldesc  \\\n",
       "4            NaN  MOTOR VEHICLE STRUCK MOTOR VEHICLE, FRONT END ...   \n",
       "12           NaN            NOT ENOUGH INFORMATION / NOT APPLICABLE   \n",
       "15           NaN  MOTOR VEHICLE STRUCK MOTOR VEHICLE, FRONT END ...   \n",
       "25           NaN            NOT ENOUGH INFORMATION / NOT APPLICABLE   \n",
       "31           NaN            NOT ENOUGH INFORMATION / NOT APPLICABLE   \n",
       "\n",
       "   st_coldesc hitparkedcar pedrownotgrnt  \n",
       "4         NaN            Y           NaN  \n",
       "12        NaN            N           NaN  \n",
       "15        NaN            Y           NaN  \n",
       "25        NaN            Y           NaN  \n",
       "31        NaN            Y           NaN  "
      ]
     },
     "execution_count": 75,
     "metadata": {},
     "output_type": "execute_result"
    }
   ],
   "source": [
    "# Create a dataset of just those collisions where supposedly no people were involved\n",
    "df_no_people = df.loc[(df[\"personcount\"] == 0) & (df[\"pedcount\"] == 0) & (df[\"pedcylcount\"] == 0)]\n",
    "df_one_or_more_people = df.loc[(df[\"personcount\"] > 0) | (df[\"pedcount\"] > 0) | (df[\"pedcylcount\"] > 0)]\n",
    "df_no_people[['vehcount','injuries','seriousinjuries','fatalities', 'severitydesc','collisiontype','sdot_coldesc','st_coldesc','hitparkedcar','pedrownotgrnt']].head(5)\n",
    "\n"
   ]
  },
  {
   "cell_type": "markdown",
   "metadata": {},
   "source": [
    "#### Something strange is going on here...\n",
    "It looks like these are real collisions involving vehicles, but people counts, vehicle counts and injury counts are all zeros. This represents about 10% of our data. Need to keep this in mind when analysis includes vehcount and/or person counts. Might want to drop records that are zero for all these counts.  \n",
    "\n",
    "#### A further look at this subset of data:\n",
    "How can there be no people involved if there are vehicles and/or injuries involved?"
   ]
  },
  {
   "cell_type": "code",
   "execution_count": 76,
   "metadata": {},
   "outputs": [
    {
     "name": "stdout",
     "output_type": "stream",
     "text": [
      "Severity of collisions for those when supposedly no people were involved - most of these are listed as Unknown\n"
     ]
    },
    {
     "data": {
      "text/plain": [
       "Unknown                           19349\n",
       "Property Damage Only Collision     3741\n",
       "Injury Collision                   1400\n",
       "Serious Injury Collision             19\n",
       "Fatality Collision                    1\n",
       "Name: severitydesc, dtype: int64"
      ]
     },
     "execution_count": 76,
     "metadata": {},
     "output_type": "execute_result"
    }
   ],
   "source": [
    "print(\"Severity of collisions for those when supposedly no people were involved - most of these are listed as Unknown\")\n",
    "df_no_people['severitydesc'].value_counts()"
   ]
  },
  {
   "cell_type": "markdown",
   "metadata": {},
   "source": [
    "#### 1.3 Severity comparison\n",
    "\n",
    "Most of the records where number of people are involved = zero, Severity is listed as Unknown"
   ]
  },
  {
   "cell_type": "code",
   "execution_count": 77,
   "metadata": {},
   "outputs": [
    {
     "data": {
      "text/plain": [
       "<matplotlib.axes._subplots.AxesSubplot at 0x298dee942e8>"
      ]
     },
     "execution_count": 77,
     "metadata": {},
     "output_type": "execute_result"
    },
    {
     "data": {
      "text/plain": [
       "<matplotlib.axes._subplots.AxesSubplot at 0x298deeb5780>"
      ]
     },
     "execution_count": 77,
     "metadata": {},
     "output_type": "execute_result"
    },
    {
     "data": {
      "text/plain": [
       "<matplotlib.axes._subplots.AxesSubplot at 0x2988014ce10>"
      ]
     },
     "execution_count": 77,
     "metadata": {},
     "output_type": "execute_result"
    },
    {
     "data": {
      "image/png": "[encoded data removed]",
      "text/plain": [
       "<Figure size 1152x288 with 3 Axes>"
      ]
     },
     "metadata": {},
     "output_type": "display_data"
    }
   ],
   "source": [
    "fig, axes = plt.subplots(nrows=1, ncols=3,figsize=(16, 4))\n",
    "fig.subplots_adjust(hspace=0.8)\n",
    "\n",
    "df_no_people['severitydesc'].value_counts().sort_index().plot(ax=axes[0],kind='bar',title='Severity when zero people involved')\n",
    "df['severitydesc'].value_counts().sort_index().plot(ax=axes[1],kind='bar',title='Severity for ALL records')\n",
    "df_one_or_more_people['severitydesc'].value_counts().sort_index().plot(ax=axes[2],kind='bar',title='Severity when one or more people involved')"
   ]
  },
  {
   "cell_type": "markdown",
   "metadata": {},
   "source": [
    "Maybe we should remove records where number of people involved = zero\n",
    "\n",
    "#### 1.4  Vehicle count comparison\n",
    "\n",
    "Lets next look at vehicle count when number of people involved is zero"
   ]
  },
  {
   "cell_type": "code",
   "execution_count": 78,
   "metadata": {},
   "outputs": [
    {
     "name": "stdout",
     "output_type": "stream",
     "text": [
      "Number of records where zero, one or more vehicles were involved when no people were involved\n"
     ]
    },
    {
     "data": {
      "text/plain": [
       "0     19352\n",
       "2      4266\n",
       "3       391\n",
       "1       391\n",
       "4        81\n",
       "5        19\n",
       "6         6\n",
       "7         2\n",
       "11        1\n",
       "9         1\n",
       "Name: vehcount, dtype: int64"
      ]
     },
     "execution_count": 78,
     "metadata": {},
     "output_type": "execute_result"
    }
   ],
   "source": [
    "print(\"Number of records where zero, one or more vehicles were involved when no people were involved\")\n",
    "df_no_people['vehcount'].value_counts()"
   ]
  },
  {
   "cell_type": "code",
   "execution_count": 79,
   "metadata": {},
   "outputs": [
    {
     "data": {
      "text/plain": [
       "<matplotlib.axes._subplots.AxesSubplot at 0x29880377940>"
      ]
     },
     "execution_count": 79,
     "metadata": {},
     "output_type": "execute_result"
    },
    {
     "data": {
      "text/plain": [
       "<matplotlib.axes._subplots.AxesSubplot at 0x2988053fc50>"
      ]
     },
     "execution_count": 79,
     "metadata": {},
     "output_type": "execute_result"
    },
    {
     "data": {
      "text/plain": [
       "<matplotlib.axes._subplots.AxesSubplot at 0x29880200320>"
      ]
     },
     "execution_count": 79,
     "metadata": {},
     "output_type": "execute_result"
    },
    {
     "data": {
      "image/png": "[encoded data removed]",
      "text/plain": [
       "<Figure size 1152x288 with 3 Axes>"
      ]
     },
     "metadata": {},
     "output_type": "display_data"
    }
   ],
   "source": [
    "fig, axes = plt.subplots(nrows=1, ncols=3,figsize=(16, 4))\n",
    "fig.subplots_adjust(hspace=0.8)\n",
    "\n",
    "df_no_people['vehcount'].value_counts().sort_index().plot(ax=axes[0],kind='bar',title='# of vehicles when zero people involved')\n",
    "df['vehcount'].value_counts().sort_index().plot(ax=axes[1],kind='bar',title='# of vehicles for ALL records')\n",
    "df_one_or_more_people['vehcount'].value_counts().sort_index().plot(ax=axes[2],kind='bar',title='# of vehicles when one or more people involved')"
   ]
  },
  {
   "cell_type": "markdown",
   "metadata": {},
   "source": [
    "#### 1.5  Injury count comparison"
   ]
  },
  {
   "cell_type": "code",
   "execution_count": 80,
   "metadata": {},
   "outputs": [
    {
     "name": "stdout",
     "output_type": "stream",
     "text": [
      "Number of records where there were zero, one or more injuries when no people were involved\n"
     ]
    },
    {
     "data": {
      "text/plain": [
       "0    23092\n",
       "1     1052\n",
       "2      269\n",
       "3       64\n",
       "4       21\n",
       "5        9\n",
       "9        1\n",
       "8        1\n",
       "6        1\n",
       "Name: injuries, dtype: int64"
      ]
     },
     "execution_count": 80,
     "metadata": {},
     "output_type": "execute_result"
    }
   ],
   "source": [
    "print(\"Number of records where there were zero, one or more injuries when no people were involved\")\n",
    "df_no_people['injuries'].value_counts()"
   ]
  },
  {
   "cell_type": "code",
   "execution_count": 81,
   "metadata": {},
   "outputs": [
    {
     "data": {
      "text/plain": [
       "<matplotlib.axes._subplots.AxesSubplot at 0x298802de5c0>"
      ]
     },
     "execution_count": 81,
     "metadata": {},
     "output_type": "execute_result"
    },
    {
     "data": {
      "text/plain": [
       "<matplotlib.axes._subplots.AxesSubplot at 0x2988056cd68>"
      ]
     },
     "execution_count": 81,
     "metadata": {},
     "output_type": "execute_result"
    },
    {
     "data": {
      "text/plain": [
       "<matplotlib.axes._subplots.AxesSubplot at 0x2988059e2e8>"
      ]
     },
     "execution_count": 81,
     "metadata": {},
     "output_type": "execute_result"
    },
    {
     "data": {
      "image/png": "[encoded data removed]",
      "text/plain": [
       "<Figure size 1152x288 with 3 Axes>"
      ]
     },
     "metadata": {},
     "output_type": "display_data"
    }
   ],
   "source": [
    "fig, axes = plt.subplots(nrows=1, ncols=3,figsize=(16, 4))\n",
    "fig.subplots_adjust(hspace=0.8)\n",
    "\n",
    "df_no_people['injuries'].value_counts().sort_index().plot(ax=axes[0],kind='bar',title='Injury Count (zero people involved)')\n",
    "df['injuries'].value_counts().sort_index().plot(ax=axes[1],kind='bar',title='Injury Count (ALL records)')\n",
    "df_one_or_more_people['injuries'].value_counts().sort_index().plot(ax=axes[2],kind='bar',title='Injury Count (one or more people involved')"
   ]
  },
  {
   "cell_type": "markdown",
   "metadata": {},
   "source": [
    "#### 1.6  Collision Type comparison"
   ]
  },
  {
   "cell_type": "code",
   "execution_count": 82,
   "metadata": {},
   "outputs": [
    {
     "name": "stdout",
     "output_type": "stream",
     "text": [
      "Collisiontype for collisions for those when supposedly no people were involved - most of these are listed as Unknown\n"
     ]
    },
    {
     "data": {
      "text/plain": [
       "Angles        1223\n",
       "Parked Car    1111\n",
       "Rear Ended    1038\n",
       "Sideswipe      614\n",
       "Other          584\n",
       "Left Turn      432\n",
       "Right Turn      94\n",
       "Head On         63\n",
       "Name: collisiontype, dtype: int64"
      ]
     },
     "execution_count": 82,
     "metadata": {},
     "output_type": "execute_result"
    }
   ],
   "source": [
    "print(\"Collisiontype for collisions for those when supposedly no people were involved - most of these are listed as Unknown\")\n",
    "df_no_people['collisiontype'].value_counts()\n"
   ]
  },
  {
   "cell_type": "code",
   "execution_count": 83,
   "metadata": {},
   "outputs": [
    {
     "data": {
      "text/plain": [
       "<matplotlib.axes._subplots.AxesSubplot at 0x2988097db38>"
      ]
     },
     "execution_count": 83,
     "metadata": {},
     "output_type": "execute_result"
    },
    {
     "data": {
      "text/plain": [
       "<matplotlib.axes._subplots.AxesSubplot at 0x298809d5400>"
      ]
     },
     "execution_count": 83,
     "metadata": {},
     "output_type": "execute_result"
    },
    {
     "data": {
      "text/plain": [
       "<matplotlib.axes._subplots.AxesSubplot at 0x2988082c940>"
      ]
     },
     "execution_count": 83,
     "metadata": {},
     "output_type": "execute_result"
    },
    {
     "data": {
      "image/png": "[encoded data removed]",
      "text/plain": [
       "<Figure size 1152x288 with 3 Axes>"
      ]
     },
     "metadata": {},
     "output_type": "display_data"
    }
   ],
   "source": [
    "fig, axes = plt.subplots(nrows=1, ncols=3,figsize=(16, 4))\n",
    "fig.subplots_adjust(hspace=0.8)\n",
    "\n",
    "df_no_people['collisiontype'].value_counts().sort_index().plot(ax=axes[0],kind='bar',title='Collision type (zero people involved)')\n",
    "df['collisiontype'].value_counts().sort_index().plot(ax=axes[1],kind='bar',title='Collision type  (ALL records)')\n",
    "df_one_or_more_people['collisiontype'].value_counts().sort_index().plot(ax=axes[2],kind='bar',title='Collision type  (one or more people involved')"
   ]
  },
  {
   "cell_type": "markdown",
   "metadata": {},
   "source": [
    "#### 1.7  Collision Description comparison"
   ]
  },
  {
   "cell_type": "code",
   "execution_count": 84,
   "metadata": {
    "scrolled": true
   },
   "outputs": [
    {
     "name": "stdout",
     "output_type": "stream",
     "text": [
      "Descriptions for collisions for those when supposedly no people were involved - most of these are listed as Not Enough Info\n"
     ]
    },
    {
     "data": {
      "text/plain": [
       "NOT ENOUGH INFORMATION / NOT APPLICABLE                         8265\n",
       "MOTOR VEHICLE STRUCK MOTOR VEHICLE, FRONT END AT ANGLE          7338\n",
       "MOTOR VEHICLE STRUCK MOTOR VEHICLE, REAR END                    5682\n",
       "MOTOR VEHICLE STRUCK MOTOR VEHICLE, LEFT SIDE SIDESWIPE         1021\n",
       "MOTOR VEHICLE STRUCK MOTOR VEHICLE, LEFT SIDE AT ANGLE           626\n",
       "MOTOR VEHICLE RAN OFF ROAD - HIT FIXED OBJECT                    490\n",
       "MOTOR VEHICLE STRUCK OBJECT IN ROAD                              321\n",
       "MOTOR VEHICLE STRUCK MOTOR VEHICLE, RIGHT SIDE SIDESWIPE         209\n",
       "MOTOR VEHICLE STRUCK MOTOR VEHICLE, RIGHT SIDE AT ANGLE          180\n",
       "MOTOR VEHCILE STRUCK PEDESTRIAN                                  160\n",
       "MOTOR VEHICLE STRUCK PEDALCYCLIST, FRONT END AT ANGLE             70\n",
       "MOTOR VEHICLE OVERTURNED IN ROAD                                  38\n",
       "PEDALCYCLIST STRUCK MOTOR VEHICLE FRONT END AT ANGLE              26\n",
       "DRIVERLESS VEHICLE RAN OFF ROAD - HIT FIXED OBJECT                12\n",
       "MOTOR VEHICLE RAN OFF ROAD - NO COLLISION                          9\n",
       "MOTOR VEHICLE STRUCK TRAIN                                         9\n",
       "DRIVERLESS VEHICLE STRUCK MOTOR VEHICLE REAR END                   8\n",
       "PEDALCYCLIST STRUCK MOTOR VEHICLE LEFT SIDE SIDESWIPE              7\n",
       "DRIVERLESS VEHICLE STRUCK MOTOR VEHICLE FRONT END AT ANGLE         6\n",
       "PEDALCYCLIST OVERTURNED IN ROAD                                    6\n",
       "PEDALCYCLIST STRUCK PEDESTRIAN                                     5\n",
       "DRIVERLESS VEHICLE STRUCK MOTOR VEHICLE LEFT SIDE AT ANGLE         4\n",
       "PEDALCYCLIST STRUCK OBJECT IN ROAD                                 3\n",
       "MOTOR VEHICLE STRUCK PEDALCYCLIST, REAR END                        3\n",
       "DRIVERLESS VEHICLE STRUCK MOTOR VEHICLE RIGHT SIDE AT ANGLE        2\n",
       "PEDALCYCLIST STRUCK MOTOR VEHICLE REAR END                         2\n",
       "PEDALCYCLIST STRUCK MOTOR VEHICLE RIGHT SIDE SIDESWIPE             2\n",
       "MOTOR VEHICLE STRUCK PEDALCYCLIST, LEFT SIDE SIDESWIPE             1\n",
       "PEDALCYCLIST RAN OFF ROAD - HIT FIXED OBJECT                       1\n",
       "DRIVERLESS VEHICLE STRUCK OBJECT IN ROADWAY                        1\n",
       "DRIVERLESS VEHICLE STRUCK PEDESTRIAN                               1\n",
       "MOTOR VEHICLE STRUCK PEDALCYCLIST, RIGHT SIDE SIDESWIPE            1\n",
       "Name: sdot_coldesc, dtype: int64"
      ]
     },
     "execution_count": 84,
     "metadata": {},
     "output_type": "execute_result"
    }
   ],
   "source": [
    "print(\"Descriptions for collisions for those when supposedly no people were involved - most of these are listed as Not Enough Info\")\n",
    "df_no_people['sdot_coldesc'].value_counts()\n"
   ]
  },
  {
   "cell_type": "code",
   "execution_count": 85,
   "metadata": {
    "scrolled": true
   },
   "outputs": [
    {
     "name": "stdout",
     "output_type": "stream",
     "text": [
      "Descriptions for collisions for those when at least one person was involved\n"
     ]
    },
    {
     "data": {
      "text/plain": [
       "MOTOR VEHICLE STRUCK MOTOR VEHICLE, FRONT END AT ANGLE                  84250\n",
       "MOTOR VEHICLE STRUCK MOTOR VEHICLE, REAR END                            53308\n",
       "NOT ENOUGH INFORMATION / NOT APPLICABLE                                 10838\n",
       "MOTOR VEHICLE STRUCK MOTOR VEHICLE, LEFT SIDE SIDESWIPE                  9882\n",
       "MOTOR VEHICLE RAN OFF ROAD - HIT FIXED OBJECT                            9040\n",
       "MOTOR VEHCILE STRUCK PEDESTRIAN                                          7513\n",
       "MOTOR VEHICLE STRUCK MOTOR VEHICLE, LEFT SIDE AT ANGLE                   6236\n",
       "MOTOR VEHICLE STRUCK OBJECT IN ROAD                                      4733\n",
       "MOTOR VEHICLE STRUCK PEDALCYCLIST, FRONT END AT ANGLE                    3342\n",
       "MOTOR VEHICLE STRUCK MOTOR VEHICLE, RIGHT SIDE SIDESWIPE                 1594\n",
       "MOTOR VEHICLE STRUCK MOTOR VEHICLE, RIGHT SIDE AT ANGLE                  1592\n",
       "PEDALCYCLIST STRUCK MOTOR VEHICLE FRONT END AT ANGLE                     1442\n",
       "MOTOR VEHICLE OVERTURNED IN ROAD                                          521\n",
       "MOTOR VEHICLE STRUCK PEDALCYCLIST, REAR END                               201\n",
       "PEDALCYCLIST STRUCK MOTOR VEHICLE LEFT SIDE SIDESWIPE                     192\n",
       "MOTOR VEHICLE RAN OFF ROAD - NO COLLISION                                 164\n",
       "PEDALCYCLIST STRUCK MOTOR VEHICLE REAR END                                151\n",
       "MOTOR VEHICLE STRUCK PEDALCYCLIST, LEFT SIDE SIDESWIPE                    128\n",
       "DRIVERLESS VEHICLE RAN OFF ROAD - HIT FIXED OBJECT                        106\n",
       "DRIVERLESS VEHICLE STRUCK MOTOR VEHICLE FRONT END AT ANGLE                105\n",
       "MOTOR VEHICLE STRUCK TRAIN                                                100\n",
       "PEDALCYCLIST STRUCK PEDESTRIAN                                             93\n",
       "DRIVERLESS VEHICLE STRUCK MOTOR VEHICLE REAR END                           92\n",
       "PEDALCYCLIST OVERTURNED IN ROAD                                            80\n",
       "PEDALCYCLIST STRUCK MOTOR VEHICLE RIGHT SIDE SIDESWIPE                     54\n",
       "DRIVERLESS VEHICLE STRUCK MOTOR VEHICLE LEFT SIDE AT ANGLE                 52\n",
       "PEDALCYCLIST STRUCK OBJECT IN ROAD                                         28\n",
       "MOTOR VEHICLE STRUCK PEDALCYCLIST, RIGHT SIDE SIDESWIPE                    18\n",
       "DRIVERLESS VEHICLE STRUCK PEDESTRIAN                                       15\n",
       "DRIVERLESS VEHICLE STRUCK MOTOR VEHICLE RIGHT SIDE AT ANGLE                11\n",
       "PEDALCYCLIST STRUCK MOTOR VEHICLE LEFT SIDE AT ANGLE                        9\n",
       "PEDALCYCLIST STRUCK PEDALCYCLIST REAR END                                   7\n",
       "DRIVERLESS VEHICLE STRUCK MOTOR VEHICLE RIGHT SIDE SIDESWIPE                6\n",
       "PEDALCYCLIST STRUCK PEDALCYCLIST FRONT END AT ANGLE                         6\n",
       "PEDALCYCLIST RAN OFF ROAD - HIT FIXED OBJECT                                5\n",
       "DRIVERLESS VEHICLE STRUCK MOTOR VEHICLE LEFT SIDE SIDESWIPE                 4\n",
       "DRIVERLESS VEHICLE STRUCK OBJECT IN ROADWAY                                 3\n",
       "DRIVERLESS VEHICLE RAN OFF ROAD - NO COLLISION                              2\n",
       "PEDALCYCLIST STRUCK MOTOR VEHICLE RIGHT SIDE AT ANGLE                       2\n",
       "MOTORIZED SCOOTER COLLISION: COLLISION INVOLVING A MOTORIZED SCOOTER        1\n",
       "Name: sdot_coldesc, dtype: int64"
      ]
     },
     "execution_count": 85,
     "metadata": {},
     "output_type": "execute_result"
    }
   ],
   "source": [
    "print(\"Descriptions for collisions for those when at least one person was involved\")\n",
    "df_one_or_more_people['sdot_coldesc'].value_counts()"
   ]
  },
  {
   "cell_type": "markdown",
   "metadata": {},
   "source": [
    "\n",
    "For analysis involving counts, collision type and descriptions, might recommend removing records where people counts, vehicle counts and injury counts are all zeros and collision type and description are both 'Unknown'."
   ]
  },
  {
   "cell_type": "markdown",
   "metadata": {},
   "source": [
    "### 2. Vehicle Counts - This should be number of vehicles involved in the collision"
   ]
  },
  {
   "cell_type": "code",
   "execution_count": 86,
   "metadata": {},
   "outputs": [
    {
     "data": {
      "text/html": [
       "<div>\n",
       "<style scoped>\n",
       "    .dataframe tbody tr th:only-of-type {\n",
       "        vertical-align: middle;\n",
       "    }\n",
       "\n",
       "    .dataframe tbody tr th {\n",
       "        vertical-align: top;\n",
       "    }\n",
       "\n",
       "    .dataframe thead th {\n",
       "        text-align: right;\n",
       "    }\n",
       "</style>\n",
       "<table border=\"1\" class=\"dataframe\">\n",
       "  <thead>\n",
       "    <tr style=\"text-align: right;\">\n",
       "      <th></th>\n",
       "      <th>vehcount</th>\n",
       "      <th>personcount</th>\n",
       "      <th>count</th>\n",
       "    </tr>\n",
       "  </thead>\n",
       "  <tbody>\n",
       "    <tr>\n",
       "      <th>0</th>\n",
       "      <td>0</td>\n",
       "      <td>0</td>\n",
       "      <td>19357</td>\n",
       "    </tr>\n",
       "    <tr>\n",
       "      <th>1</th>\n",
       "      <td>0</td>\n",
       "      <td>1</td>\n",
       "      <td>1816</td>\n",
       "    </tr>\n",
       "    <tr>\n",
       "      <th>2</th>\n",
       "      <td>0</td>\n",
       "      <td>2</td>\n",
       "      <td>4666</td>\n",
       "    </tr>\n",
       "    <tr>\n",
       "      <th>3</th>\n",
       "      <td>0</td>\n",
       "      <td>3</td>\n",
       "      <td>359</td>\n",
       "    </tr>\n",
       "    <tr>\n",
       "      <th>4</th>\n",
       "      <td>0</td>\n",
       "      <td>4</td>\n",
       "      <td>177</td>\n",
       "    </tr>\n",
       "    <tr>\n",
       "      <th>5</th>\n",
       "      <td>1</td>\n",
       "      <td>0</td>\n",
       "      <td>790</td>\n",
       "    </tr>\n",
       "    <tr>\n",
       "      <th>6</th>\n",
       "      <td>1</td>\n",
       "      <td>1</td>\n",
       "      <td>11831</td>\n",
       "    </tr>\n",
       "    <tr>\n",
       "      <th>7</th>\n",
       "      <td>1</td>\n",
       "      <td>2</td>\n",
       "      <td>12221</td>\n",
       "    </tr>\n",
       "    <tr>\n",
       "      <th>8</th>\n",
       "      <td>1</td>\n",
       "      <td>3</td>\n",
       "      <td>2061</td>\n",
       "    </tr>\n",
       "    <tr>\n",
       "      <th>9</th>\n",
       "      <td>1</td>\n",
       "      <td>4</td>\n",
       "      <td>538</td>\n",
       "    </tr>\n",
       "    <tr>\n",
       "      <th>10</th>\n",
       "      <td>1</td>\n",
       "      <td>5</td>\n",
       "      <td>187</td>\n",
       "    </tr>\n",
       "    <tr>\n",
       "      <th>11</th>\n",
       "      <td>1</td>\n",
       "      <td>6</td>\n",
       "      <td>70</td>\n",
       "    </tr>\n",
       "    <tr>\n",
       "      <th>12</th>\n",
       "      <td>1</td>\n",
       "      <td>7</td>\n",
       "      <td>15</td>\n",
       "    </tr>\n",
       "    <tr>\n",
       "      <th>13</th>\n",
       "      <td>1</td>\n",
       "      <td>8</td>\n",
       "      <td>8</td>\n",
       "    </tr>\n",
       "    <tr>\n",
       "      <th>14</th>\n",
       "      <td>1</td>\n",
       "      <td>9</td>\n",
       "      <td>2</td>\n",
       "    </tr>\n",
       "    <tr>\n",
       "      <th>15</th>\n",
       "      <td>1</td>\n",
       "      <td>10</td>\n",
       "      <td>4</td>\n",
       "    </tr>\n",
       "    <tr>\n",
       "      <th>16</th>\n",
       "      <td>1</td>\n",
       "      <td>11</td>\n",
       "      <td>2</td>\n",
       "    </tr>\n",
       "    <tr>\n",
       "      <th>17</th>\n",
       "      <td>1</td>\n",
       "      <td>12</td>\n",
       "      <td>2</td>\n",
       "    </tr>\n",
       "    <tr>\n",
       "      <th>18</th>\n",
       "      <td>1</td>\n",
       "      <td>14</td>\n",
       "      <td>1</td>\n",
       "    </tr>\n",
       "    <tr>\n",
       "      <th>19</th>\n",
       "      <td>1</td>\n",
       "      <td>15</td>\n",
       "      <td>1</td>\n",
       "    </tr>\n",
       "    <tr>\n",
       "      <th>20</th>\n",
       "      <td>1</td>\n",
       "      <td>17</td>\n",
       "      <td>1</td>\n",
       "    </tr>\n",
       "    <tr>\n",
       "      <th>21</th>\n",
       "      <td>1</td>\n",
       "      <td>19</td>\n",
       "      <td>1</td>\n",
       "    </tr>\n",
       "    <tr>\n",
       "      <th>22</th>\n",
       "      <td>1</td>\n",
       "      <td>29</td>\n",
       "      <td>1</td>\n",
       "    </tr>\n",
       "    <tr>\n",
       "      <th>23</th>\n",
       "      <td>1</td>\n",
       "      <td>32</td>\n",
       "      <td>1</td>\n",
       "    </tr>\n",
       "    <tr>\n",
       "      <th>24</th>\n",
       "      <td>2</td>\n",
       "      <td>0</td>\n",
       "      <td>4277</td>\n",
       "    </tr>\n",
       "    <tr>\n",
       "      <th>25</th>\n",
       "      <td>2</td>\n",
       "      <td>1</td>\n",
       "      <td>155</td>\n",
       "    </tr>\n",
       "    <tr>\n",
       "      <th>26</th>\n",
       "      <td>2</td>\n",
       "      <td>2</td>\n",
       "      <td>101567</td>\n",
       "    </tr>\n",
       "    <tr>\n",
       "      <th>27</th>\n",
       "      <td>2</td>\n",
       "      <td>3</td>\n",
       "      <td>26191</td>\n",
       "    </tr>\n",
       "    <tr>\n",
       "      <th>28</th>\n",
       "      <td>2</td>\n",
       "      <td>4</td>\n",
       "      <td>10095</td>\n",
       "    </tr>\n",
       "    <tr>\n",
       "      <th>29</th>\n",
       "      <td>2</td>\n",
       "      <td>5</td>\n",
       "      <td>4501</td>\n",
       "    </tr>\n",
       "  </tbody>\n",
       "</table>\n",
       "</div>"
      ],
      "text/plain": [
       "    vehcount  personcount   count\n",
       "0          0            0   19357\n",
       "1          0            1    1816\n",
       "2          0            2    4666\n",
       "3          0            3     359\n",
       "4          0            4     177\n",
       "5          1            0     790\n",
       "6          1            1   11831\n",
       "7          1            2   12221\n",
       "8          1            3    2061\n",
       "9          1            4     538\n",
       "10         1            5     187\n",
       "11         1            6      70\n",
       "12         1            7      15\n",
       "13         1            8       8\n",
       "14         1            9       2\n",
       "15         1           10       4\n",
       "16         1           11       2\n",
       "17         1           12       2\n",
       "18         1           14       1\n",
       "19         1           15       1\n",
       "20         1           17       1\n",
       "21         1           19       1\n",
       "22         1           29       1\n",
       "23         1           32       1\n",
       "24         2            0    4277\n",
       "25         2            1     155\n",
       "26         2            2  101567\n",
       "27         2            3   26191\n",
       "28         2            4   10095\n",
       "29         2            5    4501"
      ]
     },
     "execution_count": 86,
     "metadata": {},
     "output_type": "execute_result"
    }
   ],
   "source": [
    "df.groupby(['vehcount','personcount']).size().reset_index().rename(columns={0:'count'}).head(30)"
   ]
  },
  {
   "cell_type": "markdown",
   "metadata": {},
   "source": [
    "2.1.1 Let's look closer at those records where all these counts are zero..."
   ]
  },
  {
   "cell_type": "code",
   "execution_count": 87,
   "metadata": {},
   "outputs": [],
   "source": [
    "df_zero_counts = df.loc[(df[\"personcount\"] == 0) & (df[\"pedcount\"] == 0) & (df[\"pedcylcount\"] == 0)& (df[\"vehcount\"] == 0)]"
   ]
  },
  {
   "cell_type": "code",
   "execution_count": 88,
   "metadata": {},
   "outputs": [
    {
     "data": {
      "text/html": [
       "<div>\n",
       "<style scoped>\n",
       "    .dataframe tbody tr th:only-of-type {\n",
       "        vertical-align: middle;\n",
       "    }\n",
       "\n",
       "    .dataframe tbody tr th {\n",
       "        vertical-align: top;\n",
       "    }\n",
       "\n",
       "    .dataframe thead th {\n",
       "        text-align: right;\n",
       "    }\n",
       "</style>\n",
       "<table border=\"1\" class=\"dataframe\">\n",
       "  <thead>\n",
       "    <tr style=\"text-align: right;\">\n",
       "      <th></th>\n",
       "      <th>x</th>\n",
       "      <th>y</th>\n",
       "      <th>objectid</th>\n",
       "      <th>addrtype</th>\n",
       "      <th>intkey</th>\n",
       "      <th>location</th>\n",
       "      <th>severitycode</th>\n",
       "      <th>severitydesc</th>\n",
       "      <th>collisiontype</th>\n",
       "      <th>personcount</th>\n",
       "      <th>pedcount</th>\n",
       "      <th>pedcylcount</th>\n",
       "      <th>vehcount</th>\n",
       "      <th>injuries</th>\n",
       "      <th>seriousinjuries</th>\n",
       "      <th>fatalities</th>\n",
       "      <th>incdate</th>\n",
       "      <th>incdttm</th>\n",
       "      <th>junctiontype</th>\n",
       "      <th>sdot_colcode</th>\n",
       "      <th>sdot_coldesc</th>\n",
       "      <th>inattentionind</th>\n",
       "      <th>underinfl</th>\n",
       "      <th>weather</th>\n",
       "      <th>roadcond</th>\n",
       "      <th>lightcond</th>\n",
       "      <th>pedrownotgrnt</th>\n",
       "      <th>sdotcolnum</th>\n",
       "      <th>speeding</th>\n",
       "      <th>st_colcode</th>\n",
       "      <th>st_coldesc</th>\n",
       "      <th>hitparkedcar</th>\n",
       "      <th>year</th>\n",
       "      <th>month</th>\n",
       "      <th>time</th>\n",
       "      <th>total_injuries</th>\n",
       "      <th>total_person_count</th>\n",
       "      <th>fe_emd</th>\n",
       "    </tr>\n",
       "  </thead>\n",
       "  <tbody>\n",
       "    <tr>\n",
       "      <th>4</th>\n",
       "      <td>-122.366178</td>\n",
       "      <td>47.669041</td>\n",
       "      <td>5</td>\n",
       "      <td>Block</td>\n",
       "      <td>NaN</td>\n",
       "      <td>8TH AVE NW BETWEEN NW MARKET ST AND NW 56TH ST</td>\n",
       "      <td>0</td>\n",
       "      <td>Unknown</td>\n",
       "      <td>NaN</td>\n",
       "      <td>0</td>\n",
       "      <td>0</td>\n",
       "      <td>0</td>\n",
       "      <td>0</td>\n",
       "      <td>0</td>\n",
       "      <td>0</td>\n",
       "      <td>0</td>\n",
       "      <td>2020-02-08</td>\n",
       "      <td>2020-02-08</td>\n",
       "      <td>Mid-Block (not related to intersection)</td>\n",
       "      <td>11.0</td>\n",
       "      <td>MOTOR VEHICLE STRUCK MOTOR VEHICLE, FRONT END ...</td>\n",
       "      <td>NaN</td>\n",
       "      <td>NaN</td>\n",
       "      <td>NaN</td>\n",
       "      <td>NaN</td>\n",
       "      <td>NaN</td>\n",
       "      <td>NaN</td>\n",
       "      <td>NaN</td>\n",
       "      <td>NaN</td>\n",
       "      <td></td>\n",
       "      <td>NaN</td>\n",
       "      <td>Y</td>\n",
       "      <td>2020</td>\n",
       "      <td>02</td>\n",
       "      <td>00:00</td>\n",
       "      <td>0</td>\n",
       "      <td>0</td>\n",
       "      <td>True</td>\n",
       "    </tr>\n",
       "    <tr>\n",
       "      <th>12</th>\n",
       "      <td>-122.378789</td>\n",
       "      <td>47.560171</td>\n",
       "      <td>13</td>\n",
       "      <td>Block</td>\n",
       "      <td>NaN</td>\n",
       "      <td>37TH AVE SW BETWEEN SW ALASKA ST AND SW EDMUND...</td>\n",
       "      <td>0</td>\n",
       "      <td>Unknown</td>\n",
       "      <td>NaN</td>\n",
       "      <td>0</td>\n",
       "      <td>0</td>\n",
       "      <td>0</td>\n",
       "      <td>0</td>\n",
       "      <td>0</td>\n",
       "      <td>0</td>\n",
       "      <td>0</td>\n",
       "      <td>2016-01-21</td>\n",
       "      <td>2016-01-21</td>\n",
       "      <td>Mid-Block (not related to intersection)</td>\n",
       "      <td>0.0</td>\n",
       "      <td>NOT ENOUGH INFORMATION / NOT APPLICABLE</td>\n",
       "      <td>NaN</td>\n",
       "      <td>NaN</td>\n",
       "      <td>NaN</td>\n",
       "      <td>NaN</td>\n",
       "      <td>NaN</td>\n",
       "      <td>NaN</td>\n",
       "      <td>NaN</td>\n",
       "      <td>NaN</td>\n",
       "      <td></td>\n",
       "      <td>NaN</td>\n",
       "      <td>N</td>\n",
       "      <td>2016</td>\n",
       "      <td>01</td>\n",
       "      <td>00:00</td>\n",
       "      <td>0</td>\n",
       "      <td>0</td>\n",
       "      <td>True</td>\n",
       "    </tr>\n",
       "    <tr>\n",
       "      <th>15</th>\n",
       "      <td>-122.344977</td>\n",
       "      <td>47.723212</td>\n",
       "      <td>16</td>\n",
       "      <td>Intersection</td>\n",
       "      <td>35828.0</td>\n",
       "      <td>AURORA AVE N AND N 130TH ST</td>\n",
       "      <td>0</td>\n",
       "      <td>Unknown</td>\n",
       "      <td>NaN</td>\n",
       "      <td>0</td>\n",
       "      <td>0</td>\n",
       "      <td>0</td>\n",
       "      <td>0</td>\n",
       "      <td>0</td>\n",
       "      <td>0</td>\n",
       "      <td>0</td>\n",
       "      <td>2020-02-15</td>\n",
       "      <td>2020-02-15</td>\n",
       "      <td>At Intersection (intersection related)</td>\n",
       "      <td>11.0</td>\n",
       "      <td>MOTOR VEHICLE STRUCK MOTOR VEHICLE, FRONT END ...</td>\n",
       "      <td>NaN</td>\n",
       "      <td>NaN</td>\n",
       "      <td>NaN</td>\n",
       "      <td>NaN</td>\n",
       "      <td>NaN</td>\n",
       "      <td>NaN</td>\n",
       "      <td>NaN</td>\n",
       "      <td>NaN</td>\n",
       "      <td></td>\n",
       "      <td>NaN</td>\n",
       "      <td>Y</td>\n",
       "      <td>2020</td>\n",
       "      <td>02</td>\n",
       "      <td>00:00</td>\n",
       "      <td>0</td>\n",
       "      <td>0</td>\n",
       "      <td>True</td>\n",
       "    </tr>\n",
       "  </tbody>\n",
       "</table>\n",
       "</div>"
      ],
      "text/plain": [
       "             x          y  objectid      addrtype   intkey  \\\n",
       "4  -122.366178  47.669041         5         Block      NaN   \n",
       "12 -122.378789  47.560171        13         Block      NaN   \n",
       "15 -122.344977  47.723212        16  Intersection  35828.0   \n",
       "\n",
       "                                             location severitycode  \\\n",
       "4      8TH AVE NW BETWEEN NW MARKET ST AND NW 56TH ST            0   \n",
       "12  37TH AVE SW BETWEEN SW ALASKA ST AND SW EDMUND...            0   \n",
       "15                        AURORA AVE N AND N 130TH ST            0   \n",
       "\n",
       "   severitydesc collisiontype  personcount  pedcount  pedcylcount  vehcount  \\\n",
       "4       Unknown           NaN            0         0            0         0   \n",
       "12      Unknown           NaN            0         0            0         0   \n",
       "15      Unknown           NaN            0         0            0         0   \n",
       "\n",
       "    injuries  seriousinjuries  fatalities    incdate    incdttm  \\\n",
       "4          0                0           0 2020-02-08 2020-02-08   \n",
       "12         0                0           0 2016-01-21 2016-01-21   \n",
       "15         0                0           0 2020-02-15 2020-02-15   \n",
       "\n",
       "                               junctiontype  sdot_colcode  \\\n",
       "4   Mid-Block (not related to intersection)          11.0   \n",
       "12  Mid-Block (not related to intersection)           0.0   \n",
       "15   At Intersection (intersection related)          11.0   \n",
       "\n",
       "                                         sdot_coldesc inattentionind  \\\n",
       "4   MOTOR VEHICLE STRUCK MOTOR VEHICLE, FRONT END ...            NaN   \n",
       "12            NOT ENOUGH INFORMATION / NOT APPLICABLE            NaN   \n",
       "15  MOTOR VEHICLE STRUCK MOTOR VEHICLE, FRONT END ...            NaN   \n",
       "\n",
       "   underinfl weather roadcond lightcond pedrownotgrnt  sdotcolnum speeding  \\\n",
       "4        NaN     NaN      NaN       NaN           NaN         NaN      NaN   \n",
       "12       NaN     NaN      NaN       NaN           NaN         NaN      NaN   \n",
       "15       NaN     NaN      NaN       NaN           NaN         NaN      NaN   \n",
       "\n",
       "   st_colcode st_coldesc hitparkedcar  year month   time  total_injuries  \\\n",
       "4                    NaN            Y  2020    02  00:00               0   \n",
       "12                   NaN            N  2016    01  00:00               0   \n",
       "15                   NaN            Y  2020    02  00:00               0   \n",
       "\n",
       "    total_person_count  fe_emd  \n",
       "4                    0    True  \n",
       "12                   0    True  \n",
       "15                   0    True  "
      ]
     },
     "execution_count": 88,
     "metadata": {},
     "output_type": "execute_result"
    }
   ],
   "source": [
    "df_zero_counts.head(3)"
   ]
  },
  {
   "cell_type": "code",
   "execution_count": 89,
   "metadata": {},
   "outputs": [
    {
     "data": {
      "text/plain": [
       "<matplotlib.axes._subplots.AxesSubplot at 0x2988114b7b8>"
      ]
     },
     "execution_count": 89,
     "metadata": {},
     "output_type": "execute_result"
    },
    {
     "data": {
      "text/plain": [
       "<matplotlib.axes._subplots.AxesSubplot at 0x2988091b710>"
      ]
     },
     "execution_count": 89,
     "metadata": {},
     "output_type": "execute_result"
    },
    {
     "data": {
      "text/plain": [
       "<matplotlib.axes._subplots.AxesSubplot at 0x29880afa400>"
      ]
     },
     "execution_count": 89,
     "metadata": {},
     "output_type": "execute_result"
    },
    {
     "data": {
      "text/plain": [
       "<matplotlib.axes._subplots.AxesSubplot at 0x29880b21a90>"
      ]
     },
     "execution_count": 89,
     "metadata": {},
     "output_type": "execute_result"
    },
    {
     "data": {
      "text/plain": [
       "<matplotlib.axes._subplots.AxesSubplot at 0x298811240f0>"
      ]
     },
     "execution_count": 89,
     "metadata": {},
     "output_type": "execute_result"
    },
    {
     "data": {
      "text/plain": [
       "<matplotlib.axes._subplots.AxesSubplot at 0x2988114b7b8>"
      ]
     },
     "execution_count": 89,
     "metadata": {},
     "output_type": "execute_result"
    },
    {
     "data": {
      "image/png": "[encoded data removed]",
      "text/plain": [
       "<Figure size 1152x288 with 5 Axes>"
      ]
     },
     "metadata": {},
     "output_type": "display_data"
    }
   ],
   "source": [
    "\n",
    "df_no_vehicle = df.loc[(df[\"vehcount\"] == 0) & (df[\"personcount\"]> 0) ]\n",
    "fig, axes = plt.subplots(figsize=(16, 4) , nrows = 1, ncols = 5)\n",
    "fig.subplots_adjust(hspace=0.8)\n",
    "\n",
    "\n",
    "cols_to_look_at = [ 'addrtype' ,'collisiontype' ,\n",
    "                    'weather', 'roadcond', 'lightcond', \n",
    "                   'st_coldesc']\n",
    "\n",
    "for i, col in enumerate(cols_to_look_at):\n",
    "    ax = axes[i-1]\n",
    "    df_no_vehicle[col].value_counts().sort_index().plot(ax=ax,kind='bar',title=col)\n",
    "    \n",
    "\n"
   ]
  },
  {
   "cell_type": "markdown",
   "metadata": {},
   "source": [
    "The value 'Unknown' dominates for collisiontype, weather, roadcond and lightcond. Let's include st_coldesc=Unknown in this set of records. This makes up almost 20k of our dataset. Almost all also have Unknown for severity code."
   ]
  },
  {
   "cell_type": "markdown",
   "metadata": {},
   "source": [
    "#### 2.1.2 Analysis of Vehicle Count = zero, but personcount was greater than zero\n",
    "\n",
    "Since we have already looked at those records where person count and vehicle count are both zero, let's just look at those where person count is greater than zero"
   ]
  },
  {
   "cell_type": "code",
   "execution_count": 90,
   "metadata": {},
   "outputs": [],
   "source": [
    "df_no_vehicle = df.loc[(df[\"vehcount\"] == 0) & (df[\"personcount\"]> 0) ]\n",
    "df_one_or_more_vehicle= df.loc[(df[\"vehcount\"] > 0) & (df[\"personcount\"]> 0) ]"
   ]
  },
  {
   "cell_type": "markdown",
   "metadata": {},
   "source": [
    "#### 2.2 Collision Type for the two sets of data (those where vehicle count = zero and those where vehicle count >zero)\n",
    "\n",
    "Since we have already looked at those records where person count and vehicle count are both zero, let's just look at those where person count is greater than zero"
   ]
  },
  {
   "cell_type": "code",
   "execution_count": 91,
   "metadata": {},
   "outputs": [
    {
     "name": "stdout",
     "output_type": "stream",
     "text": [
      "collisiontype for those when supposedly no vehicles were involved\n"
     ]
    },
    {
     "data": {
      "text/plain": [
       "Cycles        235\n",
       "Pedestrian      2\n",
       "Other           1\n",
       "Name: collisiontype, dtype: int64"
      ]
     },
     "execution_count": 91,
     "metadata": {},
     "output_type": "execute_result"
    }
   ],
   "source": [
    "print(\"collisiontype for those when supposedly no vehicles were involved\")\n",
    "df_no_vehicle['collisiontype'].value_counts()\n"
   ]
  },
  {
   "cell_type": "code",
   "execution_count": 92,
   "metadata": {},
   "outputs": [
    {
     "data": {
      "text/plain": [
       "<matplotlib.axes._subplots.AxesSubplot at 0x298813a8828>"
      ]
     },
     "execution_count": 92,
     "metadata": {},
     "output_type": "execute_result"
    },
    {
     "data": {
      "text/plain": [
       "<matplotlib.axes._subplots.AxesSubplot at 0x29881686ef0>"
      ]
     },
     "execution_count": 92,
     "metadata": {},
     "output_type": "execute_result"
    },
    {
     "data": {
      "text/plain": [
       "<matplotlib.axes._subplots.AxesSubplot at 0x298809e65c0>"
      ]
     },
     "execution_count": 92,
     "metadata": {},
     "output_type": "execute_result"
    },
    {
     "data": {
      "image/png": "[encoded data removed]",
      "text/plain": [
       "<Figure size 1152x288 with 3 Axes>"
      ]
     },
     "metadata": {},
     "output_type": "display_data"
    }
   ],
   "source": [
    "fig, axes = plt.subplots(nrows=1, ncols=3,figsize=(16, 4))\n",
    "fig.subplots_adjust(hspace=0.8)\n",
    "\n",
    "df_no_vehicle['collisiontype'].value_counts().sort_index().plot(ax=axes[0],kind='bar',title='Collision type (zero vehicles involved)')\n",
    "df['collisiontype'].value_counts().sort_index().plot(ax=axes[1],kind='bar',title='Collision type  (ALL records)')\n",
    "df_one_or_more_vehicle['collisiontype'].value_counts().sort_index().plot(ax=axes[2],kind='bar',title='Collision type  (one or more vehicles involved')"
   ]
  },
  {
   "cell_type": "markdown",
   "metadata": {},
   "source": [
    "I'm not surprised that most of these are marked as Unknown, that may be why number of vehicles = 0, they just didn't know how many were involved, and so listed zero instead of 'unknown'.\n",
    "\n",
    "#### 2.3 Severity for these two sets of data"
   ]
  },
  {
   "cell_type": "code",
   "execution_count": 93,
   "metadata": {},
   "outputs": [
    {
     "name": "stdout",
     "output_type": "stream",
     "text": [
      "severitydesc for collisions for those when supposedly no vehicles were involved\n"
     ]
    },
    {
     "data": {
      "text/plain": [
       "Property Damage Only Collision    3630\n",
       "Unknown                           2160\n",
       "Injury Collision                  1134\n",
       "Serious Injury Collision            85\n",
       "Fatality Collision                   9\n",
       "Name: severitydesc, dtype: int64"
      ]
     },
     "execution_count": 93,
     "metadata": {},
     "output_type": "execute_result"
    }
   ],
   "source": [
    "print(\"severitydesc for collisions for those when supposedly no vehicles were involved\")\n",
    "df_no_vehicle['severitydesc'].value_counts()"
   ]
  },
  {
   "cell_type": "code",
   "execution_count": 94,
   "metadata": {},
   "outputs": [
    {
     "data": {
      "text/plain": [
       "<matplotlib.axes._subplots.AxesSubplot at 0x29880a191d0>"
      ]
     },
     "execution_count": 94,
     "metadata": {},
     "output_type": "execute_result"
    },
    {
     "data": {
      "text/plain": [
       "<matplotlib.axes._subplots.AxesSubplot at 0x29881327438>"
      ]
     },
     "execution_count": 94,
     "metadata": {},
     "output_type": "execute_result"
    },
    {
     "data": {
      "text/plain": [
       "<matplotlib.axes._subplots.AxesSubplot at 0x2988134cac8>"
      ]
     },
     "execution_count": 94,
     "metadata": {},
     "output_type": "execute_result"
    },
    {
     "data": {
      "image/png": "[encoded data removed]",
      "text/plain": [
       "<Figure size 1152x288 with 3 Axes>"
      ]
     },
     "metadata": {},
     "output_type": "display_data"
    }
   ],
   "source": [
    "fig, axes = plt.subplots(nrows=1, ncols=3,figsize=(16, 4))\n",
    "fig.subplots_adjust(hspace=0.8)\n",
    "\n",
    "df_no_vehicle['severitydesc'].value_counts().sort_index().plot(ax=axes[0],kind='bar',title='Severity (zero vehicles involved)')\n",
    "df['severitydesc'].value_counts().sort_index().plot(ax=axes[1],kind='bar',title='Severity  (ALL records)')\n",
    "df_one_or_more_vehicle['severitydesc'].value_counts().sort_index().plot(ax=axes[2],kind='bar',title='Severity  (one or more vehicles involved')"
   ]
  },
  {
   "cell_type": "markdown",
   "metadata": {},
   "source": [
    "#### 2.4 Hit parked car for those where vehicle count=zero, but personcount was greater than zero\n",
    "\n",
    "I would guess that 'Property Damage Only Collision' and 'Unknown' are collisions that were reported after the fact, which probably means certain data was not collected, like how many vehicles were involved. Again, defaulting to zero instead of 'unknown'."
   ]
  },
  {
   "cell_type": "code",
   "execution_count": 95,
   "metadata": {},
   "outputs": [
    {
     "name": "stdout",
     "output_type": "stream",
     "text": [
      "hitparkedcar for collisions for those when supposedly no vehicles were involved\n"
     ]
    },
    {
     "data": {
      "text/plain": [
       "N    5636\n",
       "Y    1382\n",
       "Name: hitparkedcar, dtype: int64"
      ]
     },
     "execution_count": 95,
     "metadata": {},
     "output_type": "execute_result"
    }
   ],
   "source": [
    "print(\"hitparkedcar for collisions for those when supposedly no vehicles were involved\")\n",
    "df_no_vehicle['hitparkedcar'].value_counts()"
   ]
  },
  {
   "cell_type": "markdown",
   "metadata": {},
   "source": [
    "#### 2.4 Collision descriptions for those where vehicle count=zero, but personcount was greater than zero\n",
    "\n",
    "Clearly those collision records where a parked car was hit should have vehicle count of at least 2 (unless it was a bicycle hitting a parked car), in which case it should be at least 1."
   ]
  },
  {
   "cell_type": "code",
   "execution_count": 96,
   "metadata": {
    "scrolled": true
   },
   "outputs": [
    {
     "data": {
      "text/plain": [
       "NOT ENOUGH INFORMATION / NOT APPLICABLE                                 2017\n",
       "MOTOR VEHICLE STRUCK MOTOR VEHICLE, FRONT END AT ANGLE                  1936\n",
       "MOTOR VEHICLE STRUCK MOTOR VEHICLE, REAR END                            1585\n",
       "MOTOR VEHICLE STRUCK MOTOR VEHICLE, LEFT SIDE AT ANGLE                   507\n",
       "MOTOR VEHICLE STRUCK MOTOR VEHICLE, RIGHT SIDE AT ANGLE                  173\n",
       "MOTOR VEHICLE STRUCK MOTOR VEHICLE, LEFT SIDE SIDESWIPE                  147\n",
       "MOTOR VEHCILE STRUCK PEDESTRIAN                                          124\n",
       "MOTOR VEHICLE RAN OFF ROAD - HIT FIXED OBJECT                             96\n",
       "MOTOR VEHICLE STRUCK PEDALCYCLIST, FRONT END AT ANGLE                     86\n",
       "PEDALCYCLIST STRUCK PEDESTRIAN                                            81\n",
       "MOTOR VEHICLE STRUCK OBJECT IN ROAD                                       81\n",
       "PEDALCYCLIST OVERTURNED IN ROAD                                           62\n",
       "MOTOR VEHICLE STRUCK MOTOR VEHICLE, RIGHT SIDE SIDESWIPE                  41\n",
       "PEDALCYCLIST STRUCK MOTOR VEHICLE FRONT END AT ANGLE                      24\n",
       "PEDALCYCLIST STRUCK OBJECT IN ROAD                                        17\n",
       "MOTOR VEHICLE OVERTURNED IN ROAD                                          11\n",
       "PEDALCYCLIST STRUCK PEDALCYCLIST FRONT END AT ANGLE                        6\n",
       "PEDALCYCLIST STRUCK MOTOR VEHICLE REAR END                                 5\n",
       "PEDALCYCLIST STRUCK PEDALCYCLIST REAR END                                  4\n",
       "PEDALCYCLIST RAN OFF ROAD - HIT FIXED OBJECT                               3\n",
       "MOTOR VEHICLE RAN OFF ROAD - NO COLLISION                                  2\n",
       "PEDALCYCLIST STRUCK MOTOR VEHICLE LEFT SIDE SIDESWIPE                      2\n",
       "MOTOR VEHICLE STRUCK PEDALCYCLIST, RIGHT SIDE SIDESWIPE                    1\n",
       "DRIVERLESS VEHICLE STRUCK MOTOR VEHICLE FRONT END AT ANGLE                 1\n",
       "MOTOR VEHICLE STRUCK TRAIN                                                 1\n",
       "PEDALCYCLIST STRUCK MOTOR VEHICLE RIGHT SIDE SIDESWIPE                     1\n",
       "MOTORIZED SCOOTER COLLISION: COLLISION INVOLVING A MOTORIZED SCOOTER       1\n",
       "DRIVERLESS VEHICLE RAN OFF ROAD - HIT FIXED OBJECT                         1\n",
       "DRIVERLESS VEHICLE STRUCK MOTOR VEHICLE REAR END                           1\n",
       "MOTOR VEHICLE STRUCK PEDALCYCLIST, LEFT SIDE SIDESWIPE                     1\n",
       "Name: sdot_coldesc, dtype: int64"
      ]
     },
     "execution_count": 96,
     "metadata": {},
     "output_type": "execute_result"
    }
   ],
   "source": [
    "df_no_vehicle['sdot_coldesc'].value_counts()"
   ]
  },
  {
   "cell_type": "markdown",
   "metadata": {},
   "source": [
    "We could use this information to update vehicle count to some number other than zero (accept the NEI records)"
   ]
  },
  {
   "cell_type": "markdown",
   "metadata": {},
   "source": [
    "#### <i>RECOMMENDATION</i>\n",
    "\n",
    "First, I recommend updating vehicle count base on collision descriptions. For those that include \"MOTOR VEHICLE\" twice, we can update this count to two. For those that only include one occurrence of \"MOTOR VEHICLE\", update this count to one. \n",
    "\n",
    "Second, I recommend removing all records where vehicle count is zero, sdot_coldesc= \"NOT ENOUGH INFORMATION / NOT APPLICABLE\" and collision type is not 'cycles'.\n",
    "\n",
    "Third, for those where hitparkedcar=True (and does not involve a cyclist) we update vehicle count = 2"
   ]
  },
  {
   "cell_type": "markdown",
   "metadata": {},
   "source": [
    "#### 2.5  On second thought, lets look at percentage of records that involve 3 or more vehicles..."
   ]
  },
  {
   "cell_type": "code",
   "execution_count": 97,
   "metadata": {},
   "outputs": [
    {
     "name": "stdout",
     "output_type": "stream",
     "text": [
      "Percent of accidents that involve more than two vehicles 8.56%\n"
     ]
    }
   ],
   "source": [
    "df_three_or_more_veh = df[df['vehcount']>2]\n",
    "df_at_least_one= df[df['vehcount']>0]\n",
    "percent_three_or_more=round((df_three_or_more_veh.shape[0]/df_at_least_one.shape[0])*100,2)\n",
    "print(\"Percent of accidents that involve more than two vehicles \" + str(percent_three_or_more) + \"%\")"
   ]
  },
  {
   "cell_type": "code",
   "execution_count": 98,
   "metadata": {},
   "outputs": [
    {
     "data": {
      "text/html": [
       "<div>\n",
       "<style scoped>\n",
       "    .dataframe tbody tr th:only-of-type {\n",
       "        vertical-align: middle;\n",
       "    }\n",
       "\n",
       "    .dataframe tbody tr th {\n",
       "        vertical-align: top;\n",
       "    }\n",
       "\n",
       "    .dataframe thead th {\n",
       "        text-align: right;\n",
       "    }\n",
       "</style>\n",
       "<table border=\"1\" class=\"dataframe\">\n",
       "  <thead>\n",
       "    <tr style=\"text-align: right;\">\n",
       "      <th></th>\n",
       "      <th>count</th>\n",
       "    </tr>\n",
       "  </thead>\n",
       "  <tbody>\n",
       "    <tr>\n",
       "      <th>MOTOR VEHICLE STRUCK MOTOR VEHICLE, REAR END</th>\n",
       "      <td>8920</td>\n",
       "    </tr>\n",
       "    <tr>\n",
       "      <th>MOTOR VEHICLE STRUCK MOTOR VEHICLE, FRONT END AT ANGLE</th>\n",
       "      <td>5462</td>\n",
       "    </tr>\n",
       "    <tr>\n",
       "      <th>MOTOR VEHICLE STRUCK MOTOR VEHICLE, LEFT SIDE SIDESWIPE</th>\n",
       "      <td>870</td>\n",
       "    </tr>\n",
       "    <tr>\n",
       "      <th>MOTOR VEHICLE STRUCK MOTOR VEHICLE, LEFT SIDE AT ANGLE</th>\n",
       "      <td>576</td>\n",
       "    </tr>\n",
       "    <tr>\n",
       "      <th>NOT ENOUGH INFORMATION / NOT APPLICABLE</th>\n",
       "      <td>184</td>\n",
       "    </tr>\n",
       "    <tr>\n",
       "      <th>MOTOR VEHICLE RAN OFF ROAD - HIT FIXED OBJECT</th>\n",
       "      <td>182</td>\n",
       "    </tr>\n",
       "    <tr>\n",
       "      <th>MOTOR VEHICLE STRUCK OBJECT IN ROAD</th>\n",
       "      <td>119</td>\n",
       "    </tr>\n",
       "    <tr>\n",
       "      <th>MOTOR VEHICLE STRUCK MOTOR VEHICLE, RIGHT SIDE SIDESWIPE</th>\n",
       "      <td>117</td>\n",
       "    </tr>\n",
       "    <tr>\n",
       "      <th>MOTOR VEHICLE STRUCK MOTOR VEHICLE, RIGHT SIDE AT ANGLE</th>\n",
       "      <td>78</td>\n",
       "    </tr>\n",
       "    <tr>\n",
       "      <th>DRIVERLESS VEHICLE STRUCK MOTOR VEHICLE FRONT END AT ANGLE</th>\n",
       "      <td>22</td>\n",
       "    </tr>\n",
       "    <tr>\n",
       "      <th>MOTOR VEHCILE STRUCK PEDESTRIAN</th>\n",
       "      <td>18</td>\n",
       "    </tr>\n",
       "    <tr>\n",
       "      <th>DRIVERLESS VEHICLE STRUCK MOTOR VEHICLE REAR END</th>\n",
       "      <td>12</td>\n",
       "    </tr>\n",
       "    <tr>\n",
       "      <th>DRIVERLESS VEHICLE STRUCK MOTOR VEHICLE LEFT SIDE AT ANGLE</th>\n",
       "      <td>10</td>\n",
       "    </tr>\n",
       "    <tr>\n",
       "      <th>MOTOR VEHICLE OVERTURNED IN ROAD</th>\n",
       "      <td>5</td>\n",
       "    </tr>\n",
       "    <tr>\n",
       "      <th>DRIVERLESS VEHICLE RAN OFF ROAD - HIT FIXED OBJECT</th>\n",
       "      <td>5</td>\n",
       "    </tr>\n",
       "  </tbody>\n",
       "</table>\n",
       "</div>"
      ],
      "text/plain": [
       "                                                    count\n",
       "MOTOR VEHICLE STRUCK MOTOR VEHICLE, REAR END         8920\n",
       "MOTOR VEHICLE STRUCK MOTOR VEHICLE, FRONT END A...   5462\n",
       "MOTOR VEHICLE STRUCK MOTOR VEHICLE, LEFT SIDE S...    870\n",
       "MOTOR VEHICLE STRUCK MOTOR VEHICLE, LEFT SIDE A...    576\n",
       "NOT ENOUGH INFORMATION / NOT APPLICABLE               184\n",
       "MOTOR VEHICLE RAN OFF ROAD - HIT FIXED OBJECT         182\n",
       "MOTOR VEHICLE STRUCK OBJECT IN ROAD                   119\n",
       "MOTOR VEHICLE STRUCK MOTOR VEHICLE, RIGHT SIDE ...    117\n",
       "MOTOR VEHICLE STRUCK MOTOR VEHICLE, RIGHT SIDE ...     78\n",
       "DRIVERLESS VEHICLE STRUCK MOTOR VEHICLE FRONT E...     22\n",
       "MOTOR VEHCILE STRUCK PEDESTRIAN                        18\n",
       "DRIVERLESS VEHICLE STRUCK MOTOR VEHICLE REAR END       12\n",
       "DRIVERLESS VEHICLE STRUCK MOTOR VEHICLE LEFT SI...     10\n",
       "MOTOR VEHICLE OVERTURNED IN ROAD                        5\n",
       "DRIVERLESS VEHICLE RAN OFF ROAD - HIT FIXED OBJECT      5"
      ]
     },
     "execution_count": 98,
     "metadata": {},
     "output_type": "execute_result"
    }
   ],
   "source": [
    "df[df['vehcount']>2]['sdot_coldesc'].value_counts().to_frame('count').head(15)"
   ]
  },
  {
   "cell_type": "markdown",
   "metadata": {},
   "source": [
    "It turns out that the number of times the words 'MOTOR VEHICLE' is found in the collision description is not necessarily the same as the number of vehicles actually involved in the collision."
   ]
  },
  {
   "cell_type": "markdown",
   "metadata": {},
   "source": [
    "### 3. Injury Counts - This includes injuries, seriousinjuries and fatalities"
   ]
  },
  {
   "cell_type": "code",
   "execution_count": 99,
   "metadata": {
    "scrolled": true
   },
   "outputs": [
    {
     "data": {
      "text/html": [
       "<div>\n",
       "<style scoped>\n",
       "    .dataframe tbody tr th:only-of-type {\n",
       "        vertical-align: middle;\n",
       "    }\n",
       "\n",
       "    .dataframe tbody tr th {\n",
       "        vertical-align: top;\n",
       "    }\n",
       "\n",
       "    .dataframe thead th {\n",
       "        text-align: right;\n",
       "    }\n",
       "</style>\n",
       "<table border=\"1\" class=\"dataframe\">\n",
       "  <thead>\n",
       "    <tr style=\"text-align: right;\">\n",
       "      <th></th>\n",
       "      <th>injuries</th>\n",
       "      <th>seriousinjuries</th>\n",
       "      <th>fatalities</th>\n",
       "      <th>count</th>\n",
       "    </tr>\n",
       "  </thead>\n",
       "  <tbody>\n",
       "    <tr>\n",
       "      <th>0</th>\n",
       "      <td>0</td>\n",
       "      <td>0</td>\n",
       "      <td>0</td>\n",
       "      <td>158536</td>\n",
       "    </tr>\n",
       "    <tr>\n",
       "      <th>1</th>\n",
       "      <td>0</td>\n",
       "      <td>0</td>\n",
       "      <td>1</td>\n",
       "      <td>220</td>\n",
       "    </tr>\n",
       "    <tr>\n",
       "      <th>2</th>\n",
       "      <td>0</td>\n",
       "      <td>0</td>\n",
       "      <td>2</td>\n",
       "      <td>4</td>\n",
       "    </tr>\n",
       "    <tr>\n",
       "      <th>3</th>\n",
       "      <td>0</td>\n",
       "      <td>0</td>\n",
       "      <td>3</td>\n",
       "      <td>1</td>\n",
       "    </tr>\n",
       "    <tr>\n",
       "      <th>4</th>\n",
       "      <td>0</td>\n",
       "      <td>0</td>\n",
       "      <td>4</td>\n",
       "      <td>1</td>\n",
       "    </tr>\n",
       "    <tr>\n",
       "      <th>5</th>\n",
       "      <td>0</td>\n",
       "      <td>1</td>\n",
       "      <td>0</td>\n",
       "      <td>6</td>\n",
       "    </tr>\n",
       "    <tr>\n",
       "      <th>6</th>\n",
       "      <td>1</td>\n",
       "      <td>0</td>\n",
       "      <td>0</td>\n",
       "      <td>44736</td>\n",
       "    </tr>\n",
       "    <tr>\n",
       "      <th>7</th>\n",
       "      <td>1</td>\n",
       "      <td>0</td>\n",
       "      <td>1</td>\n",
       "      <td>49</td>\n",
       "    </tr>\n",
       "    <tr>\n",
       "      <th>8</th>\n",
       "      <td>1</td>\n",
       "      <td>0</td>\n",
       "      <td>2</td>\n",
       "      <td>1</td>\n",
       "    </tr>\n",
       "    <tr>\n",
       "      <th>9</th>\n",
       "      <td>1</td>\n",
       "      <td>1</td>\n",
       "      <td>0</td>\n",
       "      <td>2236</td>\n",
       "    </tr>\n",
       "    <tr>\n",
       "      <th>10</th>\n",
       "      <td>1</td>\n",
       "      <td>1</td>\n",
       "      <td>1</td>\n",
       "      <td>17</td>\n",
       "    </tr>\n",
       "    <tr>\n",
       "      <th>11</th>\n",
       "      <td>1</td>\n",
       "      <td>1</td>\n",
       "      <td>3</td>\n",
       "      <td>1</td>\n",
       "    </tr>\n",
       "    <tr>\n",
       "      <th>12</th>\n",
       "      <td>2</td>\n",
       "      <td>0</td>\n",
       "      <td>0</td>\n",
       "      <td>10093</td>\n",
       "    </tr>\n",
       "    <tr>\n",
       "      <th>13</th>\n",
       "      <td>2</td>\n",
       "      <td>0</td>\n",
       "      <td>1</td>\n",
       "      <td>13</td>\n",
       "    </tr>\n",
       "    <tr>\n",
       "      <th>14</th>\n",
       "      <td>2</td>\n",
       "      <td>0</td>\n",
       "      <td>2</td>\n",
       "      <td>1</td>\n",
       "    </tr>\n",
       "    <tr>\n",
       "      <th>15</th>\n",
       "      <td>2</td>\n",
       "      <td>1</td>\n",
       "      <td>0</td>\n",
       "      <td>442</td>\n",
       "    </tr>\n",
       "    <tr>\n",
       "      <th>16</th>\n",
       "      <td>2</td>\n",
       "      <td>1</td>\n",
       "      <td>1</td>\n",
       "      <td>9</td>\n",
       "    </tr>\n",
       "    <tr>\n",
       "      <th>17</th>\n",
       "      <td>2</td>\n",
       "      <td>2</td>\n",
       "      <td>0</td>\n",
       "      <td>82</td>\n",
       "    </tr>\n",
       "    <tr>\n",
       "      <th>18</th>\n",
       "      <td>2</td>\n",
       "      <td>2</td>\n",
       "      <td>1</td>\n",
       "      <td>3</td>\n",
       "    </tr>\n",
       "    <tr>\n",
       "      <th>19</th>\n",
       "      <td>2</td>\n",
       "      <td>2</td>\n",
       "      <td>2</td>\n",
       "      <td>1</td>\n",
       "    </tr>\n",
       "    <tr>\n",
       "      <th>20</th>\n",
       "      <td>3</td>\n",
       "      <td>0</td>\n",
       "      <td>0</td>\n",
       "      <td>2546</td>\n",
       "    </tr>\n",
       "    <tr>\n",
       "      <th>21</th>\n",
       "      <td>3</td>\n",
       "      <td>0</td>\n",
       "      <td>1</td>\n",
       "      <td>5</td>\n",
       "    </tr>\n",
       "    <tr>\n",
       "      <th>22</th>\n",
       "      <td>3</td>\n",
       "      <td>0</td>\n",
       "      <td>2</td>\n",
       "      <td>1</td>\n",
       "    </tr>\n",
       "    <tr>\n",
       "      <th>23</th>\n",
       "      <td>3</td>\n",
       "      <td>1</td>\n",
       "      <td>0</td>\n",
       "      <td>128</td>\n",
       "    </tr>\n",
       "    <tr>\n",
       "      <th>24</th>\n",
       "      <td>3</td>\n",
       "      <td>1</td>\n",
       "      <td>1</td>\n",
       "      <td>3</td>\n",
       "    </tr>\n",
       "    <tr>\n",
       "      <th>25</th>\n",
       "      <td>3</td>\n",
       "      <td>1</td>\n",
       "      <td>2</td>\n",
       "      <td>2</td>\n",
       "    </tr>\n",
       "    <tr>\n",
       "      <th>26</th>\n",
       "      <td>3</td>\n",
       "      <td>2</td>\n",
       "      <td>0</td>\n",
       "      <td>24</td>\n",
       "    </tr>\n",
       "    <tr>\n",
       "      <th>27</th>\n",
       "      <td>3</td>\n",
       "      <td>2</td>\n",
       "      <td>1</td>\n",
       "      <td>1</td>\n",
       "    </tr>\n",
       "    <tr>\n",
       "      <th>28</th>\n",
       "      <td>3</td>\n",
       "      <td>3</td>\n",
       "      <td>0</td>\n",
       "      <td>10</td>\n",
       "    </tr>\n",
       "    <tr>\n",
       "      <th>29</th>\n",
       "      <td>3</td>\n",
       "      <td>3</td>\n",
       "      <td>1</td>\n",
       "      <td>2</td>\n",
       "    </tr>\n",
       "    <tr>\n",
       "      <th>30</th>\n",
       "      <td>4</td>\n",
       "      <td>0</td>\n",
       "      <td>0</td>\n",
       "      <td>746</td>\n",
       "    </tr>\n",
       "    <tr>\n",
       "      <th>31</th>\n",
       "      <td>4</td>\n",
       "      <td>0</td>\n",
       "      <td>1</td>\n",
       "      <td>3</td>\n",
       "    </tr>\n",
       "    <tr>\n",
       "      <th>32</th>\n",
       "      <td>4</td>\n",
       "      <td>1</td>\n",
       "      <td>0</td>\n",
       "      <td>37</td>\n",
       "    </tr>\n",
       "    <tr>\n",
       "      <th>33</th>\n",
       "      <td>4</td>\n",
       "      <td>1</td>\n",
       "      <td>1</td>\n",
       "      <td>1</td>\n",
       "    </tr>\n",
       "    <tr>\n",
       "      <th>34</th>\n",
       "      <td>4</td>\n",
       "      <td>1</td>\n",
       "      <td>2</td>\n",
       "      <td>2</td>\n",
       "    </tr>\n",
       "    <tr>\n",
       "      <th>35</th>\n",
       "      <td>4</td>\n",
       "      <td>2</td>\n",
       "      <td>0</td>\n",
       "      <td>12</td>\n",
       "    </tr>\n",
       "    <tr>\n",
       "      <th>36</th>\n",
       "      <td>4</td>\n",
       "      <td>3</td>\n",
       "      <td>0</td>\n",
       "      <td>7</td>\n",
       "    </tr>\n",
       "    <tr>\n",
       "      <th>37</th>\n",
       "      <td>4</td>\n",
       "      <td>4</td>\n",
       "      <td>0</td>\n",
       "      <td>3</td>\n",
       "    </tr>\n",
       "    <tr>\n",
       "      <th>38</th>\n",
       "      <td>4</td>\n",
       "      <td>4</td>\n",
       "      <td>1</td>\n",
       "      <td>1</td>\n",
       "    </tr>\n",
       "    <tr>\n",
       "      <th>39</th>\n",
       "      <td>5</td>\n",
       "      <td>0</td>\n",
       "      <td>0</td>\n",
       "      <td>236</td>\n",
       "    </tr>\n",
       "    <tr>\n",
       "      <th>40</th>\n",
       "      <td>5</td>\n",
       "      <td>0</td>\n",
       "      <td>1</td>\n",
       "      <td>1</td>\n",
       "    </tr>\n",
       "    <tr>\n",
       "      <th>41</th>\n",
       "      <td>5</td>\n",
       "      <td>1</td>\n",
       "      <td>0</td>\n",
       "      <td>23</td>\n",
       "    </tr>\n",
       "    <tr>\n",
       "      <th>42</th>\n",
       "      <td>5</td>\n",
       "      <td>2</td>\n",
       "      <td>0</td>\n",
       "      <td>6</td>\n",
       "    </tr>\n",
       "    <tr>\n",
       "      <th>43</th>\n",
       "      <td>5</td>\n",
       "      <td>2</td>\n",
       "      <td>1</td>\n",
       "      <td>1</td>\n",
       "    </tr>\n",
       "    <tr>\n",
       "      <th>44</th>\n",
       "      <td>5</td>\n",
       "      <td>3</td>\n",
       "      <td>0</td>\n",
       "      <td>2</td>\n",
       "    </tr>\n",
       "    <tr>\n",
       "      <th>45</th>\n",
       "      <td>5</td>\n",
       "      <td>4</td>\n",
       "      <td>0</td>\n",
       "      <td>2</td>\n",
       "    </tr>\n",
       "    <tr>\n",
       "      <th>46</th>\n",
       "      <td>5</td>\n",
       "      <td>5</td>\n",
       "      <td>0</td>\n",
       "      <td>1</td>\n",
       "    </tr>\n",
       "    <tr>\n",
       "      <th>47</th>\n",
       "      <td>6</td>\n",
       "      <td>0</td>\n",
       "      <td>0</td>\n",
       "      <td>90</td>\n",
       "    </tr>\n",
       "    <tr>\n",
       "      <th>48</th>\n",
       "      <td>6</td>\n",
       "      <td>1</td>\n",
       "      <td>0</td>\n",
       "      <td>5</td>\n",
       "    </tr>\n",
       "    <tr>\n",
       "      <th>49</th>\n",
       "      <td>6</td>\n",
       "      <td>2</td>\n",
       "      <td>0</td>\n",
       "      <td>2</td>\n",
       "    </tr>\n",
       "    <tr>\n",
       "      <th>50</th>\n",
       "      <td>6</td>\n",
       "      <td>3</td>\n",
       "      <td>0</td>\n",
       "      <td>2</td>\n",
       "    </tr>\n",
       "    <tr>\n",
       "      <th>51</th>\n",
       "      <td>6</td>\n",
       "      <td>5</td>\n",
       "      <td>1</td>\n",
       "      <td>1</td>\n",
       "    </tr>\n",
       "    <tr>\n",
       "      <th>52</th>\n",
       "      <td>7</td>\n",
       "      <td>0</td>\n",
       "      <td>0</td>\n",
       "      <td>35</td>\n",
       "    </tr>\n",
       "    <tr>\n",
       "      <th>53</th>\n",
       "      <td>7</td>\n",
       "      <td>1</td>\n",
       "      <td>0</td>\n",
       "      <td>4</td>\n",
       "    </tr>\n",
       "    <tr>\n",
       "      <th>54</th>\n",
       "      <td>7</td>\n",
       "      <td>2</td>\n",
       "      <td>0</td>\n",
       "      <td>1</td>\n",
       "    </tr>\n",
       "    <tr>\n",
       "      <th>55</th>\n",
       "      <td>8</td>\n",
       "      <td>0</td>\n",
       "      <td>0</td>\n",
       "      <td>11</td>\n",
       "    </tr>\n",
       "    <tr>\n",
       "      <th>56</th>\n",
       "      <td>8</td>\n",
       "      <td>5</td>\n",
       "      <td>0</td>\n",
       "      <td>1</td>\n",
       "    </tr>\n",
       "    <tr>\n",
       "      <th>57</th>\n",
       "      <td>9</td>\n",
       "      <td>0</td>\n",
       "      <td>0</td>\n",
       "      <td>10</td>\n",
       "    </tr>\n",
       "    <tr>\n",
       "      <th>58</th>\n",
       "      <td>10</td>\n",
       "      <td>0</td>\n",
       "      <td>0</td>\n",
       "      <td>5</td>\n",
       "    </tr>\n",
       "    <tr>\n",
       "      <th>59</th>\n",
       "      <td>10</td>\n",
       "      <td>5</td>\n",
       "      <td>0</td>\n",
       "      <td>1</td>\n",
       "    </tr>\n",
       "    <tr>\n",
       "      <th>60</th>\n",
       "      <td>11</td>\n",
       "      <td>0</td>\n",
       "      <td>0</td>\n",
       "      <td>3</td>\n",
       "    </tr>\n",
       "    <tr>\n",
       "      <th>61</th>\n",
       "      <td>11</td>\n",
       "      <td>1</td>\n",
       "      <td>0</td>\n",
       "      <td>2</td>\n",
       "    </tr>\n",
       "    <tr>\n",
       "      <th>62</th>\n",
       "      <td>12</td>\n",
       "      <td>0</td>\n",
       "      <td>0</td>\n",
       "      <td>1</td>\n",
       "    </tr>\n",
       "    <tr>\n",
       "      <th>63</th>\n",
       "      <td>13</td>\n",
       "      <td>0</td>\n",
       "      <td>0</td>\n",
       "      <td>2</td>\n",
       "    </tr>\n",
       "    <tr>\n",
       "      <th>64</th>\n",
       "      <td>15</td>\n",
       "      <td>5</td>\n",
       "      <td>0</td>\n",
       "      <td>1</td>\n",
       "    </tr>\n",
       "    <tr>\n",
       "      <th>65</th>\n",
       "      <td>78</td>\n",
       "      <td>41</td>\n",
       "      <td>5</td>\n",
       "      <td>1</td>\n",
       "    </tr>\n",
       "  </tbody>\n",
       "</table>\n",
       "</div>"
      ],
      "text/plain": [
       "    injuries  seriousinjuries  fatalities   count\n",
       "0          0                0           0  158536\n",
       "1          0                0           1     220\n",
       "2          0                0           2       4\n",
       "3          0                0           3       1\n",
       "4          0                0           4       1\n",
       "5          0                1           0       6\n",
       "6          1                0           0   44736\n",
       "7          1                0           1      49\n",
       "8          1                0           2       1\n",
       "9          1                1           0    2236\n",
       "10         1                1           1      17\n",
       "11         1                1           3       1\n",
       "12         2                0           0   10093\n",
       "13         2                0           1      13\n",
       "14         2                0           2       1\n",
       "15         2                1           0     442\n",
       "16         2                1           1       9\n",
       "17         2                2           0      82\n",
       "18         2                2           1       3\n",
       "19         2                2           2       1\n",
       "20         3                0           0    2546\n",
       "21         3                0           1       5\n",
       "22         3                0           2       1\n",
       "23         3                1           0     128\n",
       "24         3                1           1       3\n",
       "25         3                1           2       2\n",
       "26         3                2           0      24\n",
       "27         3                2           1       1\n",
       "28         3                3           0      10\n",
       "29         3                3           1       2\n",
       "30         4                0           0     746\n",
       "31         4                0           1       3\n",
       "32         4                1           0      37\n",
       "33         4                1           1       1\n",
       "34         4                1           2       2\n",
       "35         4                2           0      12\n",
       "36         4                3           0       7\n",
       "37         4                4           0       3\n",
       "38         4                4           1       1\n",
       "39         5                0           0     236\n",
       "40         5                0           1       1\n",
       "41         5                1           0      23\n",
       "42         5                2           0       6\n",
       "43         5                2           1       1\n",
       "44         5                3           0       2\n",
       "45         5                4           0       2\n",
       "46         5                5           0       1\n",
       "47         6                0           0      90\n",
       "48         6                1           0       5\n",
       "49         6                2           0       2\n",
       "50         6                3           0       2\n",
       "51         6                5           1       1\n",
       "52         7                0           0      35\n",
       "53         7                1           0       4\n",
       "54         7                2           0       1\n",
       "55         8                0           0      11\n",
       "56         8                5           0       1\n",
       "57         9                0           0      10\n",
       "58        10                0           0       5\n",
       "59        10                5           0       1\n",
       "60        11                0           0       3\n",
       "61        11                1           0       2\n",
       "62        12                0           0       1\n",
       "63        13                0           0       2\n",
       "64        15                5           0       1\n",
       "65        78               41           5       1"
      ]
     },
     "execution_count": 99,
     "metadata": {},
     "output_type": "execute_result"
    }
   ],
   "source": [
    "df.groupby(['injuries','seriousinjuries','fatalities']).size().reset_index().rename(columns={0:'count'})"
   ]
  },
  {
   "cell_type": "markdown",
   "metadata": {},
   "source": [
    "#### 3.1 Questions 3 & 4 combined \"Does injuries include seriousinjuries or fatalities?\" answer to both is no, they are not included.\n",
    "\n",
    "Since there are records where injuries are zero and serious injuries and/or fatalities are greater than zero, we can assume that injuries does not include those that are serious or fatal.\n",
    "\n",
    "#### *RECOMMENDATION*\n",
    "\n",
    "I recommend that we create a new feature called Total Injuries, this would sum injuries, seriousinjuries and fatalities."
   ]
  },
  {
   "cell_type": "markdown",
   "metadata": {},
   "source": [
    "### 4. Other interesting questions"
   ]
  },
  {
   "cell_type": "code",
   "execution_count": 100,
   "metadata": {},
   "outputs": [
    {
     "data": {
      "text/html": [
       "<div>\n",
       "<style scoped>\n",
       "    .dataframe tbody tr th:only-of-type {\n",
       "        vertical-align: middle;\n",
       "    }\n",
       "\n",
       "    .dataframe tbody tr th {\n",
       "        vertical-align: top;\n",
       "    }\n",
       "\n",
       "    .dataframe thead th {\n",
       "        text-align: right;\n",
       "    }\n",
       "</style>\n",
       "<table border=\"1\" class=\"dataframe\">\n",
       "  <thead>\n",
       "    <tr style=\"text-align: right;\">\n",
       "      <th></th>\n",
       "      <th>severitydesc</th>\n",
       "      <th>collisiontype</th>\n",
       "      <th>sdot_coldesc</th>\n",
       "      <th>st_coldesc</th>\n",
       "      <th>hitparkedcar</th>\n",
       "      <th>pedrownotgrnt</th>\n",
       "    </tr>\n",
       "  </thead>\n",
       "  <tbody>\n",
       "    <tr>\n",
       "      <th>0</th>\n",
       "      <td>Injury Collision</td>\n",
       "      <td>Pedestrian</td>\n",
       "      <td>MOTOR VEHCILE STRUCK PEDESTRIAN</td>\n",
       "      <td>Vehicle backing hits pedestrian</td>\n",
       "      <td>N</td>\n",
       "      <td>NaN</td>\n",
       "    </tr>\n",
       "    <tr>\n",
       "      <th>1</th>\n",
       "      <td>Property Damage Only Collision</td>\n",
       "      <td>NaN</td>\n",
       "      <td>MOTOR VEHICLE STRUCK MOTOR VEHICLE, RIGHT SIDE...</td>\n",
       "      <td>NaN</td>\n",
       "      <td>Y</td>\n",
       "      <td>NaN</td>\n",
       "    </tr>\n",
       "    <tr>\n",
       "      <th>2</th>\n",
       "      <td>Property Damage Only Collision</td>\n",
       "      <td>Angles</td>\n",
       "      <td>MOTOR VEHICLE STRUCK MOTOR VEHICLE, FRONT END ...</td>\n",
       "      <td>Entering at angle</td>\n",
       "      <td>N</td>\n",
       "      <td>NaN</td>\n",
       "    </tr>\n",
       "    <tr>\n",
       "      <th>3</th>\n",
       "      <td>Property Damage Only Collision</td>\n",
       "      <td>Sideswipe</td>\n",
       "      <td>MOTOR VEHICLE STRUCK MOTOR VEHICLE, FRONT END ...</td>\n",
       "      <td>From same direction - both going straight - bo...</td>\n",
       "      <td>N</td>\n",
       "      <td>NaN</td>\n",
       "    </tr>\n",
       "    <tr>\n",
       "      <th>4</th>\n",
       "      <td>Unknown</td>\n",
       "      <td>NaN</td>\n",
       "      <td>MOTOR VEHICLE STRUCK MOTOR VEHICLE, FRONT END ...</td>\n",
       "      <td>NaN</td>\n",
       "      <td>Y</td>\n",
       "      <td>NaN</td>\n",
       "    </tr>\n",
       "    <tr>\n",
       "      <th>5</th>\n",
       "      <td>Injury Collision</td>\n",
       "      <td>NaN</td>\n",
       "      <td>MOTOR VEHICLE STRUCK MOTOR VEHICLE, FRONT END ...</td>\n",
       "      <td>NaN</td>\n",
       "      <td>N</td>\n",
       "      <td>NaN</td>\n",
       "    </tr>\n",
       "    <tr>\n",
       "      <th>6</th>\n",
       "      <td>Property Damage Only Collision</td>\n",
       "      <td>Other</td>\n",
       "      <td>MOTOR VEHICLE STRUCK MOTOR VEHICLE, REAR END</td>\n",
       "      <td>From same direction - all others</td>\n",
       "      <td>N</td>\n",
       "      <td>NaN</td>\n",
       "    </tr>\n",
       "    <tr>\n",
       "      <th>7</th>\n",
       "      <td>Property Damage Only Collision</td>\n",
       "      <td>NaN</td>\n",
       "      <td>MOTOR VEHICLE STRUCK MOTOR VEHICLE, FRONT END ...</td>\n",
       "      <td>NaN</td>\n",
       "      <td>Y</td>\n",
       "      <td>NaN</td>\n",
       "    </tr>\n",
       "    <tr>\n",
       "      <th>8</th>\n",
       "      <td>Property Damage Only Collision</td>\n",
       "      <td>Other</td>\n",
       "      <td>MOTOR VEHICLE STRUCK MOTOR VEHICLE, REAR END</td>\n",
       "      <td>One car entering driveway access</td>\n",
       "      <td>N</td>\n",
       "      <td>NaN</td>\n",
       "    </tr>\n",
       "    <tr>\n",
       "      <th>9</th>\n",
       "      <td>Property Damage Only Collision</td>\n",
       "      <td>Left Turn</td>\n",
       "      <td>MOTOR VEHICLE STRUCK MOTOR VEHICLE, FRONT END ...</td>\n",
       "      <td>From opposite direction - one left turn - one ...</td>\n",
       "      <td>N</td>\n",
       "      <td>NaN</td>\n",
       "    </tr>\n",
       "  </tbody>\n",
       "</table>\n",
       "</div>"
      ],
      "text/plain": [
       "                     severitydesc collisiontype  \\\n",
       "0                Injury Collision    Pedestrian   \n",
       "1  Property Damage Only Collision           NaN   \n",
       "2  Property Damage Only Collision        Angles   \n",
       "3  Property Damage Only Collision     Sideswipe   \n",
       "4                         Unknown           NaN   \n",
       "5                Injury Collision           NaN   \n",
       "6  Property Damage Only Collision         Other   \n",
       "7  Property Damage Only Collision           NaN   \n",
       "8  Property Damage Only Collision         Other   \n",
       "9  Property Damage Only Collision     Left Turn   \n",
       "\n",
       "                                        sdot_coldesc  \\\n",
       "0                    MOTOR VEHCILE STRUCK PEDESTRIAN   \n",
       "1  MOTOR VEHICLE STRUCK MOTOR VEHICLE, RIGHT SIDE...   \n",
       "2  MOTOR VEHICLE STRUCK MOTOR VEHICLE, FRONT END ...   \n",
       "3  MOTOR VEHICLE STRUCK MOTOR VEHICLE, FRONT END ...   \n",
       "4  MOTOR VEHICLE STRUCK MOTOR VEHICLE, FRONT END ...   \n",
       "5  MOTOR VEHICLE STRUCK MOTOR VEHICLE, FRONT END ...   \n",
       "6       MOTOR VEHICLE STRUCK MOTOR VEHICLE, REAR END   \n",
       "7  MOTOR VEHICLE STRUCK MOTOR VEHICLE, FRONT END ...   \n",
       "8       MOTOR VEHICLE STRUCK MOTOR VEHICLE, REAR END   \n",
       "9  MOTOR VEHICLE STRUCK MOTOR VEHICLE, FRONT END ...   \n",
       "\n",
       "                                          st_coldesc hitparkedcar  \\\n",
       "0                    Vehicle backing hits pedestrian            N   \n",
       "1                                                NaN            Y   \n",
       "2                                  Entering at angle            N   \n",
       "3  From same direction - both going straight - bo...            N   \n",
       "4                                                NaN            Y   \n",
       "5                                                NaN            N   \n",
       "6                   From same direction - all others            N   \n",
       "7                                                NaN            Y   \n",
       "8                   One car entering driveway access            N   \n",
       "9  From opposite direction - one left turn - one ...            N   \n",
       "\n",
       "  pedrownotgrnt  \n",
       "0           NaN  \n",
       "1           NaN  \n",
       "2           NaN  \n",
       "3           NaN  \n",
       "4           NaN  \n",
       "5           NaN  \n",
       "6           NaN  \n",
       "7           NaN  \n",
       "8           NaN  \n",
       "9           NaN  "
      ]
     },
     "metadata": {},
     "output_type": "display_data"
    }
   ],
   "source": [
    "display(df[interest_cols].head(10))"
   ]
  },
  {
   "cell_type": "markdown",
   "metadata": {},
   "source": [
    "#### 4.1 Hit Parked Car\n",
    "\n",
    "If the collision is marked as hitparkedcar = Y, does the 'number of vehicles involved' include the pared car?\n",
    "\n",
    "Let's only look at those where number of vehicles is greater than zero"
   ]
  },
  {
   "cell_type": "code",
   "execution_count": 101,
   "metadata": {
    "scrolled": true
   },
   "outputs": [
    {
     "data": {
      "text/html": [
       "<div>\n",
       "<style scoped>\n",
       "    .dataframe tbody tr th:only-of-type {\n",
       "        vertical-align: middle;\n",
       "    }\n",
       "\n",
       "    .dataframe tbody tr th {\n",
       "        vertical-align: top;\n",
       "    }\n",
       "\n",
       "    .dataframe thead th {\n",
       "        text-align: right;\n",
       "    }\n",
       "</style>\n",
       "<table border=\"1\" class=\"dataframe\">\n",
       "  <thead>\n",
       "    <tr style=\"text-align: right;\">\n",
       "      <th></th>\n",
       "      <th>vehcount</th>\n",
       "      <th>sdot_coldesc</th>\n",
       "      <th>count</th>\n",
       "    </tr>\n",
       "  </thead>\n",
       "  <tbody>\n",
       "    <tr>\n",
       "      <th>0</th>\n",
       "      <td>1</td>\n",
       "      <td>DRIVERLESS VEHICLE RAN OFF ROAD - HIT FIXED OBJECT</td>\n",
       "      <td>1</td>\n",
       "    </tr>\n",
       "    <tr>\n",
       "      <th>1</th>\n",
       "      <td>1</td>\n",
       "      <td>MOTOR VEHCILE STRUCK PEDESTRIAN</td>\n",
       "      <td>1</td>\n",
       "    </tr>\n",
       "    <tr>\n",
       "      <th>2</th>\n",
       "      <td>1</td>\n",
       "      <td>MOTOR VEHICLE RAN OFF ROAD - HIT FIXED OBJECT</td>\n",
       "      <td>2</td>\n",
       "    </tr>\n",
       "    <tr>\n",
       "      <th>3</th>\n",
       "      <td>1</td>\n",
       "      <td>MOTOR VEHICLE STRUCK MOTOR VEHICLE, FRONT END AT ANGLE</td>\n",
       "      <td>4</td>\n",
       "    </tr>\n",
       "    <tr>\n",
       "      <th>4</th>\n",
       "      <td>1</td>\n",
       "      <td>MOTOR VEHICLE STRUCK MOTOR VEHICLE, LEFT SIDE SIDESWIPE</td>\n",
       "      <td>2</td>\n",
       "    </tr>\n",
       "    <tr>\n",
       "      <th>5</th>\n",
       "      <td>1</td>\n",
       "      <td>MOTOR VEHICLE STRUCK MOTOR VEHICLE, REAR END</td>\n",
       "      <td>15</td>\n",
       "    </tr>\n",
       "    <tr>\n",
       "      <th>6</th>\n",
       "      <td>1</td>\n",
       "      <td>MOTOR VEHICLE STRUCK MOTOR VEHICLE, RIGHT SIDE AT ANGLE</td>\n",
       "      <td>1</td>\n",
       "    </tr>\n",
       "    <tr>\n",
       "      <th>7</th>\n",
       "      <td>1</td>\n",
       "      <td>MOTOR VEHICLE STRUCK MOTOR VEHICLE, RIGHT SIDE SIDESWIPE</td>\n",
       "      <td>1</td>\n",
       "    </tr>\n",
       "    <tr>\n",
       "      <th>8</th>\n",
       "      <td>1</td>\n",
       "      <td>MOTOR VEHICLE STRUCK OBJECT IN ROAD</td>\n",
       "      <td>1</td>\n",
       "    </tr>\n",
       "    <tr>\n",
       "      <th>9</th>\n",
       "      <td>1</td>\n",
       "      <td>MOTOR VEHICLE STRUCK PEDALCYCLIST, REAR END</td>\n",
       "      <td>1</td>\n",
       "    </tr>\n",
       "    <tr>\n",
       "      <th>10</th>\n",
       "      <td>1</td>\n",
       "      <td>NOT ENOUGH INFORMATION / NOT APPLICABLE</td>\n",
       "      <td>18</td>\n",
       "    </tr>\n",
       "    <tr>\n",
       "      <th>11</th>\n",
       "      <td>1</td>\n",
       "      <td>PEDALCYCLIST STRUCK MOTOR VEHICLE FRONT END AT ANGLE</td>\n",
       "      <td>1</td>\n",
       "    </tr>\n",
       "    <tr>\n",
       "      <th>12</th>\n",
       "      <td>1</td>\n",
       "      <td>PEDALCYCLIST STRUCK MOTOR VEHICLE LEFT SIDE AT ANGLE</td>\n",
       "      <td>1</td>\n",
       "    </tr>\n",
       "    <tr>\n",
       "      <th>13</th>\n",
       "      <td>1</td>\n",
       "      <td>PEDALCYCLIST STRUCK MOTOR VEHICLE LEFT SIDE SIDESWIPE</td>\n",
       "      <td>2</td>\n",
       "    </tr>\n",
       "    <tr>\n",
       "      <th>14</th>\n",
       "      <td>1</td>\n",
       "      <td>PEDALCYCLIST STRUCK MOTOR VEHICLE REAR END</td>\n",
       "      <td>2</td>\n",
       "    </tr>\n",
       "    <tr>\n",
       "      <th>15</th>\n",
       "      <td>1</td>\n",
       "      <td>PEDALCYCLIST STRUCK OBJECT IN ROAD</td>\n",
       "      <td>2</td>\n",
       "    </tr>\n",
       "    <tr>\n",
       "      <th>16</th>\n",
       "      <td>2</td>\n",
       "      <td>DRIVERLESS VEHICLE RAN OFF ROAD - HIT FIXED OBJECT</td>\n",
       "      <td>1</td>\n",
       "    </tr>\n",
       "    <tr>\n",
       "      <th>17</th>\n",
       "      <td>2</td>\n",
       "      <td>DRIVERLESS VEHICLE STRUCK MOTOR VEHICLE FRONT END AT ANGLE</td>\n",
       "      <td>3</td>\n",
       "    </tr>\n",
       "    <tr>\n",
       "      <th>18</th>\n",
       "      <td>2</td>\n",
       "      <td>DRIVERLESS VEHICLE STRUCK MOTOR VEHICLE LEFT SIDE AT ANGLE</td>\n",
       "      <td>3</td>\n",
       "    </tr>\n",
       "    <tr>\n",
       "      <th>19</th>\n",
       "      <td>2</td>\n",
       "      <td>DRIVERLESS VEHICLE STRUCK MOTOR VEHICLE REAR END</td>\n",
       "      <td>4</td>\n",
       "    </tr>\n",
       "    <tr>\n",
       "      <th>20</th>\n",
       "      <td>2</td>\n",
       "      <td>MOTOR VEHCILE STRUCK PEDESTRIAN</td>\n",
       "      <td>1</td>\n",
       "    </tr>\n",
       "    <tr>\n",
       "      <th>21</th>\n",
       "      <td>2</td>\n",
       "      <td>MOTOR VEHICLE RAN OFF ROAD - HIT FIXED OBJECT</td>\n",
       "      <td>8</td>\n",
       "    </tr>\n",
       "    <tr>\n",
       "      <th>22</th>\n",
       "      <td>2</td>\n",
       "      <td>MOTOR VEHICLE STRUCK MOTOR VEHICLE, FRONT END AT ANGLE</td>\n",
       "      <td>1598</td>\n",
       "    </tr>\n",
       "    <tr>\n",
       "      <th>23</th>\n",
       "      <td>2</td>\n",
       "      <td>MOTOR VEHICLE STRUCK MOTOR VEHICLE, LEFT SIDE AT ANGLE</td>\n",
       "      <td>897</td>\n",
       "    </tr>\n",
       "    <tr>\n",
       "      <th>24</th>\n",
       "      <td>2</td>\n",
       "      <td>MOTOR VEHICLE STRUCK MOTOR VEHICLE, LEFT SIDE SIDESWIPE</td>\n",
       "      <td>353</td>\n",
       "    </tr>\n",
       "    <tr>\n",
       "      <th>25</th>\n",
       "      <td>2</td>\n",
       "      <td>MOTOR VEHICLE STRUCK MOTOR VEHICLE, REAR END</td>\n",
       "      <td>1661</td>\n",
       "    </tr>\n",
       "    <tr>\n",
       "      <th>26</th>\n",
       "      <td>2</td>\n",
       "      <td>MOTOR VEHICLE STRUCK MOTOR VEHICLE, RIGHT SIDE AT ANGLE</td>\n",
       "      <td>200</td>\n",
       "    </tr>\n",
       "    <tr>\n",
       "      <th>27</th>\n",
       "      <td>2</td>\n",
       "      <td>MOTOR VEHICLE STRUCK MOTOR VEHICLE, RIGHT SIDE SIDESWIPE</td>\n",
       "      <td>85</td>\n",
       "    </tr>\n",
       "    <tr>\n",
       "      <th>28</th>\n",
       "      <td>2</td>\n",
       "      <td>MOTOR VEHICLE STRUCK OBJECT IN ROAD</td>\n",
       "      <td>1</td>\n",
       "    </tr>\n",
       "    <tr>\n",
       "      <th>29</th>\n",
       "      <td>2</td>\n",
       "      <td>MOTOR VEHICLE STRUCK PEDALCYCLIST, FRONT END AT ANGLE</td>\n",
       "      <td>1</td>\n",
       "    </tr>\n",
       "    <tr>\n",
       "      <th>30</th>\n",
       "      <td>2</td>\n",
       "      <td>NOT ENOUGH INFORMATION / NOT APPLICABLE</td>\n",
       "      <td>1304</td>\n",
       "    </tr>\n",
       "    <tr>\n",
       "      <th>31</th>\n",
       "      <td>3</td>\n",
       "      <td>DRIVERLESS VEHICLE STRUCK MOTOR VEHICLE REAR END</td>\n",
       "      <td>1</td>\n",
       "    </tr>\n",
       "    <tr>\n",
       "      <th>32</th>\n",
       "      <td>3</td>\n",
       "      <td>MOTOR VEHICLE STRUCK MOTOR VEHICLE, FRONT END AT ANGLE</td>\n",
       "      <td>181</td>\n",
       "    </tr>\n",
       "    <tr>\n",
       "      <th>33</th>\n",
       "      <td>3</td>\n",
       "      <td>MOTOR VEHICLE STRUCK MOTOR VEHICLE, LEFT SIDE AT ANGLE</td>\n",
       "      <td>102</td>\n",
       "    </tr>\n",
       "    <tr>\n",
       "      <th>34</th>\n",
       "      <td>3</td>\n",
       "      <td>MOTOR VEHICLE STRUCK MOTOR VEHICLE, LEFT SIDE SIDESWIPE</td>\n",
       "      <td>43</td>\n",
       "    </tr>\n",
       "    <tr>\n",
       "      <th>35</th>\n",
       "      <td>3</td>\n",
       "      <td>MOTOR VEHICLE STRUCK MOTOR VEHICLE, REAR END</td>\n",
       "      <td>305</td>\n",
       "    </tr>\n",
       "    <tr>\n",
       "      <th>36</th>\n",
       "      <td>3</td>\n",
       "      <td>MOTOR VEHICLE STRUCK MOTOR VEHICLE, RIGHT SIDE AT ANGLE</td>\n",
       "      <td>12</td>\n",
       "    </tr>\n",
       "    <tr>\n",
       "      <th>37</th>\n",
       "      <td>3</td>\n",
       "      <td>MOTOR VEHICLE STRUCK MOTOR VEHICLE, RIGHT SIDE SIDESWIPE</td>\n",
       "      <td>2</td>\n",
       "    </tr>\n",
       "    <tr>\n",
       "      <th>38</th>\n",
       "      <td>3</td>\n",
       "      <td>NOT ENOUGH INFORMATION / NOT APPLICABLE</td>\n",
       "      <td>31</td>\n",
       "    </tr>\n",
       "    <tr>\n",
       "      <th>39</th>\n",
       "      <td>4</td>\n",
       "      <td>DRIVERLESS VEHICLE STRUCK MOTOR VEHICLE RIGHT SIDE AT ANGLE</td>\n",
       "      <td>1</td>\n",
       "    </tr>\n",
       "    <tr>\n",
       "      <th>40</th>\n",
       "      <td>4</td>\n",
       "      <td>MOTOR VEHICLE RAN OFF ROAD - HIT FIXED OBJECT</td>\n",
       "      <td>1</td>\n",
       "    </tr>\n",
       "    <tr>\n",
       "      <th>41</th>\n",
       "      <td>4</td>\n",
       "      <td>MOTOR VEHICLE STRUCK MOTOR VEHICLE, FRONT END AT ANGLE</td>\n",
       "      <td>55</td>\n",
       "    </tr>\n",
       "    <tr>\n",
       "      <th>42</th>\n",
       "      <td>4</td>\n",
       "      <td>MOTOR VEHICLE STRUCK MOTOR VEHICLE, LEFT SIDE AT ANGLE</td>\n",
       "      <td>31</td>\n",
       "    </tr>\n",
       "    <tr>\n",
       "      <th>43</th>\n",
       "      <td>4</td>\n",
       "      <td>MOTOR VEHICLE STRUCK MOTOR VEHICLE, LEFT SIDE SIDESWIPE</td>\n",
       "      <td>8</td>\n",
       "    </tr>\n",
       "    <tr>\n",
       "      <th>44</th>\n",
       "      <td>4</td>\n",
       "      <td>MOTOR VEHICLE STRUCK MOTOR VEHICLE, REAR END</td>\n",
       "      <td>80</td>\n",
       "    </tr>\n",
       "    <tr>\n",
       "      <th>45</th>\n",
       "      <td>4</td>\n",
       "      <td>MOTOR VEHICLE STRUCK MOTOR VEHICLE, RIGHT SIDE AT ANGLE</td>\n",
       "      <td>1</td>\n",
       "    </tr>\n",
       "    <tr>\n",
       "      <th>46</th>\n",
       "      <td>4</td>\n",
       "      <td>NOT ENOUGH INFORMATION / NOT APPLICABLE</td>\n",
       "      <td>6</td>\n",
       "    </tr>\n",
       "    <tr>\n",
       "      <th>47</th>\n",
       "      <td>5</td>\n",
       "      <td>MOTOR VEHICLE STRUCK MOTOR VEHICLE, FRONT END AT ANGLE</td>\n",
       "      <td>14</td>\n",
       "    </tr>\n",
       "    <tr>\n",
       "      <th>48</th>\n",
       "      <td>5</td>\n",
       "      <td>MOTOR VEHICLE STRUCK MOTOR VEHICLE, LEFT SIDE AT ANGLE</td>\n",
       "      <td>7</td>\n",
       "    </tr>\n",
       "    <tr>\n",
       "      <th>49</th>\n",
       "      <td>5</td>\n",
       "      <td>MOTOR VEHICLE STRUCK MOTOR VEHICLE, LEFT SIDE SIDESWIPE</td>\n",
       "      <td>2</td>\n",
       "    </tr>\n",
       "    <tr>\n",
       "      <th>50</th>\n",
       "      <td>5</td>\n",
       "      <td>MOTOR VEHICLE STRUCK MOTOR VEHICLE, REAR END</td>\n",
       "      <td>21</td>\n",
       "    </tr>\n",
       "    <tr>\n",
       "      <th>51</th>\n",
       "      <td>6</td>\n",
       "      <td>MOTOR VEHICLE STRUCK MOTOR VEHICLE, FRONT END AT ANGLE</td>\n",
       "      <td>4</td>\n",
       "    </tr>\n",
       "    <tr>\n",
       "      <th>52</th>\n",
       "      <td>6</td>\n",
       "      <td>MOTOR VEHICLE STRUCK MOTOR VEHICLE, LEFT SIDE AT ANGLE</td>\n",
       "      <td>2</td>\n",
       "    </tr>\n",
       "    <tr>\n",
       "      <th>53</th>\n",
       "      <td>6</td>\n",
       "      <td>MOTOR VEHICLE STRUCK MOTOR VEHICLE, LEFT SIDE SIDESWIPE</td>\n",
       "      <td>1</td>\n",
       "    </tr>\n",
       "    <tr>\n",
       "      <th>54</th>\n",
       "      <td>6</td>\n",
       "      <td>MOTOR VEHICLE STRUCK MOTOR VEHICLE, REAR END</td>\n",
       "      <td>5</td>\n",
       "    </tr>\n",
       "    <tr>\n",
       "      <th>55</th>\n",
       "      <td>7</td>\n",
       "      <td>MOTOR VEHICLE STRUCK MOTOR VEHICLE, FRONT END AT ANGLE</td>\n",
       "      <td>1</td>\n",
       "    </tr>\n",
       "    <tr>\n",
       "      <th>56</th>\n",
       "      <td>7</td>\n",
       "      <td>MOTOR VEHICLE STRUCK MOTOR VEHICLE, LEFT SIDE SIDESWIPE</td>\n",
       "      <td>1</td>\n",
       "    </tr>\n",
       "    <tr>\n",
       "      <th>57</th>\n",
       "      <td>7</td>\n",
       "      <td>MOTOR VEHICLE STRUCK MOTOR VEHICLE, RIGHT SIDE SIDESWIPE</td>\n",
       "      <td>1</td>\n",
       "    </tr>\n",
       "    <tr>\n",
       "      <th>58</th>\n",
       "      <td>7</td>\n",
       "      <td>NOT ENOUGH INFORMATION / NOT APPLICABLE</td>\n",
       "      <td>1</td>\n",
       "    </tr>\n",
       "    <tr>\n",
       "      <th>59</th>\n",
       "      <td>8</td>\n",
       "      <td>MOTOR VEHICLE STRUCK MOTOR VEHICLE, REAR END</td>\n",
       "      <td>1</td>\n",
       "    </tr>\n",
       "    <tr>\n",
       "      <th>60</th>\n",
       "      <td>9</td>\n",
       "      <td>MOTOR VEHICLE STRUCK MOTOR VEHICLE, FRONT END AT ANGLE</td>\n",
       "      <td>1</td>\n",
       "    </tr>\n",
       "  </tbody>\n",
       "</table>\n",
       "</div>"
      ],
      "text/plain": [
       "    vehcount                                                  sdot_coldesc  \\\n",
       "0          1            DRIVERLESS VEHICLE RAN OFF ROAD - HIT FIXED OBJECT   \n",
       "1          1                               MOTOR VEHCILE STRUCK PEDESTRIAN   \n",
       "2          1                 MOTOR VEHICLE RAN OFF ROAD - HIT FIXED OBJECT   \n",
       "3          1        MOTOR VEHICLE STRUCK MOTOR VEHICLE, FRONT END AT ANGLE   \n",
       "4          1       MOTOR VEHICLE STRUCK MOTOR VEHICLE, LEFT SIDE SIDESWIPE   \n",
       "5          1                  MOTOR VEHICLE STRUCK MOTOR VEHICLE, REAR END   \n",
       "6          1       MOTOR VEHICLE STRUCK MOTOR VEHICLE, RIGHT SIDE AT ANGLE   \n",
       "7          1      MOTOR VEHICLE STRUCK MOTOR VEHICLE, RIGHT SIDE SIDESWIPE   \n",
       "8          1                           MOTOR VEHICLE STRUCK OBJECT IN ROAD   \n",
       "9          1                   MOTOR VEHICLE STRUCK PEDALCYCLIST, REAR END   \n",
       "10         1                       NOT ENOUGH INFORMATION / NOT APPLICABLE   \n",
       "11         1          PEDALCYCLIST STRUCK MOTOR VEHICLE FRONT END AT ANGLE   \n",
       "12         1          PEDALCYCLIST STRUCK MOTOR VEHICLE LEFT SIDE AT ANGLE   \n",
       "13         1         PEDALCYCLIST STRUCK MOTOR VEHICLE LEFT SIDE SIDESWIPE   \n",
       "14         1                    PEDALCYCLIST STRUCK MOTOR VEHICLE REAR END   \n",
       "15         1                            PEDALCYCLIST STRUCK OBJECT IN ROAD   \n",
       "16         2            DRIVERLESS VEHICLE RAN OFF ROAD - HIT FIXED OBJECT   \n",
       "17         2    DRIVERLESS VEHICLE STRUCK MOTOR VEHICLE FRONT END AT ANGLE   \n",
       "18         2    DRIVERLESS VEHICLE STRUCK MOTOR VEHICLE LEFT SIDE AT ANGLE   \n",
       "19         2              DRIVERLESS VEHICLE STRUCK MOTOR VEHICLE REAR END   \n",
       "20         2                               MOTOR VEHCILE STRUCK PEDESTRIAN   \n",
       "21         2                 MOTOR VEHICLE RAN OFF ROAD - HIT FIXED OBJECT   \n",
       "22         2        MOTOR VEHICLE STRUCK MOTOR VEHICLE, FRONT END AT ANGLE   \n",
       "23         2        MOTOR VEHICLE STRUCK MOTOR VEHICLE, LEFT SIDE AT ANGLE   \n",
       "24         2       MOTOR VEHICLE STRUCK MOTOR VEHICLE, LEFT SIDE SIDESWIPE   \n",
       "25         2                  MOTOR VEHICLE STRUCK MOTOR VEHICLE, REAR END   \n",
       "26         2       MOTOR VEHICLE STRUCK MOTOR VEHICLE, RIGHT SIDE AT ANGLE   \n",
       "27         2      MOTOR VEHICLE STRUCK MOTOR VEHICLE, RIGHT SIDE SIDESWIPE   \n",
       "28         2                           MOTOR VEHICLE STRUCK OBJECT IN ROAD   \n",
       "29         2         MOTOR VEHICLE STRUCK PEDALCYCLIST, FRONT END AT ANGLE   \n",
       "30         2                       NOT ENOUGH INFORMATION / NOT APPLICABLE   \n",
       "31         3              DRIVERLESS VEHICLE STRUCK MOTOR VEHICLE REAR END   \n",
       "32         3        MOTOR VEHICLE STRUCK MOTOR VEHICLE, FRONT END AT ANGLE   \n",
       "33         3        MOTOR VEHICLE STRUCK MOTOR VEHICLE, LEFT SIDE AT ANGLE   \n",
       "34         3       MOTOR VEHICLE STRUCK MOTOR VEHICLE, LEFT SIDE SIDESWIPE   \n",
       "35         3                  MOTOR VEHICLE STRUCK MOTOR VEHICLE, REAR END   \n",
       "36         3       MOTOR VEHICLE STRUCK MOTOR VEHICLE, RIGHT SIDE AT ANGLE   \n",
       "37         3      MOTOR VEHICLE STRUCK MOTOR VEHICLE, RIGHT SIDE SIDESWIPE   \n",
       "38         3                       NOT ENOUGH INFORMATION / NOT APPLICABLE   \n",
       "39         4  DRIVERLESS VEHICLE STRUCK MOTOR VEHICLE RIGHT SIDE AT ANGLE    \n",
       "40         4                 MOTOR VEHICLE RAN OFF ROAD - HIT FIXED OBJECT   \n",
       "41         4        MOTOR VEHICLE STRUCK MOTOR VEHICLE, FRONT END AT ANGLE   \n",
       "42         4        MOTOR VEHICLE STRUCK MOTOR VEHICLE, LEFT SIDE AT ANGLE   \n",
       "43         4       MOTOR VEHICLE STRUCK MOTOR VEHICLE, LEFT SIDE SIDESWIPE   \n",
       "44         4                  MOTOR VEHICLE STRUCK MOTOR VEHICLE, REAR END   \n",
       "45         4       MOTOR VEHICLE STRUCK MOTOR VEHICLE, RIGHT SIDE AT ANGLE   \n",
       "46         4                       NOT ENOUGH INFORMATION / NOT APPLICABLE   \n",
       "47         5        MOTOR VEHICLE STRUCK MOTOR VEHICLE, FRONT END AT ANGLE   \n",
       "48         5        MOTOR VEHICLE STRUCK MOTOR VEHICLE, LEFT SIDE AT ANGLE   \n",
       "49         5       MOTOR VEHICLE STRUCK MOTOR VEHICLE, LEFT SIDE SIDESWIPE   \n",
       "50         5                  MOTOR VEHICLE STRUCK MOTOR VEHICLE, REAR END   \n",
       "51         6        MOTOR VEHICLE STRUCK MOTOR VEHICLE, FRONT END AT ANGLE   \n",
       "52         6        MOTOR VEHICLE STRUCK MOTOR VEHICLE, LEFT SIDE AT ANGLE   \n",
       "53         6       MOTOR VEHICLE STRUCK MOTOR VEHICLE, LEFT SIDE SIDESWIPE   \n",
       "54         6                  MOTOR VEHICLE STRUCK MOTOR VEHICLE, REAR END   \n",
       "55         7        MOTOR VEHICLE STRUCK MOTOR VEHICLE, FRONT END AT ANGLE   \n",
       "56         7       MOTOR VEHICLE STRUCK MOTOR VEHICLE, LEFT SIDE SIDESWIPE   \n",
       "57         7      MOTOR VEHICLE STRUCK MOTOR VEHICLE, RIGHT SIDE SIDESWIPE   \n",
       "58         7                       NOT ENOUGH INFORMATION / NOT APPLICABLE   \n",
       "59         8                  MOTOR VEHICLE STRUCK MOTOR VEHICLE, REAR END   \n",
       "60         9        MOTOR VEHICLE STRUCK MOTOR VEHICLE, FRONT END AT ANGLE   \n",
       "\n",
       "    count  \n",
       "0       1  \n",
       "1       1  \n",
       "2       2  \n",
       "3       4  \n",
       "4       2  \n",
       "5      15  \n",
       "6       1  \n",
       "7       1  \n",
       "8       1  \n",
       "9       1  \n",
       "10     18  \n",
       "11      1  \n",
       "12      1  \n",
       "13      2  \n",
       "14      2  \n",
       "15      2  \n",
       "16      1  \n",
       "17      3  \n",
       "18      3  \n",
       "19      4  \n",
       "20      1  \n",
       "21      8  \n",
       "22   1598  \n",
       "23    897  \n",
       "24    353  \n",
       "25   1661  \n",
       "26    200  \n",
       "27     85  \n",
       "28      1  \n",
       "29      1  \n",
       "30   1304  \n",
       "31      1  \n",
       "32    181  \n",
       "33    102  \n",
       "34     43  \n",
       "35    305  \n",
       "36     12  \n",
       "37      2  \n",
       "38     31  \n",
       "39      1  \n",
       "40      1  \n",
       "41     55  \n",
       "42     31  \n",
       "43      8  \n",
       "44     80  \n",
       "45      1  \n",
       "46      6  \n",
       "47     14  \n",
       "48      7  \n",
       "49      2  \n",
       "50     21  \n",
       "51      4  \n",
       "52      2  \n",
       "53      1  \n",
       "54      5  \n",
       "55      1  \n",
       "56      1  \n",
       "57      1  \n",
       "58      1  \n",
       "59      1  \n",
       "60      1  "
      ]
     },
     "execution_count": 101,
     "metadata": {},
     "output_type": "execute_result"
    }
   ],
   "source": [
    "pd.options.display.max_colwidth = 150\n",
    "df_hit_parked_car = df.loc[(df[\"hitparkedcar\"] == 'Y')]\n",
    "df_hit_parked_car=df_hit_parked_car.loc[(df[\"vehcount\"] >0)]\n",
    "df_hit_parked_car.groupby(['vehcount','sdot_coldesc']).size().reset_index().rename(columns={0:'count'})"
   ]
  },
  {
   "cell_type": "markdown",
   "metadata": {},
   "source": [
    "We can definitely see some inconsistencies where the vehicle count is one. Only some of these make sense – the ones where a cyclist runs into a vehicle, but most the others (even the ones where a driverless vehicle stuck another vehicle) seem like they should involve more than one vehicle.\n",
    "\n",
    "#### Question: \"If the collision is marked as hitparkedcar = Y, does the 'number of vehicles involved' include the pared car?\" Answer; yes, it’s included.\n",
    "\n",
    "Most of these records have vehicle count more than one, which leads me to believe that the parked car is almost always included in the vehicle count.\n",
    "\n",
    "#### 4.2 Severity Description and Type of Injuries\n",
    "\n",
    "First we will look at severity descriptions with those that have one or more injuries or fatalities"
   ]
  },
  {
   "cell_type": "code",
   "execution_count": 102,
   "metadata": {},
   "outputs": [
    {
     "data": {
      "text/plain": [
       "<matplotlib.axes._subplots.AxesSubplot at 0x2988179be48>"
      ]
     },
     "execution_count": 102,
     "metadata": {},
     "output_type": "execute_result"
    },
    {
     "data": {
      "text/plain": [
       "<matplotlib.axes._subplots.AxesSubplot at 0x298817bb438>"
      ]
     },
     "execution_count": 102,
     "metadata": {},
     "output_type": "execute_result"
    },
    {
     "data": {
      "text/plain": [
       "<matplotlib.axes._subplots.AxesSubplot at 0x298817e0ac8>"
      ]
     },
     "execution_count": 102,
     "metadata": {},
     "output_type": "execute_result"
    },
    {
     "data": {
      "image/png": "[encoded data removed]",
      "text/plain": [
       "<Figure size 1152x288 with 3 Axes>"
      ]
     },
     "metadata": {},
     "output_type": "display_data"
    }
   ],
   "source": [
    "df_injury=  df.loc[(df[\"injuries\"] > 0)]\n",
    "df_serious_injury= df.loc[(df[\"seriousinjuries\"] > 0)]\n",
    "df_fatality= df.loc[(df[\"fatalities\"] > 0)]\n",
    "\n",
    "fig, axes = plt.subplots(nrows=1, ncols=3,figsize=(16, 4))\n",
    "fig.subplots_adjust(hspace=0.8)\n",
    "\n",
    "df_injury['severitydesc'].value_counts().sort_index().plot(ax=axes[0],kind='bar',title='Severity (at least one injury)')\n",
    "df_serious_injury['severitydesc'].value_counts().sort_index().plot(ax=axes[1],kind='bar',title='Severity  (at least one serious injury)')\n",
    "df_fatality['severitydesc'].value_counts().sort_index().plot(ax=axes[2],kind='bar',title='Severity  (at least one fatality')"
   ]
  },
  {
   "cell_type": "markdown",
   "metadata": {},
   "source": [
    "#### Question: \"Is there a consistent pattern involving severitydesc and injuries/seriousinjuries/fatalities\" - Answer; Yes, but with exceptions\n",
    "\n",
    "Is there a consistent pattern involving severitydesc and injuries/seriousinjuries/fatalities? Yes, for the most part, however, there are a few inconsistencies. Some records list number of fatalities as zero, but include the value \"fatality collision\" for severity. And some records list seriousinjuries as zero but include the value \"serious injury collision\" for severity.\n",
    "\n",
    "I will review a subset of these kinds of records to see if there is an indicator of what is causing these inconsistencies."
   ]
  },
  {
   "cell_type": "code",
   "execution_count": 103,
   "metadata": {},
   "outputs": [
    {
     "data": {
      "text/html": [
       "<div>\n",
       "<style scoped>\n",
       "    .dataframe tbody tr th:only-of-type {\n",
       "        vertical-align: middle;\n",
       "    }\n",
       "\n",
       "    .dataframe tbody tr th {\n",
       "        vertical-align: top;\n",
       "    }\n",
       "\n",
       "    .dataframe thead th {\n",
       "        text-align: right;\n",
       "    }\n",
       "</style>\n",
       "<table border=\"1\" class=\"dataframe\">\n",
       "  <thead>\n",
       "    <tr style=\"text-align: right;\">\n",
       "      <th></th>\n",
       "      <th>injuries</th>\n",
       "      <th>vehcount</th>\n",
       "      <th>severitydesc</th>\n",
       "      <th>collisiontype</th>\n",
       "      <th>sdot_coldesc</th>\n",
       "      <th>st_coldesc</th>\n",
       "    </tr>\n",
       "  </thead>\n",
       "  <tbody>\n",
       "    <tr>\n",
       "      <th>77</th>\n",
       "      <td>4</td>\n",
       "      <td>0</td>\n",
       "      <td>Serious Injury Collision</td>\n",
       "      <td>NaN</td>\n",
       "      <td>MOTOR VEHICLE STRUCK MOTOR VEHICLE, FRONT END AT ANGLE</td>\n",
       "      <td>NaN</td>\n",
       "    </tr>\n",
       "    <tr>\n",
       "      <th>153</th>\n",
       "      <td>1</td>\n",
       "      <td>1</td>\n",
       "      <td>Serious Injury Collision</td>\n",
       "      <td>Cycles</td>\n",
       "      <td>MOTOR VEHICLE STRUCK PEDALCYCLIST, FRONT END AT ANGLE</td>\n",
       "      <td>Vehicle Strikes Pedalcyclist</td>\n",
       "    </tr>\n",
       "    <tr>\n",
       "      <th>262</th>\n",
       "      <td>1</td>\n",
       "      <td>1</td>\n",
       "      <td>Serious Injury Collision</td>\n",
       "      <td>Pedestrian</td>\n",
       "      <td>MOTOR VEHCILE STRUCK PEDESTRIAN</td>\n",
       "      <td>Vehicle turning right hits pedestrian</td>\n",
       "    </tr>\n",
       "    <tr>\n",
       "      <th>347</th>\n",
       "      <td>1</td>\n",
       "      <td>1</td>\n",
       "      <td>Serious Injury Collision</td>\n",
       "      <td>Pedestrian</td>\n",
       "      <td>MOTOR VEHCILE STRUCK PEDESTRIAN</td>\n",
       "      <td>Vehicle going straight hits pedestrian</td>\n",
       "    </tr>\n",
       "    <tr>\n",
       "      <th>354</th>\n",
       "      <td>4</td>\n",
       "      <td>5</td>\n",
       "      <td>Serious Injury Collision</td>\n",
       "      <td>Left Turn</td>\n",
       "      <td>MOTOR VEHICLE STRUCK MOTOR VEHICLE, FRONT END AT ANGLE</td>\n",
       "      <td>From same direction - one left turn - one straight</td>\n",
       "    </tr>\n",
       "  </tbody>\n",
       "</table>\n",
       "</div>"
      ],
      "text/plain": [
       "     injuries  vehcount              severitydesc collisiontype  \\\n",
       "77          4         0  Serious Injury Collision           NaN   \n",
       "153         1         1  Serious Injury Collision        Cycles   \n",
       "262         1         1  Serious Injury Collision    Pedestrian   \n",
       "347         1         1  Serious Injury Collision    Pedestrian   \n",
       "354         4         5  Serious Injury Collision     Left Turn   \n",
       "\n",
       "                                               sdot_coldesc  \\\n",
       "77   MOTOR VEHICLE STRUCK MOTOR VEHICLE, FRONT END AT ANGLE   \n",
       "153   MOTOR VEHICLE STRUCK PEDALCYCLIST, FRONT END AT ANGLE   \n",
       "262                         MOTOR VEHCILE STRUCK PEDESTRIAN   \n",
       "347                         MOTOR VEHCILE STRUCK PEDESTRIAN   \n",
       "354  MOTOR VEHICLE STRUCK MOTOR VEHICLE, FRONT END AT ANGLE   \n",
       "\n",
       "                                             st_coldesc  \n",
       "77                                                  NaN  \n",
       "153                        Vehicle Strikes Pedalcyclist  \n",
       "262               Vehicle turning right hits pedestrian  \n",
       "347              Vehicle going straight hits pedestrian  \n",
       "354  From same direction - one left turn - one straight  "
      ]
     },
     "execution_count": 103,
     "metadata": {},
     "output_type": "execute_result"
    }
   ],
   "source": [
    "df_injury_maybe_serious=  df_injury.loc[(df_injury[\"severitydesc\"] == \"Serious Injury Collision\") | (df_injury[\"severitydesc\"] == \"Fatality Collision\")]\n",
    "df_injury_maybe_serious[['injuries', 'vehcount','severitydesc','collisiontype','sdot_coldesc','st_coldesc']].head(5)"
   ]
  },
  {
   "cell_type": "markdown",
   "metadata": {},
   "source": [
    "At a glance, it seems that if the collision involve a pedestrian or cyclist or multiple injuries (even if the injuries are not considered severe) - the overall collision is considered serious. "
   ]
  },
  {
   "cell_type": "code",
   "execution_count": 104,
   "metadata": {},
   "outputs": [
    {
     "name": "stdout",
     "output_type": "stream",
     "text": [
      "Number of collisions that are considered serious but do not have serious injuries: 3196\n",
      "Of these, number that involve a pedestrian or cyclist or multiple injuries: 2060\n"
     ]
    }
   ],
   "source": [
    "serious=(df_injury_maybe_serious[\"injuries\"]>1) | (df_injury_maybe_serious[\"collisiontype\"] == \"Pedestrian\") |  (df_injury_maybe_serious[\"collisiontype\"] == \"Cycles\")\n",
    "df_injury_maybe_serious_outliers =  df_injury_maybe_serious.loc[serious]\n",
    "\n",
    "print(\"Number of collisions that are considered serious but do not have serious injuries: \" + str(df_injury_maybe_serious.shape[0]))\n",
    "print(\"Of these, number that involve a pedestrian or cyclist or multiple injuries: \" + str(df_injury_maybe_serious_outliers.shape[0]))"
   ]
  },
  {
   "cell_type": "markdown",
   "metadata": {},
   "source": [
    "My theory only explains about two thirds of these, but, the take-away is that the severity designation is not simply a matter of injuries vs. serious injuries, but more nuanced depending on other factors. "
   ]
  },
  {
   "cell_type": "markdown",
   "metadata": {},
   "source": [
    "#### 4.3 Collision Types for severity of collisions (based on injury vs. serious injury vs. fatality)\n"
   ]
  },
  {
   "cell_type": "code",
   "execution_count": 105,
   "metadata": {},
   "outputs": [
    {
     "data": {
      "text/plain": [
       "<matplotlib.axes._subplots.AxesSubplot at 0x29882c314a8>"
      ]
     },
     "execution_count": 105,
     "metadata": {},
     "output_type": "execute_result"
    },
    {
     "data": {
      "text/plain": [
       "<matplotlib.axes._subplots.AxesSubplot at 0x29882c7b2e8>"
      ]
     },
     "execution_count": 105,
     "metadata": {},
     "output_type": "execute_result"
    },
    {
     "data": {
      "text/plain": [
       "<matplotlib.axes._subplots.AxesSubplot at 0x29882ca1978>"
      ]
     },
     "execution_count": 105,
     "metadata": {},
     "output_type": "execute_result"
    },
    {
     "data": {
      "image/png": "[encoded data removed]",
      "text/plain": [
       "<Figure size 1152x288 with 3 Axes>"
      ]
     },
     "metadata": {},
     "output_type": "display_data"
    }
   ],
   "source": [
    "fig, axes = plt.subplots(nrows=1, ncols=3,figsize=(16, 4))\n",
    "fig.subplots_adjust(hspace=0.8)\n",
    "\n",
    "df_injury['collisiontype'].value_counts().sort_index().plot(ax=axes[0],kind='bar',title='Collision Type (at least one injury)')\n",
    "df_serious_injury['collisiontype'].value_counts().sort_index().plot(ax=axes[1],kind='bar',title='Collision Type  (at least one serious injury)')\n",
    "df_fatality['collisiontype'].value_counts().sort_index().plot(ax=axes[2],kind='bar',title='Collision Type  (at least one fatality)')\n",
    "\n"
   ]
  },
  {
   "cell_type": "markdown",
   "metadata": {},
   "source": [
    "#### Question: \"Is there a consistent pattern involving collisiontype and injuries/seriousinjuries/fatalities\" - Answer; yes and no\n",
    "\n",
    "Is there a consistent pattern involving collisiontype and injuries/seriousinjuries/fatalities? Only in terms of those that are classified as \"Pedestrian\" or \"Rear End collisions\". Serious accidents are more often of type \"Pedestrian\" than other types. This is even more true for those that involve a fatality. But less serious injury accidents are more often classified as \"Rear End\" or \"Angles\".  "
   ]
  },
  {
   "cell_type": "markdown",
   "metadata": {},
   "source": [
    "#### 4.3 Pedestrians that have right of way"
   ]
  },
  {
   "cell_type": "code",
   "execution_count": 106,
   "metadata": {},
   "outputs": [
    {
     "data": {
      "text/plain": [
       "Y    5180\n",
       "Name: pedrownotgrnt, dtype: int64"
      ]
     },
     "execution_count": 106,
     "metadata": {},
     "output_type": "execute_result"
    }
   ],
   "source": [
    "df['pedrownotgrnt'].value_counts().sort_index()"
   ]
  },
  {
   "cell_type": "code",
   "execution_count": 107,
   "metadata": {},
   "outputs": [
    {
     "data": {
      "text/plain": [
       "<matplotlib.axes._subplots.AxesSubplot at 0x29885d8f470>"
      ]
     },
     "execution_count": 107,
     "metadata": {},
     "output_type": "execute_result"
    },
    {
     "data": {
      "text/plain": [
       "<matplotlib.axes._subplots.AxesSubplot at 0x29885a84160>"
      ]
     },
     "execution_count": 107,
     "metadata": {},
     "output_type": "execute_result"
    },
    {
     "data": {
      "image/png": "[encoded data removed]",
      "text/plain": [
       "<Figure size 1152x288 with 2 Axes>"
      ]
     },
     "metadata": {},
     "output_type": "display_data"
    }
   ],
   "source": [
    "df_ROW=  df.loc[(df[\"pedrownotgrnt\"]==\"Y\")]\n",
    "df_Not_ROW= df.loc[(df[\"pedrownotgrnt\"]!=\"Y\")]\n",
    "\n",
    "\n",
    "fig, axes = plt.subplots(nrows=1, ncols=2,figsize=(16, 4))\n",
    "fig.subplots_adjust(hspace=0.8)\n",
    "\n",
    "df_ROW['pedcount'].value_counts().sort_index().plot(ax=axes[0],kind='bar',title='Pedestrian count for Right of Way')\n",
    "df_Not_ROW['pedcount'].value_counts().sort_index().plot(ax=axes[1],kind='bar',title='Pedestrian count for Does not have Right of Way')\n",
    "\n"
   ]
  },
  {
   "cell_type": "code",
   "execution_count": 108,
   "metadata": {},
   "outputs": [
    {
     "data": {
      "text/plain": [
       "<matplotlib.axes._subplots.AxesSubplot at 0x29885b325c0>"
      ]
     },
     "execution_count": 108,
     "metadata": {},
     "output_type": "execute_result"
    },
    {
     "data": {
      "text/plain": [
       "<matplotlib.axes._subplots.AxesSubplot at 0x29885b54908>"
      ]
     },
     "execution_count": 108,
     "metadata": {},
     "output_type": "execute_result"
    },
    {
     "data": {
      "image/png": "[encoded data removed]",
      "text/plain": [
       "<Figure size 1152x288 with 2 Axes>"
      ]
     },
     "metadata": {},
     "output_type": "display_data"
    }
   ],
   "source": [
    "\n",
    "fig, axes = plt.subplots(nrows=1, ncols=2,figsize=(16, 4))\n",
    "fig.subplots_adjust(hspace=0.8)\n",
    "df_ROW['pedcylcount'].value_counts().sort_index().plot(ax=axes[0],kind='bar',title='Cyclist count for Right of Way')\n",
    "df_Not_ROW['pedcylcount'].value_counts().sort_index().plot(ax=axes[1],kind='bar',title='Cyclist count for Does not have Right of Way')\n"
   ]
  },
  {
   "cell_type": "markdown",
   "metadata": {},
   "source": [
    "#### Question; \"Are there only values for pedrownotgrnt if pedcount > 0 or pedcylcount>0\" - Answer; No\n",
    "\n",
    "Are there only values for pedrownotgrnt if pedcount > 0 or pedcylcount>0 - No, all records initially had values null and Y (we converted null to N) to end up wtih values of Y or N, so, the answer is No. \n",
    "\n",
    "#### Let's look at just those that involve pedestrians or cyclists"
   ]
  },
  {
   "cell_type": "code",
   "execution_count": 109,
   "metadata": {},
   "outputs": [
    {
     "data": {
      "text/plain": [
       "<matplotlib.axes._subplots.AxesSubplot at 0x298860822b0>"
      ]
     },
     "execution_count": 109,
     "metadata": {},
     "output_type": "execute_result"
    },
    {
     "data": {
      "text/plain": [
       "<matplotlib.axes._subplots.AxesSubplot at 0x29888033c88>"
      ]
     },
     "execution_count": 109,
     "metadata": {},
     "output_type": "execute_result"
    },
    {
     "data": {
      "image/png": "[encoded data removed]",
      "text/plain": [
       "<Figure size 1152x288 with 2 Axes>"
      ]
     },
     "metadata": {},
     "output_type": "display_data"
    }
   ],
   "source": [
    "df_Peds=  df.loc[(df[\"pedcount\"]>0)]\n",
    "\n",
    "df_Cyclists= df.loc[(df[\"pedcylcount\"]>0)]\n",
    "                   \n",
    "fig, axes = plt.subplots(nrows=1, ncols=2,figsize=(16, 4))\n",
    "fig.subplots_adjust(hspace=0.8)\n",
    "df_Peds['pedrownotgrnt'].value_counts().sort_index().plot(ax=axes[0],kind='bar',title='Right of Way for those involving pedestrians')\n",
    "df_Cyclists['pedrownotgrnt'].value_counts().sort_index().plot(ax=axes[1],kind='bar',title='Right of Way for those involving cyclists')\n"
   ]
  },
  {
   "cell_type": "markdown",
   "metadata": {},
   "source": [
    "I guess its about what you would expect.\n",
    "\n",
    "#### Clean up/combine some values and save to temp file so that I can view in tableau\n",
    "\n",
    "For categorical features (and st_coldesc & sdot_col), let's go ahead and convert missing values and 'other' to 'Unknown.\n",
    "\n",
    "For pedrownotgrnt, lets convert null to N so that we have Y/N values.\n",
    "\n",
    "For underinfl, we can consolidate the existing values, but, for those that are null, let's leave them as X."
   ]
  },
  {
   "cell_type": "code",
   "execution_count": 110,
   "metadata": {},
   "outputs": [
    {
     "name": "stdout",
     "output_type": "stream",
     "text": [
      "\n",
      "addrtype: 4 unique and 0 null\n",
      "\n",
      "collisiontype: 10 unique and 0 null\n",
      "\n",
      "severitydesc: 5 unique and 0 null\n",
      "\n",
      "lightcond: 8 unique and 0 null\n",
      "\n",
      "speeding: 2 unique and 0 null\n",
      "\n",
      "junctiontype: 7 unique and 0 null\n",
      "\n",
      "roadcond: 8 unique and 0 null\n",
      "\n",
      "weather: 10 unique and 0 null\n",
      "\n",
      "pedrownotgrnt: 2 unique and 0 null\n",
      "\n",
      "st_coldesc: 63 unique and 0 null\n",
      "\n",
      "sdot_coldesc: 41 unique and 0 null\n",
      "\n",
      "underinfl: 3 unique and 0 null\n"
     ]
    }
   ],
   "source": [
    "categories = [\"addrtype\", \"collisiontype\", \"severitydesc\", \"lightcond\",\n",
    "             \"speeding\", \"junctiontype\", \"roadcond\", \"weather\"]\n",
    "\n",
    "for col in categories:\n",
    "    df[col] = df[col].replace({np.nan: \"Unknown\", \"Other\": \"Unknown\"})\n",
    "    \n",
    "df[\"pedrownotgrnt\"] = df[\"pedrownotgrnt\"].replace({np.nan: \"N\"})    \n",
    "\n",
    "# While we are at it, let's go ahead and clean up missing values for these two:\n",
    "df[\"st_coldesc\"] = df[\"st_coldesc\"].replace({np.nan: \"Unknown\"})  \n",
    "df[\"sdot_coldesc\"] = df[\"sdot_coldesc\"].replace({np.nan: \"Unknown\"})\n",
    "\n",
    "df[\"underinfl\"] = df[\"underinfl\"].replace({\"0\": \"N\", \"1\": \"Y\", np.nan: \"X\"})\n",
    "\n",
    "\n",
    "for col in categories+ ['pedrownotgrnt', 'st_coldesc', 'sdot_coldesc' , 'underinfl']:\n",
    "    print(\"\\n{}: {} unique and {} null\".format(col,\n",
    "                                               df[col].nunique(dropna=False),\n",
    "                                               df[col].isna().sum())) \n",
    " \n",
    "# Save records as collisions_clean\n",
    "df_clean = df.loc[df[\"fe_emd\"] == False]\n",
    "\n",
    "drop_cols = [\"objectid\", \"status\", \"inckey\",\n",
    "             \"coldetkey\", \"sdotcolnum\",\n",
    "             \"exceptrsncode\", \"exceptrsndesc\", \"pedrownotgrnt\"]\n",
    "\n",
    "for col in drop_cols:\n",
    "    if col in df_clean.columns:\n",
    "        df_clean.drop(columns=[col], inplace=True)\n",
    "    else:\n",
    "        continue\n",
    "        \n",
    "clean_local_file_name  = \"../data/collisions_with_unknowns.csv\"\n",
    "\n",
    "df_clean.to_csv(clean_local_file_name, encoding=\"utf-8\", index=True, index_label=\"Id\")\n",
    "\n"
   ]
  },
  {
   "cell_type": "markdown",
   "metadata": {},
   "source": [
    "### Answers\n",
    "\n",
    "1. Does personcount include pedcount? <font color=\"blue\">**No**</font>\n",
    "\n",
    "\n",
    "2. Does personcount include pedcylcount? <font color=\"blue\">**No**</font>\n",
    "\n",
    "\n",
    "3. Does injuries include seriousinjuries? <font color=\"blue\">**No**</font>\n",
    "\n",
    "\n",
    "4. Does injuries include fatalities? <font color=\"blue\">**No**</font>\n",
    "\n",
    "\n",
    "5. If the collision is marked as hitparkedcar = Y, does the 'number of vehicles involved' include the pared car? <font color=\"blue\"><b>Yes</b></font>\n",
    "\n",
    "\n",
    "6. Is there a consistent pattern involving severitydesc and injuries/seriousinjuries/fatalities <font color=\"blue\">**Yes and No - Having a collision classified as Serious is not 100% dependent on there being at least one serious injury. It may depend on other factors, such as; How many people were injured or if a pedestrian or cyclist was involved.**</font>\n",
    "\n",
    "\n",
    "7. Is there a consistent pattern involving collisiontype and injuries/seriousinjuries/fatalities <font color=\"blue\"> **I found that those that involve more serious injuries and fatalities are more likely to involve pedestrians. Those with less serious injuries are more likely resulting from Rear End or Angle accidents.**</font>\n",
    "\n",
    "\n",
    "8. Are there only values for pedrownotgrnt (pedestrian has right of way) if pedcount > 0 or pedcylcount>0  <font color=\"blue\">**No. There are only two values for this feature;  null and yes values. So  it is not true that we only have values for those that have  pedcount > 0 or pedcylcount>0.**</font> \n",
    "\n",
    "### Summary\n",
    "\n",
    "There is an interesting pattern in reference to Null vs. Unknown for weather, roadcond and lightcond. There seem to be two subsets of data with similar overlap of missing data.\n",
    "\n",
    "There are about 26,000 that have null for weather, roadcond and lightcond – and this set also has significant null for underinfl and st_coldesc, mostly zeros for vehcount and personcount as well as 00:00  for time portion of incdttm  (they have date only)\n",
    "\n",
    "Whereas those that that have ‘Unknown’ weather, roadcond and lightcond, although there is still some overlap (about 10,000) most the other fields do have values.\n",
    "\n",
    "\n",
    "### Recommendations\n",
    "\n",
    "- For analysis involving weather, road conditions, counts, collision type and descriptions, I recommend the following;\n",
    "\n",
    "\n",
    "- Create a feature called fe_ems that is set to true for the following records;\n",
    "\n",
    "    * weather=null\n",
    "    * roadcond=null\n",
    "    * lightcond=null \n",
    "    * vehicle count=0\n",
    "    * collision type='Unknown'  \n",
    "    * description ='Unknown'\n",
    "    * severity of collision\n",
    "\n",
    "- Create a new feature called Total Injuries, this would sum injuries, seriousinjuries and fatalities.\n",
    "    \n",
    "    \n",
    "- In terms of my previous recommendation  about updating vehicle count base on collision descriptions, I have decided this is not a good idea. <font color='darkred'><b> It turns out that he number of times the words 'MOTOR VEHICLE' is found in the collision description is not necessarily the same as the number of vehicles actually involved in the collision.</b></font> \n",
    "\n"
   ]
  }
 ],
 "metadata": {
  "kernelspec": {
   "display_name": "Python 3",
   "language": "python",
   "name": "python3"
  },
  "language_info": {
   "codemirror_mode": {
    "name": "ipython",
    "version": 3
   },
   "file_extension": ".py",
   "mimetype": "text/x-python",
   "name": "python",
   "nbconvert_exporter": "python",
   "pygments_lexer": "ipython3",
   "version": "3.7.1"
  }
 },
 "nbformat": 4,
 "nbformat_minor": 4
}
